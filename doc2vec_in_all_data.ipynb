{
 "cells": [
  {
   "cell_type": "code",
   "execution_count": 81,
   "metadata": {},
   "outputs": [],
   "source": [
    "import gensim\n",
    "import os\n",
    "import collections\n",
    "import csv\n",
    "import random\n",
    "import sys\n",
    "import numpy as np\n",
    "import pandas as pd\n",
    "from sklearn.model_selection import train_test_split\n",
    "import progressbar\n",
    "from tqdm import tnrange, tqdm_notebook\n",
    "\n",
    "import scipy\n",
    "from scipy.spatial.distance import cosine"
   ]
  },
  {
   "cell_type": "code",
   "execution_count": 3,
   "metadata": {},
   "outputs": [
    {
     "data": {
      "text/plain": [
       "'/Users/ellieking/Documents/govuk-taxonomy-supervised-learning/data/data/2018-07-10'"
      ]
     },
     "execution_count": 3,
     "metadata": {},
     "output_type": "execute_result"
    }
   ],
   "source": [
    "DATADIR = os.getenv(\"DATADIR\")\n",
    "DATADIR"
   ]
  },
  {
   "cell_type": "code",
   "execution_count": 4,
   "metadata": {},
   "outputs": [],
   "source": [
    "#create train test files\n",
    "clean_content = pd.read_csv(os.path.join(DATADIR, \"clean_content.csv\"))"
   ]
  },
  {
   "cell_type": "code",
   "execution_count": 5,
   "metadata": {},
   "outputs": [],
   "source": [
    "train, test = train_test_split(clean_content, random_state=1234, shuffle=True)"
   ]
  },
  {
   "cell_type": "code",
   "execution_count": 6,
   "metadata": {},
   "outputs": [],
   "source": [
    "train.reset_index(inplace=True)\n",
    "test.reset_index(inplace=True)"
   ]
  },
  {
   "cell_type": "code",
   "execution_count": 7,
   "metadata": {},
   "outputs": [],
   "source": [
    "def tag_corpus(df, tokens_only=False): \n",
    "    for i, row in df.iterrows():\n",
    "        if tokens_only:\n",
    "                yield gensim.utils.simple_preprocess(row['combined_text'])\n",
    "        else:\n",
    "                # For training data, add tags\n",
    "                yield gensim.models.doc2vec.TaggedDocument(gensim.utils.simple_preprocess(row['combined_text']), [i])"
   ]
  },
  {
   "cell_type": "code",
   "execution_count": 8,
   "metadata": {},
   "outputs": [],
   "source": [
    "csv.field_size_limit(sys.maxsize)\n",
    "                     \n",
    "        \n",
    "def read_corpus(fname, tokens_only=False): \n",
    "    \n",
    "    with open(fname, \"r\", encoding='utf-8') as f:\n",
    "        reader = csv.reader(f, delimiter=\",\")\n",
    "\n",
    "        for i, line in enumerate(reader):\n",
    "            yield gensim.models.doc2vec.TaggedDocument(gensim.utils.simple_preprocess(line[-1]), [tag])"
   ]
  },
  {
   "cell_type": "code",
   "execution_count": 9,
   "metadata": {},
   "outputs": [],
   "source": [
    "train_corpus = list(tag_corpus(train))"
   ]
  },
  {
   "cell_type": "code",
   "execution_count": 10,
   "metadata": {},
   "outputs": [],
   "source": [
    "test_corpus = list(tag_corpus(test, tokens_only=True))"
   ]
  },
  {
   "cell_type": "code",
   "execution_count": 11,
   "metadata": {},
   "outputs": [
    {
     "name": "stdout",
     "output_type": "stream",
     "text": [
      "train length = 162461\n",
      "test length = 54154\n"
     ]
    }
   ],
   "source": [
    "print('train length = {}'.format(len(train_corpus)))\n",
    "print('test length = {}'.format(len(test_corpus)))"
   ]
  },
  {
   "cell_type": "markdown",
   "metadata": {},
   "source": [
    "# Training the Model\n",
    "## Instantiate a Doc2Vec Object\n",
    "Now, we'll instantiate a Doc2Vec model with a vector size with 50 words and iterating over the training corpus 40 times. We set the minimum word count to 2 in order to discard words with very few occurrences. (Without a variety of representative examples, retaining such infrequent words can often make a model worse!) Typical iteration counts in published 'Paragraph Vectors' results, using 10s-of-thousands to millions of docs, are 10-20. More iterations take more time and eventually reach a point of diminishing returns.\n",
    "\n",
    "However, this is a very very small dataset (300 documents) with shortish documents (a few hundred words). Adding training passes can sometimes help with such small datasets."
   ]
  },
  {
   "cell_type": "code",
   "execution_count": 12,
   "metadata": {},
   "outputs": [],
   "source": [
    "model = gensim.models.doc2vec.Doc2Vec(vector_size=50, min_count=2, epochs=40)"
   ]
  },
  {
   "cell_type": "code",
   "execution_count": 13,
   "metadata": {},
   "outputs": [],
   "source": [
    "model.build_vocab(train_corpus)"
   ]
  },
  {
   "cell_type": "code",
   "execution_count": 14,
   "metadata": {},
   "outputs": [
    {
     "name": "stdout",
     "output_type": "stream",
     "text": [
      "CPU times: user 1h 4min 52s, sys: 1min 38s, total: 1h 6min 31s\n",
      "Wall time: 28min 2s\n"
     ]
    }
   ],
   "source": [
    "%time model.train(train_corpus, total_examples=model.corpus_count, epochs=model.epochs)"
   ]
  },
  {
   "cell_type": "markdown",
   "metadata": {},
   "source": [
    "# Inferring a Vector\n",
    "One important thing to note is that you can now infer a vector for any piece of text without having to re-train the model by passing a list of words to the model.infer_vector function. This vector can then be compared with other vectors via cosine similarity."
   ]
  },
  {
   "cell_type": "code",
   "execution_count": 15,
   "metadata": {},
   "outputs": [
    {
     "name": "stdout",
     "output_type": "stream",
     "text": [
      "[ 1.2517213   0.9094943  -1.1385113  -0.36466655  0.4678414   0.28444976\n",
      " -1.827331   -1.9259272  -3.7183578  -0.43728885  1.1810168  -0.16709264\n",
      " -1.8279032   1.5660398   1.8666711   1.4020777  -3.0925753  -0.10257131\n",
      " -4.2863574  -0.16613753 -1.2092037   0.6984667  -1.5275509   2.1593678\n",
      " -3.244988   -1.767615    1.693676    3.4502897   0.99700814 -1.5359992\n",
      " -1.2812653  -0.10245395  3.428569   -0.33475244  0.31088027  1.4154533\n",
      "  2.3830366   2.187225   -1.2447301  -3.0159519  -0.35021606  1.5770423\n",
      " -0.6752971   0.8625183  -2.349865    2.0543902  -0.54309756 -1.5427512\n",
      "  2.5500095  -1.0086297 ]\n",
      "[0]\n"
     ]
    }
   ],
   "source": [
    "print(model.infer_vector(train_corpus[0].words))\n",
    "print(train_corpus[0].tags)"
   ]
  },
  {
   "cell_type": "markdown",
   "metadata": {},
   "source": [
    "Note that infer_vector() does not take a string, but rather a list of string tokens, which should have already been tokenized the same way as the words property of original training document objects.\n",
    "\n",
    "Also note that because the underlying training/inference algorithms are an iterative approximation problem that makes use of internal randomization, repeated inferences of the same text will return slightly different vectors."
   ]
  },
  {
   "cell_type": "markdown",
   "metadata": {},
   "source": [
    "# Assessing Model\n",
    "To assess our new model, we'll first infer new vectors for each document of the training corpus, compare the inferred vectors with the training corpus, and then returning the rank of the document based on self-similarity. Basically, we're pretending as if the training corpus is some new unseen data and then seeing how they compare with the trained model. The expectation is that we've likely overfit our model (i.e., all of the ranks will be less than 2) and so we should be able to find similar documents very easily. Additionally, we'll keep track of the second ranks for a comparison of less similar documents."
   ]
  },
  {
   "cell_type": "code",
   "execution_count": 16,
   "metadata": {},
   "outputs": [
    {
     "name": "stderr",
     "output_type": "stream",
     "text": [
      "\r",
      "                                                                               \r",
      "\r",
      "N/A% (0 of 162461) |                     | Elapsed Time: 0:00:00 ETA:  --:--:--"
     ]
    },
    {
     "name": "stdout",
     "output_type": "stream",
     "text": [
      "CPU times: user 5 µs, sys: 1e+03 ns, total: 6 µs\n",
      "Wall time: 11 µs\n"
     ]
    },
    {
     "name": "stderr",
     "output_type": "stream",
     "text": [
      "/Users/ellieking/.pyenv/versions/3.6.4/envs/content-similarity-3.6.4/lib/python3.6/site-packages/gensim/matutils.py:737: FutureWarning: Conversion of the second argument of issubdtype from `int` to `np.signedinteger` is deprecated. In future, it will be treated as `np.int64 == np.dtype(int).type`.\n",
      "  if np.issubdtype(vec.dtype, np.int):\n",
      "100% (162461 of 162461) |###| Elapsed Time: 1 day, 0:13:00 Time: 1 day, 0:13:00\n"
     ]
    }
   ],
   "source": [
    "ranks = []\n",
    "second_ranks = []\n",
    "\n",
    "for doc_id in progressbar.progressbar(range(len(train_corpus))):\n",
    "    inferred_vector = model.infer_vector(train_corpus[doc_id].words)\n",
    "    sims = model.docvecs.most_similar([inferred_vector], topn=len(model.docvecs))\n",
    "    found_itself_nearest = int(np.where(sims[0][0]==train_corpus[doc_id].tags[0], 1, 0))\n",
    "#     rank = [docid for docid, sim in sims].index(doc_id)\n",
    "    ranks.append(found_itself_nearest)\n",
    "    \n",
    "    second_ranks.append(sims[1])"
   ]
  },
  {
   "cell_type": "markdown",
   "metadata": {},
   "source": [
    "Let's count how each document ranks with respect to the training corpus"
   ]
  },
  {
   "cell_type": "code",
   "execution_count": 17,
   "metadata": {},
   "outputs": [
    {
     "data": {
      "text/plain": [
       "Counter({1: 147620, 0: 14841})"
      ]
     },
     "execution_count": 17,
     "metadata": {},
     "output_type": "execute_result"
    }
   ],
   "source": [
    "collections.Counter(ranks)  # Results vary between runs due to random seeding and very small corpus"
   ]
  },
  {
   "cell_type": "code",
   "execution_count": 20,
   "metadata": {},
   "outputs": [
    {
     "data": {
      "text/plain": [
       "90.86488449535581"
      ]
     },
     "execution_count": 20,
     "metadata": {},
     "output_type": "execute_result"
    }
   ],
   "source": [
    "147620/162461*100"
   ]
  },
  {
   "cell_type": "markdown",
   "metadata": {},
   "source": [
    "Basically, 91% of the inferred documents are found to be most similar to itself and 9% it is mistakenly most similar to another document. the checking of an inferred-vector against a training-vector is a sort of 'sanity check' as to whether the model is behaving in a usefully consistent manner, though not a real 'accuracy' value."
   ]
  },
  {
   "cell_type": "code",
   "execution_count": 22,
   "metadata": {},
   "outputs": [
    {
     "data": {
      "text/plain": [
       "162461"
      ]
     },
     "execution_count": 22,
     "metadata": {},
     "output_type": "execute_result"
    }
   ],
   "source": [
    "len(ranks)"
   ]
  },
  {
   "cell_type": "code",
   "execution_count": 18,
   "metadata": {},
   "outputs": [
    {
     "name": "stdout",
     "output_type": "stream",
     "text": [
      "Document (162460): «consultation on revised pace codes of practice covering letter information outlining draft changes to pace codes information outlining draft changes to pace codes of practice and advice for sending responses consultation on revised pace codes of practice covering letter pdf kb pages this file may not be suitable for users of assistive technology request an accessible format if you use assistive technology such as screen reader and need version of this document in more accessible format please email homeoffice gsi gov uk please tell us what format you need it will help us if you say what assistive technology you use»\n",
      "\n",
      "SIMILAR/DISSIMILAR DOCS PER MODEL Doc2Vec(dm/m,d50,n5,w5,mc2,s0.001,t3):\n",
      "\n",
      "(MOST,(162460, 0.9566476941108704)),consultation on revised pace codes of practice covering letter information outlining draft changes to pace codes information outlining draft changes to pace codes of practice and advice for sending responses consultation on revised pace codes of practice covering letter pdf kb pages this file may not be suitable for users of assistive technology request an accessible format if you use assistive technology such as screen reader and need version of this document in more accessible format please email homeoffice gsi gov uk please tell us what format you need it will help us if you say what assistive technology you use)\n",
      "(SECOND-MOST,(39660, 0.788689374923706)),arrests tables police powers and procedures england and wales data tables to complement the arrests briefing data tables to complement the arrests briefing arrests tables police powers and procedures england and wales microsoft excel file kb ms excel spreadsheet kb this file may not be suitable for users of assistive technology request an accessible format if you use assistive technology such as screen reader and need version of this document in more accessible format please email homeoffice gsi gov uk please tell us what format you need it will help us if you say what assistive technology you use)\n",
      "(MEDIAN,(76389, 0.30742037296295166)),community infrastructure levy appeal decision erection of ancillary building this is an appeal decision on the erection of replacement dwelling community infrastructure levy cil is relatively new activity for local planning authorities developers and landowners the government has decided that from june cil appeal decision notices will be published by the valuation office agency in redacted anonymous form in making decisions available to the public useful lessons about cil regulations and appeals can be shared publication will also allow any precedents to be understood more widely personal information will be redacted before publication this could be information such as the name of the appellant the collecting authority the address of the property the amount of cil payable cil appeal decision erection of ancillary building pdf kb pages this file may not be suitable for users of assistive technology request an accessible format if you use assistive technology such as screen reader and need version of this document in more accessible format please email different format hmrc gsi gov uk please tell us what format you need it will help us if you say what assistive technology you use)\n",
      "(LEAST,(123151, -0.1968163549900055)),defence estates and woodland trust support troops and plant trees defence estates de and the woodland trust wt have launched partnership which could see thousands of hectares of woodland planted to help british soldiers train more effectively for military operations whilst helping to double the uk woodland cover this groundbreaking agreement sees the first hectares trees planted at the defence training estate dte range at warcop in cumbria training provided at warcop and other dte sites across the uk is vital in preparing troops for operational deployment the partnership enables the ministry of defence to improve training facilities without extra costs at the same time as helping to train new troops the trees planted will help the woodland trust to hit its target of creating thousands of hectares of new woodland each year and double woodland cover in the uk by defence estates deputy chief executive david olney said supporting our armed forces is the top priority for defence estates we are delighted to join forces with the woodland trust and respond to military training needs in providing woodland cover which will benefit soldiers preparing for operations this excellent initiative allows us to improve training facilities whilst securing significant conservation and environmental benefits at no extra cost to the ministry of defence stuart dainton head of partnerships at the woodland trust commented our partnership with the mod will play significant role in helping to increase woodland cover in the uk currently one of the lowest in europe it is great example of working together and whilst organisations have different motivations ultimately everyone involved has benefited from the planting of trees essential funding of over and logistical support comes from the north pennines area of outstanding natural beauty aonb partnership living north pennines project with extra money secured from carbon funders such as waitrose and eurocamp chris woodley stewart of the north pennines aonb partnership said we are very pleased to be working with the mod and the woodland trust on this fantastic scheme these new planting areas will create mixed density woodland providing much needed habitats for bap species including the iconic black grouse around trees are being planted at warcop which is situated in the north pennines aonb planting work should be completed during maj retd tam campbell range officer warcop and chairman of the warcop conservation group said conservation activity is vital to us it allows us to run large estate and retain its natural beauty we are fortunate to have very active conservation group and vast amount of volunteers who we can work with on projects such as this we strike careful balance between providing training facilities which our soldiers need and taking care of this beautiful landscape both for the community which lives here now and for future generations)\n"
     ]
    }
   ],
   "source": [
    "print('Document ({}): «{}»\\n'.format(doc_id, ' '.join(train_corpus[doc_id].words)))\n",
    "print(u'SIMILAR/DISSIMILAR DOCS PER MODEL %s:\\n' % model)\n",
    "for label, index in [('MOST', 0), ('SECOND-MOST', 1), ('MEDIAN', len(sims)//2), ('LEAST', len(sims) - 1)]:\n",
    "    print('({},{}),{})'.format(label, sims[index], ' '.join(train_corpus[sims[index][0]].words)))"
   ]
  },
  {
   "cell_type": "markdown",
   "metadata": {},
   "source": [
    "#### Sampling docs to get a faster measure of global auto-similarity"
   ]
  },
  {
   "cell_type": "markdown",
   "metadata": {},
   "source": [
    "##### TRAIN"
   ]
  },
  {
   "cell_type": "code",
   "execution_count": 75,
   "metadata": {},
   "outputs": [],
   "source": [
    "def evaluate_model(train_corpus):\n",
    "    train_auto_nearest = []\n",
    "    random.seed(1234)\n",
    "    sample_1000 = random.sample(train_corpus, 1000)\n",
    "\n",
    "    for doc_id in progressbar.progressbar(range(len(sample_1000))):\n",
    "        inferred_vector = model.infer_vector(sample_1000[doc_id].words)\n",
    "        sims = model.docvecs.most_similar([inferred_vector], topn=2)\n",
    "        found_itself_nearest = int(np.where(sims[0][0]==sample_1000[doc_id].tags[0], 1, 0))\n",
    "        train_auto_nearest.append(found_itself_nearest)\n",
    "    \n",
    "    \n",
    "    x = collections.Counter(train_auto_nearest)\n",
    "    train_percent_auto_similar = x[1]/(x[0]+x[1])*100\n",
    "    \n",
    "    \n",
    "    \n",
    "    print(\"The percentage of 1000 training samples which found itself nearest = {}\".format(train_percent_auto_similar\n",
    "                                                                                          )\n",
    "         )\n",
    "    return train_percent_auto_similar \n"
   ]
  },
  {
   "cell_type": "code",
   "execution_count": 76,
   "metadata": {},
   "outputs": [
    {
     "name": "stderr",
     "output_type": "stream",
     "text": [
      "100% (1000 of 1000) |####################| Elapsed Time: 0:00:20 Time:  0:00:20\n"
     ]
    },
    {
     "name": "stdout",
     "output_type": "stream",
     "text": [
      "The percentage of 1000 training samples which found itself nearest = 90.8\n"
     ]
    },
    {
     "data": {
      "text/plain": [
       "90.8"
      ]
     },
     "execution_count": 76,
     "metadata": {},
     "output_type": "execute_result"
    }
   ],
   "source": [
    "evaluate_model(train_corpus)"
   ]
  },
  {
   "cell_type": "markdown",
   "metadata": {},
   "source": [
    "~91% auto-similarity in the sample of 1000. Think this is a viable approach for measuring models"
   ]
  },
  {
   "cell_type": "markdown",
   "metadata": {},
   "source": [
    "# Testing the Model\n",
    "Using the same approach above, we'll infer the vector for a randomly chosen test document, and compare the document to our model by eye."
   ]
  },
  {
   "cell_type": "code",
   "execution_count": 63,
   "metadata": {},
   "outputs": [
    {
     "name": "stdout",
     "output_type": "stream",
     "text": [
      "Test Document (7672): «teacher misconduct panel outcome ms romina albarran outcome of march hearing panel decision and reasons on behalf of the secretary of state for education the secretary of state does not make these decisions himself they are made by senior official on the recommendation of an independent panel teacher reference number teacher date of birth june location teacher worked windsor south east date of professional conduct panel march outcome type prohibition order prohibition order effective april notice is hereby given that in accordance with the teachers disciplinary england regulations professional conduct panel was convened to consider the case of ms romina albarran of windsor south east the proceedings were held at butts road earlsdon park coventry cv bh at am on march teacher misconduct butts road earlsdon park coventry cv bh email misconduct teacher education gov uk telephone prohibition order ms romina albarran pdf kb pages»\n",
      "\n",
      "SIMILAR/DISSIMILAR DOCS PER MODEL Doc2Vec(dm/m,d50,n5,w5,mc2,s0.001,t3):\n",
      "\n",
      "MOST (73928, 0.8528401255607605): «le ja gc metals limited environmental permit issued view the permit issued for gc metals limited lutterworth under the industrial emissions directive the environment agency publish permits that they issue under the industrial emissions directive ied this decision includes the permit and decision document for operator name gc metals limited installation name gc metals limited permit number epr pp rs permit gc metals limited pdf kb pages this file may not be suitable for users of assistive technology request an accessible format if you use assistive technology such as screen reader and need version of this document in more accessible format please email enquiries environment agency gov uk please tell us what format you need it will help us if you say what assistive technology you use decision document gc metals limited pdf kb pages this file may not be suitable for users of assistive technology request an accessible format if you use assistive technology such as screen reader and need version of this document in more accessible format please email enquiries environment agency gov uk please tell us what format you need it will help us if you say what assistive technology you use»\n",
      "\n",
      "SECOND (122866, 0.8434702754020691): «breach of statutory balloting procedures breach of rule decision mcdermott unison this document contains the decision made by the certification officer in this case the claimant alleged breach of section of the trade union and labour relations consolidation act and various breaches of rule in relation to his removal from the nec and in relation to certain elections in the certification officer refused to make the declarations sought by the claimant breach of statutory balloting procedures decision mcdermott unison ref pdf kb pages this file may not be suitable for users of assistive technology request an accessible format if you use assistive technology such as screen reader and need version of this document in more accessible format please email info certoffice org please tell us what format you need it will help us if you say what assistive technology you use»\n",
      "\n",
      "MEDIAN (58586, 0.22248119115829468): «mr raja grant thornton uk llp employment tribunal decision read the full decision in mr raja grant thornton uk llp dismissal»\n",
      "\n",
      "LEAST (48844, -0.2983739972114563): «teacher misconduct panel outcome ms sandra juliet kennedy outcome of an april hearing panel decision and reasons on behalf of the secretary of state for education the secretary of state does not make these decisions himself they are made by senior official on the recommendation of an independent panel location teacher worked hampshire south east date of professional conduct panel april outcome type no order made notice is hereby given that in accordance with the teachers disciplinary england regulations professional conduct panel was convened to consider the case of ms sandra juliet kennedy of hampshire south east the proceedings were held at butts road earlsdon park coventry cv bh at am on april the meeting was held in private but decision was announced in public teacher misconduct butts road earlsdon park coventry cv bh email misconduct teacher education gov uk telephone no order made ms sandra juliet kennedy pdf kb pages this file may not be suitable for users of assistive technology request an accessible format if you use assistive technology such as screen reader and need version of this document in more accessible format please email college webteam education gsi gov uk please tell us what format you need it will help us if you say what assistive technology you use»\n",
      "\n"
     ]
    }
   ],
   "source": [
    "# Pick a random document from the test corpus and infer a vector from the model\n",
    "doc_id = random.randint(0, len(test_corpus) - 1)\n",
    "inferred_vector = model.infer_vector(test_corpus[doc_id])\n",
    "sims = model.docvecs.most_similar([inferred_vector], topn=len(model.docvecs))\n",
    "\n",
    "# Compare and print the most/median/least similar documents from the train corpus\n",
    "print('Test Document ({}): «{}»\\n'.format(doc_id, ' '.join(test_corpus[doc_id])))\n",
    "print(u'SIMILAR/DISSIMILAR DOCS PER MODEL %s:\\n' % model)\n",
    "for label, index in [('MOST', 0), ('SECOND', 1), ('MEDIAN', len(sims)//2), ('LEAST', len(sims) - 1)]:\n",
    "    print(u'%s %s: «%s»\\n' % (label, sims[index], ' '.join(train_corpus[sims[index][0]].words)))"
   ]
  },
  {
   "cell_type": "code",
   "execution_count": 32,
   "metadata": {},
   "outputs": [
    {
     "name": "stdout",
     "output_type": "stream",
     "text": [
      "Test Document (29288): «eu foreign ministers discuss ukraine foreign secretary william hague attended the informal eu foreign ministers meeting in athens to discuss the situation in ukraine speaking to media before the eu foreign affairs council meeting in athens today april the foreign secretary william hague said it is important to keep strength and unity in the european union on recent events particularly in ukraine it is important to continue to make clear that what russia has done in violating the independence and sovereignty of neighbouring nation state can not be something that is accepted in europe in the st century it important for us to continue to discuss what we do in the future to reduce europe energy dependence on russia to make sure that we change the balance of leverage between russia and the eu in the future it very important for us to remain strong and united about the sanctions that we have implemented against individuals in russia and crimea and to prepare more far reaching measures if they becomes necessary it also important for us to assist ukraine the first stage of imf program has made great deal of progress but there is more that the european union can do to assist ukrainians to be able to be free to determine their own future and for elections to go ahead on the th may in ukraine as planned looking forward to discussing what more we can do on that and the assistance we can give to moldova and georgia to get their association agreements with the eu signed as early as possible further information read the latest updates on the government response to the situation in ukraine follow the foreign secretary on twitter williamjhague follow the foreign office on twitter foreignoffice follow the foreign office on facebook and google media enquiries email newsdesk fco gov uk news desk»\n",
      "\n",
      "SIMILAR/DISSIMILAR DOCS PER MODEL Doc2Vec(dm/m,d50,n5,w5,mc2,s0.001,t3):\n",
      "\n",
      "MOST (157252, 0.8489100337028503): «foreign secretary visits moldova ukraine and georgia the foreign secretary today arrived in moldova at the beginning of regional tour that includes ukraine and georgia the foreign secretary william hague said am visiting moldova ukraine and georgia this week to show our support for these independent democratic nations in addition shall attend council of europe meeting in vienna which will discuss the situation in ukraine moldova ukraine and georgia have all made great efforts to build free societies and they deserve our backing in each case they need to carry out substantial reforms to ensure the rule of law and sustainable economic development especially in tackling corruption clearly ukraine is under immense pressure from russian attempts to destabilise the country provoke violence and it seems prevent elections happening later this month the ukrainian people want what people everywhere want to live in free country where the law applies fairly to everyone ukraine where people have chance to build decent lives for themselves rather than have their economy looted by corruption we stand with them in their efforts to create better ukraine will urge the ukrainian government to carry forward much needed reform and assure them of practical help from britain will discuss ukraine plan for elections on may and meet three leading presidential candidates to hear their views on how best to ensure ukraine long term future as successful independent united and sovereign nation further information follow the foreign secretary on twitter williamjhague follow the foreign office on twitter foreignoffice follow the foreign office on facebook and google media enquiries email newsdesk fco gov uk news desk»\n",
      "\n",
      "SECOND (68402, 0.7910076379776001): «pm call with president putin february the prime minister called president putin to discuss the situation in ukraine following the call downing street spokesperson said the prime minister called president putin today to discuss the situation in ukraine particularly the escalating tensions in crimea the prime minister emphasised that all countries should respect the territorial integrity and sovereignty of ukraine president putin agreed stressing that russian military exercises in the area had been planned before the current situation in ukraine the leaders discussed how the international community could support ukraine on the path to stability they agreed that the free and fair elections that the interim government has pledged to hold are the best way to secure positive future for ukraine in which all ukrainian people are represented future that would not involve forcing the ukrainian people to make choice between europe and russia they agreed the international community should also consider how to help the interim government tackle the economic situation they plan to keep in touch on the issue»\n",
      "\n",
      "THIRD (115037, 0.7653999328613281): «foreign secretary welcomes polish foreign minister to london foreign secretary william hague today welcomed polish foreign minister radoslaw sikorski to london and discussed the situation in ukraine the foreign secretary william hague met his polish counterpart radoslaw sikorski today to discuss the current crisis in ukraine and efforts to defuse and de escalate the crisis speaking after the meeting the foreign secretary said it is always pleasure to welcome to london foreign minister radosław sikorski of poland but of course it is particularly important time for our discussions about ukraine and for making sure that the whole of the eu stands together in this crisis we have been discussing this morning our work together our very strong concern about what has happened which is the clear violation of the independence of the sovereignty and the territorial integrity of ukraine we have discussed the work that is now going on diplomatically ukraine and poland are both an important part of this to try to make sure there is de escalation provocations are avoided flashpoints are avoided we continue to work with our european partners and with the united states to try to make sure that there is an international contact group or coordination group and that russia and ukraine are in direct contact and negotiation with each other this in the coming days remains vital priority we have also discussed our preparations to follow up on the decisions of the european council last week that there will be costs and consequences for russia if no such progress is made indeed far reaching consequences in the event of further russian intensification of these dangers and of this crisis again over the coming days british and polish diplomats will be working together closely on the preparation of the necessary measures we are coordinating closely our positions within the european union and we are also starting to discuss some of the longer term consequences of what argued yesterday has been miscalculation by russia in the longer term what russia has done will draw the rest of ukraine into closer unity with each other and we will be working with ukrainian leaders to try to make sure that ukraine has the opportunities that it needs for international support for closer association with the european union provided they continue to be necessary to create new political culture and the necessary economic conditions in their own country and long term it means that europe needs to talk about how we recast our approach including on energy policy to change the balance of leverage between russia and the eu believe that those consequences will be very important for russia and vital for european countries to think about together and again the uk and poland are very important part of doing that so we continue our efforts to defuse and de escalate this crisis but to make the preparations that are necessary to make it quite clear that there will be costs and there will be measures taken by europe if necessary in addition to those already announced and that is what we have been discussing this morning further information read the latest updates on the government response to the situation in ukraine follow the foreign secretary on twitter williamjhague follow the foreign office on twitter foreignoffice follow the foreign office on facebook and google media enquiries email newsdesk fco gov uk news desk»\n",
      "\n",
      "FOURTH (95701, 0.7560462951660156): «foreign secretary says russia must engage in dialogue over ukraine foreign secretary regrets the fact russia has refused to change course on crimea and says door is still open for diplomacy and dialogue commenting on the us russia talks in london today foreign secretary william hague said it is deeply disappointing that today talks did not produce the diplomatic breakthrough which secretary kerry worked tirelessly to achieve and which it was in russia power to ensure regret the fact that russia has refused to take this opportunity to change course and is pressing ahead with plans to support an illegal and illegitimate referendum in crimea on sunday the united kingdom is strongly of the view that there must be firm and united response from the european union at the meeting of the foreign affairs council on monday and that the time has come for tougher restrictive measures to be adopted as previously agreed by eu nations the door remains open for diplomacy and dialogue and we urge the russian government to take action to lower tensions and enter into direct talks with the ukrainian government but we are clear that the flagrant violation of the sovereignty and territorial integrity of ukraine cannot go unchallenged and we stand with the ukrainian people in their right to choose their future free of intimidation and interference eu foreign ministers will meet on monday in brussels to discuss the next steps including the case for further sanctions further information read the latest updates on the government response to the situation in ukraine follow the foreign secretary on twitter williamjhague follow the foreign office on twitter foreignoffice follow the foreign office on facebook and google media enquiries email newsdesk fco gov uk news desk»\n",
      "\n",
      "FIFTH (118485, 0.7559243440628052): «minister for europe calls for lasting ceasefire in ukraine on the anniversary of the signing of the first minsk deal david lidington has called for full and lasting ceasefire in eastern ukraine speaking from meeting of eu foreign ministers in luxembourg minister for europe david lidington said on the first anniversary of the minsk protocol it is as important as ever that both sides implement lasting ceasefire throughout the last year we have seen repeated violations of the ceasefire and repeated obstruction of the work of the osce monitoring mission the withdrawal of heavy weapons that has been agreed must actually take place and the osce monitors must be given full and secure access to carry out their crucial role russia must stop providing arms and equipment to separatist forces and must withdraw its own forces from eastern ukraine without such steps the appalling suffering of ordinary ukrainians living in the donbas will continue the minsk agreements are not just ceasefire they are designed to allow ukraine to regain control of its territory and border they provide the path to political resolution of the current crisis welcome the progress that ukraine has made in recent weeks to take forward challenging and vital constitutional reform including hope that soon we will see local elections in the separatist controlled areas of the donbas these must be held in line with ukrainian legislation and in line with osce standards and with osce odihr observation as set out in the minsk agreement any elections that do not meet these standards will be illegitimate and likely to cause further instability the weeks ahead will be testing welcome the political commitment shown by the government of ukraine to implement the minsk agreement it is important that mps and wider ukrainian society continue to debate these and other critically important issues for ukraine future openly honestly and peacefully there must be no repeat of the deplorable violence outside the rada on august urge all sides to engage constructively in the trilateral contact group to ensure progress on the ground further information follow foreign office minister david lidington on twitter dlidington follow the foreign office on twitter foreignoffice follow the foreign office on facebook and google media enquiries for journalists email newsdesk fco gov uk newsdesk»\n",
      "\n"
     ]
    }
   ],
   "source": [
    "doc_id = random.randint(0, len(test_corpus) - 1)\n",
    "inferred_vector = model.infer_vector(test_corpus[doc_id])\n",
    "sims = model.docvecs.most_similar([inferred_vector], topn=10)\n",
    "\n",
    "# Compare and print the most/median/least similar documents from the train corpus\n",
    "print('Test Document ({}): «{}»\\n'.format(doc_id, ' '.join(test_corpus[doc_id])))\n",
    "print(u'SIMILAR/DISSIMILAR DOCS PER MODEL %s:\\n' % model)\n",
    "for label, index in [('MOST', 0), ('SECOND', 1), ('THIRD', 2), ('FOURTH', 3), ('FIFTH', 4)]:\n",
    "    print(u'%s %s: «%s»\\n' % (label, sims[index], ' '.join(train_corpus[sims[index][0]].words)))"
   ]
  },
  {
   "cell_type": "markdown",
   "metadata": {},
   "source": [
    "### Train on all of GOV.UK -most recent content"
   ]
  },
  {
   "cell_type": "code",
   "execution_count": null,
   "metadata": {},
   "outputs": [],
   "source": []
  },
  {
   "cell_type": "markdown",
   "metadata": {},
   "source": [
    "### Taxons"
   ]
  },
  {
   "cell_type": "code",
   "execution_count": 78,
   "metadata": {},
   "outputs": [
    {
     "name": "stderr",
     "output_type": "stream",
     "text": [
      "/Users/ellieking/.pyenv/versions/3.6.4/envs/content-similarity-3.6.4/lib/python3.6/site-packages/IPython/core/interactiveshell.py:3020: DtypeWarning: Columns (17,18) have mixed types. Specify dtype option on import or set low_memory=False.\n",
      "  interactivity=interactivity, compiler=compiler, result=result)\n"
     ]
    }
   ],
   "source": [
    "labelled = pd.read_csv(os.path.join(DATADIR, \"labelled.csv.gz\"), compression='gzip')"
   ]
  },
  {
   "cell_type": "code",
   "execution_count": 79,
   "metadata": {},
   "outputs": [],
   "source": [
    "taxons = labelled.taxon_id.unique()"
   ]
  },
  {
   "cell_type": "code",
   "execution_count": null,
   "metadata": {},
   "outputs": [],
   "source": [
    "# taxon_homogeneity = []\n",
    "# for taxon in progressbar.progressbar(taxons):\n",
    "#     items_in_taxon = list(tag_corpus(labelled[labelled.taxon_id==taxon], tokens_only=True))\n",
    "#     taxon_size = len(items_in_taxon)\n",
    "#     cosine_results = []\n",
    "    \n",
    "#     for i in progressbar.progressbar(items_in_taxon):\n",
    "#         for j in items_in_taxon:\n",
    "#             cosine_results.append(cosine(model.infer_vector(i), model.infer_vector(j)))\n",
    "    \n",
    "#     mean_cosine_for_taxon = np.mean(np.array(cosine_results))\n",
    "#     taxon_homogeneity.append([taxon, taxon_size, mean_cosine_for_taxon])"
   ]
  },
  {
   "cell_type": "code",
   "execution_count": 108,
   "metadata": {},
   "outputs": [
    {
     "name": "stderr",
     "output_type": "stream",
     "text": [
      "100% (285097 of 285097) |################| Elapsed Time: 1:43:36 Time:  1:43:36\n"
     ]
    }
   ],
   "source": [
    "embeddings = []\n",
    "text = list(tag_corpus(labelled, tokens_only=True))\n",
    "for i in progressbar.progressbar(text):\n",
    "    embedding = model.infer_vector(i)\n",
    "    embeddings.append(embedding)"
   ]
  },
  {
   "cell_type": "code",
   "execution_count": 109,
   "metadata": {},
   "outputs": [],
   "source": [
    "embeddings_np = np.asarray(embeddings)"
   ]
  },
  {
   "cell_type": "code",
   "execution_count": 110,
   "metadata": {},
   "outputs": [
    {
     "data": {
      "text/plain": [
       "(285097, 50)"
      ]
     },
     "execution_count": 110,
     "metadata": {},
     "output_type": "execute_result"
    }
   ],
   "source": [
    "embeddings_np.shape"
   ]
  },
  {
   "cell_type": "code",
   "execution_count": 111,
   "metadata": {},
   "outputs": [
    {
     "data": {
      "text/plain": [
       "(285097, 19)"
      ]
     },
     "execution_count": 111,
     "metadata": {},
     "output_type": "execute_result"
    }
   ],
   "source": [
    "labelled.shape"
   ]
  },
  {
   "cell_type": "code",
   "execution_count": 116,
   "metadata": {},
   "outputs": [
    {
     "data": {
      "application/vnd.jupyter.widget-view+json": {
       "model_id": "6d18c68d9e1c406e85f4723550e8ed47",
       "version_major": 2,
       "version_minor": 0
      },
      "text/plain": [
       "HBox(children=(IntProgress(value=0, max=1587), HTML(value='')))"
      ]
     },
     "metadata": {},
     "output_type": "display_data"
    },
    {
     "data": {
      "application/vnd.jupyter.widget-view+json": {
       "model_id": "687d74a7b8a64da3b8c6c9da0a68818d",
       "version_major": 2,
       "version_minor": 0
      },
      "text/plain": [
       "HBox(children=(IntProgress(value=0, max=888), HTML(value='')))"
      ]
     },
     "metadata": {},
     "output_type": "display_data"
    },
    {
     "data": {
      "application/vnd.jupyter.widget-view+json": {
       "model_id": "6d2cd0a4566d43baa97d3654c8433f02",
       "version_major": 2,
       "version_minor": 0
      },
      "text/plain": [
       "HBox(children=(IntProgress(value=0, max=2321), HTML(value='')))"
      ]
     },
     "metadata": {},
     "output_type": "display_data"
    },
    {
     "data": {
      "application/vnd.jupyter.widget-view+json": {
       "model_id": "fabc67fc1da1403a8d29969e06043019",
       "version_major": 2,
       "version_minor": 0
      },
      "text/plain": [
       "HBox(children=(IntProgress(value=0, max=6723), HTML(value='')))"
      ]
     },
     "metadata": {},
     "output_type": "display_data"
    },
    {
     "data": {
      "application/vnd.jupyter.widget-view+json": {
       "model_id": "a0e5425aae1a48ca8628c599c116c42d",
       "version_major": 2,
       "version_minor": 0
      },
      "text/plain": [
       "HBox(children=(IntProgress(value=0, max=7122), HTML(value='')))"
      ]
     },
     "metadata": {},
     "output_type": "display_data"
    },
    {
     "data": {
      "application/vnd.jupyter.widget-view+json": {
       "model_id": "35691d76b7e04100bca0e250b2963f96",
       "version_major": 2,
       "version_minor": 0
      },
      "text/plain": [
       "HBox(children=(IntProgress(value=0, max=5311), HTML(value='')))"
      ]
     },
     "metadata": {},
     "output_type": "display_data"
    },
    {
     "data": {
      "application/vnd.jupyter.widget-view+json": {
       "model_id": "ffd5222797f9444696b4572cf2171431",
       "version_major": 2,
       "version_minor": 0
      },
      "text/plain": [
       "HBox(children=(IntProgress(value=0, max=7935), HTML(value='')))"
      ]
     },
     "metadata": {},
     "output_type": "display_data"
    },
    {
     "data": {
      "application/vnd.jupyter.widget-view+json": {
       "model_id": "747d94b03ea94d2f9877fd6398c05b1f",
       "version_major": 2,
       "version_minor": 0
      },
      "text/plain": [
       "HBox(children=(IntProgress(value=0, max=1510), HTML(value='')))"
      ]
     },
     "metadata": {},
     "output_type": "display_data"
    },
    {
     "data": {
      "application/vnd.jupyter.widget-view+json": {
       "model_id": "363f62c2eb0e49c2924bd2d5b572e604",
       "version_major": 2,
       "version_minor": 0
      },
      "text/plain": [
       "HBox(children=(IntProgress(value=0, max=6613), HTML(value='')))"
      ]
     },
     "metadata": {},
     "output_type": "display_data"
    },
    {
     "data": {
      "application/vnd.jupyter.widget-view+json": {
       "model_id": "318ebf4686be4330883d93e456a2d3ef",
       "version_major": 2,
       "version_minor": 0
      },
      "text/plain": [
       "HBox(children=(IntProgress(value=0, max=494), HTML(value='')))"
      ]
     },
     "metadata": {},
     "output_type": "display_data"
    },
    {
     "data": {
      "application/vnd.jupyter.widget-view+json": {
       "model_id": "9c9b667bf5e0445d949a59045373050b",
       "version_major": 2,
       "version_minor": 0
      },
      "text/plain": [
       "HBox(children=(IntProgress(value=0, max=425), HTML(value='')))"
      ]
     },
     "metadata": {},
     "output_type": "display_data"
    },
    {
     "data": {
      "application/vnd.jupyter.widget-view+json": {
       "model_id": "4d430e45f0614bb484e1e03a4c1d68b1",
       "version_major": 2,
       "version_minor": 0
      },
      "text/plain": [
       "HBox(children=(IntProgress(value=0, max=2677), HTML(value='')))"
      ]
     },
     "metadata": {},
     "output_type": "display_data"
    },
    {
     "data": {
      "application/vnd.jupyter.widget-view+json": {
       "model_id": "f7e3f4e17bd74c19a2599bc5ff2149f5",
       "version_major": 2,
       "version_minor": 0
      },
      "text/plain": [
       "HBox(children=(IntProgress(value=0, max=1560), HTML(value='')))"
      ]
     },
     "metadata": {},
     "output_type": "display_data"
    },
    {
     "data": {
      "application/vnd.jupyter.widget-view+json": {
       "model_id": "d4640375bf874a79b6be2d88eaf6bd3c",
       "version_major": 2,
       "version_minor": 0
      },
      "text/plain": [
       "HBox(children=(IntProgress(value=0, max=678), HTML(value='')))"
      ]
     },
     "metadata": {},
     "output_type": "display_data"
    },
    {
     "data": {
      "application/vnd.jupyter.widget-view+json": {
       "model_id": "95027a250c334ac885dfd53ffb84bf86",
       "version_major": 2,
       "version_minor": 0
      },
      "text/plain": [
       "HBox(children=(IntProgress(value=0, max=8284), HTML(value='')))"
      ]
     },
     "metadata": {},
     "output_type": "display_data"
    },
    {
     "data": {
      "application/vnd.jupyter.widget-view+json": {
       "model_id": "97570cd0ff924efa96c05c085ad9932c",
       "version_major": 2,
       "version_minor": 0
      },
      "text/plain": [
       "HBox(children=(IntProgress(value=0, max=1508), HTML(value='')))"
      ]
     },
     "metadata": {},
     "output_type": "display_data"
    },
    {
     "data": {
      "application/vnd.jupyter.widget-view+json": {
       "model_id": "cf2d04f1ef1743af86aa36ddc5b8b19c",
       "version_major": 2,
       "version_minor": 0
      },
      "text/plain": [
       "HBox(children=(IntProgress(value=0, max=9393), HTML(value='')))"
      ]
     },
     "metadata": {},
     "output_type": "display_data"
    },
    {
     "data": {
      "application/vnd.jupyter.widget-view+json": {
       "model_id": "d47056f39eac417b99e3217771381993",
       "version_major": 2,
       "version_minor": 0
      },
      "text/plain": [
       "HBox(children=(IntProgress(value=0, max=17448), HTML(value='')))"
      ]
     },
     "metadata": {},
     "output_type": "display_data"
    },
    {
     "data": {
      "application/vnd.jupyter.widget-view+json": {
       "model_id": "6e267b985b344bcd8ceb89cf346b61de",
       "version_major": 2,
       "version_minor": 0
      },
      "text/plain": [
       "HBox(children=(IntProgress(value=0, max=138), HTML(value='')))"
      ]
     },
     "metadata": {},
     "output_type": "display_data"
    },
    {
     "data": {
      "application/vnd.jupyter.widget-view+json": {
       "model_id": "13cd291db6a04f1cbddcd21ec0761c49",
       "version_major": 2,
       "version_minor": 0
      },
      "text/plain": [
       "HBox(children=(IntProgress(value=0, max=2065), HTML(value='')))"
      ]
     },
     "metadata": {},
     "output_type": "display_data"
    },
    {
     "data": {
      "application/vnd.jupyter.widget-view+json": {
       "model_id": "2690f05deb374393a0ab970dc7c54198",
       "version_major": 2,
       "version_minor": 0
      },
      "text/plain": [
       "HBox(children=(IntProgress(value=0, max=2401), HTML(value='')))"
      ]
     },
     "metadata": {},
     "output_type": "display_data"
    },
    {
     "data": {
      "application/vnd.jupyter.widget-view+json": {
       "model_id": "a819e6902d7f4308b195405474441be5",
       "version_major": 2,
       "version_minor": 0
      },
      "text/plain": [
       "HBox(children=(IntProgress(value=0, max=458), HTML(value='')))"
      ]
     },
     "metadata": {},
     "output_type": "display_data"
    },
    {
     "data": {
      "application/vnd.jupyter.widget-view+json": {
       "model_id": "20579f18e02a4c69b06c394a67f1f445",
       "version_major": 2,
       "version_minor": 0
      },
      "text/plain": [
       "HBox(children=(IntProgress(value=0, max=3955), HTML(value='')))"
      ]
     },
     "metadata": {},
     "output_type": "display_data"
    },
    {
     "data": {
      "application/vnd.jupyter.widget-view+json": {
       "model_id": "fe79273e0f3941feb203476b34bfd2dd",
       "version_major": 2,
       "version_minor": 0
      },
      "text/plain": [
       "HBox(children=(IntProgress(value=0, max=1354), HTML(value='')))"
      ]
     },
     "metadata": {},
     "output_type": "display_data"
    },
    {
     "data": {
      "application/vnd.jupyter.widget-view+json": {
       "model_id": "1c4a2d60d71e4889a88c13424d18f7e3",
       "version_major": 2,
       "version_minor": 0
      },
      "text/plain": [
       "HBox(children=(IntProgress(value=0, max=288), HTML(value='')))"
      ]
     },
     "metadata": {},
     "output_type": "display_data"
    },
    {
     "data": {
      "application/vnd.jupyter.widget-view+json": {
       "model_id": "35e213c310d24461805f96b2ed86a2c3",
       "version_major": 2,
       "version_minor": 0
      },
      "text/plain": [
       "HBox(children=(IntProgress(value=0, max=130), HTML(value='')))"
      ]
     },
     "metadata": {},
     "output_type": "display_data"
    },
    {
     "data": {
      "application/vnd.jupyter.widget-view+json": {
       "model_id": "29123f196d91419a877ad08e135dbfef",
       "version_major": 2,
       "version_minor": 0
      },
      "text/plain": [
       "HBox(children=(IntProgress(value=0, max=53), HTML(value='')))"
      ]
     },
     "metadata": {},
     "output_type": "display_data"
    },
    {
     "data": {
      "application/vnd.jupyter.widget-view+json": {
       "model_id": "69f9f268bc0043a78a44ada2f8f2d9ae",
       "version_major": 2,
       "version_minor": 0
      },
      "text/plain": [
       "HBox(children=(IntProgress(value=0, max=3479), HTML(value='')))"
      ]
     },
     "metadata": {},
     "output_type": "display_data"
    },
    {
     "data": {
      "application/vnd.jupyter.widget-view+json": {
       "model_id": "b89d9ac03a6a4bd7812d679469be451e",
       "version_major": 2,
       "version_minor": 0
      },
      "text/plain": [
       "HBox(children=(IntProgress(value=0, max=4682), HTML(value='')))"
      ]
     },
     "metadata": {},
     "output_type": "display_data"
    },
    {
     "ename": "KeyboardInterrupt",
     "evalue": "",
     "output_type": "error",
     "traceback": [
      "\u001b[0;31m---------------------------------------------------------------------------\u001b[0m",
      "\u001b[0;31mKeyboardInterrupt\u001b[0m                         Traceback (most recent call last)",
      "\u001b[0;32m<ipython-input-116-f76c719e88e2>\u001b[0m in \u001b[0;36m<module>\u001b[0;34m\u001b[0m\n\u001b[1;32m      9\u001b[0m     \u001b[0;32mfor\u001b[0m \u001b[0mi\u001b[0m \u001b[0;32min\u001b[0m \u001b[0mtqdm_notebook\u001b[0m\u001b[0;34m(\u001b[0m\u001b[0membeddings_in_taxon\u001b[0m\u001b[0;34m)\u001b[0m\u001b[0;34m:\u001b[0m\u001b[0;34m\u001b[0m\u001b[0m\n\u001b[1;32m     10\u001b[0m         \u001b[0;32mfor\u001b[0m \u001b[0mj\u001b[0m \u001b[0;32min\u001b[0m \u001b[0membeddings_in_taxon\u001b[0m\u001b[0;34m:\u001b[0m\u001b[0;34m\u001b[0m\u001b[0m\n\u001b[0;32m---> 11\u001b[0;31m             \u001b[0mcosine_results\u001b[0m\u001b[0;34m.\u001b[0m\u001b[0mappend\u001b[0m\u001b[0;34m(\u001b[0m\u001b[0mcosine\u001b[0m\u001b[0;34m(\u001b[0m\u001b[0mi\u001b[0m\u001b[0;34m,\u001b[0m \u001b[0mj\u001b[0m\u001b[0;34m)\u001b[0m\u001b[0;34m)\u001b[0m\u001b[0;34m\u001b[0m\u001b[0m\n\u001b[0m\u001b[1;32m     12\u001b[0m \u001b[0;34m\u001b[0m\u001b[0m\n\u001b[1;32m     13\u001b[0m     \u001b[0mmean_cosine_for_taxon\u001b[0m \u001b[0;34m=\u001b[0m \u001b[0mnp\u001b[0m\u001b[0;34m.\u001b[0m\u001b[0mmean\u001b[0m\u001b[0;34m(\u001b[0m\u001b[0mnp\u001b[0m\u001b[0;34m.\u001b[0m\u001b[0marray\u001b[0m\u001b[0;34m(\u001b[0m\u001b[0mcosine_results\u001b[0m\u001b[0;34m)\u001b[0m\u001b[0;34m)\u001b[0m\u001b[0;34m\u001b[0m\u001b[0m\n",
      "\u001b[0;32m~/.pyenv/versions/3.6.4/envs/content-similarity-3.6.4/lib/python3.6/site-packages/scipy/spatial/distance.py\u001b[0m in \u001b[0;36mcosine\u001b[0;34m(u, v, w)\u001b[0m\n\u001b[1;32m    742\u001b[0m     \u001b[0;31m# cosine distance is also referred to as 'uncentered correlation',\u001b[0m\u001b[0;34m\u001b[0m\u001b[0;34m\u001b[0m\u001b[0m\n\u001b[1;32m    743\u001b[0m     \u001b[0;31m#   or 'reflective correlation'\u001b[0m\u001b[0;34m\u001b[0m\u001b[0;34m\u001b[0m\u001b[0m\n\u001b[0;32m--> 744\u001b[0;31m     \u001b[0;32mreturn\u001b[0m \u001b[0mcorrelation\u001b[0m\u001b[0;34m(\u001b[0m\u001b[0mu\u001b[0m\u001b[0;34m,\u001b[0m \u001b[0mv\u001b[0m\u001b[0;34m,\u001b[0m \u001b[0mw\u001b[0m\u001b[0;34m=\u001b[0m\u001b[0mw\u001b[0m\u001b[0;34m,\u001b[0m \u001b[0mcentered\u001b[0m\u001b[0;34m=\u001b[0m\u001b[0;32mFalse\u001b[0m\u001b[0;34m)\u001b[0m\u001b[0;34m\u001b[0m\u001b[0m\n\u001b[0m\u001b[1;32m    745\u001b[0m \u001b[0;34m\u001b[0m\u001b[0m\n\u001b[1;32m    746\u001b[0m \u001b[0;34m\u001b[0m\u001b[0m\n",
      "\u001b[0;32m~/.pyenv/versions/3.6.4/envs/content-similarity-3.6.4/lib/python3.6/site-packages/scipy/spatial/distance.py\u001b[0m in \u001b[0;36mcorrelation\u001b[0;34m(u, v, w, centered)\u001b[0m\n\u001b[1;32m    695\u001b[0m     \u001b[0muv\u001b[0m \u001b[0;34m=\u001b[0m \u001b[0mnp\u001b[0m\u001b[0;34m.\u001b[0m\u001b[0maverage\u001b[0m\u001b[0;34m(\u001b[0m\u001b[0mu\u001b[0m \u001b[0;34m*\u001b[0m \u001b[0mv\u001b[0m\u001b[0;34m,\u001b[0m \u001b[0mweights\u001b[0m\u001b[0;34m=\u001b[0m\u001b[0mw\u001b[0m\u001b[0;34m)\u001b[0m\u001b[0;34m\u001b[0m\u001b[0m\n\u001b[1;32m    696\u001b[0m     \u001b[0muu\u001b[0m \u001b[0;34m=\u001b[0m \u001b[0mnp\u001b[0m\u001b[0;34m.\u001b[0m\u001b[0maverage\u001b[0m\u001b[0;34m(\u001b[0m\u001b[0mnp\u001b[0m\u001b[0;34m.\u001b[0m\u001b[0msquare\u001b[0m\u001b[0;34m(\u001b[0m\u001b[0mu\u001b[0m\u001b[0;34m)\u001b[0m\u001b[0;34m,\u001b[0m \u001b[0mweights\u001b[0m\u001b[0;34m=\u001b[0m\u001b[0mw\u001b[0m\u001b[0;34m)\u001b[0m\u001b[0;34m\u001b[0m\u001b[0m\n\u001b[0;32m--> 697\u001b[0;31m     \u001b[0mvv\u001b[0m \u001b[0;34m=\u001b[0m \u001b[0mnp\u001b[0m\u001b[0;34m.\u001b[0m\u001b[0maverage\u001b[0m\u001b[0;34m(\u001b[0m\u001b[0mnp\u001b[0m\u001b[0;34m.\u001b[0m\u001b[0msquare\u001b[0m\u001b[0;34m(\u001b[0m\u001b[0mv\u001b[0m\u001b[0;34m)\u001b[0m\u001b[0;34m,\u001b[0m \u001b[0mweights\u001b[0m\u001b[0;34m=\u001b[0m\u001b[0mw\u001b[0m\u001b[0;34m)\u001b[0m\u001b[0;34m\u001b[0m\u001b[0m\n\u001b[0m\u001b[1;32m    698\u001b[0m     \u001b[0mdist\u001b[0m \u001b[0;34m=\u001b[0m \u001b[0;36m1.0\u001b[0m \u001b[0;34m-\u001b[0m \u001b[0muv\u001b[0m \u001b[0;34m/\u001b[0m \u001b[0mnp\u001b[0m\u001b[0;34m.\u001b[0m\u001b[0msqrt\u001b[0m\u001b[0;34m(\u001b[0m\u001b[0muu\u001b[0m \u001b[0;34m*\u001b[0m \u001b[0mvv\u001b[0m\u001b[0;34m)\u001b[0m\u001b[0;34m\u001b[0m\u001b[0m\n\u001b[1;32m    699\u001b[0m     \u001b[0;32mreturn\u001b[0m \u001b[0mdist\u001b[0m\u001b[0;34m\u001b[0m\u001b[0m\n",
      "\u001b[0;32m~/.pyenv/versions/3.6.4/envs/content-similarity-3.6.4/lib/python3.6/site-packages/numpy/lib/function_base.py\u001b[0m in \u001b[0;36maverage\u001b[0;34m(a, axis, weights, returned)\u001b[0m\n\u001b[1;32m    354\u001b[0m \u001b[0;34m\u001b[0m\u001b[0m\n\u001b[1;32m    355\u001b[0m     \u001b[0;32mif\u001b[0m \u001b[0mweights\u001b[0m \u001b[0;32mis\u001b[0m \u001b[0;32mNone\u001b[0m\u001b[0;34m:\u001b[0m\u001b[0;34m\u001b[0m\u001b[0m\n\u001b[0;32m--> 356\u001b[0;31m         \u001b[0mavg\u001b[0m \u001b[0;34m=\u001b[0m \u001b[0ma\u001b[0m\u001b[0;34m.\u001b[0m\u001b[0mmean\u001b[0m\u001b[0;34m(\u001b[0m\u001b[0maxis\u001b[0m\u001b[0;34m)\u001b[0m\u001b[0;34m\u001b[0m\u001b[0m\n\u001b[0m\u001b[1;32m    357\u001b[0m         \u001b[0mscl\u001b[0m \u001b[0;34m=\u001b[0m \u001b[0mavg\u001b[0m\u001b[0;34m.\u001b[0m\u001b[0mdtype\u001b[0m\u001b[0;34m.\u001b[0m\u001b[0mtype\u001b[0m\u001b[0;34m(\u001b[0m\u001b[0ma\u001b[0m\u001b[0;34m.\u001b[0m\u001b[0msize\u001b[0m\u001b[0;34m/\u001b[0m\u001b[0mavg\u001b[0m\u001b[0;34m.\u001b[0m\u001b[0msize\u001b[0m\u001b[0;34m)\u001b[0m\u001b[0;34m\u001b[0m\u001b[0m\n\u001b[1;32m    358\u001b[0m     \u001b[0;32melse\u001b[0m\u001b[0;34m:\u001b[0m\u001b[0;34m\u001b[0m\u001b[0m\n",
      "\u001b[0;32m~/.pyenv/versions/3.6.4/envs/content-similarity-3.6.4/lib/python3.6/site-packages/numpy/core/_methods.py\u001b[0m in \u001b[0;36m_mean\u001b[0;34m(a, axis, dtype, out, keepdims)\u001b[0m\n\u001b[1;32m     60\u001b[0m \u001b[0;34m\u001b[0m\u001b[0m\n\u001b[1;32m     61\u001b[0m     \u001b[0mis_float16_result\u001b[0m \u001b[0;34m=\u001b[0m \u001b[0;32mFalse\u001b[0m\u001b[0;34m\u001b[0m\u001b[0m\n\u001b[0;32m---> 62\u001b[0;31m     \u001b[0mrcount\u001b[0m \u001b[0;34m=\u001b[0m \u001b[0m_count_reduce_items\u001b[0m\u001b[0;34m(\u001b[0m\u001b[0marr\u001b[0m\u001b[0;34m,\u001b[0m \u001b[0maxis\u001b[0m\u001b[0;34m)\u001b[0m\u001b[0;34m\u001b[0m\u001b[0m\n\u001b[0m\u001b[1;32m     63\u001b[0m     \u001b[0;31m# Make this warning show up first\u001b[0m\u001b[0;34m\u001b[0m\u001b[0;34m\u001b[0m\u001b[0m\n\u001b[1;32m     64\u001b[0m     \u001b[0;32mif\u001b[0m \u001b[0mrcount\u001b[0m \u001b[0;34m==\u001b[0m \u001b[0;36m0\u001b[0m\u001b[0;34m:\u001b[0m\u001b[0;34m\u001b[0m\u001b[0m\n",
      "\u001b[0;31mKeyboardInterrupt\u001b[0m: "
     ]
    }
   ],
   "source": [
    "taxon_homogeneity = []\n",
    "for taxon in tqdm_notebook(taxons):\n",
    "    embeddings_in_taxon = list(embeddings_np[labelled.taxon_id==taxon])\n",
    "    taxon_size = len(embeddings_in_taxon)\n",
    "    cosine_results = []\n",
    "    \n",
    "    for i in tqdm_notebook(embeddings_in_taxon):\n",
    "        for j in embeddings_in_taxon:\n",
    "            cosine_results.append(cosine(i, j))\n",
    "    \n",
    "    mean_cosine_for_taxon = np.mean(np.array(cosine_results))\n",
    "    taxon_homogeneity.append([taxon, taxon_size, mean_cosine_for_taxon])"
   ]
  },
  {
   "cell_type": "code",
   "execution_count": null,
   "metadata": {},
   "outputs": [],
   "source": []
  }
 ],
 "metadata": {
  "hide_input": false,
  "kernelspec": {
   "display_name": "Python 3",
   "language": "python",
   "name": "python3"
  },
  "language_info": {
   "codemirror_mode": {
    "name": "ipython",
    "version": 3
   },
   "file_extension": ".py",
   "mimetype": "text/x-python",
   "name": "python",
   "nbconvert_exporter": "python",
   "pygments_lexer": "ipython3",
   "version": "3.6.4"
  },
  "varInspector": {
   "cols": {
    "lenName": 16,
    "lenType": 16,
    "lenVar": 40
   },
   "kernels_config": {
    "python": {
     "delete_cmd_postfix": "",
     "delete_cmd_prefix": "del ",
     "library": "var_list.py",
     "varRefreshCmd": "print(var_dic_list())"
    },
    "r": {
     "delete_cmd_postfix": ") ",
     "delete_cmd_prefix": "rm(",
     "library": "var_list.r",
     "varRefreshCmd": "cat(var_dic_list()) "
    }
   },
   "types_to_exclude": [
    "module",
    "function",
    "builtin_function_or_method",
    "instance",
    "_Feature"
   ],
   "window_display": false
  }
 },
 "nbformat": 4,
 "nbformat_minor": 2
}
