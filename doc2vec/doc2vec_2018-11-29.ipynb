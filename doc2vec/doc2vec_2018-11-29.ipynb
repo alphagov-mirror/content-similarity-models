{
 "cells": [
  {
   "cell_type": "code",
   "execution_count": 1,
   "metadata": {},
   "outputs": [],
   "source": [
    "import gensim\n",
    "import os\n",
    "import collections\n",
    "import csv\n",
    "import random\n",
    "import sys\n",
    "import numpy as np\n",
    "import pandas as pd\n",
    "from sklearn.model_selection import train_test_split\n",
    "import progressbar\n",
    "from tqdm import tnrange, tqdm_notebook\n",
    "from gensim.test.utils import get_tmpfile"
   ]
  },
  {
   "cell_type": "code",
   "execution_count": 2,
   "metadata": {},
   "outputs": [
    {
     "data": {
      "text/plain": [
       "'/Users/ellieking/Documents/govuk-taxonomy-supervised-learning/data/2018-11-29'"
      ]
     },
     "execution_count": 2,
     "metadata": {},
     "output_type": "execute_result"
    }
   ],
   "source": [
    "DATADIR = os.getenv(\"DATADIR\")\n",
    "DATADIR"
   ]
  },
  {
   "cell_type": "code",
   "execution_count": 3,
   "metadata": {},
   "outputs": [],
   "source": [
    "#create train test files\n",
    "clean_content = pd.read_csv(os.path.join(DATADIR, \"clean_content.csv\"))"
   ]
  },
  {
   "cell_type": "code",
   "execution_count": 4,
   "metadata": {},
   "outputs": [],
   "source": [
    "train, test = train_test_split(clean_content, random_state=1234, shuffle=True)"
   ]
  },
  {
   "cell_type": "code",
   "execution_count": 5,
   "metadata": {},
   "outputs": [],
   "source": [
    "train.reset_index(inplace=True)\n",
    "test.reset_index(inplace=True)"
   ]
  },
  {
   "cell_type": "code",
   "execution_count": 6,
   "metadata": {},
   "outputs": [],
   "source": [
    "def tag_corpus(df, tokens_only=False): \n",
    "    for i, row in df.iterrows():\n",
    "        if tokens_only:\n",
    "                yield gensim.utils.simple_preprocess(row['combined_text'])\n",
    "        else:\n",
    "                # For training data, add tags\n",
    "                yield gensim.models.doc2vec.TaggedDocument(gensim.utils.simple_preprocess(row['combined_text']), [i])"
   ]
  },
  {
   "cell_type": "code",
   "execution_count": 7,
   "metadata": {},
   "outputs": [],
   "source": [
    "csv.field_size_limit(sys.maxsize)\n",
    "                     \n",
    "        \n",
    "def read_corpus(fname, tokens_only=False): \n",
    "    \n",
    "    with open(fname, \"r\", encoding='utf-8') as f:\n",
    "        reader = csv.reader(f, delimiter=\",\")\n",
    "\n",
    "        for i, line in enumerate(reader):\n",
    "            yield gensim.models.doc2vec.TaggedDocument(gensim.utils.simple_preprocess(line[-1]), [tag])"
   ]
  },
  {
   "cell_type": "code",
   "execution_count": 8,
   "metadata": {},
   "outputs": [],
   "source": [
    "train_corpus = list(tag_corpus(train))"
   ]
  },
  {
   "cell_type": "code",
   "execution_count": 9,
   "metadata": {},
   "outputs": [],
   "source": [
    "test_corpus = list(tag_corpus(test, tokens_only=True))"
   ]
  },
  {
   "cell_type": "code",
   "execution_count": 10,
   "metadata": {},
   "outputs": [
    {
     "name": "stdout",
     "output_type": "stream",
     "text": [
      "train length = 172347\n",
      "test length = 57449\n"
     ]
    }
   ],
   "source": [
    "print('train length = {}'.format(len(train_corpus)))\n",
    "print('test length = {}'.format(len(test_corpus)))"
   ]
  },
  {
   "cell_type": "markdown",
   "metadata": {},
   "source": [
    "# Training the Model\n",
    "## Instantiate a Doc2Vec Object\n",
    "Now, we'll instantiate a Doc2Vec model with a vector size with 300 words and iterating over the training corpus 20 times. We set the minimum word count to 10 in order to discard words with very few occurrences. "
   ]
  },
  {
   "cell_type": "code",
   "execution_count": 11,
   "metadata": {},
   "outputs": [],
   "source": [
    "model = gensim.models.doc2vec.Doc2Vec(vector_size=300, min_count=10, epochs=20)"
   ]
  },
  {
   "cell_type": "code",
   "execution_count": 12,
   "metadata": {},
   "outputs": [],
   "source": [
    "model.build_vocab(train_corpus)"
   ]
  },
  {
   "cell_type": "code",
   "execution_count": 13,
   "metadata": {},
   "outputs": [
    {
     "name": "stdout",
     "output_type": "stream",
     "text": [
      "CPU times: user 47min 54s, sys: 46.7 s, total: 48min 41s\n",
      "Wall time: 18min 16s\n"
     ]
    }
   ],
   "source": [
    "%time model.train(train_corpus, total_examples=model.corpus_count, epochs=model.epochs)"
   ]
  },
  {
   "cell_type": "markdown",
   "metadata": {},
   "source": [
    "# Inferring a Vector\n",
    "One important thing to note is that you can now infer a vector for any piece of text without having to re-train the model by passing a list of words to the model.infer_vector function. This vector can then be compared with other vectors via cosine similarity."
   ]
  },
  {
   "cell_type": "code",
   "execution_count": 14,
   "metadata": {},
   "outputs": [
    {
     "name": "stdout",
     "output_type": "stream",
     "text": [
      "[ 0.01619075 -0.3857366  -0.21332191 -0.39031467 -0.06365608 -0.06554236\n",
      "  0.10489657  0.6586542  -0.67478514 -0.074596    0.40168247  0.06166789\n",
      " -0.05527627 -0.46808976 -0.2584152   0.42400724  0.0326782  -0.2494215\n",
      " -0.5367077  -0.8815892  -0.08493707  0.4654813   0.32676122  0.5447801\n",
      " -0.85339904  0.22020005 -0.8906548   0.18943048 -0.16608529 -0.41868275\n",
      " -0.3067872  -0.96009666  0.14968543 -0.00471213 -0.7331197   0.17063302\n",
      " -0.7028694  -0.4864514   0.3497148   0.23650299 -0.40131524  0.7863563\n",
      " -0.07368162  0.8567035   0.65980536 -0.4337881   0.08422016 -0.20582701\n",
      "  0.53316045  0.00774368  1.5816195   0.8629716  -0.6574274   0.09455629\n",
      "  0.42348886 -0.6951741   1.0440122  -0.10885935  0.26401392 -0.5317674\n",
      "  1.0799328   0.44765794 -0.35996252 -0.79823446 -0.03307015  0.00412453\n",
      " -1.5467987  -0.19720659  0.63797146 -0.28328916 -0.3311835  -0.3550977\n",
      "  0.3092764  -0.97142553  1.2182555   0.6001149  -0.06594264 -0.55086976\n",
      "  0.5819013   0.50179195 -0.37025353 -0.9518246  -0.75336355  0.09704494\n",
      " -0.32856205 -0.32631227  1.0043448  -0.73508966 -0.23875794  0.3224555\n",
      "  0.16173595  0.7334691  -0.5176054  -1.0681965  -1.1328889  -0.14290754\n",
      "  0.41767654  0.7737788  -0.91531515 -1.438819   -0.5236291  -0.24321413\n",
      " -1.225075    0.4983511  -0.46222827 -0.33564904  0.5677019   0.14494146\n",
      " -0.39439172 -0.2714303  -0.4942537   0.7423962  -0.12941407 -0.58850145\n",
      " -0.06533488  0.36339656 -0.648461   -0.8978094   0.7214381   0.16086005\n",
      " -0.7021987  -0.7452937  -0.02629831  0.2645617   0.96451557  1.2970111\n",
      " -0.5482744  -0.6008972   0.00288979  1.0178956   0.19755375 -0.3604593\n",
      " -0.24030186 -0.4146163  -0.03620464  0.08855013 -0.09100971 -1.0147486\n",
      "  0.6226868   1.2154728   0.24831308 -0.3983103  -0.23916762 -0.6993151\n",
      " -0.24855788 -0.06773469  0.37376735  0.14148852 -0.14288707  1.1264915\n",
      "  0.6357181  -0.50049466 -0.07524829 -0.24220681 -0.43427962 -0.12053924\n",
      "  0.15701365 -0.3387084   0.13251756  0.9829638  -0.28758958  0.45928633\n",
      "  0.668739   -0.75136906  0.23572627  0.28279066  0.15337732 -0.14059086\n",
      " -0.7197657  -0.56582826  0.7375409  -0.2849646  -0.482529   -0.39585963\n",
      "  0.5258298  -0.4397901   1.0075985  -0.80921197  0.6354544  -0.11678822\n",
      "  0.6693596   0.51358795  0.453272   -0.24801701 -0.62386435 -0.00222964\n",
      " -0.83716834  0.3451709  -0.8970895  -0.40483856  1.0263469  -0.3466964\n",
      " -0.45855385 -1.0495336  -0.3838345  -0.318654    0.06329285  0.42270103\n",
      "  0.5344902   0.4205493   0.35765818 -1.0131289   0.18823783 -0.8148918\n",
      " -0.00390245  0.28779742  0.4591438  -0.10291116 -0.21742499 -0.4803079\n",
      "  0.3623309   0.26975787  0.24504037  0.4583113  -0.23768823  0.23040915\n",
      " -0.39461577 -0.4059461  -0.05091038 -0.4605911   1.0754775  -1.4197503\n",
      " -0.29073265  0.48253685 -0.4221645   0.29191577 -0.90069157  0.57700306\n",
      "  0.00814005  1.558793   -0.32611638 -0.09215522  0.00872452  0.12970215\n",
      "  0.21943566 -0.9696929   0.12369069  1.1047266  -0.668231    0.22484784\n",
      "  0.251558    0.35413814 -0.15259829  0.48474646  0.28879485 -0.07057149\n",
      "  0.03982606  1.1310062   0.9101908  -0.8363145  -0.210397    0.78100556\n",
      "  0.69819105 -0.7573885   0.51715386  0.67548156 -0.37572     0.48493832\n",
      " -0.7009836   0.4052068   0.06432693  0.41791803  0.08589932 -0.56430495\n",
      " -0.4879218  -0.3366493   0.13606183  0.5261991  -0.02715181  0.0666784\n",
      " -0.1650346  -0.93842137 -0.56200844  0.16069175 -0.57513624  0.24824177\n",
      "  0.14801693  0.0594335  -0.67768764  0.04432489 -0.7479177   0.56721514\n",
      " -0.53944075  0.10395283  0.18059343 -0.32002828  0.07802408 -0.73592734\n",
      " -0.20519398  0.78890514 -0.37633228  0.66608757  0.94778293  0.3177731\n",
      " -0.03854356 -0.6120146   0.47237906  0.14049253 -0.08715979 -1.2088716 ]\n",
      "[0]\n"
     ]
    }
   ],
   "source": [
    "print(model.infer_vector(train_corpus[0].words))\n",
    "print(train_corpus[0].tags)"
   ]
  },
  {
   "cell_type": "markdown",
   "metadata": {},
   "source": [
    "Note that infer_vector() does not take a string, but rather a list of string tokens, which should have already been tokenized the same way as the words property of original training document objects.\n",
    "\n",
    "Also note that because the underlying training/inference algorithms are an iterative approximation problem that makes use of internal randomization, repeated inferences of the same text will return slightly different vectors."
   ]
  },
  {
   "cell_type": "markdown",
   "metadata": {},
   "source": [
    "# Assessing Model\n",
    "To assess our new model, we'll first infer new vectors for each document of the training corpus and see how often the document found itself tobe the nearest document. "
   ]
  },
  {
   "cell_type": "code",
   "execution_count": 15,
   "metadata": {},
   "outputs": [],
   "source": [
    "def evaluate_model(train_corpus, model):\n",
    "    train_auto_nearest = []\n",
    "    random.seed(1234)\n",
    "    sample_1000 = random.sample(train_corpus, 1000)\n",
    "\n",
    "    for doc_id in tqdm_notebook(range(len(sample_1000))):\n",
    "        inferred_vector = model.infer_vector(sample_1000[doc_id].words)\n",
    "        sims = model.docvecs.most_similar([inferred_vector], topn=2)\n",
    "        found_itself_nearest = int(np.where(sims[0][0]==sample_1000[doc_id].tags[0], 1, 0))\n",
    "        train_auto_nearest.append(found_itself_nearest)\n",
    "    \n",
    "    \n",
    "    x = collections.Counter(train_auto_nearest)\n",
    "    train_percent_auto_similar = x[1]/(x[0]+x[1])*100\n",
    "    \n",
    "    \n",
    "    \n",
    "    print(\"The percentage of 1000 training samples which found itself nearest = {}\".format(train_percent_auto_similar\n",
    "                                                                                          )\n",
    "         )\n",
    "    return train_percent_auto_similar "
   ]
  },
  {
   "cell_type": "code",
   "execution_count": 16,
   "metadata": {},
   "outputs": [
    {
     "data": {
      "application/vnd.jupyter.widget-view+json": {
       "model_id": "3d6f4d9330f64734b53968436afcdf5e",
       "version_major": 2,
       "version_minor": 0
      },
      "text/plain": [
       "HBox(children=(IntProgress(value=0, max=1000), HTML(value='')))"
      ]
     },
     "metadata": {},
     "output_type": "display_data"
    },
    {
     "name": "stderr",
     "output_type": "stream",
     "text": [
      "/Users/ellieking/.pyenv/versions/3.6.4/envs/content-similarity-3.6.4/lib/python3.6/site-packages/gensim/matutils.py:737: FutureWarning: Conversion of the second argument of issubdtype from `int` to `np.signedinteger` is deprecated. In future, it will be treated as `np.int64 == np.dtype(int).type`.\n",
      "  if np.issubdtype(vec.dtype, np.int):\n"
     ]
    },
    {
     "name": "stdout",
     "output_type": "stream",
     "text": [
      "\n",
      "The percentage of 1000 training samples which found itself nearest = 90.7\n"
     ]
    },
    {
     "data": {
      "text/plain": [
       "90.7"
      ]
     },
     "execution_count": 16,
     "metadata": {},
     "output_type": "execute_result"
    }
   ],
   "source": [
    "evaluate_model(train_corpus, model)"
   ]
  },
  {
   "cell_type": "markdown",
   "metadata": {},
   "source": [
    "Basically, 90% of the inferred documents are found to be most similar to itself and 10% it is mistakenly most similar to another document. the checking of an inferred-vector against a training-vector is a sort of 'sanity check' as to whether the model is behaving in a usefully consistent manner, though not a real 'accuracy' value."
   ]
  },
  {
   "cell_type": "markdown",
   "metadata": {},
   "source": [
    "# Testing the Model\n",
    "Using the same approach above, we'll infer the vector for a randomly chosen test document, and compare the document to our model by eye."
   ]
  },
  {
   "cell_type": "code",
   "execution_count": 17,
   "metadata": {},
   "outputs": [
    {
     "name": "stdout",
     "output_type": "stream",
     "text": [
      "Test Document (36853): «re register your public limited company as private company rr this form is for public companies to re register as private limited company to re register from public company to private limited company you must have copy of the special resolution that the company should re register as private limited company unless previously delivered printed copy of the articles as proposed to be amended completed form rr forms need to be printed at full size on white sized paper rr application by public company for re registration as private limited company pdf kb pages»\n",
      "\n",
      "SIMILAR/DISSIMILAR DOCS PER MODEL Doc2Vec(dm/m,d300,n5,w5,mc10,s0.001,t3):\n",
      "\n",
      "MOST (114, 0.7619693279266357): «re register an unlimited company as limited company rr use this form as an application by an unlimited company for re registration as private limited company this form can be used to apply to re register from an unlimited company to private limited company use this form if you have copy of the special resolution that the company should re register as private limited company unless previously delivered printed copy of the articles as proposed to be amended fee of is payable to companies house in respect of an application to re register make cheques and postal orders payable to companies house forms need to be printed at full size on white size paper application by an unlimited company for re registration as private limited company pdf kb pages»\n",
      "\n",
      "SECOND (111323, 0.7516016960144043): «re register public company as private unlimited company rr use this form as an application by public company for re registration as private unlimited company you can use this form as an application by public company for re registration as private unlimited company if you have prescribed form of assent authenticated by or on behalf of all the members of the company printed copy of the company articles as proposed to be amended fee of is payable to companies house in respect of an application to re register make cheques and postal orders payable to companies house forms need to be printed at full size on white sized paper rr application by public company for re registration as private unlimited company pdf kb pages rr signature section continuation page pdf kb page»\n",
      "\n"
     ]
    }
   ],
   "source": [
    "# Pick a random document from the test corpus and infer a vector from the model\n",
    "doc_id = random.randint(0, len(test_corpus) - 1)\n",
    "inferred_vector = model.infer_vector(test_corpus[doc_id])\n",
    "sims = model.docvecs.most_similar([inferred_vector], topn=len(model.docvecs))\n",
    "\n",
    "# Compare and print the most/median/least similar documents from the train corpus\n",
    "print('Test Document ({}): «{}»\\n'.format(doc_id, ' '.join(test_corpus[doc_id])))\n",
    "print(u'SIMILAR/DISSIMILAR DOCS PER MODEL %s:\\n' % model)\n",
    "for label, index in [('MOST', 0), ('SECOND', 1)]:\n",
    "    print(u'%s %s: «%s»\\n' % (label, sims[index], ' '.join(train_corpus[sims[index][0]].words)))"
   ]
  },
  {
   "cell_type": "code",
   "execution_count": 18,
   "metadata": {},
   "outputs": [
    {
     "name": "stdout",
     "output_type": "stream",
     "text": [
      "Test Document (1377): «mr moore andrew richardson andrew richardson transport employment tribunal decision of judge burton on april read the full decision in mr moore andrew richardson andrew richardson transport»\n",
      "\n",
      "SIMILAR/DISSIMILAR DOCS PER MODEL Doc2Vec(dm/m,d300,n5,w5,mc10,s0.001,t3):\n",
      "\n",
      "MOST (137170, 0.8314886093139648): «mr malinowski higgins transport ltd employment tribunal decision read the full decision in mr malinowski higgins transport ltd full»\n",
      "\n",
      "SECOND (47132, 0.7978464961051941): «aa london borough of haringey ukut aac upper tribunal administrative appeals chamber decision by judge levenson on june read the full decision in hs judicial summary transport»\n",
      "\n"
     ]
    }
   ],
   "source": [
    "doc_id = random.randint(0, len(test_corpus) - 1)\n",
    "inferred_vector = model.infer_vector(test_corpus[doc_id])\n",
    "sims = model.docvecs.most_similar([inferred_vector], topn=10)\n",
    "\n",
    "# Compare and print the most/median/least similar documents from the train corpus\n",
    "print('Test Document ({}): «{}»\\n'.format(doc_id, ' '.join(test_corpus[doc_id])))\n",
    "print(u'SIMILAR/DISSIMILAR DOCS PER MODEL %s:\\n' % model)\n",
    "for label, index in [('MOST', 0), ('SECOND', 1)]:\n",
    "    print(u'%s %s: «%s»\\n' % (label, sims[index], ' '.join(train_corpus[sims[index][0]].words)))"
   ]
  },
  {
   "cell_type": "code",
   "execution_count": 33,
   "metadata": {},
   "outputs": [
    {
     "data": {
      "text/plain": [
       "1377"
      ]
     },
     "execution_count": 33,
     "metadata": {},
     "output_type": "execute_result"
    }
   ],
   "source": [
    "doc_id\n"
   ]
  },
  {
   "cell_type": "markdown",
   "metadata": {},
   "source": [
    "### train on everything"
   ]
  },
  {
   "cell_type": "code",
   "execution_count": 19,
   "metadata": {},
   "outputs": [],
   "source": [
    "entire_corpus = list(tag_corpus(clean_content))"
   ]
  },
  {
   "cell_type": "code",
   "execution_count": 20,
   "metadata": {},
   "outputs": [
    {
     "name": "stdout",
     "output_type": "stream",
     "text": [
      "train length = 229796\n"
     ]
    }
   ],
   "source": [
    "print('train length = {}'.format(len(entire_corpus)))"
   ]
  },
  {
   "cell_type": "code",
   "execution_count": 21,
   "metadata": {},
   "outputs": [],
   "source": [
    "model_full = gensim.models.doc2vec.Doc2Vec(vector_size=512, min_count=10, epochs=20)"
   ]
  },
  {
   "cell_type": "code",
   "execution_count": 22,
   "metadata": {},
   "outputs": [],
   "source": [
    "model_full.build_vocab(entire_corpus)"
   ]
  },
  {
   "cell_type": "code",
   "execution_count": 23,
   "metadata": {},
   "outputs": [
    {
     "name": "stdout",
     "output_type": "stream",
     "text": [
      "CPU times: user 1h 13min 15s, sys: 59.5 s, total: 1h 14min 14s\n",
      "Wall time: 26min 58s\n"
     ]
    }
   ],
   "source": [
    "%time model_full.train(entire_corpus, total_examples=model_full.corpus_count, epochs=model_full.epochs)"
   ]
  },
  {
   "cell_type": "code",
   "execution_count": 24,
   "metadata": {},
   "outputs": [
    {
     "data": {
      "application/vnd.jupyter.widget-view+json": {
       "model_id": "0b8b10af0e3740cab5971d230a9762f4",
       "version_major": 2,
       "version_minor": 0
      },
      "text/plain": [
       "HBox(children=(IntProgress(value=0, max=1000), HTML(value='')))"
      ]
     },
     "metadata": {},
     "output_type": "display_data"
    },
    {
     "name": "stdout",
     "output_type": "stream",
     "text": [
      "\n",
      "The percentage of 1000 training samples which found itself nearest = 90.10000000000001\n"
     ]
    },
    {
     "data": {
      "text/plain": [
       "90.10000000000001"
      ]
     },
     "execution_count": 24,
     "metadata": {},
     "output_type": "execute_result"
    }
   ],
   "source": [
    "evaluate_model(entire_corpus, model_full)"
   ]
  },
  {
   "cell_type": "code",
   "execution_count": 29,
   "metadata": {},
   "outputs": [
    {
     "data": {
      "text/plain": [
       "229796"
      ]
     },
     "execution_count": 29,
     "metadata": {},
     "output_type": "execute_result"
    }
   ],
   "source": [
    "len(model_full.docvecs)"
   ]
  },
  {
   "cell_type": "code",
   "execution_count": 37,
   "metadata": {},
   "outputs": [],
   "source": [
    "cos_sims = model_full.docvecs.most_similar(43300, topn=len(model_full.docvecs))\n"
   ]
  },
  {
   "cell_type": "code",
   "execution_count": 48,
   "metadata": {},
   "outputs": [
    {
     "data": {
      "text/plain": [
       "[(190814, 0.48058053851127625),\n",
       " (20805, 0.4803950786590576),\n",
       " (189785, 0.4770107865333557),\n",
       " (36838, 0.4495948851108551),\n",
       " (75127, 0.44929322600364685),\n",
       " (13921, 0.4489574730396271),\n",
       " (56909, 0.4386683702468872),\n",
       " (159593, 0.43493837118148804),\n",
       " (108195, 0.43441107869148254),\n",
       " (43435, 0.43156003952026367),\n",
       " (93623, 0.4309147894382477),\n",
       " (215078, 0.4253076910972595),\n",
       " (38654, 0.42307108640670776),\n",
       " (66787, 0.4158709943294525),\n",
       " (73335, 0.4151466488838196),\n",
       " (160178, 0.4100797474384308),\n",
       " (55447, 0.40952494740486145),\n",
       " (100133, 0.40927305817604065),\n",
       " (83182, 0.4069506525993347),\n",
       " (20797, 0.40627408027648926)]"
      ]
     },
     "execution_count": 48,
     "metadata": {},
     "output_type": "execute_result"
    }
   ],
   "source": [
    "model_full.docvecs.most_similar(43300, topn=20)\n"
   ]
  },
  {
   "cell_type": "code",
   "execution_count": 42,
   "metadata": {},
   "outputs": [
    {
     "data": {
      "text/plain": [
       "'government consults with civil society groups on un peacekeeping baroness anelay and general gordon messenger hosted an event to discuss key themes for the upcoming uk led peacekeeping defence ministerial on 7 8 september 2016 the uk will host the london peacekeeping defence ministerial to bring together defence ministers from across the world to discuss the need for meaningful improvements on how we participate in and effectively contribute to un peacekeeping operations. as part of the preparations for september ministerial meeting baroness anelay and vice chief of the defence staff general gordon messenger hosted a number of representatives from civil society at the foreign and commonwealth office on 18 july. these included the charities ngos academics and partners who work alongside peacekeepers across the world. the event enabled these groups to share their knowledge and expertise on reforming and improving un peacekeeping in particular their views on women and peacekeeping. speaking after the event baroness anelay said: i was delighted to speak with civil society colleagues about the role of peacekeeping. the uk places great importance on un peace operations and is committed to ensuring global stability. this event has given us the opportunity to hear views and recommendations ahead of the ministerial in september. these views are key to shaping and informing the upcoming conference to ensure that reforms result in better peacekeeping and a more peaceful world. general messenger speaking after the event said: i was thrilled to meet so many charities and ngos today to discuss how we can make un peacekeeping more effective. the uk is taking a leading role in bringing peacekeeping to the top of the international agenda. i look forward to continuing to work with civil society as we gear up for the un peacekeeping defence ministerial in london this september and beyond. i would like to thank these groups for their energy commitment and passion. further information follow foreign office minister baroness anelay on twitter @joyceanelay follow the foreign office on twitter @foreignoffice follow the foreign office on facebook and google+ media enquiries for journalists email newsdesk@fco.gov.uk newsdesk 020 7008 3100'"
      ]
     },
     "execution_count": 42,
     "metadata": {},
     "output_type": "execute_result"
    }
   ],
   "source": [
    "clean_content['combined_text'].iloc[43300]"
   ]
  },
  {
   "cell_type": "code",
   "execution_count": 43,
   "metadata": {},
   "outputs": [
    {
     "name": "stdout",
     "output_type": "stream",
     "text": [
      "SIMILAR/DISSIMILAR DOCS PER MODEL Doc2Vec(dm/m,d512,n5,w5,mc10,s0.001,t3):\n",
      "\n",
      "MOST (190814, 0.48058053851127625): «un peacekeeping defence ministerial london concept secretary of state for defence michael fallon will host un peacekeeping defence ministerial in london on september on september the un secretary general ban ki moon and us president barack obama joined nearly heads of states and representatives from around the world to make an unprecedented commitment to un peacekeeping at time when un peacekeepers are being called on to do even more nations and international organisations pledged an extra troops along with training equipment police contingents engineers intelligence units and helicopters one year on the uk together with the united nations is hosting follow up event at lancaster house in london to accelerate these global efforts bringing together defence ministers from countries those collectively responsible for the resources promised to the un the event purpose is threefold to improve the planning of peacekeeping operations so the un can better match requirements to capabilities to implement the pledges made back in september to guarantee the un can continue to field its force in the future to up the performance of peacekeepers so un forces are better led and better trained better balanced with more women participating and more capable of protecting civilians on the ground including by implementing the women peace and security agenda and preventing incidents of sexual exploitation and abuse together these three provide blueprint for better peacekeeping in the st century and better peacekeeping means fewer lives destroyed by conflict fewer areas of conflict for extremists to exploit and greater security for all for more information about un peacekeeping defence ministerial london visit the gov uk topical page here»\n",
      "\n",
      "SECOND (20805, 0.4803950786590576): «baroness anelay to address un on britain commitment to human rights minister for human rights will address un member states urging consolidation of progress on human rights implementation of un obligations and better prevention of violations and abuses baroness anelay will visit the united nations in new york from july where she will attend meetings to discuss human rights sexual violence in conflict and peacekeeping reform on human rights baroness anelay will attend ministerial debate at which she will urge governments around the world to uphold their human rights obligations and do more to prevent human rights violations and abuses during her visit in advance of the un peacekeeping defence ministerial in september the minister will also discuss peacekeeping reform including ending sexual exploitation and abuse the minister will meet with other member states to build support behind her campaign to end stigma of survivors of sexual violence in conflict speaking ahead of the visit baroness anelay said the uk is at the forefront of international efforts to promote human rights improve peacekeeping promote women participation in peace processes and end sexual violence in conflict but this is collective responsibility and cannot be achieved by one country alone am pleased to be going to new york to discuss with our global partners how we can work together to deliver these shared goals further information follow foreign office minister baroness anelay on twitter joyceanelay follow the foreign office on twitter foreignoffice follow the foreign office on facebook and google media enquiries for journalists email newsdesk fco gov uk newsdesk»\n",
      "\n"
     ]
    }
   ],
   "source": [
    "# Compare and print the most/median/least similar documents from the train corpus\n",
    "# print('Test Document ({}): «{}»\\n'.format('0', ' '.join(entire_corpus[0])))\n",
    "print(u'SIMILAR/DISSIMILAR DOCS PER MODEL %s:\\n' % model_full)\n",
    "for label, index in [('MOST', 0), ('SECOND', 1)]:\n",
    "    print(u'%s %s: «%s»\\n' % (label, cos_sims[index], ' '.join(entire_corpus[cos_sims[index][0]].words)))"
   ]
  },
  {
   "cell_type": "code",
   "execution_count": 46,
   "metadata": {},
   "outputs": [
    {
     "data": {
      "text/plain": [
       "229796"
      ]
     },
     "execution_count": 46,
     "metadata": {},
     "output_type": "execute_result"
    }
   ],
   "source": [
    "len(entire_corpus)"
   ]
  },
  {
   "cell_type": "markdown",
   "metadata": {},
   "source": [
    "### generate a sample of urls to be spot checked"
   ]
  },
  {
   "cell_type": "code",
   "execution_count": 52,
   "metadata": {},
   "outputs": [],
   "source": [
    "idx = np.random.randint(clean_content.shape[0], size=100)"
   ]
  },
  {
   "cell_type": "code",
   "execution_count": 53,
   "metadata": {},
   "outputs": [],
   "source": [
    "clean_content['url'] = 'www.gov.uk'+clean_content['base_path']"
   ]
  },
  {
   "cell_type": "code",
   "execution_count": 57,
   "metadata": {},
   "outputs": [],
   "source": [
    "corpus_sample = [entire_corpus[i] for i in idx]"
   ]
  },
  {
   "cell_type": "code",
   "execution_count": 58,
   "metadata": {},
   "outputs": [
    {
     "data": {
      "text/plain": [
       "100"
      ]
     },
     "execution_count": 58,
     "metadata": {},
     "output_type": "execute_result"
    }
   ],
   "source": [
    "len(corpus_sample)"
   ]
  },
  {
   "cell_type": "code",
   "execution_count": 63,
   "metadata": {},
   "outputs": [
    {
     "data": {
      "text/plain": [
       "array([200158, 171112,  91391, 120631, 160635,  98358, 211862, 119266,\n",
       "        75577, 103161, 183490,  52648,  72840, 219931,  16987, 151120,\n",
       "        65620,  66882,  29941, 220769, 176329, 221844,    208, 183661,\n",
       "         9076,  17928, 182272, 147179,  72287,  85745,  23314, 201222,\n",
       "       145511,  27392,  40452, 138040, 195658,  22899, 213102, 203744,\n",
       "       223830,  56927, 223168, 170676, 223360,  80469,   7528,  67802,\n",
       "       125788,  46392, 217078, 113639,  56817, 134838,  79277,  69504,\n",
       "        64179, 143912, 226163, 159255, 117819, 211365, 195426,  38427,\n",
       "        25841, 142574, 215119, 152370, 153594,    342, 183041, 125326,\n",
       "       205413, 152405, 101919,   8326, 131381, 100910, 215537,  58849,\n",
       "       101667, 114473,  43223, 124625, 205846,  25111, 194058, 153438,\n",
       "        87506,   3178,  60420,  64860,  37130, 160075, 167428, 212077,\n",
       "        54817, 182203, 134238, 165623])"
      ]
     },
     "execution_count": 63,
     "metadata": {},
     "output_type": "execute_result"
    }
   ],
   "source": [
    "idx"
   ]
  },
  {
   "cell_type": "code",
   "execution_count": 55,
   "metadata": {},
   "outputs": [],
   "source": [
    "clean_content_sample = clean_content[clean_content.index.isin(idx)].copy()"
   ]
  },
  {
   "cell_type": "code",
   "execution_count": 62,
   "metadata": {},
   "outputs": [
    {
     "data": {
      "text/plain": [
       "190814"
      ]
     },
     "execution_count": 62,
     "metadata": {},
     "output_type": "execute_result"
    }
   ],
   "source": [
    "cos_sims[0][0]"
   ]
  },
  {
   "cell_type": "code",
   "execution_count": 103,
   "metadata": {},
   "outputs": [],
   "source": [
    "urls = pd.DataFrame(columns=['source_url', 'suggested_links', 'cosine_sims'])\n",
    "\n",
    "for i, tag_doc in enumerate(corpus_sample):\n",
    "    cos_sims = model_full.docvecs.most_similar(i, topn=20)\n",
    "    suggested_links_idx = [cos_sims[j][0] for j in range(20)]\n",
    "    suggested_links_cos = pd.Series([cos_sims[k][1] for k in range(20)])\n",
    "    target_urls = pd.Series(clean_content.url[clean_content.index.isin(suggested_links_idx)].copy())\n",
    "    \n",
    "    i_urls = pd.concat([target_urls, suggested_links_cos], axis=1, ignore_index=True)\n",
    "    i_urls['source_url'] = clean_content_sample['url'].iloc[i]\n",
    "    \n",
    "    urls = urls.append(i_urls, ignore_index=True)\n",
    "    "
   ]
  },
  {
   "cell_type": "code",
   "execution_count": 96,
   "metadata": {},
   "outputs": [
    {
     "data": {
      "text/html": [
       "<div>\n",
       "<style scoped>\n",
       "    .dataframe tbody tr th:only-of-type {\n",
       "        vertical-align: middle;\n",
       "    }\n",
       "\n",
       "    .dataframe tbody tr th {\n",
       "        vertical-align: top;\n",
       "    }\n",
       "\n",
       "    .dataframe thead th {\n",
       "        text-align: right;\n",
       "    }\n",
       "</style>\n",
       "<table border=\"1\" class=\"dataframe\">\n",
       "  <thead>\n",
       "    <tr style=\"text-align: right;\">\n",
       "      <th></th>\n",
       "      <th>0</th>\n",
       "      <th>1</th>\n",
       "      <th>2</th>\n",
       "    </tr>\n",
       "  </thead>\n",
       "  <tbody>\n",
       "    <tr>\n",
       "      <th>0</th>\n",
       "      <td>4151</td>\n",
       "      <td>www.gov.uk/government/publications/statement-o...</td>\n",
       "      <td>0.653544</td>\n",
       "    </tr>\n",
       "    <tr>\n",
       "      <th>1</th>\n",
       "      <td>21815</td>\n",
       "      <td>www.gov.uk/government/publications/statement-o...</td>\n",
       "      <td>0.652838</td>\n",
       "    </tr>\n",
       "    <tr>\n",
       "      <th>2</th>\n",
       "      <td>40706</td>\n",
       "      <td>www.gov.uk/government/publications/smi-tp-19-i...</td>\n",
       "      <td>0.651748</td>\n",
       "    </tr>\n",
       "    <tr>\n",
       "      <th>3</th>\n",
       "      <td>52724</td>\n",
       "      <td>www.gov.uk/government/publications/yo25-8ej-fa...</td>\n",
       "      <td>0.651649</td>\n",
       "    </tr>\n",
       "    <tr>\n",
       "      <th>4</th>\n",
       "      <td>136600</td>\n",
       "      <td>www.gov.uk/government/collections/orphan-works...</td>\n",
       "      <td>0.651217</td>\n",
       "    </tr>\n",
       "    <tr>\n",
       "      <th>5</th>\n",
       "      <td>151077</td>\n",
       "      <td>www.gov.uk/government/publications/enhanced-de...</td>\n",
       "      <td>0.650575</td>\n",
       "    </tr>\n",
       "    <tr>\n",
       "      <th>6</th>\n",
       "      <td>156469</td>\n",
       "      <td>www.gov.uk/government/publications/sabto-repor...</td>\n",
       "      <td>0.649828</td>\n",
       "    </tr>\n",
       "    <tr>\n",
       "      <th>7</th>\n",
       "      <td>164488</td>\n",
       "      <td>www.gov.uk/government/publications/the-use-of-...</td>\n",
       "      <td>0.649196</td>\n",
       "    </tr>\n",
       "    <tr>\n",
       "      <th>8</th>\n",
       "      <td>164923</td>\n",
       "      <td>www.gov.uk/government/publications/ta11-6ew-ri...</td>\n",
       "      <td>0.648501</td>\n",
       "    </tr>\n",
       "    <tr>\n",
       "      <th>9</th>\n",
       "      <td>172105</td>\n",
       "      <td>www.gov.uk/government/publications/statement-o...</td>\n",
       "      <td>0.647681</td>\n",
       "    </tr>\n",
       "    <tr>\n",
       "      <th>10</th>\n",
       "      <td>175615</td>\n",
       "      <td>www.gov.uk/government/publications/statement-o...</td>\n",
       "      <td>0.646889</td>\n",
       "    </tr>\n",
       "    <tr>\n",
       "      <th>11</th>\n",
       "      <td>175810</td>\n",
       "      <td>www.gov.uk/government/publications/statement-o...</td>\n",
       "      <td>0.646607</td>\n",
       "    </tr>\n",
       "    <tr>\n",
       "      <th>12</th>\n",
       "      <td>182601</td>\n",
       "      <td>www.gov.uk/government/publications/adi-check-t...</td>\n",
       "      <td>0.645972</td>\n",
       "    </tr>\n",
       "    <tr>\n",
       "      <th>13</th>\n",
       "      <td>186923</td>\n",
       "      <td>www.gov.uk/government/publications/statement-o...</td>\n",
       "      <td>0.645938</td>\n",
       "    </tr>\n",
       "    <tr>\n",
       "      <th>14</th>\n",
       "      <td>191491</td>\n",
       "      <td>www.gov.uk/government/publications/molecular-c...</td>\n",
       "      <td>0.645645</td>\n",
       "    </tr>\n",
       "    <tr>\n",
       "      <th>15</th>\n",
       "      <td>198909</td>\n",
       "      <td>www.gov.uk/government/publications/hmt-spend-g...</td>\n",
       "      <td>0.644919</td>\n",
       "    </tr>\n",
       "    <tr>\n",
       "      <th>16</th>\n",
       "      <td>203300</td>\n",
       "      <td>www.gov.uk/government/publications/statement-o...</td>\n",
       "      <td>0.644814</td>\n",
       "    </tr>\n",
       "    <tr>\n",
       "      <th>17</th>\n",
       "      <td>213100</td>\n",
       "      <td>www.gov.uk/government/publications/smi-tp-30-p...</td>\n",
       "      <td>0.644067</td>\n",
       "    </tr>\n",
       "    <tr>\n",
       "      <th>18</th>\n",
       "      <td>226140</td>\n",
       "      <td>www.gov.uk/government/publications/statement-o...</td>\n",
       "      <td>0.641191</td>\n",
       "    </tr>\n",
       "    <tr>\n",
       "      <th>19</th>\n",
       "      <td>226764</td>\n",
       "      <td>www.gov.uk/government/publications/sy5-8hb-vin...</td>\n",
       "      <td>0.640928</td>\n",
       "    </tr>\n",
       "  </tbody>\n",
       "</table>\n",
       "</div>"
      ],
      "text/plain": [
       "         0                                                  1         2\n",
       "0     4151  www.gov.uk/government/publications/statement-o...  0.653544\n",
       "1    21815  www.gov.uk/government/publications/statement-o...  0.652838\n",
       "2    40706  www.gov.uk/government/publications/smi-tp-19-i...  0.651748\n",
       "3    52724  www.gov.uk/government/publications/yo25-8ej-fa...  0.651649\n",
       "4   136600  www.gov.uk/government/collections/orphan-works...  0.651217\n",
       "5   151077  www.gov.uk/government/publications/enhanced-de...  0.650575\n",
       "6   156469  www.gov.uk/government/publications/sabto-repor...  0.649828\n",
       "7   164488  www.gov.uk/government/publications/the-use-of-...  0.649196\n",
       "8   164923  www.gov.uk/government/publications/ta11-6ew-ri...  0.648501\n",
       "9   172105  www.gov.uk/government/publications/statement-o...  0.647681\n",
       "10  175615  www.gov.uk/government/publications/statement-o...  0.646889\n",
       "11  175810  www.gov.uk/government/publications/statement-o...  0.646607\n",
       "12  182601  www.gov.uk/government/publications/adi-check-t...  0.645972\n",
       "13  186923  www.gov.uk/government/publications/statement-o...  0.645938\n",
       "14  191491  www.gov.uk/government/publications/molecular-c...  0.645645\n",
       "15  198909  www.gov.uk/government/publications/hmt-spend-g...  0.644919\n",
       "16  203300  www.gov.uk/government/publications/statement-o...  0.644814\n",
       "17  213100  www.gov.uk/government/publications/smi-tp-30-p...  0.644067\n",
       "18  226140  www.gov.uk/government/publications/statement-o...  0.641191\n",
       "19  226764  www.gov.uk/government/publications/sy5-8hb-vin...  0.640928"
      ]
     },
     "execution_count": 96,
     "metadata": {},
     "output_type": "execute_result"
    }
   ],
   "source": [
    "pd.concat([target_urls, suggested_links_cos], axis=1, ignore_index=True)"
   ]
  },
  {
   "cell_type": "code",
   "execution_count": 91,
   "metadata": {},
   "outputs": [
    {
     "data": {
      "text/html": [
       "<div>\n",
       "<style scoped>\n",
       "    .dataframe tbody tr th:only-of-type {\n",
       "        vertical-align: middle;\n",
       "    }\n",
       "\n",
       "    .dataframe tbody tr th {\n",
       "        vertical-align: top;\n",
       "    }\n",
       "\n",
       "    .dataframe thead th {\n",
       "        text-align: right;\n",
       "    }\n",
       "</style>\n",
       "<table border=\"1\" class=\"dataframe\">\n",
       "  <thead>\n",
       "    <tr style=\"text-align: right;\">\n",
       "      <th></th>\n",
       "      <th>source_url</th>\n",
       "      <th>suggested_links</th>\n",
       "      <th>cosine_sims</th>\n",
       "    </tr>\n",
       "  </thead>\n",
       "  <tbody>\n",
       "    <tr>\n",
       "      <th>0</th>\n",
       "      <td>www.gov.uk/government/news/uk-assumes-chairman...</td>\n",
       "      <td>NaN</td>\n",
       "      <td>0.653544</td>\n",
       "    </tr>\n",
       "    <tr>\n",
       "      <th>1</th>\n",
       "      <td>www.gov.uk/government/news/uk-assumes-chairman...</td>\n",
       "      <td>NaN</td>\n",
       "      <td>0.652838</td>\n",
       "    </tr>\n",
       "    <tr>\n",
       "      <th>2</th>\n",
       "      <td>www.gov.uk/government/news/uk-assumes-chairman...</td>\n",
       "      <td>NaN</td>\n",
       "      <td>0.651748</td>\n",
       "    </tr>\n",
       "    <tr>\n",
       "      <th>3</th>\n",
       "      <td>www.gov.uk/government/news/uk-assumes-chairman...</td>\n",
       "      <td>NaN</td>\n",
       "      <td>0.651649</td>\n",
       "    </tr>\n",
       "    <tr>\n",
       "      <th>4</th>\n",
       "      <td>www.gov.uk/government/news/uk-assumes-chairman...</td>\n",
       "      <td>NaN</td>\n",
       "      <td>0.651217</td>\n",
       "    </tr>\n",
       "    <tr>\n",
       "      <th>5</th>\n",
       "      <td>www.gov.uk/government/news/uk-assumes-chairman...</td>\n",
       "      <td>NaN</td>\n",
       "      <td>0.650575</td>\n",
       "    </tr>\n",
       "    <tr>\n",
       "      <th>6</th>\n",
       "      <td>www.gov.uk/government/news/uk-assumes-chairman...</td>\n",
       "      <td>NaN</td>\n",
       "      <td>0.649828</td>\n",
       "    </tr>\n",
       "    <tr>\n",
       "      <th>7</th>\n",
       "      <td>www.gov.uk/government/news/uk-assumes-chairman...</td>\n",
       "      <td>NaN</td>\n",
       "      <td>0.649196</td>\n",
       "    </tr>\n",
       "    <tr>\n",
       "      <th>8</th>\n",
       "      <td>www.gov.uk/government/news/uk-assumes-chairman...</td>\n",
       "      <td>NaN</td>\n",
       "      <td>0.648501</td>\n",
       "    </tr>\n",
       "    <tr>\n",
       "      <th>9</th>\n",
       "      <td>www.gov.uk/government/news/uk-assumes-chairman...</td>\n",
       "      <td>NaN</td>\n",
       "      <td>0.647681</td>\n",
       "    </tr>\n",
       "    <tr>\n",
       "      <th>10</th>\n",
       "      <td>www.gov.uk/government/news/uk-assumes-chairman...</td>\n",
       "      <td>NaN</td>\n",
       "      <td>0.646889</td>\n",
       "    </tr>\n",
       "    <tr>\n",
       "      <th>11</th>\n",
       "      <td>www.gov.uk/government/news/uk-assumes-chairman...</td>\n",
       "      <td>NaN</td>\n",
       "      <td>0.646607</td>\n",
       "    </tr>\n",
       "    <tr>\n",
       "      <th>12</th>\n",
       "      <td>www.gov.uk/government/news/uk-assumes-chairman...</td>\n",
       "      <td>NaN</td>\n",
       "      <td>0.645972</td>\n",
       "    </tr>\n",
       "    <tr>\n",
       "      <th>13</th>\n",
       "      <td>www.gov.uk/government/news/uk-assumes-chairman...</td>\n",
       "      <td>NaN</td>\n",
       "      <td>0.645938</td>\n",
       "    </tr>\n",
       "    <tr>\n",
       "      <th>14</th>\n",
       "      <td>www.gov.uk/government/news/uk-assumes-chairman...</td>\n",
       "      <td>NaN</td>\n",
       "      <td>0.645645</td>\n",
       "    </tr>\n",
       "    <tr>\n",
       "      <th>15</th>\n",
       "      <td>www.gov.uk/government/news/uk-assumes-chairman...</td>\n",
       "      <td>NaN</td>\n",
       "      <td>0.644919</td>\n",
       "    </tr>\n",
       "    <tr>\n",
       "      <th>16</th>\n",
       "      <td>www.gov.uk/government/news/uk-assumes-chairman...</td>\n",
       "      <td>NaN</td>\n",
       "      <td>0.644814</td>\n",
       "    </tr>\n",
       "    <tr>\n",
       "      <th>17</th>\n",
       "      <td>www.gov.uk/government/news/uk-assumes-chairman...</td>\n",
       "      <td>NaN</td>\n",
       "      <td>0.644067</td>\n",
       "    </tr>\n",
       "    <tr>\n",
       "      <th>18</th>\n",
       "      <td>www.gov.uk/government/news/uk-assumes-chairman...</td>\n",
       "      <td>NaN</td>\n",
       "      <td>0.641191</td>\n",
       "    </tr>\n",
       "    <tr>\n",
       "      <th>19</th>\n",
       "      <td>www.gov.uk/government/news/uk-assumes-chairman...</td>\n",
       "      <td>NaN</td>\n",
       "      <td>0.640928</td>\n",
       "    </tr>\n",
       "    <tr>\n",
       "      <th>20</th>\n",
       "      <td>www.gov.uk/government/news/uk-assumes-chairman...</td>\n",
       "      <td>www.gov.uk/government/publications/statement-o...</td>\n",
       "      <td>NaN</td>\n",
       "    </tr>\n",
       "    <tr>\n",
       "      <th>21</th>\n",
       "      <td>www.gov.uk/government/news/uk-assumes-chairman...</td>\n",
       "      <td>www.gov.uk/government/publications/statement-o...</td>\n",
       "      <td>NaN</td>\n",
       "    </tr>\n",
       "    <tr>\n",
       "      <th>22</th>\n",
       "      <td>www.gov.uk/government/news/uk-assumes-chairman...</td>\n",
       "      <td>www.gov.uk/government/publications/smi-tp-19-i...</td>\n",
       "      <td>NaN</td>\n",
       "    </tr>\n",
       "    <tr>\n",
       "      <th>23</th>\n",
       "      <td>www.gov.uk/government/news/uk-assumes-chairman...</td>\n",
       "      <td>www.gov.uk/government/publications/yo25-8ej-fa...</td>\n",
       "      <td>NaN</td>\n",
       "    </tr>\n",
       "    <tr>\n",
       "      <th>24</th>\n",
       "      <td>www.gov.uk/government/news/uk-assumes-chairman...</td>\n",
       "      <td>www.gov.uk/government/collections/orphan-works...</td>\n",
       "      <td>NaN</td>\n",
       "    </tr>\n",
       "    <tr>\n",
       "      <th>25</th>\n",
       "      <td>www.gov.uk/government/news/uk-assumes-chairman...</td>\n",
       "      <td>www.gov.uk/government/publications/enhanced-de...</td>\n",
       "      <td>NaN</td>\n",
       "    </tr>\n",
       "    <tr>\n",
       "      <th>26</th>\n",
       "      <td>www.gov.uk/government/news/uk-assumes-chairman...</td>\n",
       "      <td>www.gov.uk/government/publications/sabto-repor...</td>\n",
       "      <td>NaN</td>\n",
       "    </tr>\n",
       "    <tr>\n",
       "      <th>27</th>\n",
       "      <td>www.gov.uk/government/news/uk-assumes-chairman...</td>\n",
       "      <td>www.gov.uk/government/publications/the-use-of-...</td>\n",
       "      <td>NaN</td>\n",
       "    </tr>\n",
       "    <tr>\n",
       "      <th>28</th>\n",
       "      <td>www.gov.uk/government/news/uk-assumes-chairman...</td>\n",
       "      <td>www.gov.uk/government/publications/ta11-6ew-ri...</td>\n",
       "      <td>NaN</td>\n",
       "    </tr>\n",
       "    <tr>\n",
       "      <th>29</th>\n",
       "      <td>www.gov.uk/government/news/uk-assumes-chairman...</td>\n",
       "      <td>www.gov.uk/government/publications/statement-o...</td>\n",
       "      <td>NaN</td>\n",
       "    </tr>\n",
       "    <tr>\n",
       "      <th>...</th>\n",
       "      <td>...</td>\n",
       "      <td>...</td>\n",
       "      <td>...</td>\n",
       "    </tr>\n",
       "    <tr>\n",
       "      <th>3970</th>\n",
       "      <td>www.gov.uk/aaib-reports/hawker-hurricane-iib-g...</td>\n",
       "      <td>NaN</td>\n",
       "      <td>0.542298</td>\n",
       "    </tr>\n",
       "    <tr>\n",
       "      <th>3971</th>\n",
       "      <td>www.gov.uk/aaib-reports/hawker-hurricane-iib-g...</td>\n",
       "      <td>NaN</td>\n",
       "      <td>0.537933</td>\n",
       "    </tr>\n",
       "    <tr>\n",
       "      <th>3972</th>\n",
       "      <td>www.gov.uk/aaib-reports/hawker-hurricane-iib-g...</td>\n",
       "      <td>NaN</td>\n",
       "      <td>0.535921</td>\n",
       "    </tr>\n",
       "    <tr>\n",
       "      <th>3973</th>\n",
       "      <td>www.gov.uk/aaib-reports/hawker-hurricane-iib-g...</td>\n",
       "      <td>NaN</td>\n",
       "      <td>0.535769</td>\n",
       "    </tr>\n",
       "    <tr>\n",
       "      <th>3974</th>\n",
       "      <td>www.gov.uk/aaib-reports/hawker-hurricane-iib-g...</td>\n",
       "      <td>NaN</td>\n",
       "      <td>0.532380</td>\n",
       "    </tr>\n",
       "    <tr>\n",
       "      <th>3975</th>\n",
       "      <td>www.gov.uk/aaib-reports/hawker-hurricane-iib-g...</td>\n",
       "      <td>NaN</td>\n",
       "      <td>0.530482</td>\n",
       "    </tr>\n",
       "    <tr>\n",
       "      <th>3976</th>\n",
       "      <td>www.gov.uk/aaib-reports/hawker-hurricane-iib-g...</td>\n",
       "      <td>NaN</td>\n",
       "      <td>0.525694</td>\n",
       "    </tr>\n",
       "    <tr>\n",
       "      <th>3977</th>\n",
       "      <td>www.gov.uk/aaib-reports/hawker-hurricane-iib-g...</td>\n",
       "      <td>NaN</td>\n",
       "      <td>0.524062</td>\n",
       "    </tr>\n",
       "    <tr>\n",
       "      <th>3978</th>\n",
       "      <td>www.gov.uk/aaib-reports/hawker-hurricane-iib-g...</td>\n",
       "      <td>NaN</td>\n",
       "      <td>0.515215</td>\n",
       "    </tr>\n",
       "    <tr>\n",
       "      <th>3979</th>\n",
       "      <td>www.gov.uk/aaib-reports/hawker-hurricane-iib-g...</td>\n",
       "      <td>NaN</td>\n",
       "      <td>0.507511</td>\n",
       "    </tr>\n",
       "    <tr>\n",
       "      <th>3980</th>\n",
       "      <td>www.gov.uk/aaib-reports/hawker-hurricane-iib-g...</td>\n",
       "      <td>www.gov.uk/government/publications/iran-tax-tr...</td>\n",
       "      <td>NaN</td>\n",
       "    </tr>\n",
       "    <tr>\n",
       "      <th>3981</th>\n",
       "      <td>www.gov.uk/aaib-reports/hawker-hurricane-iib-g...</td>\n",
       "      <td>www.gov.uk/government/publications/yemen-priso...</td>\n",
       "      <td>NaN</td>\n",
       "    </tr>\n",
       "    <tr>\n",
       "      <th>3982</th>\n",
       "      <td>www.gov.uk/aaib-reports/hawker-hurricane-iib-g...</td>\n",
       "      <td>www.gov.uk/government/news/pm-call-with-presid...</td>\n",
       "      <td>NaN</td>\n",
       "    </tr>\n",
       "    <tr>\n",
       "      <th>3983</th>\n",
       "      <td>www.gov.uk/aaib-reports/hawker-hurricane-iib-g...</td>\n",
       "      <td>www.gov.uk/government/publications/yemen-list-...</td>\n",
       "      <td>NaN</td>\n",
       "    </tr>\n",
       "    <tr>\n",
       "      <th>3984</th>\n",
       "      <td>www.gov.uk/aaib-reports/hawker-hurricane-iib-g...</td>\n",
       "      <td>www.gov.uk/government/news/foreign-secretary-m...</td>\n",
       "      <td>NaN</td>\n",
       "    </tr>\n",
       "    <tr>\n",
       "      <th>3985</th>\n",
       "      <td>www.gov.uk/aaib-reports/hawker-hurricane-iib-g...</td>\n",
       "      <td>www.gov.uk/government/news/foreign-office-mini...</td>\n",
       "      <td>NaN</td>\n",
       "    </tr>\n",
       "    <tr>\n",
       "      <th>3986</th>\n",
       "      <td>www.gov.uk/aaib-reports/hawker-hurricane-iib-g...</td>\n",
       "      <td>www.gov.uk/government/publications/iran-econom...</td>\n",
       "      <td>NaN</td>\n",
       "    </tr>\n",
       "    <tr>\n",
       "      <th>3987</th>\n",
       "      <td>www.gov.uk/aaib-reports/hawker-hurricane-iib-g...</td>\n",
       "      <td>www.gov.uk/government/publications/iran-list-o...</td>\n",
       "      <td>NaN</td>\n",
       "    </tr>\n",
       "    <tr>\n",
       "      <th>3988</th>\n",
       "      <td>www.gov.uk/aaib-reports/hawker-hurricane-iib-g...</td>\n",
       "      <td>www.gov.uk/government/publications/sudan-priso...</td>\n",
       "      <td>NaN</td>\n",
       "    </tr>\n",
       "    <tr>\n",
       "      <th>3989</th>\n",
       "      <td>www.gov.uk/aaib-reports/hawker-hurricane-iib-g...</td>\n",
       "      <td>www.gov.uk/government/news/foreign-secretary-s...</td>\n",
       "      <td>NaN</td>\n",
       "    </tr>\n",
       "    <tr>\n",
       "      <th>3990</th>\n",
       "      <td>www.gov.uk/aaib-reports/hawker-hurricane-iib-g...</td>\n",
       "      <td>www.gov.uk/government/publications/dfids-anti-...</td>\n",
       "      <td>NaN</td>\n",
       "    </tr>\n",
       "    <tr>\n",
       "      <th>3991</th>\n",
       "      <td>www.gov.uk/aaib-reports/hawker-hurricane-iib-g...</td>\n",
       "      <td>www.gov.uk/government/publications/anti-dumpin...</td>\n",
       "      <td>NaN</td>\n",
       "    </tr>\n",
       "    <tr>\n",
       "      <th>3992</th>\n",
       "      <td>www.gov.uk/aaib-reports/hawker-hurricane-iib-g...</td>\n",
       "      <td>www.gov.uk/government/publications/iran-list-o...</td>\n",
       "      <td>NaN</td>\n",
       "    </tr>\n",
       "    <tr>\n",
       "      <th>3993</th>\n",
       "      <td>www.gov.uk/aaib-reports/hawker-hurricane-iib-g...</td>\n",
       "      <td>www.gov.uk/government/publications/yemen-consu...</td>\n",
       "      <td>NaN</td>\n",
       "    </tr>\n",
       "    <tr>\n",
       "      <th>3994</th>\n",
       "      <td>www.gov.uk/aaib-reports/hawker-hurricane-iib-g...</td>\n",
       "      <td>www.gov.uk/government/publications/foi-release...</td>\n",
       "      <td>NaN</td>\n",
       "    </tr>\n",
       "    <tr>\n",
       "      <th>3995</th>\n",
       "      <td>www.gov.uk/aaib-reports/hawker-hurricane-iib-g...</td>\n",
       "      <td>www.gov.uk/government/publications/iran-consul...</td>\n",
       "      <td>NaN</td>\n",
       "    </tr>\n",
       "    <tr>\n",
       "      <th>3996</th>\n",
       "      <td>www.gov.uk/aaib-reports/hawker-hurricane-iib-g...</td>\n",
       "      <td>www.gov.uk/government/publications/iran-list-o...</td>\n",
       "      <td>NaN</td>\n",
       "    </tr>\n",
       "    <tr>\n",
       "      <th>3997</th>\n",
       "      <td>www.gov.uk/aaib-reports/hawker-hurricane-iib-g...</td>\n",
       "      <td>www.gov.uk/government/publications/iran-list-o...</td>\n",
       "      <td>NaN</td>\n",
       "    </tr>\n",
       "    <tr>\n",
       "      <th>3998</th>\n",
       "      <td>www.gov.uk/aaib-reports/hawker-hurricane-iib-g...</td>\n",
       "      <td>www.gov.uk/aaib-reports/cessna-152-g-iran-3-ju...</td>\n",
       "      <td>NaN</td>\n",
       "    </tr>\n",
       "    <tr>\n",
       "      <th>3999</th>\n",
       "      <td>www.gov.uk/aaib-reports/hawker-hurricane-iib-g...</td>\n",
       "      <td>www.gov.uk/government/publications/iran-prison...</td>\n",
       "      <td>NaN</td>\n",
       "    </tr>\n",
       "  </tbody>\n",
       "</table>\n",
       "<p>4000 rows × 3 columns</p>\n",
       "</div>"
      ],
      "text/plain": [
       "                                             source_url  \\\n",
       "0     www.gov.uk/government/news/uk-assumes-chairman...   \n",
       "1     www.gov.uk/government/news/uk-assumes-chairman...   \n",
       "2     www.gov.uk/government/news/uk-assumes-chairman...   \n",
       "3     www.gov.uk/government/news/uk-assumes-chairman...   \n",
       "4     www.gov.uk/government/news/uk-assumes-chairman...   \n",
       "5     www.gov.uk/government/news/uk-assumes-chairman...   \n",
       "6     www.gov.uk/government/news/uk-assumes-chairman...   \n",
       "7     www.gov.uk/government/news/uk-assumes-chairman...   \n",
       "8     www.gov.uk/government/news/uk-assumes-chairman...   \n",
       "9     www.gov.uk/government/news/uk-assumes-chairman...   \n",
       "10    www.gov.uk/government/news/uk-assumes-chairman...   \n",
       "11    www.gov.uk/government/news/uk-assumes-chairman...   \n",
       "12    www.gov.uk/government/news/uk-assumes-chairman...   \n",
       "13    www.gov.uk/government/news/uk-assumes-chairman...   \n",
       "14    www.gov.uk/government/news/uk-assumes-chairman...   \n",
       "15    www.gov.uk/government/news/uk-assumes-chairman...   \n",
       "16    www.gov.uk/government/news/uk-assumes-chairman...   \n",
       "17    www.gov.uk/government/news/uk-assumes-chairman...   \n",
       "18    www.gov.uk/government/news/uk-assumes-chairman...   \n",
       "19    www.gov.uk/government/news/uk-assumes-chairman...   \n",
       "20    www.gov.uk/government/news/uk-assumes-chairman...   \n",
       "21    www.gov.uk/government/news/uk-assumes-chairman...   \n",
       "22    www.gov.uk/government/news/uk-assumes-chairman...   \n",
       "23    www.gov.uk/government/news/uk-assumes-chairman...   \n",
       "24    www.gov.uk/government/news/uk-assumes-chairman...   \n",
       "25    www.gov.uk/government/news/uk-assumes-chairman...   \n",
       "26    www.gov.uk/government/news/uk-assumes-chairman...   \n",
       "27    www.gov.uk/government/news/uk-assumes-chairman...   \n",
       "28    www.gov.uk/government/news/uk-assumes-chairman...   \n",
       "29    www.gov.uk/government/news/uk-assumes-chairman...   \n",
       "...                                                 ...   \n",
       "3970  www.gov.uk/aaib-reports/hawker-hurricane-iib-g...   \n",
       "3971  www.gov.uk/aaib-reports/hawker-hurricane-iib-g...   \n",
       "3972  www.gov.uk/aaib-reports/hawker-hurricane-iib-g...   \n",
       "3973  www.gov.uk/aaib-reports/hawker-hurricane-iib-g...   \n",
       "3974  www.gov.uk/aaib-reports/hawker-hurricane-iib-g...   \n",
       "3975  www.gov.uk/aaib-reports/hawker-hurricane-iib-g...   \n",
       "3976  www.gov.uk/aaib-reports/hawker-hurricane-iib-g...   \n",
       "3977  www.gov.uk/aaib-reports/hawker-hurricane-iib-g...   \n",
       "3978  www.gov.uk/aaib-reports/hawker-hurricane-iib-g...   \n",
       "3979  www.gov.uk/aaib-reports/hawker-hurricane-iib-g...   \n",
       "3980  www.gov.uk/aaib-reports/hawker-hurricane-iib-g...   \n",
       "3981  www.gov.uk/aaib-reports/hawker-hurricane-iib-g...   \n",
       "3982  www.gov.uk/aaib-reports/hawker-hurricane-iib-g...   \n",
       "3983  www.gov.uk/aaib-reports/hawker-hurricane-iib-g...   \n",
       "3984  www.gov.uk/aaib-reports/hawker-hurricane-iib-g...   \n",
       "3985  www.gov.uk/aaib-reports/hawker-hurricane-iib-g...   \n",
       "3986  www.gov.uk/aaib-reports/hawker-hurricane-iib-g...   \n",
       "3987  www.gov.uk/aaib-reports/hawker-hurricane-iib-g...   \n",
       "3988  www.gov.uk/aaib-reports/hawker-hurricane-iib-g...   \n",
       "3989  www.gov.uk/aaib-reports/hawker-hurricane-iib-g...   \n",
       "3990  www.gov.uk/aaib-reports/hawker-hurricane-iib-g...   \n",
       "3991  www.gov.uk/aaib-reports/hawker-hurricane-iib-g...   \n",
       "3992  www.gov.uk/aaib-reports/hawker-hurricane-iib-g...   \n",
       "3993  www.gov.uk/aaib-reports/hawker-hurricane-iib-g...   \n",
       "3994  www.gov.uk/aaib-reports/hawker-hurricane-iib-g...   \n",
       "3995  www.gov.uk/aaib-reports/hawker-hurricane-iib-g...   \n",
       "3996  www.gov.uk/aaib-reports/hawker-hurricane-iib-g...   \n",
       "3997  www.gov.uk/aaib-reports/hawker-hurricane-iib-g...   \n",
       "3998  www.gov.uk/aaib-reports/hawker-hurricane-iib-g...   \n",
       "3999  www.gov.uk/aaib-reports/hawker-hurricane-iib-g...   \n",
       "\n",
       "                                        suggested_links  cosine_sims  \n",
       "0                                                   NaN     0.653544  \n",
       "1                                                   NaN     0.652838  \n",
       "2                                                   NaN     0.651748  \n",
       "3                                                   NaN     0.651649  \n",
       "4                                                   NaN     0.651217  \n",
       "5                                                   NaN     0.650575  \n",
       "6                                                   NaN     0.649828  \n",
       "7                                                   NaN     0.649196  \n",
       "8                                                   NaN     0.648501  \n",
       "9                                                   NaN     0.647681  \n",
       "10                                                  NaN     0.646889  \n",
       "11                                                  NaN     0.646607  \n",
       "12                                                  NaN     0.645972  \n",
       "13                                                  NaN     0.645938  \n",
       "14                                                  NaN     0.645645  \n",
       "15                                                  NaN     0.644919  \n",
       "16                                                  NaN     0.644814  \n",
       "17                                                  NaN     0.644067  \n",
       "18                                                  NaN     0.641191  \n",
       "19                                                  NaN     0.640928  \n",
       "20    www.gov.uk/government/publications/statement-o...          NaN  \n",
       "21    www.gov.uk/government/publications/statement-o...          NaN  \n",
       "22    www.gov.uk/government/publications/smi-tp-19-i...          NaN  \n",
       "23    www.gov.uk/government/publications/yo25-8ej-fa...          NaN  \n",
       "24    www.gov.uk/government/collections/orphan-works...          NaN  \n",
       "25    www.gov.uk/government/publications/enhanced-de...          NaN  \n",
       "26    www.gov.uk/government/publications/sabto-repor...          NaN  \n",
       "27    www.gov.uk/government/publications/the-use-of-...          NaN  \n",
       "28    www.gov.uk/government/publications/ta11-6ew-ri...          NaN  \n",
       "29    www.gov.uk/government/publications/statement-o...          NaN  \n",
       "...                                                 ...          ...  \n",
       "3970                                                NaN     0.542298  \n",
       "3971                                                NaN     0.537933  \n",
       "3972                                                NaN     0.535921  \n",
       "3973                                                NaN     0.535769  \n",
       "3974                                                NaN     0.532380  \n",
       "3975                                                NaN     0.530482  \n",
       "3976                                                NaN     0.525694  \n",
       "3977                                                NaN     0.524062  \n",
       "3978                                                NaN     0.515215  \n",
       "3979                                                NaN     0.507511  \n",
       "3980  www.gov.uk/government/publications/iran-tax-tr...          NaN  \n",
       "3981  www.gov.uk/government/publications/yemen-priso...          NaN  \n",
       "3982  www.gov.uk/government/news/pm-call-with-presid...          NaN  \n",
       "3983  www.gov.uk/government/publications/yemen-list-...          NaN  \n",
       "3984  www.gov.uk/government/news/foreign-secretary-m...          NaN  \n",
       "3985  www.gov.uk/government/news/foreign-office-mini...          NaN  \n",
       "3986  www.gov.uk/government/publications/iran-econom...          NaN  \n",
       "3987  www.gov.uk/government/publications/iran-list-o...          NaN  \n",
       "3988  www.gov.uk/government/publications/sudan-priso...          NaN  \n",
       "3989  www.gov.uk/government/news/foreign-secretary-s...          NaN  \n",
       "3990  www.gov.uk/government/publications/dfids-anti-...          NaN  \n",
       "3991  www.gov.uk/government/publications/anti-dumpin...          NaN  \n",
       "3992  www.gov.uk/government/publications/iran-list-o...          NaN  \n",
       "3993  www.gov.uk/government/publications/yemen-consu...          NaN  \n",
       "3994  www.gov.uk/government/publications/foi-release...          NaN  \n",
       "3995  www.gov.uk/government/publications/iran-consul...          NaN  \n",
       "3996  www.gov.uk/government/publications/iran-list-o...          NaN  \n",
       "3997  www.gov.uk/government/publications/iran-list-o...          NaN  \n",
       "3998  www.gov.uk/aaib-reports/cessna-152-g-iran-3-ju...          NaN  \n",
       "3999  www.gov.uk/government/publications/iran-prison...          NaN  \n",
       "\n",
       "[4000 rows x 3 columns]"
      ]
     },
     "execution_count": 91,
     "metadata": {},
     "output_type": "execute_result"
    }
   ],
   "source": [
    "urls"
   ]
  },
  {
   "cell_type": "markdown",
   "metadata": {},
   "source": [
    "### Saving model"
   ]
  },
  {
   "cell_type": "code",
   "execution_count": 25,
   "metadata": {},
   "outputs": [],
   "source": [
    "fname = get_tmpfile(os.path.join(\"/Volumes/GoogleDrive/Team Drives/GOV.UK teams/2018-2019/Q3/Knowledge up Q3/Data science/content_semantic_similarity/doc2vec_model\", \"doc2vec_model_2018-11-29.csv\"))\n",
    "model_full.save(fname)\n",
    "#model = Doc2Vec.load(fname)  # you can continue training with the loaded model!"
   ]
  },
  {
   "cell_type": "code",
   "execution_count": null,
   "metadata": {},
   "outputs": [],
   "source": []
  }
 ],
 "metadata": {
  "hide_input": false,
  "kernelspec": {
   "display_name": "Python 3",
   "language": "python",
   "name": "python3"
  },
  "language_info": {
   "codemirror_mode": {
    "name": "ipython",
    "version": 3
   },
   "file_extension": ".py",
   "mimetype": "text/x-python",
   "name": "python",
   "nbconvert_exporter": "python",
   "pygments_lexer": "ipython3",
   "version": "3.6.4"
  },
  "varInspector": {
   "cols": {
    "lenName": 16,
    "lenType": 16,
    "lenVar": 40
   },
   "kernels_config": {
    "python": {
     "delete_cmd_postfix": "",
     "delete_cmd_prefix": "del ",
     "library": "var_list.py",
     "varRefreshCmd": "print(var_dic_list())"
    },
    "r": {
     "delete_cmd_postfix": ") ",
     "delete_cmd_prefix": "rm(",
     "library": "var_list.r",
     "varRefreshCmd": "cat(var_dic_list()) "
    }
   },
   "types_to_exclude": [
    "module",
    "function",
    "builtin_function_or_method",
    "instance",
    "_Feature"
   ],
   "window_display": false
  }
 },
 "nbformat": 4,
 "nbformat_minor": 2
}
