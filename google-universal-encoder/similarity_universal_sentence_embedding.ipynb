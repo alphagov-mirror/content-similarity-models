{
 "cells": [
  {
   "cell_type": "code",
   "execution_count": 1,
   "metadata": {
    "colab": {},
    "colab_type": "code",
    "id": "r2A21W9EHF_p"
   },
   "outputs": [],
   "source": [
    "# import gensim\n",
    "import collections\n",
    "import random\n",
    "import tensorflow as tf\n",
    "import tensorflow_hub as hub\n",
    "from tensorflow.contrib.tensorboard.plugins import projector\n",
    "\n",
    "import matplotlib.pyplot as plt\n",
    "import numpy as np\n",
    "import os\n",
    "import pandas as pd\n",
    "import re\n",
    "import seaborn as sns\n",
    "from sklearn.model_selection import train_test_split\n",
    "import progressbar\n",
    "from tqdm import tnrange, tqdm_notebook\n",
    "import scipy\n",
    "from scipy.spatial.distance import cosine, pdist\n",
    "\n",
    "import altair as alt\n"
   ]
  },
  {
   "cell_type": "code",
   "execution_count": 2,
   "metadata": {
    "colab": {},
    "colab_type": "code",
    "id": "I3V8kKxAKJ9b"
   },
   "outputs": [],
   "source": [
    "module_url = \"https://tfhub.dev/google/universal-sentence-encoder/2\" #@param [\"https://tfhub.dev/google/universal-sentence-encoder/2\", \"https://tfhub.dev/google/universal-sentence-encoder-large/3\"]"
   ]
  },
  {
   "cell_type": "code",
   "execution_count": 3,
   "metadata": {},
   "outputs": [
    {
     "name": "stdout",
     "output_type": "stream",
     "text": [
      "mkdir: ../combined_text_full: File exists\r\n"
     ]
    }
   ],
   "source": [
    "!mkdir ../combined_text_full"
   ]
  },
  {
   "cell_type": "code",
   "execution_count": 4,
   "metadata": {
    "colab": {},
    "colab_type": "code",
    "id": "UH9j-D4BeU1q"
   },
   "outputs": [],
   "source": [
    "LOG_DIR = \"../combined_text_full\"\n",
    "path_for_metadata = os.path.join(LOG_DIR,'metadata.tsv')"
   ]
  },
  {
   "cell_type": "code",
   "execution_count": 5,
   "metadata": {
    "colab": {
     "base_uri": "https://localhost:8080/",
     "height": 34
    },
    "colab_type": "code",
    "id": "muHD6w9CHa1Q",
    "outputId": "b268b330-b683-4fb9-a85e-8a0ef9817ac8"
   },
   "outputs": [],
   "source": [
    "DATADIR = os.getenv(\"DATADIR\")"
   ]
  },
  {
   "cell_type": "code",
   "execution_count": 6,
   "metadata": {
    "colab": {},
    "colab_type": "code",
    "id": "GOZZ-trpszRZ"
   },
   "outputs": [],
   "source": [
    "labelled = pd.read_csv(os.path.join(DATADIR, 'labelled.csv.gz'), compression='gzip', low_memory=False)"
   ]
  },
  {
   "cell_type": "code",
   "execution_count": 7,
   "metadata": {
    "colab": {
     "base_uri": "https://localhost:8080/",
     "height": 34
    },
    "colab_type": "code",
    "id": "qggWJCvvqfD9",
    "outputId": "64637a19-b497-4d27-8499-5ea42b3e1ce0"
   },
   "outputs": [
    {
     "data": {
      "text/plain": [
       "dict"
      ]
     },
     "execution_count": 7,
     "metadata": {},
     "output_type": "execute_result"
    }
   ],
   "source": [
    "taxon_id_to_base_path = dict(zip(labelled['taxon_id'], labelled['taxon_base_path']))\n",
    "type(taxon_id_to_base_path)"
   ]
  },
  {
   "cell_type": "code",
   "execution_count": 8,
   "metadata": {
    "colab": {
     "base_uri": "https://localhost:8080/",
     "height": 34
    },
    "colab_type": "code",
    "id": "7eEvWttRt7bm",
    "outputId": "fc6ca374-6408-4512-d147-77f86dabc487"
   },
   "outputs": [
    {
     "data": {
      "text/plain": [
       "202551"
      ]
     },
     "execution_count": 8,
     "metadata": {},
     "output_type": "execute_result"
    }
   ],
   "source": [
    "labelled.content_id.nunique()"
   ]
  },
  {
   "cell_type": "code",
   "execution_count": 9,
   "metadata": {},
   "outputs": [],
   "source": [
    "labelled['brexit'] = np.where(labelled['level2taxon']=='Brexit', 1, 0)"
   ]
  },
  {
   "cell_type": "code",
   "execution_count": 10,
   "metadata": {},
   "outputs": [
    {
     "data": {
      "text/plain": [
       "0    298142\n",
       "1       918\n",
       "Name: brexit, dtype: int64"
      ]
     },
     "execution_count": 10,
     "metadata": {},
     "output_type": "execute_result"
    }
   ],
   "source": [
    "labelled.brexit.value_counts()"
   ]
  },
  {
   "cell_type": "code",
   "execution_count": 11,
   "metadata": {
    "colab": {},
    "colab_type": "code",
    "id": "5XyabI6MgVKe"
   },
   "outputs": [],
   "source": [
    "# corpus_sample = labelled.sample(n=20000, random_state=1234)\n",
    "corpus_sample = labelled.sample(n=2000, random_state=1234)\n",
    "corpus = labelled['combined_text'].tolist()"
   ]
  },
  {
   "cell_type": "code",
   "execution_count": 12,
   "metadata": {},
   "outputs": [
    {
     "data": {
      "text/html": [
       "<div>\n",
       "<style scoped>\n",
       "    .dataframe tbody tr th:only-of-type {\n",
       "        vertical-align: middle;\n",
       "    }\n",
       "\n",
       "    .dataframe tbody tr th {\n",
       "        vertical-align: top;\n",
       "    }\n",
       "\n",
       "    .dataframe thead th {\n",
       "        text-align: right;\n",
       "    }\n",
       "</style>\n",
       "<table border=\"1\" class=\"dataframe\">\n",
       "  <thead>\n",
       "    <tr style=\"text-align: right;\">\n",
       "      <th></th>\n",
       "      <th>base_path</th>\n",
       "      <th>content_id</th>\n",
       "      <th>description</th>\n",
       "      <th>document_type</th>\n",
       "      <th>first_published_at</th>\n",
       "      <th>locale</th>\n",
       "      <th>primary_publishing_organisation</th>\n",
       "      <th>publishing_app</th>\n",
       "      <th>title</th>\n",
       "      <th>body</th>\n",
       "      <th>combined_text</th>\n",
       "      <th>taxon_id</th>\n",
       "      <th>taxon_base_path</th>\n",
       "      <th>taxon_name</th>\n",
       "      <th>level1taxon</th>\n",
       "      <th>level2taxon</th>\n",
       "      <th>level3taxon</th>\n",
       "      <th>level4taxon</th>\n",
       "      <th>level5taxon</th>\n",
       "      <th>brexit</th>\n",
       "    </tr>\n",
       "  </thead>\n",
       "  <tbody>\n",
       "  </tbody>\n",
       "</table>\n",
       "</div>"
      ],
      "text/plain": [
       "Empty DataFrame\n",
       "Columns: [base_path, content_id, description, document_type, first_published_at, locale, primary_publishing_organisation, publishing_app, title, body, combined_text, taxon_id, taxon_base_path, taxon_name, level1taxon, level2taxon, level3taxon, level4taxon, level5taxon, brexit]\n",
       "Index: []"
      ]
     },
     "execution_count": 12,
     "metadata": {},
     "output_type": "execute_result"
    }
   ],
   "source": [
    "corpus_sample[corpus_sample['taxon_base_path']=='/transport/rail-interoperability']"
   ]
  },
  {
   "cell_type": "code",
   "execution_count": 13,
   "metadata": {},
   "outputs": [],
   "source": [
    "short_corpus=[]\n",
    "for text in corpus:\n",
    "    words = text.split()\n",
    "    truncated = \" \".join(words[0:300])\n",
    "    short_corpus.append(truncated)"
   ]
  },
  {
   "cell_type": "code",
   "execution_count": 14,
   "metadata": {},
   "outputs": [],
   "source": [
    "corpus_sample['brexit'] = np.where(corpus_sample['level2taxon']=='Brexit', 1, 0) "
   ]
  },
  {
   "cell_type": "code",
   "execution_count": 15,
   "metadata": {},
   "outputs": [
    {
     "data": {
      "text/plain": [
       "0    1992\n",
       "1       8\n",
       "Name: brexit, dtype: int64"
      ]
     },
     "execution_count": 15,
     "metadata": {},
     "output_type": "execute_result"
    }
   ],
   "source": [
    "corpus_sample.brexit.value_counts()"
   ]
  },
  {
   "cell_type": "code",
   "execution_count": 16,
   "metadata": {
    "colab": {},
    "colab_type": "code",
    "id": "I07gVD3zjuQr"
   },
   "outputs": [],
   "source": [
    "with open(path_for_metadata,'w') as f:\n",
    "    f.write(\"Index\\tTitle\\tTaxon1\\tTaxon2\\tbrexit\\n\")\n",
    "    for index, row in corpus_sample.iterrows():\n",
    "        f.write(\"{}\\t{}\\t{}\\t{}\\t{}\\n\".format(index,row['title'], row['level1taxon'],row['level2taxon'], row['brexit']))"
   ]
  },
  {
   "cell_type": "code",
   "execution_count": 17,
   "metadata": {
    "colab": {
     "base_uri": "https://localhost:8080/",
     "height": 34
    },
    "colab_type": "code",
    "id": "KghpWC4NKTdf",
    "outputId": "b583daaf-c053-4502-fdac-e040a4eb319f"
   },
   "outputs": [
    {
     "name": "stdout",
     "output_type": "stream",
     "text": [
      "INFO:tensorflow:Using /var/folders/jy/47p744c95hz67738zkn74rwr0002j9/T/tfhub_modules to cache modules.\n",
      "INFO:tensorflow:Saver not created because there are no variables in the graph to restore\n",
      "Model saved in path: ../combined_text_full/combined_text_sample_full.ckpt\n"
     ]
    }
   ],
   "source": [
    "# Import the Universal Sentence Encoder's TF Hub module\n",
    "embed = hub.Module(module_url)\n",
    "\n",
    "# Reduce logging output.\n",
    "# tf.logging.set_verbosity(tf.logging.ERROR)\n",
    "with tf.Session() as session:\n",
    "    \n",
    "    session.run([tf.global_variables_initializer(), tf.tables_initializer()])\n",
    "    embedded_sentences = session.run(embed(short_corpus))\n",
    "#     session.run(embed(corpus))\n",
    "\n",
    "with tf.Session() as sess:\n",
    "    # for tensorboard\n",
    "    emb = tf.Variable(embedded_sentences, name='embedded_sentences')\n",
    "    sess.run(emb.initializer)\n",
    "    config = projector.ProjectorConfig()\n",
    "    summary_writer = tf.summary.FileWriter(LOG_DIR)\n",
    "    config = projector.ProjectorConfig()\n",
    "    embedding = config.embeddings.add()\n",
    "    embedding.tensor_name = emb.name\n",
    "\n",
    "    # Comment out if you don't have metadata\n",
    "    embedding.metadata_path = path_for_metadata\n",
    "\n",
    "    projector.visualize_embeddings(summary_writer, config)\n",
    "    saver = tf.train.Saver([emb])\n",
    "    saver.save(sess, os.path.join(LOG_DIR, 'combined_text_sample_full.ckpt'), 1)\n",
    "    print(\"Model saved in path: %s\" % os.path.join(LOG_DIR, 'combined_text_sample_full.ckpt'))"
   ]
  },
  {
   "cell_type": "code",
   "execution_count": 18,
   "metadata": {
    "colab": {},
    "colab_type": "code",
    "id": "RfqZrZxRw0Q5"
   },
   "outputs": [],
   "source": [
    "taxons = corpus_sample['taxon_id'].unique()"
   ]
  },
  {
   "cell_type": "code",
   "execution_count": 19,
   "metadata": {},
   "outputs": [
    {
     "data": {
      "text/plain": [
       "(299060, 512)"
      ]
     },
     "execution_count": 19,
     "metadata": {},
     "output_type": "execute_result"
    }
   ],
   "source": [
    "embedded_sentences.shape"
   ]
  },
  {
   "cell_type": "code",
   "execution_count": 20,
   "metadata": {},
   "outputs": [
    {
     "data": {
      "text/plain": [
       "array([ 5.09653287e-03, -3.03856395e-02,  4.20806296e-02,  3.83644179e-02,\n",
       "        6.99705025e-03, -6.02658056e-02, -3.61361690e-02, -3.78090143e-02,\n",
       "       -5.54754473e-02,  5.74985556e-02, -2.14449037e-02,  5.95337972e-02,\n",
       "       -4.30984311e-02,  6.42405152e-02, -3.42633836e-02, -5.60437366e-02,\n",
       "       -5.25676869e-02, -2.89425831e-02,  5.98353483e-02, -2.26976220e-02,\n",
       "        2.38842587e-03, -2.36237124e-02, -2.46080514e-02,  6.68373406e-02,\n",
       "        6.58454597e-02,  5.23099229e-02, -4.57108915e-02,  2.22072434e-02,\n",
       "       -6.08198605e-02, -5.48073649e-02, -2.27992740e-02, -5.94624206e-02,\n",
       "       -6.01998232e-02, -4.33398262e-02, -2.78542787e-02,  4.85054813e-02,\n",
       "       -6.69691488e-02, -4.76457402e-02, -3.20245996e-02, -4.53154147e-02,\n",
       "       -5.58042759e-03, -2.85843313e-02, -4.69415598e-02,  6.20114729e-02,\n",
       "       -3.83535065e-02,  5.52074350e-02,  2.86188279e-03, -5.70123494e-02,\n",
       "        5.16111702e-02, -6.61586449e-02,  5.19253947e-02, -5.30294664e-02,\n",
       "        6.25233352e-02, -2.99649350e-02,  1.88129693e-02,  5.85969314e-02,\n",
       "       -4.45711762e-02, -6.64938763e-02,  1.00746453e-02,  1.04992902e-02,\n",
       "        4.42095473e-02,  1.26236659e-02, -6.17704056e-02,  7.62339495e-03,\n",
       "       -6.38994947e-02, -4.28628772e-02,  1.42363887e-02, -5.84575497e-02,\n",
       "        5.74682956e-04, -3.97937745e-02,  1.90001354e-02, -1.30937872e-02,\n",
       "       -1.45581774e-02,  6.62479773e-02,  6.66006282e-02, -6.57546893e-02,\n",
       "        3.38992067e-02,  4.42511402e-02,  2.49075238e-03, -5.79851456e-02,\n",
       "       -5.41275516e-02,  5.60342185e-02,  9.22681391e-03,  4.44445685e-02,\n",
       "       -6.48706630e-02, -6.69742599e-02,  5.87696768e-02,  4.98415343e-02,\n",
       "        2.63413135e-02,  1.18942978e-02,  5.75319976e-02, -3.53644928e-03,\n",
       "       -2.16885582e-02, -6.26884326e-02, -6.30402006e-03, -5.08668572e-02,\n",
       "       -3.73767205e-02, -5.90701140e-02,  6.10848106e-02,  1.35545591e-02,\n",
       "       -3.01221907e-02, -8.34443048e-03, -5.55229448e-02,  3.62643972e-02,\n",
       "       -5.24617955e-02,  5.50774150e-02,  3.52792926e-02,  1.04181599e-02,\n",
       "        5.70049174e-02,  6.27262220e-02, -9.68657807e-03, -5.96014597e-02,\n",
       "        6.15077503e-02, -3.58452648e-02, -6.33532256e-02, -1.07585471e-02,\n",
       "        3.02561428e-02,  1.08370511e-02,  1.80548672e-02,  5.82813285e-03,\n",
       "       -6.29295334e-02, -6.60743043e-02,  1.96535103e-02,  4.63273674e-02,\n",
       "        5.95227554e-02, -4.45885621e-02, -3.81856039e-02, -6.01747930e-02,\n",
       "        4.87951338e-02,  5.66472486e-03,  4.82528433e-02,  6.51084706e-02,\n",
       "       -6.54146001e-02,  4.52489965e-02, -6.61624894e-02, -1.98712833e-02,\n",
       "       -1.82975251e-02,  6.51041195e-02, -3.71915800e-03,  2.18445417e-02,\n",
       "        1.02828695e-02, -3.28285247e-02, -4.47169319e-02, -5.67144379e-02,\n",
       "       -8.91350396e-03, -5.16884290e-02, -2.66600046e-02,  6.86682644e-04,\n",
       "        3.54434848e-02,  4.34594303e-02, -7.58298067e-03,  2.39939807e-04,\n",
       "        1.57938860e-02, -2.37309765e-02,  9.68160108e-03,  4.74492386e-02,\n",
       "        5.62730320e-02, -6.62720427e-02,  2.74677519e-02, -2.95152273e-02,\n",
       "        7.73181207e-03,  2.65534408e-02,  7.88585749e-03, -2.63106339e-02,\n",
       "        4.54288013e-02, -5.46447001e-02, -4.43538427e-02, -5.85792959e-02,\n",
       "        4.56173345e-02, -6.84234966e-03, -4.66667488e-02,  6.41002655e-02,\n",
       "       -5.84655032e-02,  2.03876626e-02,  4.05421518e-02,  3.26268487e-02,\n",
       "        6.61886185e-02,  4.25207429e-02, -1.04534496e-02, -1.66141614e-02,\n",
       "       -3.97222936e-02,  6.60361573e-02, -1.02853728e-02, -3.11473403e-02,\n",
       "        1.94642711e-02, -3.48618589e-02,  5.05985096e-02, -1.84545442e-02,\n",
       "       -1.74331125e-02,  6.14765175e-02, -1.18577760e-02,  8.86021648e-03,\n",
       "       -5.50976209e-02,  5.54904900e-02, -1.43324509e-02, -3.03991623e-02,\n",
       "       -9.36253127e-05, -5.20769544e-02, -5.92325144e-02,  3.25639397e-02,\n",
       "        5.03509678e-03,  1.20253637e-02, -5.30989468e-02,  5.43017723e-02,\n",
       "       -4.53925878e-02, -1.24769760e-02, -6.34663552e-02, -3.18465638e-03,\n",
       "        6.51023239e-02, -2.35279668e-02,  2.18215417e-02,  6.10667802e-02,\n",
       "       -4.11581397e-02, -4.44721282e-02, -3.21395509e-02, -4.31119613e-02,\n",
       "        5.51426634e-02, -6.09736219e-02,  5.48351482e-02,  8.22893903e-03,\n",
       "        6.70150891e-02, -1.46473292e-03,  3.63938771e-02,  5.35407402e-02,\n",
       "       -4.85607460e-02,  5.89358993e-02,  2.84609315e-03, -7.22876750e-03,\n",
       "       -9.71516315e-03,  5.76316863e-02,  6.50697351e-02,  3.86009440e-02,\n",
       "       -3.29220220e-02,  4.13341112e-02,  4.18218635e-02,  3.88346352e-02,\n",
       "       -5.41884825e-02,  4.43850681e-02, -6.08024709e-02, -2.25121602e-02,\n",
       "        6.59325048e-02, -5.84588014e-02,  6.12352230e-02,  3.43746692e-02,\n",
       "       -1.42418370e-02,  4.14905362e-02,  4.52693254e-02,  2.99042184e-02,\n",
       "       -3.18202898e-02,  1.92987807e-02,  1.52042368e-03, -1.92032624e-02,\n",
       "       -5.64099401e-02, -5.56483082e-02,  1.54298861e-02,  2.11517569e-02,\n",
       "        6.56571686e-02, -5.78974225e-02,  5.63620254e-02, -5.12150787e-02,\n",
       "        3.20940837e-02, -5.78396693e-02, -4.62363735e-02,  4.23588306e-02,\n",
       "       -1.00265630e-03, -5.70966005e-02, -6.49163127e-02,  4.86642830e-02,\n",
       "        6.68874308e-02, -6.69045523e-02, -2.25626118e-02, -1.46702686e-02,\n",
       "       -5.15627936e-02,  5.87087907e-02, -4.78415936e-02, -2.10318733e-02,\n",
       "        4.16343436e-02,  6.68008626e-02, -6.32661656e-02, -2.15344876e-02,\n",
       "       -4.18791734e-02,  5.03653921e-02, -1.48076601e-02, -4.56741080e-03,\n",
       "       -2.05322746e-02,  4.27064411e-02,  3.06091644e-02, -2.68145036e-02,\n",
       "       -2.57662758e-02, -5.64651936e-02, -3.38141993e-02, -6.50245845e-02,\n",
       "       -6.69156164e-02, -4.16640900e-02, -5.97337708e-02,  6.50458038e-02,\n",
       "       -7.76686589e-04, -4.83881123e-02, -1.24750854e-02,  3.83794121e-02,\n",
       "       -6.53368607e-02, -3.27732116e-02,  1.98542383e-02,  4.01856452e-02,\n",
       "        5.43365330e-02, -3.75938718e-03,  3.22674960e-02,  1.35382451e-02,\n",
       "        6.25458062e-02,  5.82937896e-03, -3.32768969e-02, -3.62300314e-02,\n",
       "       -5.13547361e-02, -2.79218443e-02,  6.49446398e-02,  1.41614238e-02,\n",
       "        2.11936627e-02, -6.27064481e-02,  1.50643382e-02, -3.80850472e-02,\n",
       "       -5.93039133e-02,  6.69964105e-02,  6.07377850e-02,  6.52064458e-02,\n",
       "       -2.84148124e-03,  3.64542119e-02,  3.69888544e-02, -6.28562868e-02,\n",
       "       -3.89351919e-02, -3.37698683e-02, -3.40372548e-02, -6.12805746e-02,\n",
       "        1.76431090e-02, -2.07539424e-02,  6.12704158e-02,  2.87914854e-02,\n",
       "        6.19976446e-02, -2.58737169e-02,  3.68505418e-02,  3.48135717e-02,\n",
       "        5.41330874e-02, -1.11832824e-02,  4.42529097e-02,  6.47728294e-02,\n",
       "       -5.90697676e-02, -5.78487925e-02, -4.12740670e-02, -6.04193397e-02,\n",
       "       -3.99936996e-02, -4.47464511e-02, -5.86054884e-02,  1.33793931e-02,\n",
       "       -5.72307110e-02,  5.91238961e-03, -4.80022542e-02,  6.28921464e-02,\n",
       "        5.47583625e-02,  1.12275435e-02, -6.92964206e-03,  4.37324122e-02,\n",
       "        3.52665298e-02,  6.15544431e-02,  6.15306757e-02, -4.21862900e-02,\n",
       "       -2.22926643e-02,  6.13223054e-02, -4.10256423e-02,  1.48452353e-02,\n",
       "        5.81517108e-02,  6.42382354e-02, -2.55049616e-02, -5.04759699e-02,\n",
       "        6.23142831e-02, -5.90049662e-02, -3.87156419e-02, -1.89700406e-02,\n",
       "        6.42245039e-02, -6.30383343e-02,  4.57997881e-02, -3.70273069e-02,\n",
       "        5.80792576e-02, -5.66984294e-04, -2.40726192e-02, -6.23104796e-02,\n",
       "       -1.56118423e-02, -5.25243431e-02, -3.95079330e-02, -5.26342429e-02,\n",
       "       -6.30413964e-02, -5.05512320e-02, -6.21434487e-02,  3.16099674e-02,\n",
       "        6.69588745e-02,  5.85546307e-02,  6.69909269e-02, -5.20411469e-02,\n",
       "       -3.65183386e-03,  3.84156220e-02,  6.24520518e-02, -2.05313880e-02,\n",
       "        6.59340844e-02, -3.22797522e-02, -4.66016755e-02,  1.35668078e-02,\n",
       "       -3.52494717e-02, -3.01783712e-05, -5.88856861e-02, -3.85651737e-02,\n",
       "       -6.57416135e-02, -6.54619262e-02,  6.59939125e-02,  2.01949626e-02,\n",
       "        2.60293521e-02,  5.04532643e-02,  3.00558936e-02,  5.12675904e-02,\n",
       "        3.49004939e-02,  2.57696696e-02,  6.69242218e-02, -2.69543231e-02,\n",
       "       -3.74009088e-02, -8.07186216e-03,  5.40588424e-03, -2.69460157e-02,\n",
       "        4.20415103e-02,  6.57706037e-02,  5.29991649e-02, -6.48090392e-02,\n",
       "       -2.47861668e-02,  5.29104732e-02,  2.49319021e-02, -1.45840207e-02,\n",
       "        1.09685250e-02,  6.43246993e-02, -5.15370779e-02,  4.38258685e-02,\n",
       "       -5.94158173e-02,  5.67333661e-02, -5.57569228e-02, -5.29089384e-02,\n",
       "        6.66680634e-02,  9.97661147e-03, -1.63640585e-02, -7.15510733e-03,\n",
       "        3.80047858e-02,  3.63003276e-02,  3.33268754e-02, -3.19558270e-02,\n",
       "       -1.93791967e-02,  5.06166145e-02,  6.66673779e-02,  1.49244517e-02,\n",
       "        1.26262670e-02,  3.03511545e-02,  6.14434443e-02,  1.80041827e-02,\n",
       "       -3.81888002e-02, -4.36046980e-02, -1.25683472e-02, -7.46930670e-03,\n",
       "        6.33912235e-02, -4.36366536e-02, -4.02307399e-02,  6.27875105e-02,\n",
       "        6.26280084e-02, -2.96120886e-02, -6.07048422e-02,  5.28244935e-02,\n",
       "       -1.97586603e-02,  5.14919460e-02,  4.76805158e-02, -6.70044348e-02,\n",
       "        6.28748238e-02, -4.42791656e-02, -6.74979622e-03,  5.20017296e-02,\n",
       "       -2.96396911e-02,  6.44817576e-02, -3.31334136e-02,  1.12432698e-02,\n",
       "        1.55645073e-04,  1.59519892e-02,  4.87898067e-02,  5.82939759e-02,\n",
       "       -3.49248573e-02, -2.44853310e-02, -2.23555677e-02,  3.40545662e-02,\n",
       "       -3.39037180e-02,  4.57844958e-02,  1.89718045e-02,  4.06980105e-02,\n",
       "       -5.67293018e-02,  6.26677722e-02,  3.90405320e-02,  4.41367961e-02,\n",
       "        6.22445829e-02, -5.55756614e-02, -6.10207506e-02,  1.65900420e-02,\n",
       "        5.10760248e-02, -5.41896224e-02, -5.03533855e-02,  4.99736704e-02,\n",
       "       -3.39728147e-02, -4.12431285e-02,  5.20126745e-02, -3.98547128e-02,\n",
       "       -1.50947645e-03, -4.01831325e-03,  2.00891644e-02, -3.39963362e-02],\n",
       "      dtype=float32)"
      ]
     },
     "execution_count": 20,
     "metadata": {},
     "output_type": "execute_result"
    }
   ],
   "source": [
    "embedded_sentences[0]"
   ]
  },
  {
   "cell_type": "code",
   "execution_count": 21,
   "metadata": {},
   "outputs": [],
   "source": [
    "np.save('embedded_sentences.npy', embedded_sentences)"
   ]
  },
  {
   "cell_type": "markdown",
   "metadata": {},
   "source": [
    "### remove duplicate content items \n",
    "Haven't done this already because each row represents a different taxon. Need this for the embedding projector visualisation.\n",
    "\n"
   ]
  },
  {
   "cell_type": "code",
   "execution_count": 22,
   "metadata": {},
   "outputs": [],
   "source": [
    "embedded_docs_unique = embedded_sentences[~labelled.duplicated('content_id')]\n"
   ]
  },
  {
   "cell_type": "code",
   "execution_count": 23,
   "metadata": {},
   "outputs": [],
   "source": [
    "from itertools import compress\n",
    "short_corpus_unique = list(compress(short_corpus, list(~labelled.duplicated('content_id').values)))"
   ]
  },
  {
   "cell_type": "code",
   "execution_count": 24,
   "metadata": {},
   "outputs": [
    {
     "data": {
      "text/plain": [
       "202551"
      ]
     },
     "execution_count": 24,
     "metadata": {},
     "output_type": "execute_result"
    }
   ],
   "source": [
    "len(short_corpus_unique)"
   ]
  },
  {
   "cell_type": "code",
   "execution_count": 25,
   "metadata": {},
   "outputs": [
    {
     "data": {
      "text/plain": [
       "(202551, 20)"
      ]
     },
     "execution_count": 25,
     "metadata": {},
     "output_type": "execute_result"
    }
   ],
   "source": [
    "labelled.drop_duplicates('content_id').shape"
   ]
  },
  {
   "cell_type": "code",
   "execution_count": 381,
   "metadata": {},
   "outputs": [],
   "source": [
    "labelled_unique = labelled.drop_duplicates('content_id').copy()"
   ]
  },
  {
   "cell_type": "code",
   "execution_count": 27,
   "metadata": {},
   "outputs": [
    {
     "data": {
      "text/plain": [
       "202551"
      ]
     },
     "execution_count": 27,
     "metadata": {},
     "output_type": "execute_result"
    }
   ],
   "source": [
    "len(embedded_docs_unique)"
   ]
  },
  {
   "cell_type": "markdown",
   "metadata": {},
   "source": [
    "### Brute force approaches (less memory)"
   ]
  },
  {
   "cell_type": "code",
   "execution_count": 100,
   "metadata": {},
   "outputs": [],
   "source": [
    "#this woud probably take about 10 years to run\n",
    "\n",
    "# doc_to_doc_df = pd.DataFrame(columns=['doc1', 'doc2', 'cosine'])\n",
    "# for index1, vector1 in enumerate(tqdm_notebook(embedded_sentences)):\n",
    "#     doc1 = labelled['content_id'].iloc[index1]\n",
    "#     doc1_df = pd.DataFrame(columns=['doc1', 'doc2', 'cosine'])\n",
    "#     for index2, vector2 in enumerate(tqdm_notebook(embedded_sentences)):\n",
    "#         doc2 = labelled['content_id'].iloc[index2]\n",
    "#         x = pd.DataFrame({'doc1': [doc1], 'doc2': [doc2], 'cosine': [cosine(vector1, vector2)]})\n",
    "#         doc1_df = doc1_df.append(x, ignore_index=True)\n",
    "#         doc1_df = doc1_df.sort_values('cosine').head(10)\n",
    "#         doc_to_doc_df = pd.concat([doc_to_doc_df, doc1_df], ignore_index=True)      "
   ]
  },
  {
   "cell_type": "markdown",
   "metadata": {},
   "source": [
    "### scipy pairwise matrix"
   ]
  },
  {
   "cell_type": "code",
   "execution_count": null,
   "metadata": {},
   "outputs": [],
   "source": [
    "# %timeit similarity_matrix = pdist(embedded_docs_unique[0:100], 'cosine')"
   ]
  },
  {
   "cell_type": "code",
   "execution_count": null,
   "metadata": {},
   "outputs": [],
   "source": [
    "# %timeit cosine(embedded_sentences[0], embedded_sentences[1])"
   ]
  },
  {
   "cell_type": "markdown",
   "metadata": {},
   "source": [
    "# Sklearn pairwise"
   ]
  },
  {
   "cell_type": "code",
   "execution_count": null,
   "metadata": {},
   "outputs": [],
   "source": [
    "from sklearn.metrics import pairwise_distances_chunked\n",
    "\n",
    "\n",
    "def reduce_func(D_chunk, start):\n",
    "    top_k_indices = np.argpartition(D_chunk\n",
    "                                    , range(20))[:20]\n",
    "    return top_k_indices[ :, :20], D_chunk[:, top_k_indices[ :, :20]]"
   ]
  },
  {
   "cell_type": "code",
   "execution_count": 213,
   "metadata": {},
   "outputs": [
    {
     "data": {
      "text/plain": [
       "array([[     1,    269,   2302,    190,   2591, 125379,    181, 125344,\n",
       "          2624,   2056, 125386, 144717,   6195,   5206,  43336,   1126,\n",
       "          2737,   5738,   6258,   5634]])"
      ]
     },
     "execution_count": 213,
     "metadata": {},
     "output_type": "execute_result"
    }
   ],
   "source": [
    "top_k_indices, D_chunk= next(gen)\n",
    "top_k_indices"
   ]
  },
  {
   "cell_type": "code",
   "execution_count": 221,
   "metadata": {},
   "outputs": [
    {
     "data": {
      "text/plain": [
       "array([[[0.        , 0.0879252 , 0.09235996, 0.10493118, 0.10539824,\n",
       "         0.10968202, 0.10999715, 0.11638749, 0.1240173 , 0.13116467,\n",
       "         0.13868237, 0.13911742, 0.14018703, 0.1414088 , 0.14152086,\n",
       "         0.14347136, 0.14893925, 0.14912212, 0.15121639, 0.15260935]]],\n",
       "      dtype=float32)"
      ]
     },
     "execution_count": 221,
     "metadata": {},
     "output_type": "execute_result"
    }
   ],
   "source": [
    "D_chunk"
   ]
  },
  {
   "cell_type": "code",
   "execution_count": 222,
   "metadata": {},
   "outputs": [
    {
     "data": {
      "text/plain": [
       "3"
      ]
     },
     "execution_count": 222,
     "metadata": {},
     "output_type": "execute_result"
    }
   ],
   "source": [
    "D_chunk[D_chunk<0.1].shape[0]"
   ]
  },
  {
   "cell_type": "code",
   "execution_count": 224,
   "metadata": {},
   "outputs": [
    {
     "data": {
      "text/plain": [
       "array([0.  , 0.01, 0.02, 0.03, 0.04, 0.05, 0.06, 0.07, 0.08, 0.09, 0.1 ,\n",
       "       0.11, 0.12, 0.13, 0.14, 0.15, 0.16, 0.17, 0.18, 0.19, 0.2 ])"
      ]
     },
     "execution_count": 224,
     "metadata": {},
     "output_type": "execute_result"
    }
   ],
   "source": [
    "np.arange(0, 0.21, 0.01)"
   ]
  },
  {
   "cell_type": "code",
   "execution_count": 225,
   "metadata": {},
   "outputs": [
    {
     "data": {
      "text/plain": [
       "array([], shape=(0, 1), dtype=int64)"
      ]
     },
     "execution_count": 225,
     "metadata": {},
     "output_type": "execute_result"
    }
   ],
   "source": [
    "np.empty((0,1), int)"
   ]
  },
  {
   "cell_type": "code",
   "execution_count": 237,
   "metadata": {},
   "outputs": [
    {
     "data": {
      "text/plain": [
       "(202551, 512)"
      ]
     },
     "execution_count": 237,
     "metadata": {},
     "output_type": "execute_result"
    }
   ],
   "source": [
    "embedded_docs_unique.shape"
   ]
  },
  {
   "cell_type": "code",
   "execution_count": 239,
   "metadata": {},
   "outputs": [
    {
     "data": {
      "text/plain": [
       "array([[ 0.03912584,  0.01735858, -0.00092473, ..., -0.04953542,\n",
       "        -0.01437556, -0.02579409],\n",
       "       [ 0.05207291,  0.00755737,  0.00945574, ...,  0.01553024,\n",
       "         0.02057066, -0.06777682]], dtype=float32)"
      ]
     },
     "execution_count": 239,
     "metadata": {},
     "output_type": "execute_result"
    }
   ],
   "source": [
    "embedded_docs_unique[np.random.choice(embedded_docs_unique.shape[0], 2, replace=False), :]"
   ]
  },
  {
   "cell_type": "markdown",
   "metadata": {},
   "source": [
    "### Distribution of number of links slected at different thresholds"
   ]
  },
  {
   "cell_type": "code",
   "execution_count": 387,
   "metadata": {},
   "outputs": [],
   "source": [
    "gen = pairwise_distances_chunked(embedded_docs_unique, \n",
    "                                 reduce_func=reduce_func, \n",
    "                                 working_memory=0, \n",
    "                                 metric='cosine', \n",
    "                                 n_jobs=-1)"
   ]
  },
  {
   "cell_type": "code",
   "execution_count": 388,
   "metadata": {},
   "outputs": [
    {
     "data": {
      "application/vnd.jupyter.widget-view+json": {
       "model_id": "2b137e60cd4442beb18954a444a6dcba",
       "version_major": 2,
       "version_minor": 0
      },
      "text/plain": [
       "HBox(children=(IntProgress(value=1, bar_style='info', max=1), HTML(value='')))"
      ]
     },
     "metadata": {},
     "output_type": "display_data"
    },
    {
     "name": "stderr",
     "output_type": "stream",
     "text": [
      "/Users/ellieking/.pyenv/versions/3.6.4/envs/content-similarity-3.6.4/lib/python3.6/site-packages/sklearn/utils/__init__.py:603: UserWarning: Could not adhere to working_memory config. Currently 0MiB, 2MiB required.\n",
      "  (working_memory, np.ceil(row_bytes * 2 ** -20)))\n"
     ]
    },
    {
     "ename": "KeyboardInterrupt",
     "evalue": "",
     "output_type": "error",
     "traceback": [
      "\u001b[0;31m---------------------------------------------------------------------------\u001b[0m",
      "\u001b[0;31mKeyboardInterrupt\u001b[0m                         Traceback (most recent call last)",
      "\u001b[0;32m<ipython-input-388-f331d59c58b1>\u001b[0m in \u001b[0;36m<module>\u001b[0;34m\u001b[0m\n\u001b[1;32m      1\u001b[0m \u001b[0mlinks_thresholds\u001b[0m \u001b[0;34m=\u001b[0m \u001b[0mpd\u001b[0m\u001b[0;34m.\u001b[0m\u001b[0mDataFrame\u001b[0m\u001b[0;34m(\u001b[0m\u001b[0mcolumns\u001b[0m\u001b[0;34m=\u001b[0m\u001b[0;34m[\u001b[0m\u001b[0;34m'vector_id'\u001b[0m\u001b[0;34m,\u001b[0m \u001b[0;34m'thresholds'\u001b[0m\u001b[0;34m,\u001b[0m \u001b[0;34m'numlinks'\u001b[0m\u001b[0;34m]\u001b[0m\u001b[0;34m)\u001b[0m\u001b[0;34m\u001b[0m\u001b[0m\n\u001b[0;32m----> 2\u001b[0;31m \u001b[0;32mfor\u001b[0m \u001b[0mi\u001b[0m\u001b[0;34m,\u001b[0m \u001b[0;34m(\u001b[0m\u001b[0m_\u001b[0m\u001b[0;34m,\u001b[0m \u001b[0mD_chunk\u001b[0m\u001b[0;34m)\u001b[0m \u001b[0;32min\u001b[0m \u001b[0menumerate\u001b[0m\u001b[0;34m(\u001b[0m\u001b[0mtqdm_notebook\u001b[0m\u001b[0;34m(\u001b[0m\u001b[0mgen\u001b[0m\u001b[0;34m)\u001b[0m\u001b[0;34m)\u001b[0m\u001b[0;34m:\u001b[0m\u001b[0;34m\u001b[0m\u001b[0m\n\u001b[0m\u001b[1;32m      3\u001b[0m     \u001b[0mnumlinks\u001b[0m \u001b[0;34m=\u001b[0m \u001b[0;34m[\u001b[0m\u001b[0;34m]\u001b[0m\u001b[0;34m\u001b[0m\u001b[0m\n\u001b[1;32m      4\u001b[0m     \u001b[0;32mfor\u001b[0m \u001b[0mthreshold\u001b[0m \u001b[0;32min\u001b[0m \u001b[0mnp\u001b[0m\u001b[0;34m.\u001b[0m\u001b[0marange\u001b[0m\u001b[0;34m(\u001b[0m\u001b[0;36m0\u001b[0m\u001b[0;34m,\u001b[0m \u001b[0;36m0.42\u001b[0m\u001b[0;34m,\u001b[0m \u001b[0;36m0.02\u001b[0m\u001b[0;34m)\u001b[0m\u001b[0;34m:\u001b[0m\u001b[0;34m\u001b[0m\u001b[0m\n\u001b[1;32m      5\u001b[0m         \u001b[0mnumlinks\u001b[0m\u001b[0;34m.\u001b[0m\u001b[0mappend\u001b[0m\u001b[0;34m(\u001b[0m\u001b[0mD_chunk\u001b[0m\u001b[0;34m[\u001b[0m\u001b[0mD_chunk\u001b[0m\u001b[0;34m<\u001b[0m\u001b[0mthreshold\u001b[0m\u001b[0;34m]\u001b[0m\u001b[0;34m.\u001b[0m\u001b[0mshape\u001b[0m\u001b[0;34m[\u001b[0m\u001b[0;36m0\u001b[0m\u001b[0;34m]\u001b[0m\u001b[0;34m)\u001b[0m\u001b[0;34m\u001b[0m\u001b[0m\n",
      "\u001b[0;32m~/.pyenv/versions/3.6.4/envs/content-similarity-3.6.4/lib/python3.6/site-packages/tqdm/_tqdm_notebook.py\u001b[0m in \u001b[0;36m__iter__\u001b[0;34m(self, *args, **kwargs)\u001b[0m\n\u001b[1;32m    219\u001b[0m     \u001b[0;32mdef\u001b[0m \u001b[0m__iter__\u001b[0m\u001b[0;34m(\u001b[0m\u001b[0mself\u001b[0m\u001b[0;34m,\u001b[0m \u001b[0;34m*\u001b[0m\u001b[0margs\u001b[0m\u001b[0;34m,\u001b[0m \u001b[0;34m**\u001b[0m\u001b[0mkwargs\u001b[0m\u001b[0;34m)\u001b[0m\u001b[0;34m:\u001b[0m\u001b[0;34m\u001b[0m\u001b[0m\n\u001b[1;32m    220\u001b[0m         \u001b[0;32mtry\u001b[0m\u001b[0;34m:\u001b[0m\u001b[0;34m\u001b[0m\u001b[0m\n\u001b[0;32m--> 221\u001b[0;31m             \u001b[0;32mfor\u001b[0m \u001b[0mobj\u001b[0m \u001b[0;32min\u001b[0m \u001b[0msuper\u001b[0m\u001b[0;34m(\u001b[0m\u001b[0mtqdm_notebook\u001b[0m\u001b[0;34m,\u001b[0m \u001b[0mself\u001b[0m\u001b[0;34m)\u001b[0m\u001b[0;34m.\u001b[0m\u001b[0m__iter__\u001b[0m\u001b[0;34m(\u001b[0m\u001b[0;34m*\u001b[0m\u001b[0margs\u001b[0m\u001b[0;34m,\u001b[0m \u001b[0;34m**\u001b[0m\u001b[0mkwargs\u001b[0m\u001b[0;34m)\u001b[0m\u001b[0;34m:\u001b[0m\u001b[0;34m\u001b[0m\u001b[0m\n\u001b[0m\u001b[1;32m    222\u001b[0m                 \u001b[0;31m# return super(tqdm...) will not catch exception\u001b[0m\u001b[0;34m\u001b[0m\u001b[0;34m\u001b[0m\u001b[0m\n\u001b[1;32m    223\u001b[0m                 \u001b[0;32myield\u001b[0m \u001b[0mobj\u001b[0m\u001b[0;34m\u001b[0m\u001b[0m\n",
      "\u001b[0;32m~/.pyenv/versions/3.6.4/envs/content-similarity-3.6.4/lib/python3.6/site-packages/tqdm/_tqdm.py\u001b[0m in \u001b[0;36m__iter__\u001b[0;34m(self)\u001b[0m\n\u001b[1;32m    977\u001b[0m \"\"\", fp_write=getattr(self.fp, 'write', sys.stderr.write))\n\u001b[1;32m    978\u001b[0m \u001b[0;34m\u001b[0m\u001b[0m\n\u001b[0;32m--> 979\u001b[0;31m             \u001b[0;32mfor\u001b[0m \u001b[0mobj\u001b[0m \u001b[0;32min\u001b[0m \u001b[0miterable\u001b[0m\u001b[0;34m:\u001b[0m\u001b[0;34m\u001b[0m\u001b[0m\n\u001b[0m\u001b[1;32m    980\u001b[0m                 \u001b[0;32myield\u001b[0m \u001b[0mobj\u001b[0m\u001b[0;34m\u001b[0m\u001b[0m\n\u001b[1;32m    981\u001b[0m                 \u001b[0;31m# Update and possibly print the progressbar.\u001b[0m\u001b[0;34m\u001b[0m\u001b[0;34m\u001b[0m\u001b[0m\n",
      "\u001b[0;32m~/.pyenv/versions/3.6.4/envs/content-similarity-3.6.4/lib/python3.6/site-packages/sklearn/metrics/pairwise.py\u001b[0m in \u001b[0;36mpairwise_distances_chunked\u001b[0;34m(X, Y, reduce_func, metric, n_jobs, working_memory, **kwds)\u001b[0m\n\u001b[1;32m   1278\u001b[0m             \u001b[0mX_chunk\u001b[0m \u001b[0;34m=\u001b[0m \u001b[0mX\u001b[0m\u001b[0;34m[\u001b[0m\u001b[0msl\u001b[0m\u001b[0;34m]\u001b[0m\u001b[0;34m\u001b[0m\u001b[0m\n\u001b[1;32m   1279\u001b[0m         D_chunk = pairwise_distances(X_chunk, Y, metric=metric,\n\u001b[0;32m-> 1280\u001b[0;31m                                      n_jobs=n_jobs, **kwds)\n\u001b[0m\u001b[1;32m   1281\u001b[0m         if ((X is Y or Y is None)\n\u001b[1;32m   1282\u001b[0m                 \u001b[0;32mand\u001b[0m \u001b[0mPAIRWISE_DISTANCE_FUNCTIONS\u001b[0m\u001b[0;34m.\u001b[0m\u001b[0mget\u001b[0m\u001b[0;34m(\u001b[0m\u001b[0mmetric\u001b[0m\u001b[0;34m,\u001b[0m \u001b[0;32mNone\u001b[0m\u001b[0;34m)\u001b[0m\u001b[0;34m\u001b[0m\u001b[0m\n",
      "\u001b[0;32m~/.pyenv/versions/3.6.4/envs/content-similarity-3.6.4/lib/python3.6/site-packages/sklearn/metrics/pairwise.py\u001b[0m in \u001b[0;36mpairwise_distances\u001b[0;34m(X, Y, metric, n_jobs, **kwds)\u001b[0m\n\u001b[1;32m   1404\u001b[0m         \u001b[0mfunc\u001b[0m \u001b[0;34m=\u001b[0m \u001b[0mpartial\u001b[0m\u001b[0;34m(\u001b[0m\u001b[0mdistance\u001b[0m\u001b[0;34m.\u001b[0m\u001b[0mcdist\u001b[0m\u001b[0;34m,\u001b[0m \u001b[0mmetric\u001b[0m\u001b[0;34m=\u001b[0m\u001b[0mmetric\u001b[0m\u001b[0;34m,\u001b[0m \u001b[0;34m**\u001b[0m\u001b[0mkwds\u001b[0m\u001b[0;34m)\u001b[0m\u001b[0;34m\u001b[0m\u001b[0m\n\u001b[1;32m   1405\u001b[0m \u001b[0;34m\u001b[0m\u001b[0m\n\u001b[0;32m-> 1406\u001b[0;31m     \u001b[0;32mreturn\u001b[0m \u001b[0m_parallel_pairwise\u001b[0m\u001b[0;34m(\u001b[0m\u001b[0mX\u001b[0m\u001b[0;34m,\u001b[0m \u001b[0mY\u001b[0m\u001b[0;34m,\u001b[0m \u001b[0mfunc\u001b[0m\u001b[0;34m,\u001b[0m \u001b[0mn_jobs\u001b[0m\u001b[0;34m,\u001b[0m \u001b[0;34m**\u001b[0m\u001b[0mkwds\u001b[0m\u001b[0;34m)\u001b[0m\u001b[0;34m\u001b[0m\u001b[0m\n\u001b[0m\u001b[1;32m   1407\u001b[0m \u001b[0;34m\u001b[0m\u001b[0m\n\u001b[1;32m   1408\u001b[0m \u001b[0;34m\u001b[0m\u001b[0m\n",
      "\u001b[0;32m~/.pyenv/versions/3.6.4/envs/content-similarity-3.6.4/lib/python3.6/site-packages/sklearn/metrics/pairwise.py\u001b[0m in \u001b[0;36m_parallel_pairwise\u001b[0;34m(X, Y, func, n_jobs, **kwds)\u001b[0m\n\u001b[1;32m   1071\u001b[0m     ret = Parallel(n_jobs=n_jobs, verbose=0)(\n\u001b[1;32m   1072\u001b[0m         \u001b[0mfd\u001b[0m\u001b[0;34m(\u001b[0m\u001b[0mX\u001b[0m\u001b[0;34m,\u001b[0m \u001b[0mY\u001b[0m\u001b[0;34m[\u001b[0m\u001b[0ms\u001b[0m\u001b[0;34m]\u001b[0m\u001b[0;34m,\u001b[0m \u001b[0;34m**\u001b[0m\u001b[0mkwds\u001b[0m\u001b[0;34m)\u001b[0m\u001b[0;34m\u001b[0m\u001b[0m\n\u001b[0;32m-> 1073\u001b[0;31m         for s in gen_even_slices(_num_samples(Y), effective_n_jobs(n_jobs)))\n\u001b[0m\u001b[1;32m   1074\u001b[0m \u001b[0;34m\u001b[0m\u001b[0m\n\u001b[1;32m   1075\u001b[0m     \u001b[0;32mreturn\u001b[0m \u001b[0mnp\u001b[0m\u001b[0;34m.\u001b[0m\u001b[0mhstack\u001b[0m\u001b[0;34m(\u001b[0m\u001b[0mret\u001b[0m\u001b[0;34m)\u001b[0m\u001b[0;34m\u001b[0m\u001b[0m\n",
      "\u001b[0;32m~/.pyenv/versions/3.6.4/envs/content-similarity-3.6.4/lib/python3.6/site-packages/sklearn/externals/joblib/parallel.py\u001b[0m in \u001b[0;36m__call__\u001b[0;34m(self, iterable)\u001b[0m\n\u001b[1;32m    928\u001b[0m \u001b[0;34m\u001b[0m\u001b[0m\n\u001b[1;32m    929\u001b[0m             \u001b[0;32mwith\u001b[0m \u001b[0mself\u001b[0m\u001b[0;34m.\u001b[0m\u001b[0m_backend\u001b[0m\u001b[0;34m.\u001b[0m\u001b[0mretrieval_context\u001b[0m\u001b[0;34m(\u001b[0m\u001b[0;34m)\u001b[0m\u001b[0;34m:\u001b[0m\u001b[0;34m\u001b[0m\u001b[0m\n\u001b[0;32m--> 930\u001b[0;31m                 \u001b[0mself\u001b[0m\u001b[0;34m.\u001b[0m\u001b[0mretrieve\u001b[0m\u001b[0;34m(\u001b[0m\u001b[0;34m)\u001b[0m\u001b[0;34m\u001b[0m\u001b[0m\n\u001b[0m\u001b[1;32m    931\u001b[0m             \u001b[0;31m# Make sure that we get a last message telling us we are done\u001b[0m\u001b[0;34m\u001b[0m\u001b[0;34m\u001b[0m\u001b[0m\n\u001b[1;32m    932\u001b[0m             \u001b[0melapsed_time\u001b[0m \u001b[0;34m=\u001b[0m \u001b[0mtime\u001b[0m\u001b[0;34m.\u001b[0m\u001b[0mtime\u001b[0m\u001b[0;34m(\u001b[0m\u001b[0;34m)\u001b[0m \u001b[0;34m-\u001b[0m \u001b[0mself\u001b[0m\u001b[0;34m.\u001b[0m\u001b[0m_start_time\u001b[0m\u001b[0;34m\u001b[0m\u001b[0m\n",
      "\u001b[0;32m~/.pyenv/versions/3.6.4/envs/content-similarity-3.6.4/lib/python3.6/site-packages/sklearn/externals/joblib/parallel.py\u001b[0m in \u001b[0;36mretrieve\u001b[0;34m(self)\u001b[0m\n\u001b[1;32m    831\u001b[0m             \u001b[0;32mtry\u001b[0m\u001b[0;34m:\u001b[0m\u001b[0;34m\u001b[0m\u001b[0m\n\u001b[1;32m    832\u001b[0m                 \u001b[0;32mif\u001b[0m \u001b[0mgetattr\u001b[0m\u001b[0;34m(\u001b[0m\u001b[0mself\u001b[0m\u001b[0;34m.\u001b[0m\u001b[0m_backend\u001b[0m\u001b[0;34m,\u001b[0m \u001b[0;34m'supports_timeout'\u001b[0m\u001b[0;34m,\u001b[0m \u001b[0;32mFalse\u001b[0m\u001b[0;34m)\u001b[0m\u001b[0;34m:\u001b[0m\u001b[0;34m\u001b[0m\u001b[0m\n\u001b[0;32m--> 833\u001b[0;31m                     \u001b[0mself\u001b[0m\u001b[0;34m.\u001b[0m\u001b[0m_output\u001b[0m\u001b[0;34m.\u001b[0m\u001b[0mextend\u001b[0m\u001b[0;34m(\u001b[0m\u001b[0mjob\u001b[0m\u001b[0;34m.\u001b[0m\u001b[0mget\u001b[0m\u001b[0;34m(\u001b[0m\u001b[0mtimeout\u001b[0m\u001b[0;34m=\u001b[0m\u001b[0mself\u001b[0m\u001b[0;34m.\u001b[0m\u001b[0mtimeout\u001b[0m\u001b[0;34m)\u001b[0m\u001b[0;34m)\u001b[0m\u001b[0;34m\u001b[0m\u001b[0m\n\u001b[0m\u001b[1;32m    834\u001b[0m                 \u001b[0;32melse\u001b[0m\u001b[0;34m:\u001b[0m\u001b[0;34m\u001b[0m\u001b[0m\n\u001b[1;32m    835\u001b[0m                     \u001b[0mself\u001b[0m\u001b[0;34m.\u001b[0m\u001b[0m_output\u001b[0m\u001b[0;34m.\u001b[0m\u001b[0mextend\u001b[0m\u001b[0;34m(\u001b[0m\u001b[0mjob\u001b[0m\u001b[0;34m.\u001b[0m\u001b[0mget\u001b[0m\u001b[0;34m(\u001b[0m\u001b[0;34m)\u001b[0m\u001b[0;34m)\u001b[0m\u001b[0;34m\u001b[0m\u001b[0m\n",
      "\u001b[0;32m~/.pyenv/versions/3.6.4/envs/content-similarity-3.6.4/lib/python3.6/site-packages/sklearn/externals/joblib/_parallel_backends.py\u001b[0m in \u001b[0;36mwrap_future_result\u001b[0;34m(future, timeout)\u001b[0m\n\u001b[1;32m    519\u001b[0m         AsyncResults.get from multiprocessing.\"\"\"\n\u001b[1;32m    520\u001b[0m         \u001b[0;32mtry\u001b[0m\u001b[0;34m:\u001b[0m\u001b[0;34m\u001b[0m\u001b[0m\n\u001b[0;32m--> 521\u001b[0;31m             \u001b[0;32mreturn\u001b[0m \u001b[0mfuture\u001b[0m\u001b[0;34m.\u001b[0m\u001b[0mresult\u001b[0m\u001b[0;34m(\u001b[0m\u001b[0mtimeout\u001b[0m\u001b[0;34m=\u001b[0m\u001b[0mtimeout\u001b[0m\u001b[0;34m)\u001b[0m\u001b[0;34m\u001b[0m\u001b[0m\n\u001b[0m\u001b[1;32m    522\u001b[0m         \u001b[0;32mexcept\u001b[0m \u001b[0mLokyTimeoutError\u001b[0m\u001b[0;34m:\u001b[0m\u001b[0;34m\u001b[0m\u001b[0m\n\u001b[1;32m    523\u001b[0m             \u001b[0;32mraise\u001b[0m \u001b[0mTimeoutError\u001b[0m\u001b[0;34m(\u001b[0m\u001b[0;34m)\u001b[0m\u001b[0;34m\u001b[0m\u001b[0m\n",
      "\u001b[0;32m~/.pyenv/versions/3.6.4/lib/python3.6/concurrent/futures/_base.py\u001b[0m in \u001b[0;36mresult\u001b[0;34m(self, timeout)\u001b[0m\n\u001b[1;32m    425\u001b[0m                 \u001b[0;32mreturn\u001b[0m \u001b[0mself\u001b[0m\u001b[0;34m.\u001b[0m\u001b[0m__get_result\u001b[0m\u001b[0;34m(\u001b[0m\u001b[0;34m)\u001b[0m\u001b[0;34m\u001b[0m\u001b[0m\n\u001b[1;32m    426\u001b[0m \u001b[0;34m\u001b[0m\u001b[0m\n\u001b[0;32m--> 427\u001b[0;31m             \u001b[0mself\u001b[0m\u001b[0;34m.\u001b[0m\u001b[0m_condition\u001b[0m\u001b[0;34m.\u001b[0m\u001b[0mwait\u001b[0m\u001b[0;34m(\u001b[0m\u001b[0mtimeout\u001b[0m\u001b[0;34m)\u001b[0m\u001b[0;34m\u001b[0m\u001b[0m\n\u001b[0m\u001b[1;32m    428\u001b[0m \u001b[0;34m\u001b[0m\u001b[0m\n\u001b[1;32m    429\u001b[0m             \u001b[0;32mif\u001b[0m \u001b[0mself\u001b[0m\u001b[0;34m.\u001b[0m\u001b[0m_state\u001b[0m \u001b[0;32min\u001b[0m \u001b[0;34m[\u001b[0m\u001b[0mCANCELLED\u001b[0m\u001b[0;34m,\u001b[0m \u001b[0mCANCELLED_AND_NOTIFIED\u001b[0m\u001b[0;34m]\u001b[0m\u001b[0;34m:\u001b[0m\u001b[0;34m\u001b[0m\u001b[0m\n",
      "\u001b[0;32m~/.pyenv/versions/3.6.4/lib/python3.6/threading.py\u001b[0m in \u001b[0;36mwait\u001b[0;34m(self, timeout)\u001b[0m\n\u001b[1;32m    293\u001b[0m         \u001b[0;32mtry\u001b[0m\u001b[0;34m:\u001b[0m    \u001b[0;31m# restore state no matter what (e.g., KeyboardInterrupt)\u001b[0m\u001b[0;34m\u001b[0m\u001b[0m\n\u001b[1;32m    294\u001b[0m             \u001b[0;32mif\u001b[0m \u001b[0mtimeout\u001b[0m \u001b[0;32mis\u001b[0m \u001b[0;32mNone\u001b[0m\u001b[0;34m:\u001b[0m\u001b[0;34m\u001b[0m\u001b[0m\n\u001b[0;32m--> 295\u001b[0;31m                 \u001b[0mwaiter\u001b[0m\u001b[0;34m.\u001b[0m\u001b[0macquire\u001b[0m\u001b[0;34m(\u001b[0m\u001b[0;34m)\u001b[0m\u001b[0;34m\u001b[0m\u001b[0m\n\u001b[0m\u001b[1;32m    296\u001b[0m                 \u001b[0mgotit\u001b[0m \u001b[0;34m=\u001b[0m \u001b[0;32mTrue\u001b[0m\u001b[0;34m\u001b[0m\u001b[0m\n\u001b[1;32m    297\u001b[0m             \u001b[0;32melse\u001b[0m\u001b[0;34m:\u001b[0m\u001b[0;34m\u001b[0m\u001b[0m\n",
      "\u001b[0;31mKeyboardInterrupt\u001b[0m: "
     ]
    }
   ],
   "source": [
    "links_thresholds = pd.DataFrame(columns=['vector_id', 'thresholds', 'numlinks'])\n",
    "for i, (_, D_chunk) in enumerate(tqdm_notebook(gen)):     \n",
    "    numlinks = []\n",
    "    for threshold in np.arange(0, 0.42, 0.02):\n",
    "        numlinks.append(D_chunk[D_chunk<threshold].shape[0])\n",
    "    i_links_thresholds = pd.DataFrame({'vector_id': i, \n",
    "                             'thresholds': np.arange(0, 0.42, 0.02), \n",
    "                             'numlinks': np.asarray(numlinks).astype(int)})\n",
    "    links_thresholds = links_thresholds.append(i_links_thresholds, ignore_index=True)"
   ]
  },
  {
   "cell_type": "code",
   "execution_count": 389,
   "metadata": {},
   "outputs": [],
   "source": [
    "links_thresholds['numlinks'] = links_thresholds['numlinks'].astype(int)"
   ]
  },
  {
   "cell_type": "code",
   "execution_count": 390,
   "metadata": {},
   "outputs": [],
   "source": [
    "links_thresholds['numlinks_minus_self'] = links_thresholds['numlinks']-1"
   ]
  },
  {
   "cell_type": "code",
   "execution_count": 391,
   "metadata": {},
   "outputs": [
    {
     "data": {
      "text/html": [
       "<div>\n",
       "<style scoped>\n",
       "    .dataframe tbody tr th:only-of-type {\n",
       "        vertical-align: middle;\n",
       "    }\n",
       "\n",
       "    .dataframe tbody tr th {\n",
       "        vertical-align: top;\n",
       "    }\n",
       "\n",
       "    .dataframe thead th {\n",
       "        text-align: right;\n",
       "    }\n",
       "</style>\n",
       "<table border=\"1\" class=\"dataframe\">\n",
       "  <thead>\n",
       "    <tr style=\"text-align: right;\">\n",
       "      <th></th>\n",
       "      <th>count</th>\n",
       "      <th>mean</th>\n",
       "      <th>std</th>\n",
       "      <th>min</th>\n",
       "      <th>25%</th>\n",
       "      <th>50%</th>\n",
       "      <th>75%</th>\n",
       "      <th>max</th>\n",
       "    </tr>\n",
       "    <tr>\n",
       "      <th>thresholds</th>\n",
       "      <th></th>\n",
       "      <th></th>\n",
       "      <th></th>\n",
       "      <th></th>\n",
       "      <th></th>\n",
       "      <th></th>\n",
       "      <th></th>\n",
       "      <th></th>\n",
       "    </tr>\n",
       "  </thead>\n",
       "  <tbody>\n",
       "    <tr>\n",
       "      <th>0.00</th>\n",
       "      <td>2000.0</td>\n",
       "      <td>-1.0000</td>\n",
       "      <td>0.000000</td>\n",
       "      <td>-1.0</td>\n",
       "      <td>-1.0</td>\n",
       "      <td>-1.0</td>\n",
       "      <td>-1.0</td>\n",
       "      <td>-1.0</td>\n",
       "    </tr>\n",
       "    <tr>\n",
       "      <th>0.02</th>\n",
       "      <td>2000.0</td>\n",
       "      <td>1.1250</td>\n",
       "      <td>3.870771</td>\n",
       "      <td>0.0</td>\n",
       "      <td>0.0</td>\n",
       "      <td>0.0</td>\n",
       "      <td>0.0</td>\n",
       "      <td>19.0</td>\n",
       "    </tr>\n",
       "    <tr>\n",
       "      <th>0.04</th>\n",
       "      <td>2000.0</td>\n",
       "      <td>1.8970</td>\n",
       "      <td>5.092382</td>\n",
       "      <td>0.0</td>\n",
       "      <td>0.0</td>\n",
       "      <td>0.0</td>\n",
       "      <td>0.0</td>\n",
       "      <td>19.0</td>\n",
       "    </tr>\n",
       "    <tr>\n",
       "      <th>0.06</th>\n",
       "      <td>2000.0</td>\n",
       "      <td>2.5295</td>\n",
       "      <td>5.657219</td>\n",
       "      <td>0.0</td>\n",
       "      <td>0.0</td>\n",
       "      <td>0.0</td>\n",
       "      <td>1.0</td>\n",
       "      <td>19.0</td>\n",
       "    </tr>\n",
       "    <tr>\n",
       "      <th>0.08</th>\n",
       "      <td>2000.0</td>\n",
       "      <td>3.4470</td>\n",
       "      <td>6.263610</td>\n",
       "      <td>0.0</td>\n",
       "      <td>0.0</td>\n",
       "      <td>0.0</td>\n",
       "      <td>3.0</td>\n",
       "      <td>19.0</td>\n",
       "    </tr>\n",
       "    <tr>\n",
       "      <th>0.10</th>\n",
       "      <td>2000.0</td>\n",
       "      <td>5.0300</td>\n",
       "      <td>7.102910</td>\n",
       "      <td>0.0</td>\n",
       "      <td>0.0</td>\n",
       "      <td>1.0</td>\n",
       "      <td>7.0</td>\n",
       "      <td>19.0</td>\n",
       "    </tr>\n",
       "    <tr>\n",
       "      <th>0.12</th>\n",
       "      <td>2000.0</td>\n",
       "      <td>7.1685</td>\n",
       "      <td>7.861362</td>\n",
       "      <td>0.0</td>\n",
       "      <td>0.0</td>\n",
       "      <td>3.0</td>\n",
       "      <td>19.0</td>\n",
       "      <td>19.0</td>\n",
       "    </tr>\n",
       "    <tr>\n",
       "      <th>0.14</th>\n",
       "      <td>2000.0</td>\n",
       "      <td>9.3515</td>\n",
       "      <td>8.090035</td>\n",
       "      <td>0.0</td>\n",
       "      <td>1.0</td>\n",
       "      <td>7.0</td>\n",
       "      <td>19.0</td>\n",
       "      <td>19.0</td>\n",
       "    </tr>\n",
       "    <tr>\n",
       "      <th>0.16</th>\n",
       "      <td>2000.0</td>\n",
       "      <td>11.6215</td>\n",
       "      <td>7.866713</td>\n",
       "      <td>0.0</td>\n",
       "      <td>3.0</td>\n",
       "      <td>16.0</td>\n",
       "      <td>19.0</td>\n",
       "      <td>19.0</td>\n",
       "    </tr>\n",
       "    <tr>\n",
       "      <th>0.18</th>\n",
       "      <td>2000.0</td>\n",
       "      <td>13.6655</td>\n",
       "      <td>7.248302</td>\n",
       "      <td>0.0</td>\n",
       "      <td>7.0</td>\n",
       "      <td>19.0</td>\n",
       "      <td>19.0</td>\n",
       "      <td>19.0</td>\n",
       "    </tr>\n",
       "    <tr>\n",
       "      <th>0.20</th>\n",
       "      <td>2000.0</td>\n",
       "      <td>15.2860</td>\n",
       "      <td>6.449574</td>\n",
       "      <td>0.0</td>\n",
       "      <td>13.0</td>\n",
       "      <td>19.0</td>\n",
       "      <td>19.0</td>\n",
       "      <td>19.0</td>\n",
       "    </tr>\n",
       "    <tr>\n",
       "      <th>0.22</th>\n",
       "      <td>2000.0</td>\n",
       "      <td>16.5250</td>\n",
       "      <td>5.457588</td>\n",
       "      <td>0.0</td>\n",
       "      <td>19.0</td>\n",
       "      <td>19.0</td>\n",
       "      <td>19.0</td>\n",
       "      <td>19.0</td>\n",
       "    </tr>\n",
       "    <tr>\n",
       "      <th>0.24</th>\n",
       "      <td>2000.0</td>\n",
       "      <td>17.4585</td>\n",
       "      <td>4.374454</td>\n",
       "      <td>0.0</td>\n",
       "      <td>19.0</td>\n",
       "      <td>19.0</td>\n",
       "      <td>19.0</td>\n",
       "      <td>19.0</td>\n",
       "    </tr>\n",
       "    <tr>\n",
       "      <th>0.26</th>\n",
       "      <td>2000.0</td>\n",
       "      <td>18.0930</td>\n",
       "      <td>3.496350</td>\n",
       "      <td>0.0</td>\n",
       "      <td>19.0</td>\n",
       "      <td>19.0</td>\n",
       "      <td>19.0</td>\n",
       "      <td>19.0</td>\n",
       "    </tr>\n",
       "    <tr>\n",
       "      <th>0.28</th>\n",
       "      <td>2000.0</td>\n",
       "      <td>18.4285</td>\n",
       "      <td>2.808885</td>\n",
       "      <td>0.0</td>\n",
       "      <td>19.0</td>\n",
       "      <td>19.0</td>\n",
       "      <td>19.0</td>\n",
       "      <td>19.0</td>\n",
       "    </tr>\n",
       "    <tr>\n",
       "      <th>0.30</th>\n",
       "      <td>2000.0</td>\n",
       "      <td>18.6340</td>\n",
       "      <td>2.198058</td>\n",
       "      <td>0.0</td>\n",
       "      <td>19.0</td>\n",
       "      <td>19.0</td>\n",
       "      <td>19.0</td>\n",
       "      <td>19.0</td>\n",
       "    </tr>\n",
       "    <tr>\n",
       "      <th>0.32</th>\n",
       "      <td>2000.0</td>\n",
       "      <td>18.8275</td>\n",
       "      <td>1.469974</td>\n",
       "      <td>0.0</td>\n",
       "      <td>19.0</td>\n",
       "      <td>19.0</td>\n",
       "      <td>19.0</td>\n",
       "      <td>19.0</td>\n",
       "    </tr>\n",
       "    <tr>\n",
       "      <th>0.34</th>\n",
       "      <td>2000.0</td>\n",
       "      <td>18.9015</td>\n",
       "      <td>1.157354</td>\n",
       "      <td>0.0</td>\n",
       "      <td>19.0</td>\n",
       "      <td>19.0</td>\n",
       "      <td>19.0</td>\n",
       "      <td>19.0</td>\n",
       "    </tr>\n",
       "    <tr>\n",
       "      <th>0.36</th>\n",
       "      <td>2000.0</td>\n",
       "      <td>18.9425</td>\n",
       "      <td>0.807168</td>\n",
       "      <td>2.0</td>\n",
       "      <td>19.0</td>\n",
       "      <td>19.0</td>\n",
       "      <td>19.0</td>\n",
       "      <td>19.0</td>\n",
       "    </tr>\n",
       "    <tr>\n",
       "      <th>0.38</th>\n",
       "      <td>2000.0</td>\n",
       "      <td>18.9695</td>\n",
       "      <td>0.565446</td>\n",
       "      <td>3.0</td>\n",
       "      <td>19.0</td>\n",
       "      <td>19.0</td>\n",
       "      <td>19.0</td>\n",
       "      <td>19.0</td>\n",
       "    </tr>\n",
       "    <tr>\n",
       "      <th>0.40</th>\n",
       "      <td>2000.0</td>\n",
       "      <td>18.9840</td>\n",
       "      <td>0.319053</td>\n",
       "      <td>10.0</td>\n",
       "      <td>19.0</td>\n",
       "      <td>19.0</td>\n",
       "      <td>19.0</td>\n",
       "      <td>19.0</td>\n",
       "    </tr>\n",
       "  </tbody>\n",
       "</table>\n",
       "</div>"
      ],
      "text/plain": [
       "             count     mean       std   min   25%   50%   75%   max\n",
       "thresholds                                                         \n",
       "0.00        2000.0  -1.0000  0.000000  -1.0  -1.0  -1.0  -1.0  -1.0\n",
       "0.02        2000.0   1.1250  3.870771   0.0   0.0   0.0   0.0  19.0\n",
       "0.04        2000.0   1.8970  5.092382   0.0   0.0   0.0   0.0  19.0\n",
       "0.06        2000.0   2.5295  5.657219   0.0   0.0   0.0   1.0  19.0\n",
       "0.08        2000.0   3.4470  6.263610   0.0   0.0   0.0   3.0  19.0\n",
       "0.10        2000.0   5.0300  7.102910   0.0   0.0   1.0   7.0  19.0\n",
       "0.12        2000.0   7.1685  7.861362   0.0   0.0   3.0  19.0  19.0\n",
       "0.14        2000.0   9.3515  8.090035   0.0   1.0   7.0  19.0  19.0\n",
       "0.16        2000.0  11.6215  7.866713   0.0   3.0  16.0  19.0  19.0\n",
       "0.18        2000.0  13.6655  7.248302   0.0   7.0  19.0  19.0  19.0\n",
       "0.20        2000.0  15.2860  6.449574   0.0  13.0  19.0  19.0  19.0\n",
       "0.22        2000.0  16.5250  5.457588   0.0  19.0  19.0  19.0  19.0\n",
       "0.24        2000.0  17.4585  4.374454   0.0  19.0  19.0  19.0  19.0\n",
       "0.26        2000.0  18.0930  3.496350   0.0  19.0  19.0  19.0  19.0\n",
       "0.28        2000.0  18.4285  2.808885   0.0  19.0  19.0  19.0  19.0\n",
       "0.30        2000.0  18.6340  2.198058   0.0  19.0  19.0  19.0  19.0\n",
       "0.32        2000.0  18.8275  1.469974   0.0  19.0  19.0  19.0  19.0\n",
       "0.34        2000.0  18.9015  1.157354   0.0  19.0  19.0  19.0  19.0\n",
       "0.36        2000.0  18.9425  0.807168   2.0  19.0  19.0  19.0  19.0\n",
       "0.38        2000.0  18.9695  0.565446   3.0  19.0  19.0  19.0  19.0\n",
       "0.40        2000.0  18.9840  0.319053  10.0  19.0  19.0  19.0  19.0"
      ]
     },
     "execution_count": 391,
     "metadata": {},
     "output_type": "execute_result"
    }
   ],
   "source": [
    "links_thresholds['numlinks_minus_self'].groupby(links_thresholds['thresholds']).describe()"
   ]
  },
  {
   "cell_type": "markdown",
   "metadata": {},
   "source": [
    "### Save out a list to spot check"
   ]
  },
  {
   "cell_type": "code",
   "execution_count": 409,
   "metadata": {},
   "outputs": [
    {
     "data": {
      "text/plain": [
       "whitehall                163978\n",
       "specialist-publisher      36122\n",
       "publisher                  2285\n",
       "hmrc-manuals-api             77\n",
       "manuals-publisher            34\n",
       "smartanswers                 31\n",
       "collections-publisher        22\n",
       "calendars                     2\n",
       "Name: publishing_app, dtype: int64"
      ]
     },
     "execution_count": 409,
     "metadata": {},
     "output_type": "execute_result"
    }
   ],
   "source": [
    "labelled_unique.publishing_app.value_counts()"
   ]
  },
  {
   "cell_type": "code",
   "execution_count": 431,
   "metadata": {},
   "outputs": [
    {
     "data": {
      "text/plain": [
       "(202551, 21)"
      ]
     },
     "execution_count": 431,
     "metadata": {},
     "output_type": "execute_result"
    }
   ],
   "source": [
    "labelled_unique.shape"
   ]
  },
  {
   "cell_type": "code",
   "execution_count": 432,
   "metadata": {},
   "outputs": [
    {
     "data": {
      "text/plain": [
       "(202551, 512)"
      ]
     },
     "execution_count": 432,
     "metadata": {},
     "output_type": "execute_result"
    }
   ],
   "source": [
    "embedded_docs_unique.shape"
   ]
  },
  {
   "cell_type": "code",
   "execution_count": 434,
   "metadata": {},
   "outputs": [],
   "source": [
    "embedded_docs_publisher = embedded_docs_unique[labelled_unique['publishing_app']=='publisher']"
   ]
  },
  {
   "cell_type": "code",
   "execution_count": 414,
   "metadata": {},
   "outputs": [],
   "source": [
    "labelled_unique['url'] = 'www.gov.uk'+labelled_unique.base_path"
   ]
  },
  {
   "cell_type": "code",
   "execution_count": 438,
   "metadata": {},
   "outputs": [],
   "source": [
    "labelled_publisher = labelled_unique[labelled_unique['publishing_app']=='publisher']"
   ]
  },
  {
   "cell_type": "code",
   "execution_count": 435,
   "metadata": {},
   "outputs": [
    {
     "data": {
      "text/plain": [
       "(2285, 512)"
      ]
     },
     "execution_count": 435,
     "metadata": {},
     "output_type": "execute_result"
    }
   ],
   "source": [
    "embedded_docs_publisher.shape"
   ]
  },
  {
   "cell_type": "code",
   "execution_count": 439,
   "metadata": {},
   "outputs": [
    {
     "data": {
      "text/plain": [
       "(2285, 21)"
      ]
     },
     "execution_count": 439,
     "metadata": {},
     "output_type": "execute_result"
    }
   ],
   "source": [
    "labelled_publisher.shape"
   ]
  },
  {
   "cell_type": "code",
   "execution_count": 452,
   "metadata": {},
   "outputs": [],
   "source": [
    "gen_pub = pairwise_distances_chunked(X=embedded_docs_publisher,\n",
    "                                 Y=embedded_docs_unique, \n",
    "                       \n",
    "                                     reduce_func=reduce_func, \n",
    "                                 working_memory=0, \n",
    "                                 metric='cosine', \n",
    "                                 n_jobs=-1)"
   ]
  },
  {
   "cell_type": "code",
   "execution_count": null,
   "metadata": {},
   "outputs": [],
   "source": [
    "labelled_unique['url'].iloc[0]"
   ]
  },
  {
   "cell_type": "code",
   "execution_count": 453,
   "metadata": {},
   "outputs": [
    {
     "data": {
      "application/vnd.jupyter.widget-view+json": {
       "model_id": "3c31c350e9744bc386c4c404daf6f823",
       "version_major": 2,
       "version_minor": 0
      },
      "text/plain": [
       "HBox(children=(IntProgress(value=1, bar_style='info', max=1), HTML(value='')))"
      ]
     },
     "metadata": {},
     "output_type": "display_data"
    }
   ],
   "source": [
    "source_links = []\n",
    "target_links = []\n",
    "urls = pd.DataFrame(columns=['source_url', 'suggested_links', 'cosine_sims'])\n",
    "for i, (indices, values) in enumerate(tqdm_notebook(gen_pub)):\n",
    "\n",
    "    source_url = labelled_unique.iat[indices[0][0], -1]\n",
    "    target_urls = pd.Series(labelled_unique['url'].iloc[indices.reshape(20)]) \n",
    "#     cosine_sims = pd.Series(values)\n",
    "    i_urls = pd.DataFrame({'source_url': source_url, \n",
    "                             'suggested_links': target_urls, \n",
    "                             'cosine_sims': values.reshape(20)})\n",
    "    urls = urls.append(i_urls, ignore_index=True)"
   ]
  },
  {
   "cell_type": "code",
   "execution_count": 454,
   "metadata": {},
   "outputs": [
    {
     "data": {
      "text/plain": [
       "publisher    45700\n",
       "Name: publishing_app, dtype: int64"
      ]
     },
     "execution_count": 454,
     "metadata": {},
     "output_type": "execute_result"
    }
   ],
   "source": [
    "#get a sample with more mainstream content in it\n",
    "url_publishing_dict = dict(zip(labelled_unique.url, labelled_unique.publishing_app))\n",
    "urls_moremainstream = urls.copy()\n",
    "urls_moremainstream['publishing_app'] = urls_moremainstream['source_url'].map(url_publishing_dict)\n",
    "urls_moremainstream.publishing_app.value_counts()"
   ]
  },
  {
   "cell_type": "code",
   "execution_count": 457,
   "metadata": {},
   "outputs": [
    {
     "data": {
      "text/plain": [
       "200.0"
      ]
     },
     "execution_count": 457,
     "metadata": {},
     "output_type": "execute_result"
    }
   ],
   "source": [
    "4000/20"
   ]
  },
  {
   "cell_type": "code",
   "execution_count": 458,
   "metadata": {},
   "outputs": [],
   "source": [
    "urls.to_csv(\"spot_check_google_links_publisher_all.csv\", index=False)"
   ]
  },
  {
   "cell_type": "markdown",
   "metadata": {},
   "source": [
    "These links ALL look really bad. \n",
    "Need to check indexing. \n",
    "Start with doc2vec?"
   ]
  },
  {
   "cell_type": "markdown",
   "metadata": {},
   "source": [
    "### Generate links for ingesting into content_store"
   ]
  },
  {
   "cell_type": "code",
   "execution_count": 400,
   "metadata": {},
   "outputs": [],
   "source": [
    "def reduce_to_top_3(D_chunk, start):\n",
    "    top_k_indices = np.argpartition(D_chunk\n",
    "                                    , range(3))[:3]\n",
    "    return top_k_indices[ :, :3], D_chunk[:, top_k_indices[ :, :3]]"
   ]
  },
  {
   "cell_type": "code",
   "execution_count": 403,
   "metadata": {},
   "outputs": [],
   "source": [
    "gen3 = pairwise_distances_chunked(embedded_docs_unique, \n",
    "                                 reduce_func=reduce_to_top_3, \n",
    "                                 working_memory=0, \n",
    "                                 metric='cosine', \n",
    "                                 n_jobs=-1)"
   ]
  },
  {
   "cell_type": "code",
   "execution_count": 404,
   "metadata": {},
   "outputs": [
    {
     "data": {
      "application/vnd.jupyter.widget-view+json": {
       "model_id": "a96232ef27884523ba372f8cbc9170f4",
       "version_major": 2,
       "version_minor": 0
      },
      "text/plain": [
       "HBox(children=(IntProgress(value=1, bar_style='info', max=1), HTML(value='')))"
      ]
     },
     "metadata": {},
     "output_type": "display_data"
    },
    {
     "ename": "KeyboardInterrupt",
     "evalue": "",
     "output_type": "error",
     "traceback": [
      "\u001b[0;31m---------------------------------------------------------------------------\u001b[0m",
      "\u001b[0;31mKeyboardInterrupt\u001b[0m                         Traceback (most recent call last)",
      "\u001b[0;32m<ipython-input-404-fbf971d367cd>\u001b[0m in \u001b[0;36m<module>\u001b[0;34m\u001b[0m\n\u001b[1;32m      7\u001b[0m \u001b[0mtarget_links\u001b[0m \u001b[0;34m=\u001b[0m \u001b[0;34m[\u001b[0m\u001b[0;34m]\u001b[0m\u001b[0;34m\u001b[0m\u001b[0m\n\u001b[1;32m      8\u001b[0m \u001b[0;34m\u001b[0m\u001b[0m\n\u001b[0;32m----> 9\u001b[0;31m \u001b[0;32mfor\u001b[0m \u001b[0mi\u001b[0m\u001b[0;34m,\u001b[0m \u001b[0;34m(\u001b[0m\u001b[0mindices\u001b[0m\u001b[0;34m,\u001b[0m \u001b[0mvalues\u001b[0m\u001b[0;34m)\u001b[0m \u001b[0;32min\u001b[0m \u001b[0menumerate\u001b[0m\u001b[0;34m(\u001b[0m\u001b[0mtqdm_notebook\u001b[0m\u001b[0;34m(\u001b[0m\u001b[0mgen3\u001b[0m\u001b[0;34m)\u001b[0m\u001b[0;34m)\u001b[0m\u001b[0;34m:\u001b[0m\u001b[0;34m\u001b[0m\u001b[0m\n\u001b[0m\u001b[1;32m     10\u001b[0m \u001b[0;34m\u001b[0m\u001b[0m\n\u001b[1;32m     11\u001b[0m     \u001b[0msource_content_id\u001b[0m \u001b[0;34m=\u001b[0m \u001b[0mlabelled_unique\u001b[0m\u001b[0;34m.\u001b[0m\u001b[0miat\u001b[0m\u001b[0;34m[\u001b[0m\u001b[0mi\u001b[0m\u001b[0;34m,\u001b[0m \u001b[0;36m1\u001b[0m\u001b[0;34m]\u001b[0m\u001b[0;34m\u001b[0m\u001b[0m\n",
      "\u001b[0;32m~/.pyenv/versions/3.6.4/envs/content-similarity-3.6.4/lib/python3.6/site-packages/tqdm/_tqdm_notebook.py\u001b[0m in \u001b[0;36m__iter__\u001b[0;34m(self, *args, **kwargs)\u001b[0m\n\u001b[1;32m    219\u001b[0m     \u001b[0;32mdef\u001b[0m \u001b[0m__iter__\u001b[0m\u001b[0;34m(\u001b[0m\u001b[0mself\u001b[0m\u001b[0;34m,\u001b[0m \u001b[0;34m*\u001b[0m\u001b[0margs\u001b[0m\u001b[0;34m,\u001b[0m \u001b[0;34m**\u001b[0m\u001b[0mkwargs\u001b[0m\u001b[0;34m)\u001b[0m\u001b[0;34m:\u001b[0m\u001b[0;34m\u001b[0m\u001b[0m\n\u001b[1;32m    220\u001b[0m         \u001b[0;32mtry\u001b[0m\u001b[0;34m:\u001b[0m\u001b[0;34m\u001b[0m\u001b[0m\n\u001b[0;32m--> 221\u001b[0;31m             \u001b[0;32mfor\u001b[0m \u001b[0mobj\u001b[0m \u001b[0;32min\u001b[0m \u001b[0msuper\u001b[0m\u001b[0;34m(\u001b[0m\u001b[0mtqdm_notebook\u001b[0m\u001b[0;34m,\u001b[0m \u001b[0mself\u001b[0m\u001b[0;34m)\u001b[0m\u001b[0;34m.\u001b[0m\u001b[0m__iter__\u001b[0m\u001b[0;34m(\u001b[0m\u001b[0;34m*\u001b[0m\u001b[0margs\u001b[0m\u001b[0;34m,\u001b[0m \u001b[0;34m**\u001b[0m\u001b[0mkwargs\u001b[0m\u001b[0;34m)\u001b[0m\u001b[0;34m:\u001b[0m\u001b[0;34m\u001b[0m\u001b[0m\n\u001b[0m\u001b[1;32m    222\u001b[0m                 \u001b[0;31m# return super(tqdm...) will not catch exception\u001b[0m\u001b[0;34m\u001b[0m\u001b[0;34m\u001b[0m\u001b[0m\n\u001b[1;32m    223\u001b[0m                 \u001b[0;32myield\u001b[0m \u001b[0mobj\u001b[0m\u001b[0;34m\u001b[0m\u001b[0m\n",
      "\u001b[0;32m~/.pyenv/versions/3.6.4/envs/content-similarity-3.6.4/lib/python3.6/site-packages/tqdm/_tqdm.py\u001b[0m in \u001b[0;36m__iter__\u001b[0;34m(self)\u001b[0m\n\u001b[1;32m    977\u001b[0m \"\"\", fp_write=getattr(self.fp, 'write', sys.stderr.write))\n\u001b[1;32m    978\u001b[0m \u001b[0;34m\u001b[0m\u001b[0m\n\u001b[0;32m--> 979\u001b[0;31m             \u001b[0;32mfor\u001b[0m \u001b[0mobj\u001b[0m \u001b[0;32min\u001b[0m \u001b[0miterable\u001b[0m\u001b[0;34m:\u001b[0m\u001b[0;34m\u001b[0m\u001b[0m\n\u001b[0m\u001b[1;32m    980\u001b[0m                 \u001b[0;32myield\u001b[0m \u001b[0mobj\u001b[0m\u001b[0;34m\u001b[0m\u001b[0m\n\u001b[1;32m    981\u001b[0m                 \u001b[0;31m# Update and possibly print the progressbar.\u001b[0m\u001b[0;34m\u001b[0m\u001b[0;34m\u001b[0m\u001b[0m\n",
      "\u001b[0;32m~/.pyenv/versions/3.6.4/envs/content-similarity-3.6.4/lib/python3.6/site-packages/sklearn/metrics/pairwise.py\u001b[0m in \u001b[0;36mpairwise_distances_chunked\u001b[0;34m(X, Y, reduce_func, metric, n_jobs, working_memory, **kwds)\u001b[0m\n\u001b[1;32m   1278\u001b[0m             \u001b[0mX_chunk\u001b[0m \u001b[0;34m=\u001b[0m \u001b[0mX\u001b[0m\u001b[0;34m[\u001b[0m\u001b[0msl\u001b[0m\u001b[0;34m]\u001b[0m\u001b[0;34m\u001b[0m\u001b[0m\n\u001b[1;32m   1279\u001b[0m         D_chunk = pairwise_distances(X_chunk, Y, metric=metric,\n\u001b[0;32m-> 1280\u001b[0;31m                                      n_jobs=n_jobs, **kwds)\n\u001b[0m\u001b[1;32m   1281\u001b[0m         if ((X is Y or Y is None)\n\u001b[1;32m   1282\u001b[0m                 \u001b[0;32mand\u001b[0m \u001b[0mPAIRWISE_DISTANCE_FUNCTIONS\u001b[0m\u001b[0;34m.\u001b[0m\u001b[0mget\u001b[0m\u001b[0;34m(\u001b[0m\u001b[0mmetric\u001b[0m\u001b[0;34m,\u001b[0m \u001b[0;32mNone\u001b[0m\u001b[0;34m)\u001b[0m\u001b[0;34m\u001b[0m\u001b[0m\n",
      "\u001b[0;32m~/.pyenv/versions/3.6.4/envs/content-similarity-3.6.4/lib/python3.6/site-packages/sklearn/metrics/pairwise.py\u001b[0m in \u001b[0;36mpairwise_distances\u001b[0;34m(X, Y, metric, n_jobs, **kwds)\u001b[0m\n\u001b[1;32m   1404\u001b[0m         \u001b[0mfunc\u001b[0m \u001b[0;34m=\u001b[0m \u001b[0mpartial\u001b[0m\u001b[0;34m(\u001b[0m\u001b[0mdistance\u001b[0m\u001b[0;34m.\u001b[0m\u001b[0mcdist\u001b[0m\u001b[0;34m,\u001b[0m \u001b[0mmetric\u001b[0m\u001b[0;34m=\u001b[0m\u001b[0mmetric\u001b[0m\u001b[0;34m,\u001b[0m \u001b[0;34m**\u001b[0m\u001b[0mkwds\u001b[0m\u001b[0;34m)\u001b[0m\u001b[0;34m\u001b[0m\u001b[0m\n\u001b[1;32m   1405\u001b[0m \u001b[0;34m\u001b[0m\u001b[0m\n\u001b[0;32m-> 1406\u001b[0;31m     \u001b[0;32mreturn\u001b[0m \u001b[0m_parallel_pairwise\u001b[0m\u001b[0;34m(\u001b[0m\u001b[0mX\u001b[0m\u001b[0;34m,\u001b[0m \u001b[0mY\u001b[0m\u001b[0;34m,\u001b[0m \u001b[0mfunc\u001b[0m\u001b[0;34m,\u001b[0m \u001b[0mn_jobs\u001b[0m\u001b[0;34m,\u001b[0m \u001b[0;34m**\u001b[0m\u001b[0mkwds\u001b[0m\u001b[0;34m)\u001b[0m\u001b[0;34m\u001b[0m\u001b[0m\n\u001b[0m\u001b[1;32m   1407\u001b[0m \u001b[0;34m\u001b[0m\u001b[0m\n\u001b[1;32m   1408\u001b[0m \u001b[0;34m\u001b[0m\u001b[0m\n",
      "\u001b[0;32m~/.pyenv/versions/3.6.4/envs/content-similarity-3.6.4/lib/python3.6/site-packages/sklearn/metrics/pairwise.py\u001b[0m in \u001b[0;36m_parallel_pairwise\u001b[0;34m(X, Y, func, n_jobs, **kwds)\u001b[0m\n\u001b[1;32m   1071\u001b[0m     ret = Parallel(n_jobs=n_jobs, verbose=0)(\n\u001b[1;32m   1072\u001b[0m         \u001b[0mfd\u001b[0m\u001b[0;34m(\u001b[0m\u001b[0mX\u001b[0m\u001b[0;34m,\u001b[0m \u001b[0mY\u001b[0m\u001b[0;34m[\u001b[0m\u001b[0ms\u001b[0m\u001b[0;34m]\u001b[0m\u001b[0;34m,\u001b[0m \u001b[0;34m**\u001b[0m\u001b[0mkwds\u001b[0m\u001b[0;34m)\u001b[0m\u001b[0;34m\u001b[0m\u001b[0m\n\u001b[0;32m-> 1073\u001b[0;31m         for s in gen_even_slices(_num_samples(Y), effective_n_jobs(n_jobs)))\n\u001b[0m\u001b[1;32m   1074\u001b[0m \u001b[0;34m\u001b[0m\u001b[0m\n\u001b[1;32m   1075\u001b[0m     \u001b[0;32mreturn\u001b[0m \u001b[0mnp\u001b[0m\u001b[0;34m.\u001b[0m\u001b[0mhstack\u001b[0m\u001b[0;34m(\u001b[0m\u001b[0mret\u001b[0m\u001b[0;34m)\u001b[0m\u001b[0;34m\u001b[0m\u001b[0m\n",
      "\u001b[0;32m~/.pyenv/versions/3.6.4/envs/content-similarity-3.6.4/lib/python3.6/site-packages/sklearn/externals/joblib/parallel.py\u001b[0m in \u001b[0;36m__call__\u001b[0;34m(self, iterable)\u001b[0m\n\u001b[1;32m    938\u001b[0m                 \u001b[0mself\u001b[0m\u001b[0;34m.\u001b[0m\u001b[0m_backend\u001b[0m\u001b[0;34m.\u001b[0m\u001b[0mstop_call\u001b[0m\u001b[0;34m(\u001b[0m\u001b[0;34m)\u001b[0m\u001b[0;34m\u001b[0m\u001b[0m\n\u001b[1;32m    939\u001b[0m             \u001b[0;32mif\u001b[0m \u001b[0;32mnot\u001b[0m \u001b[0mself\u001b[0m\u001b[0;34m.\u001b[0m\u001b[0m_managed_backend\u001b[0m\u001b[0;34m:\u001b[0m\u001b[0;34m\u001b[0m\u001b[0m\n\u001b[0;32m--> 940\u001b[0;31m                 \u001b[0mself\u001b[0m\u001b[0;34m.\u001b[0m\u001b[0m_terminate_backend\u001b[0m\u001b[0;34m(\u001b[0m\u001b[0;34m)\u001b[0m\u001b[0;34m\u001b[0m\u001b[0m\n\u001b[0m\u001b[1;32m    941\u001b[0m             \u001b[0mself\u001b[0m\u001b[0;34m.\u001b[0m\u001b[0m_jobs\u001b[0m \u001b[0;34m=\u001b[0m \u001b[0mlist\u001b[0m\u001b[0;34m(\u001b[0m\u001b[0;34m)\u001b[0m\u001b[0;34m\u001b[0m\u001b[0m\n\u001b[1;32m    942\u001b[0m             \u001b[0mself\u001b[0m\u001b[0;34m.\u001b[0m\u001b[0m_pickle_cache\u001b[0m \u001b[0;34m=\u001b[0m \u001b[0;32mNone\u001b[0m\u001b[0;34m\u001b[0m\u001b[0m\n",
      "\u001b[0;32m~/.pyenv/versions/3.6.4/envs/content-similarity-3.6.4/lib/python3.6/site-packages/sklearn/externals/joblib/parallel.py\u001b[0m in \u001b[0;36m_terminate_backend\u001b[0;34m(self)\u001b[0m\n\u001b[1;32m    694\u001b[0m     \u001b[0;32mdef\u001b[0m \u001b[0m_terminate_backend\u001b[0m\u001b[0;34m(\u001b[0m\u001b[0mself\u001b[0m\u001b[0;34m)\u001b[0m\u001b[0;34m:\u001b[0m\u001b[0;34m\u001b[0m\u001b[0m\n\u001b[1;32m    695\u001b[0m         \u001b[0;32mif\u001b[0m \u001b[0mself\u001b[0m\u001b[0;34m.\u001b[0m\u001b[0m_backend\u001b[0m \u001b[0;32mis\u001b[0m \u001b[0;32mnot\u001b[0m \u001b[0;32mNone\u001b[0m\u001b[0;34m:\u001b[0m\u001b[0;34m\u001b[0m\u001b[0m\n\u001b[0;32m--> 696\u001b[0;31m             \u001b[0mself\u001b[0m\u001b[0;34m.\u001b[0m\u001b[0m_backend\u001b[0m\u001b[0;34m.\u001b[0m\u001b[0mterminate\u001b[0m\u001b[0;34m(\u001b[0m\u001b[0;34m)\u001b[0m\u001b[0;34m\u001b[0m\u001b[0m\n\u001b[0m\u001b[1;32m    697\u001b[0m \u001b[0;34m\u001b[0m\u001b[0m\n\u001b[1;32m    698\u001b[0m     \u001b[0;32mdef\u001b[0m \u001b[0m_dispatch\u001b[0m\u001b[0;34m(\u001b[0m\u001b[0mself\u001b[0m\u001b[0;34m,\u001b[0m \u001b[0mbatch\u001b[0m\u001b[0;34m)\u001b[0m\u001b[0;34m:\u001b[0m\u001b[0;34m\u001b[0m\u001b[0m\n",
      "\u001b[0;32m~/.pyenv/versions/3.6.4/envs/content-similarity-3.6.4/lib/python3.6/site-packages/sklearn/externals/joblib/_parallel_backends.py\u001b[0m in \u001b[0;36mterminate\u001b[0;34m(self)\u001b[0m\n\u001b[1;32m    528\u001b[0m             \u001b[0;31m# in latter calls but we free as much memory as we can by deleting\u001b[0m\u001b[0;34m\u001b[0m\u001b[0;34m\u001b[0m\u001b[0m\n\u001b[1;32m    529\u001b[0m             \u001b[0;31m# the shared memory\u001b[0m\u001b[0;34m\u001b[0m\u001b[0;34m\u001b[0m\u001b[0m\n\u001b[0;32m--> 530\u001b[0;31m             \u001b[0mdelete_folder\u001b[0m\u001b[0;34m(\u001b[0m\u001b[0mself\u001b[0m\u001b[0;34m.\u001b[0m\u001b[0m_workers\u001b[0m\u001b[0;34m.\u001b[0m\u001b[0m_temp_folder\u001b[0m\u001b[0;34m)\u001b[0m\u001b[0;34m\u001b[0m\u001b[0m\n\u001b[0m\u001b[1;32m    531\u001b[0m             \u001b[0mself\u001b[0m\u001b[0;34m.\u001b[0m\u001b[0m_workers\u001b[0m \u001b[0;34m=\u001b[0m \u001b[0;32mNone\u001b[0m\u001b[0;34m\u001b[0m\u001b[0m\n\u001b[1;32m    532\u001b[0m \u001b[0;34m\u001b[0m\u001b[0m\n",
      "\u001b[0;32m~/.pyenv/versions/3.6.4/envs/content-similarity-3.6.4/lib/python3.6/site-packages/sklearn/externals/joblib/disk.py\u001b[0m in \u001b[0;36mdelete_folder\u001b[0;34m(folder_path, onerror)\u001b[0m\n\u001b[1;32m    113\u001b[0m             \u001b[0;32mwhile\u001b[0m \u001b[0;32mTrue\u001b[0m\u001b[0;34m:\u001b[0m\u001b[0;34m\u001b[0m\u001b[0m\n\u001b[1;32m    114\u001b[0m                 \u001b[0;32mtry\u001b[0m\u001b[0;34m:\u001b[0m\u001b[0;34m\u001b[0m\u001b[0m\n\u001b[0;32m--> 115\u001b[0;31m                     \u001b[0mshutil\u001b[0m\u001b[0;34m.\u001b[0m\u001b[0mrmtree\u001b[0m\u001b[0;34m(\u001b[0m\u001b[0mfolder_path\u001b[0m\u001b[0;34m,\u001b[0m \u001b[0;32mFalse\u001b[0m\u001b[0;34m,\u001b[0m \u001b[0;32mNone\u001b[0m\u001b[0;34m)\u001b[0m\u001b[0;34m\u001b[0m\u001b[0m\n\u001b[0m\u001b[1;32m    116\u001b[0m                     \u001b[0;32mbreak\u001b[0m\u001b[0;34m\u001b[0m\u001b[0m\n\u001b[1;32m    117\u001b[0m                 \u001b[0;32mexcept\u001b[0m \u001b[0;34m(\u001b[0m\u001b[0mOSError\u001b[0m\u001b[0;34m,\u001b[0m \u001b[0mWindowsError\u001b[0m\u001b[0;34m)\u001b[0m\u001b[0;34m:\u001b[0m\u001b[0;34m\u001b[0m\u001b[0m\n",
      "\u001b[0;32m~/.pyenv/versions/3.6.4/lib/python3.6/shutil.py\u001b[0m in \u001b[0;36mrmtree\u001b[0;34m(path, ignore_errors, onerror)\u001b[0m\n\u001b[1;32m    478\u001b[0m         \u001b[0;32mtry\u001b[0m\u001b[0;34m:\u001b[0m\u001b[0;34m\u001b[0m\u001b[0m\n\u001b[1;32m    479\u001b[0m             \u001b[0;32mif\u001b[0m \u001b[0mos\u001b[0m\u001b[0;34m.\u001b[0m\u001b[0mpath\u001b[0m\u001b[0;34m.\u001b[0m\u001b[0msamestat\u001b[0m\u001b[0;34m(\u001b[0m\u001b[0morig_st\u001b[0m\u001b[0;34m,\u001b[0m \u001b[0mos\u001b[0m\u001b[0;34m.\u001b[0m\u001b[0mfstat\u001b[0m\u001b[0;34m(\u001b[0m\u001b[0mfd\u001b[0m\u001b[0;34m)\u001b[0m\u001b[0;34m)\u001b[0m\u001b[0;34m:\u001b[0m\u001b[0;34m\u001b[0m\u001b[0m\n\u001b[0;32m--> 480\u001b[0;31m                 \u001b[0m_rmtree_safe_fd\u001b[0m\u001b[0;34m(\u001b[0m\u001b[0mfd\u001b[0m\u001b[0;34m,\u001b[0m \u001b[0mpath\u001b[0m\u001b[0;34m,\u001b[0m \u001b[0monerror\u001b[0m\u001b[0;34m)\u001b[0m\u001b[0;34m\u001b[0m\u001b[0m\n\u001b[0m\u001b[1;32m    481\u001b[0m                 \u001b[0;32mtry\u001b[0m\u001b[0;34m:\u001b[0m\u001b[0;34m\u001b[0m\u001b[0m\n\u001b[1;32m    482\u001b[0m                     \u001b[0mos\u001b[0m\u001b[0;34m.\u001b[0m\u001b[0mrmdir\u001b[0m\u001b[0;34m(\u001b[0m\u001b[0mpath\u001b[0m\u001b[0;34m)\u001b[0m\u001b[0;34m\u001b[0m\u001b[0m\n",
      "\u001b[0;32m~/.pyenv/versions/3.6.4/lib/python3.6/shutil.py\u001b[0m in \u001b[0;36m_rmtree_safe_fd\u001b[0;34m(topfd, path, onerror)\u001b[0m\n\u001b[1;32m    434\u001b[0m         \u001b[0;32melse\u001b[0m\u001b[0;34m:\u001b[0m\u001b[0;34m\u001b[0m\u001b[0m\n\u001b[1;32m    435\u001b[0m             \u001b[0;32mtry\u001b[0m\u001b[0;34m:\u001b[0m\u001b[0;34m\u001b[0m\u001b[0m\n\u001b[0;32m--> 436\u001b[0;31m                 \u001b[0mos\u001b[0m\u001b[0;34m.\u001b[0m\u001b[0munlink\u001b[0m\u001b[0;34m(\u001b[0m\u001b[0mname\u001b[0m\u001b[0;34m,\u001b[0m \u001b[0mdir_fd\u001b[0m\u001b[0;34m=\u001b[0m\u001b[0mtopfd\u001b[0m\u001b[0;34m)\u001b[0m\u001b[0;34m\u001b[0m\u001b[0m\n\u001b[0m\u001b[1;32m    437\u001b[0m             \u001b[0;32mexcept\u001b[0m \u001b[0mOSError\u001b[0m\u001b[0;34m:\u001b[0m\u001b[0;34m\u001b[0m\u001b[0m\n\u001b[1;32m    438\u001b[0m                 \u001b[0monerror\u001b[0m\u001b[0;34m(\u001b[0m\u001b[0mos\u001b[0m\u001b[0;34m.\u001b[0m\u001b[0munlink\u001b[0m\u001b[0;34m,\u001b[0m \u001b[0mfullname\u001b[0m\u001b[0;34m,\u001b[0m \u001b[0msys\u001b[0m\u001b[0;34m.\u001b[0m\u001b[0mexc_info\u001b[0m\u001b[0;34m(\u001b[0m\u001b[0;34m)\u001b[0m\u001b[0;34m)\u001b[0m\u001b[0;34m\u001b[0m\u001b[0m\n",
      "\u001b[0;31mKeyboardInterrupt\u001b[0m: "
     ]
    }
   ],
   "source": [
    "# import json\n",
    "# with open('data.txt', 'w') as f:\n",
    "#   json.dump(data, f, ensure_ascii=False)\n",
    "\n",
    "\n",
    "source_links = []\n",
    "target_links = []\n",
    "\n",
    "for i, (indices, values) in enumerate(tqdm_notebook(gen3)):\n",
    "    \n",
    "    source_content_id = labelled_unique.iat[i, 1]\n",
    "    target_content_ids = list(labelled_unique['content_id'][labelled_unique.index.isin(indices.reshape(3))]) \n",
    "    source_links.append(source_content_id)\n",
    "    target_links.append(target_content_ids)"
   ]
  },
  {
   "cell_type": "code",
   "execution_count": 405,
   "metadata": {},
   "outputs": [],
   "source": [
    "import json\n",
    "with open('sample_of_data_29NOV19_3links.json', 'w') as f:\n",
    "  json.dump(dict(zip(source_links, target_links)), f, ensure_ascii=False)"
   ]
  },
  {
   "cell_type": "code",
   "execution_count": 90,
   "metadata": {},
   "outputs": [
    {
     "data": {
      "text/html": [
       "<div>\n",
       "<style scoped>\n",
       "    .dataframe tbody tr th:only-of-type {\n",
       "        vertical-align: middle;\n",
       "    }\n",
       "\n",
       "    .dataframe tbody tr th {\n",
       "        vertical-align: top;\n",
       "    }\n",
       "\n",
       "    .dataframe thead th {\n",
       "        text-align: right;\n",
       "    }\n",
       "</style>\n",
       "<table border=\"1\" class=\"dataframe\">\n",
       "  <thead>\n",
       "    <tr style=\"text-align: right;\">\n",
       "      <th></th>\n",
       "      <th>0</th>\n",
       "    </tr>\n",
       "  </thead>\n",
       "  <tbody>\n",
       "    <tr>\n",
       "      <th>70692</th>\n",
       "      <td>1.036419</td>\n",
       "    </tr>\n",
       "    <tr>\n",
       "      <th>169865</th>\n",
       "      <td>1.032602</td>\n",
       "    </tr>\n",
       "    <tr>\n",
       "      <th>67273</th>\n",
       "      <td>1.024274</td>\n",
       "    </tr>\n",
       "    <tr>\n",
       "      <th>118524</th>\n",
       "      <td>1.024116</td>\n",
       "    </tr>\n",
       "    <tr>\n",
       "      <th>69065</th>\n",
       "      <td>1.022117</td>\n",
       "    </tr>\n",
       "  </tbody>\n",
       "</table>\n",
       "</div>"
      ],
      "text/plain": [
       "               0\n",
       "70692   1.036419\n",
       "169865  1.032602\n",
       "67273   1.024274\n",
       "118524  1.024116\n",
       "69065   1.022117"
      ]
     },
     "execution_count": 90,
     "metadata": {},
     "output_type": "execute_result"
    }
   ],
   "source": [
    "pd.DataFrame(D_chunk.transpose()).sort_values(0, ascending=False).head(5)"
   ]
  },
  {
   "cell_type": "code",
   "execution_count": 91,
   "metadata": {},
   "outputs": [
    {
     "data": {
      "text/plain": [
       "array([[[1.0364193, 1.0326018, 1.024274 , 1.0241157, 1.0221168]]],\n",
       "      dtype=float32)"
      ]
     },
     "execution_count": 91,
     "metadata": {},
     "output_type": "execute_result"
    }
   ],
   "source": [
    "D_chunk[:, top_k_indices][:, :, :5]"
   ]
  },
  {
   "cell_type": "code",
   "execution_count": 92,
   "metadata": {},
   "outputs": [
    {
     "data": {
      "text/plain": [
       "array([[ 70692, 169865,  67273, 118524,  69065, 185805,  65504,  65408,\n",
       "        198593, 197511, 200417, 200539, 105339,  64160, 155094, 196342,\n",
       "        202150, 185842,  87264,  84817]])"
      ]
     },
     "execution_count": 92,
     "metadata": {},
     "output_type": "execute_result"
    }
   ],
   "source": [
    "top_k_indices[ :, :20]"
   ]
  },
  {
   "cell_type": "code",
   "execution_count": 100,
   "metadata": {},
   "outputs": [
    {
     "data": {
      "text/plain": [
       "1.0468005575239658"
      ]
     },
     "execution_count": 100,
     "metadata": {},
     "output_type": "execute_result"
    }
   ],
   "source": [
    "cosine(embedded_docs_unique[1], embedded_docs_unique[35802])"
   ]
  },
  {
   "cell_type": "code",
   "execution_count": 63,
   "metadata": {},
   "outputs": [
    {
     "data": {
      "text/plain": [
       "1.0326018668711185"
      ]
     },
     "execution_count": 63,
     "metadata": {},
     "output_type": "execute_result"
    }
   ],
   "source": [
    "cosine(embedded_docs_unique[0], embedded_docs_unique[169865])"
   ]
  },
  {
   "cell_type": "code",
   "execution_count": 128,
   "metadata": {},
   "outputs": [
    {
     "data": {
      "text/plain": [
       "'shingles vaccine update supply of shingles vaccine will be restored as of today (4 december 2013). shingles or herpes zoster is an infection of a nerve and the area of skin around it. in serious cases it causes a rash of very painful fluid filled blisters on the skin that can burst and turn into sores that eventually crust over and heal. people aged 70 and 79 on 1 september 2013 are being offered the shingles vaccine this year as part of a vaccination programme to reduce the incidence and severity of shingles disease in older people. the cohort of 70 to 79 year olds was identified as the group most likely to benefit from vaccination because they have a high incidence of shingles and related complications. above the age of 80 the vaccine effectiveness decreases substantially so the joint committee on vaccination and immunisation ( jcvi ) decided that the optimal age to routinely offer protection to those at risk would be at 70 years of age with a phased catch up programme for those aged 71 to 79 years. as this is a large age group the catch up programme needs to be staggered due to limited vaccine supply. those who are aged 79 years on 1 september 2013 are being prioritised this year as they will no longer be in the target age group next year. currently public health england ( phe ) is subject to a temporary delay with the supply of the shingles vaccine zostavax® into the uk. the disruption to supply will continue until normal supplies are restored by the manufacturer sanofi pasteur msd ( spmsd ) likely to be in december. vaccines are subject to lengthy rigorous testing before they are passed for supply to the uk. this testing has taken longer than anticipated causing vaccine deliveries to be temporarily delayed. such delays are unusual but not unknown. national distribution of the zostavax® began on 1 august based on assurances of continuity of supply from spmsd . a significant volume of zostavax® has already been distributed throughout the nhs in england allowing many clinics to go ahead as planned. bruce taylor head of vaccines and countermeasures response at phe said: although we are disappointed with the delay of the shingles vaccine arriving in the uk as planned phe is working with the manufacturer to agree remedial action and resume supplies as quickly as possible. a large quantity of vaccine has already been distributed across the uk to start the programme which began on 1 september. we do not expect this temporary delay to impact the overall programme to immunise 70 and 79 year olds. the vaccine can be administered to the 2 eligible cohorts at any time between 1 september 2013 and 31 august 2014. the incidence of shingles in england and wales is estimated at 790 to 880 cases per 100 000 people per year for those aged 70 to 79 years. this vaccination programme is preventive; it aims to reduce the pressure on gps hospitals as well as pain suffered by the patient by circumventing the disease. a shingles q and a for healthcare professionals is available. update 4 december 2013: supply of shingles vaccine is restored as of today.'"
      ]
     },
     "execution_count": 128,
     "metadata": {},
     "output_type": "execute_result"
    }
   ],
   "source": [
    "labelled_unique['combined_text'][1]"
   ]
  },
  {
   "cell_type": "code",
   "execution_count": 133,
   "metadata": {},
   "outputs": [
    {
     "data": {
      "text/plain": [
       "'people aged 70 and 79 years offered shingles vaccine this vaccination programme aims to reduce the incidence and severity of shingles disease in older people. people aged 70 and 79 will be offered a shingles vaccination this year as part of a vaccination programme to reduce the incidence and severity of shingles disease in older people. shingles or herpes zoster is an infection of a nerve and the area of skin around it. in serious cases it causes a rash of very painful fluid filled blisters on the skin that can burst and turn into sores that eventually crust over and heal. a catch up programme to protect those aged 70 to 79 years will also be rolled out over several years starting with those aged 79 years on 1st september 2013. it’s estimated 800 000 people in the uk will be eligible for the vaccine in the first year. dr paul cosford director for health protection and medical director at phe said: shingles is caused by the same virus that causes chickenpox. when you recover from chickenpox most of the virus is destroyed but some survives and lies inactive in the body in the nervous system. it can then reactivate later in life when your immune system is weakened by increasing age stress or treatments that reduce your immunity. it is most common in people aged over 70 years but by having the vaccine you will be reducing your chances of developing shingles by more than a third. health minister lord howe said: shingles can be a nasty disease for older people and can lead to long term health problems for around 14 000 people each year. this new vaccine can prevent some of the most serious cases giving people the chance to live without the discomfort and pain that shingles causes. ends notes to editors: all people aged 70 on 1 september 2013 are eligible (all those born between 2 september 1942 and 1 september 1943 inclusive). if you’re over 70 and under 80 you will be invited to have the vaccination on a ‘catch up’ basis. people aged 79 will be offered the vaccine first (all those born between 2 september 1933 and 1 september 1934 inclusive). in future years this will be followed by 78 year olds etc. with the exact timing depending on vaccine availability. public health england’s mission is to protect and improve the nation’s health and to address inequalities through working with national and local government the nhs industry and the voluntary and community sector. phe is an operationally autonomous executive agency of the department of health. infections press office phe press office infections 61 colindale avenue london nw9 5eq email infections pressoffice@phe.gov.uk phone 020 3682 0574 out of hours 020 8200 4400'"
      ]
     },
     "execution_count": 133,
     "metadata": {},
     "output_type": "execute_result"
    }
   ],
   "source": [
    "labelled_unique['combined_text'][190]"
   ]
  },
  {
   "cell_type": "markdown",
   "metadata": {},
   "source": [
    "For each taxon get a mean cosine distance for all pairs within the taxon"
   ]
  },
  {
   "cell_type": "code",
   "execution_count": null,
   "metadata": {
    "colab": {},
    "colab_type": "code",
    "id": "VCQ8Bp6rw70Y"
   },
   "outputs": [],
   "source": [
    "taxon_homogeneity = []\n",
    "for taxon in tqdm_notebook(taxons):\n",
    "  taxon_embeddings = embedded_sentences[corpus_sample['taxon_id']==taxon]\n",
    "  taxon_size = taxon_embeddings.shape[0]\n",
    "  cosine_results = []\n",
    "  for i in taxon_embeddings:\n",
    "    for j in taxon_embeddings:\n",
    "      cosine_results.append(cosine(i, j))\n",
    "  mean_cosine_for_taxon = np.mean(np.array(cosine_results))\n",
    "  \n",
    "\n",
    "  taxon_homogeneity.append([taxon, taxon_size, mean_cosine_for_taxon])\n",
    "      \n",
    "  "
   ]
  },
  {
   "cell_type": "code",
   "execution_count": null,
   "metadata": {
    "colab": {},
    "colab_type": "code",
    "id": "4LxQbi83m7RC"
   },
   "outputs": [],
   "source": [
    "taxon_homogeneity_df = pd.DataFrame(taxon_homogeneity, columns = ['taxon_id', 'taxon_size', 'mean_cosine_score']).sort_values('mean_cosine_score', ascending=False)\n",
    "taxon_homogeneity_df['taxon_base_path'] = taxon_homogeneity_df['taxon_id'].map(taxon_id_to_base_path)\n",
    "taxon_homogeneity_df.shape"
   ]
  },
  {
   "cell_type": "code",
   "execution_count": null,
   "metadata": {},
   "outputs": [],
   "source": [
    "taxon_homogeneity_df"
   ]
  },
  {
   "cell_type": "code",
   "execution_count": null,
   "metadata": {
    "colab": {},
    "colab_type": "code",
    "id": "z_eD75-8wnuz"
   },
   "outputs": [],
   "source": [
    "alt.Chart(taxon_homogeneity_df).mark_circle(size=60).encode(\n",
    "    x='taxon_size',\n",
    "    y='mean_cosine_score',\n",
    "    tooltip=['taxon_base_path']\n",
    ").interactive()"
   ]
  },
  {
   "cell_type": "markdown",
   "metadata": {},
   "source": [
    "For each content item, Find the nearest pages"
   ]
  },
  {
   "cell_type": "code",
   "execution_count": null,
   "metadata": {},
   "outputs": [],
   "source": []
  }
 ],
 "metadata": {
  "accelerator": "TPU",
  "colab": {
   "collapsed_sections": [],
   "name": "similarity_universal_sentence_embedding.ipynb",
   "provenance": [],
   "version": "0.3.2"
  },
  "hide_input": false,
  "kernelspec": {
   "display_name": "Python 3",
   "language": "python",
   "name": "python3"
  },
  "language_info": {
   "codemirror_mode": {
    "name": "ipython",
    "version": 3
   },
   "file_extension": ".py",
   "mimetype": "text/x-python",
   "name": "python",
   "nbconvert_exporter": "python",
   "pygments_lexer": "ipython3",
   "version": "3.6.4"
  },
  "varInspector": {
   "cols": {
    "lenName": 16,
    "lenType": 16,
    "lenVar": 40
   },
   "kernels_config": {
    "python": {
     "delete_cmd_postfix": "",
     "delete_cmd_prefix": "del ",
     "library": "var_list.py",
     "varRefreshCmd": "print(var_dic_list())"
    },
    "r": {
     "delete_cmd_postfix": ") ",
     "delete_cmd_prefix": "rm(",
     "library": "var_list.r",
     "varRefreshCmd": "cat(var_dic_list()) "
    }
   },
   "types_to_exclude": [
    "module",
    "function",
    "builtin_function_or_method",
    "instance",
    "_Feature"
   ],
   "window_display": false
  }
 },
 "nbformat": 4,
 "nbformat_minor": 1
}
