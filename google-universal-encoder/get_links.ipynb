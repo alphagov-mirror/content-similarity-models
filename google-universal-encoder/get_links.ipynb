{
 "cells": [
  {
   "cell_type": "code",
   "execution_count": 5,
   "metadata": {
    "colab": {},
    "colab_type": "code",
    "id": "r2A21W9EHF_p"
   },
   "outputs": [],
   "source": [
    "# import gensim\n",
    "import collections\n",
    "import random\n",
    "import tensorflow as tf\n",
    "import tensorflow_hub as hub\n",
    "from tensorflow.contrib.tensorboard.plugins import projector\n",
    "\n",
    "import matplotlib.pyplot as plt\n",
    "import numpy as np\n",
    "import os\n",
    "import pandas as pd\n",
    "import re\n",
    "import seaborn as sns\n",
    "from sklearn.model_selection import train_test_split\n",
    "from sklearn.metrics import pairwise_distances_chunked\n",
    "\n",
    "from tqdm import tnrange, tqdm_notebook\n",
    "import scipy\n",
    "from scipy.spatial.distance import cosine, pdist\n",
    "\n",
    "from itertools import compress\n"
   ]
  },
  {
   "cell_type": "markdown",
   "metadata": {},
   "source": [
    "### Set-up and get data"
   ]
  },
  {
   "cell_type": "code",
   "execution_count": 6,
   "metadata": {
    "colab": {
     "base_uri": "https://localhost:8080/",
     "height": 34
    },
    "colab_type": "code",
    "id": "muHD6w9CHa1Q",
    "outputId": "b268b330-b683-4fb9-a85e-8a0ef9817ac8"
   },
   "outputs": [],
   "source": [
    "DATADIR = os.getenv(\"DATADIR\")\n"
   ]
  },
  {
   "cell_type": "code",
   "execution_count": 7,
   "metadata": {},
   "outputs": [],
   "source": [
    "embedded_sentences = np.load('embedded_sentences' + os.path.basename(DATADIR) +\n",
    "                             '.npy')\n"
   ]
  },
  {
   "cell_type": "code",
   "execution_count": 8,
   "metadata": {
    "colab": {},
    "colab_type": "code",
    "id": "GOZZ-trpszRZ"
   },
   "outputs": [],
   "source": [
    "labelled = pd.read_csv(\n",
    "    os.path.join(DATADIR, 'labelled.csv.gz'),\n",
    "    compression='gzip',\n",
    "    low_memory=False)\n"
   ]
  },
  {
   "cell_type": "code",
   "execution_count": 9,
   "metadata": {},
   "outputs": [
    {
     "data": {
      "text/plain": [
       "(302474, 19)"
      ]
     },
     "execution_count": 9,
     "metadata": {},
     "output_type": "execute_result"
    }
   ],
   "source": [
    "labelled.shape\n"
   ]
  },
  {
   "cell_type": "code",
   "execution_count": 10,
   "metadata": {
    "colab": {
     "base_uri": "https://localhost:8080/",
     "height": 34
    },
    "colab_type": "code",
    "id": "qggWJCvvqfD9",
    "outputId": "64637a19-b497-4d27-8499-5ea42b3e1ce0"
   },
   "outputs": [
    {
     "data": {
      "text/plain": [
       "dict"
      ]
     },
     "execution_count": 10,
     "metadata": {},
     "output_type": "execute_result"
    }
   ],
   "source": [
    "taxon_id_to_base_path = dict(\n",
    "    zip(labelled[\"taxon_id\"], labelled[\"taxon_base_path\"]))\n"
   ]
  },
  {
   "cell_type": "code",
   "execution_count": 11,
   "metadata": {
    "colab": {
     "base_uri": "https://localhost:8080/",
     "height": 34
    },
    "colab_type": "code",
    "id": "7eEvWttRt7bm",
    "outputId": "fc6ca374-6408-4512-d147-77f86dabc487"
   },
   "outputs": [
    {
     "data": {
      "text/plain": [
       "206038"
      ]
     },
     "execution_count": 11,
     "metadata": {},
     "output_type": "execute_result"
    }
   ],
   "source": [
    "labelled.content_id.nunique()\n"
   ]
  },
  {
   "cell_type": "markdown",
   "metadata": {},
   "source": [
    "# Using vectors for related link generation"
   ]
  },
  {
   "cell_type": "markdown",
   "metadata": {},
   "source": [
    "## remove duplicate content items for related links \n",
    "\n"
   ]
  },
  {
   "cell_type": "code",
   "execution_count": 14,
   "metadata": {},
   "outputs": [],
   "source": [
    "embedded_docs_unique = embedded_sentences[~labelled.duplicated('content_id')]\n"
   ]
  },
  {
   "cell_type": "code",
   "execution_count": 15,
   "metadata": {},
   "outputs": [
    {
     "data": {
      "text/plain": [
       "(206038, 20)"
      ]
     },
     "execution_count": 15,
     "metadata": {},
     "output_type": "execute_result"
    }
   ],
   "source": [
    "labelled.drop_duplicates('content_id').shape\n"
   ]
  },
  {
   "cell_type": "code",
   "execution_count": 16,
   "metadata": {},
   "outputs": [],
   "source": [
    "labelled_unique = labelled.drop_duplicates('content_id').copy()\n"
   ]
  },
  {
   "cell_type": "code",
   "execution_count": 17,
   "metadata": {},
   "outputs": [
    {
     "data": {
      "text/plain": [
       "206038"
      ]
     },
     "execution_count": 17,
     "metadata": {},
     "output_type": "execute_result"
    }
   ],
   "source": [
    "len(embedded_docs_unique)\n"
   ]
  },
  {
   "cell_type": "markdown",
   "metadata": {},
   "source": [
    "### remove fatality notices"
   ]
  },
  {
   "cell_type": "code",
   "execution_count": 18,
   "metadata": {},
   "outputs": [
    {
     "data": {
      "text/html": [
       "<div>\n",
       "<style scoped>\n",
       "    .dataframe tbody tr th:only-of-type {\n",
       "        vertical-align: middle;\n",
       "    }\n",
       "\n",
       "    .dataframe tbody tr th {\n",
       "        vertical-align: top;\n",
       "    }\n",
       "\n",
       "    .dataframe thead th {\n",
       "        text-align: right;\n",
       "    }\n",
       "</style>\n",
       "<table border=\"1\" class=\"dataframe\">\n",
       "  <thead>\n",
       "    <tr style=\"text-align: right;\">\n",
       "      <th></th>\n",
       "      <th>base_path</th>\n",
       "      <th>content_id</th>\n",
       "      <th>description</th>\n",
       "      <th>document_type</th>\n",
       "      <th>first_published_at</th>\n",
       "      <th>locale</th>\n",
       "      <th>primary_publishing_organisation</th>\n",
       "      <th>publishing_app</th>\n",
       "      <th>title</th>\n",
       "      <th>body</th>\n",
       "      <th>combined_text</th>\n",
       "      <th>taxon_id</th>\n",
       "      <th>taxon_base_path</th>\n",
       "      <th>taxon_name</th>\n",
       "      <th>level1taxon</th>\n",
       "      <th>level2taxon</th>\n",
       "      <th>level3taxon</th>\n",
       "      <th>level4taxon</th>\n",
       "      <th>level5taxon</th>\n",
       "      <th>brexit</th>\n",
       "    </tr>\n",
       "  </thead>\n",
       "  <tbody>\n",
       "    <tr>\n",
       "      <th>87002</th>\n",
       "      <td>/government/fatalities/soldier-from-3rd-battal...</td>\n",
       "      <td>5ebe3531-7631-11e4-a3cb-005056011aef</td>\n",
       "      <td>it is with great sadness that the ministry of ...</td>\n",
       "      <td>fatality_notice</td>\n",
       "      <td>2013-11-05T20:04:00.000+00:00</td>\n",
       "      <td>en</td>\n",
       "      <td>Ministry of Defence</td>\n",
       "      <td>whitehall</td>\n",
       "      <td>warrant officer class 2 ian fisher killed in a...</td>\n",
       "      <td>warrant officer class 2 ( wo2 ) fisher deploye...</td>\n",
       "      <td>warrant officer class 2 ian fisher killed in a...</td>\n",
       "      <td>8a98b827-82ad-49b4-819e-82c208c551c4</td>\n",
       "      <td>/government/national-security</td>\n",
       "      <td>National security</td>\n",
       "      <td>Government</td>\n",
       "      <td>National security</td>\n",
       "      <td>NaN</td>\n",
       "      <td>NaN</td>\n",
       "      <td>NaN</td>\n",
       "      <td>0</td>\n",
       "    </tr>\n",
       "    <tr>\n",
       "      <th>179350</th>\n",
       "      <td>/government/fatalities/private-robert-hayes-ki...</td>\n",
       "      <td>5c9ccc71-7631-11e4-a3cb-005056011aef</td>\n",
       "      <td>it is with great regret that the ministry of d...</td>\n",
       "      <td>fatality_notice</td>\n",
       "      <td>2010-01-05T00:00:00.000+00:00</td>\n",
       "      <td>en</td>\n",
       "      <td>Ministry of Defence</td>\n",
       "      <td>whitehall</td>\n",
       "      <td>private robert hayes killed in afghanistan</td>\n",
       "      <td>private robert hayes (all rights reserved.) pr...</td>\n",
       "      <td>private robert hayes killed in afghanistan it ...</td>\n",
       "      <td>8ff8cf05-a6e6-4757-a896-4fabd9f3229a</td>\n",
       "      <td>/defence/working-armed-forces</td>\n",
       "      <td>Armed forces</td>\n",
       "      <td>Defence and armed forces</td>\n",
       "      <td>Armed forces</td>\n",
       "      <td>NaN</td>\n",
       "      <td>NaN</td>\n",
       "      <td>NaN</td>\n",
       "      <td>0</td>\n",
       "    </tr>\n",
       "  </tbody>\n",
       "</table>\n",
       "</div>"
      ],
      "text/plain": [
       "                                                base_path  \\\n",
       "87002   /government/fatalities/soldier-from-3rd-battal...   \n",
       "179350  /government/fatalities/private-robert-hayes-ki...   \n",
       "\n",
       "                                  content_id  \\\n",
       "87002   5ebe3531-7631-11e4-a3cb-005056011aef   \n",
       "179350  5c9ccc71-7631-11e4-a3cb-005056011aef   \n",
       "\n",
       "                                              description    document_type  \\\n",
       "87002   it is with great sadness that the ministry of ...  fatality_notice   \n",
       "179350  it is with great regret that the ministry of d...  fatality_notice   \n",
       "\n",
       "                   first_published_at locale primary_publishing_organisation  \\\n",
       "87002   2013-11-05T20:04:00.000+00:00     en             Ministry of Defence   \n",
       "179350  2010-01-05T00:00:00.000+00:00     en             Ministry of Defence   \n",
       "\n",
       "       publishing_app                                              title  \\\n",
       "87002       whitehall  warrant officer class 2 ian fisher killed in a...   \n",
       "179350      whitehall         private robert hayes killed in afghanistan   \n",
       "\n",
       "                                                     body  \\\n",
       "87002   warrant officer class 2 ( wo2 ) fisher deploye...   \n",
       "179350  private robert hayes (all rights reserved.) pr...   \n",
       "\n",
       "                                            combined_text  \\\n",
       "87002   warrant officer class 2 ian fisher killed in a...   \n",
       "179350  private robert hayes killed in afghanistan it ...   \n",
       "\n",
       "                                    taxon_id                taxon_base_path  \\\n",
       "87002   8a98b827-82ad-49b4-819e-82c208c551c4  /government/national-security   \n",
       "179350  8ff8cf05-a6e6-4757-a896-4fabd9f3229a  /defence/working-armed-forces   \n",
       "\n",
       "               taxon_name               level1taxon        level2taxon  \\\n",
       "87002   National security                Government  National security   \n",
       "179350       Armed forces  Defence and armed forces       Armed forces   \n",
       "\n",
       "       level3taxon level4taxon level5taxon  brexit  \n",
       "87002          NaN         NaN         NaN       0  \n",
       "179350         NaN         NaN         NaN       0  "
      ]
     },
     "execution_count": 18,
     "metadata": {},
     "output_type": "execute_result"
    }
   ],
   "source": [
    "labelled_unique[labelled_unique[\"document_type\"] == \"fatality_notice\"].head(2)\n"
   ]
  },
  {
   "cell_type": "code",
   "execution_count": 19,
   "metadata": {},
   "outputs": [],
   "source": [
    "embedded_docs_unique = embedded_docs_unique[\n",
    "    labelled_unique['document_type'] != 'fatality_notice']\n"
   ]
  },
  {
   "cell_type": "code",
   "execution_count": 20,
   "metadata": {},
   "outputs": [],
   "source": [
    "labelled_unique = labelled_unique[\n",
    "    labelled_unique['document_type'] != 'fatality_notice']\n"
   ]
  },
  {
   "cell_type": "code",
   "execution_count": 21,
   "metadata": {},
   "outputs": [],
   "source": [
    "#make sure labelled_unique has an index range(labelled_unique.shape[0]) rather than keeping labelled's indices\n",
    "labelled_unique.reset_index(inplace=True)\n"
   ]
  },
  {
   "cell_type": "code",
   "execution_count": 22,
   "metadata": {},
   "outputs": [
    {
     "data": {
      "text/plain": [
       "(205570, 21)"
      ]
     },
     "execution_count": 22,
     "metadata": {},
     "output_type": "execute_result"
    }
   ],
   "source": [
    "labelled_unique.shape\n"
   ]
  },
  {
   "cell_type": "code",
   "execution_count": null,
   "metadata": {},
   "outputs": [
    {
     "data": {
      "text/plain": [
       "(205570, 512)"
      ]
     },
     "execution_count": 23,
     "metadata": {},
     "output_type": "execute_result"
    }
   ],
   "source": [
    "embedded_docs_unique.shape\n"
   ]
  },
  {
   "cell_type": "markdown",
   "metadata": {},
   "source": [
    "# Get related links"
   ]
  },
  {
   "cell_type": "markdown",
   "metadata": {},
   "source": [
    "### Define reduce functions so that only the links selected are retained in memory\n",
    "I tried out a lot of approaches to getting these links (scipy distance etc). Sklearn pairwise worked best considering RAM constraints."
   ]
  },
  {
   "cell_type": "code",
   "execution_count": null,
   "metadata": {},
   "outputs": [],
   "source": [
    "def get_top_20_links(D_chunk, start):\n",
    "    \"\"\"return only the top 20 (including self) related link indices and distance metric values\n",
    "    according to distance metric\"\"\"\n",
    "    top_k_indices = np.argpartition(D_chunk, range(20))[:, :20]\n",
    "\n",
    "    return top_k_indices, D_chunk[:, top_k_indices]\n"
   ]
  },
  {
   "cell_type": "code",
   "execution_count": null,
   "metadata": {},
   "outputs": [],
   "source": [
    "def get_top_20_links_without_itself(D_chunk, start):\n",
    "    \"\"\"return the top 19 (not including self) related link indices and distance metric values\n",
    "    according to distance metric\"\"\"\n",
    "    top_k_indices = np.argpartition(D_chunk, range(21))[:, 1:21]\n",
    "\n",
    "    return top_k_indices, D_chunk[:, top_k_indices]\n"
   ]
  },
  {
   "cell_type": "code",
   "execution_count": null,
   "metadata": {},
   "outputs": [],
   "source": [
    "def get_links_less_than_threshold(D_chunk, start, threshold=0.15):\n",
    "    \"\"\"return the top links (not including self) beneath the threshold related link indices and distance metric values\n",
    "    according to distance metric\"\"\"\n",
    "    top_k_indices = np.argpartition(D_chunk, range(6))[:, 1:6]\n",
    "    low_threshold_indices = (D_chunk[:, top_k_indices] < threshold).reshape(\n",
    "        1, 5)\n",
    "\n",
    "    indices = top_k_indices[low_threshold_indices]\n",
    "    size = indices.shape[0]\n",
    "\n",
    "    return indices.reshape(1, size), D_chunk[:, indices.reshape(1, size)]\n"
   ]
  },
  {
   "cell_type": "code",
   "execution_count": null,
   "metadata": {},
   "outputs": [],
   "source": [
    "def get_top_3_links_without_itself(D_chunk, start):\n",
    "    top_k_indices = np.argpartition(D_chunk, range(21))[:, 1:4]\n",
    "    return top_k_indices, D_chunk[:, top_k_indices]\n"
   ]
  },
  {
   "cell_type": "markdown",
   "metadata": {},
   "source": [
    "### Define generators\n"
   ]
  },
  {
   "cell_type": "code",
   "execution_count": null,
   "metadata": {},
   "outputs": [],
   "source": [
    "gen = pairwise_distances_chunked(\n",
    "    embedded_docs_unique,\n",
    "    reduce_func=get_top_20_links_without_itself,\n",
    "    working_memory=0, #process each array in turn\n",
    "    metric='cosine',\n",
    "    n_jobs=-1)\n"
   ]
  },
  {
   "cell_type": "code",
   "execution_count": null,
   "metadata": {},
   "outputs": [],
   "source": [
    "gen2 = pairwise_distances_chunked(\n",
    "    embedded_docs_unique,\n",
    "    reduce_func=get_top_20_links,\n",
    "    working_memory=0,\n",
    "    metric='cosine',\n",
    "    n_jobs=-1)\n"
   ]
  },
  {
   "cell_type": "markdown",
   "metadata": {},
   "source": [
    "## Understand the distribution of number of links at different cosine sim thresholds"
   ]
  },
  {
   "cell_type": "code",
   "execution_count": null,
   "metadata": {},
   "outputs": [],
   "source": [
    "links_thresholds = pd.DataFrame(columns=['vector_id', 'thresholds', 'numlinks'])\n",
    "for i, (_, cos_sims) in enumerate(tqdm_notebook(gen)):\n",
    "    numlinks = []\n",
    "    for threshold in np.arange(0, 0.42, 0.01):\n",
    "        numlinks.append(cos_sims[cos_sims < threshold].shape[0])\n",
    "    i_links_thresholds = pd.DataFrame({\n",
    "        'vector_id':\n",
    "        i,\n",
    "        'thresholds':\n",
    "        np.arange(0, 0.42, 0.01),\n",
    "        'numlinks':\n",
    "        np.asarray(numlinks).astype(int)\n",
    "    })\n",
    "    links_thresholds = links_thresholds.append(\n",
    "        i_links_thresholds, ignore_index=True)\n"
   ]
  },
  {
   "cell_type": "code",
   "execution_count": 29,
   "metadata": {},
   "outputs": [],
   "source": [
    "links_thresholds['numlinks'] = links_thresholds['numlinks'].astype(int)\n"
   ]
  },
  {
   "cell_type": "code",
   "execution_count": 30,
   "metadata": {},
   "outputs": [
    {
     "data": {
      "text/html": [
       "<div>\n",
       "<style scoped>\n",
       "    .dataframe tbody tr th:only-of-type {\n",
       "        vertical-align: middle;\n",
       "    }\n",
       "\n",
       "    .dataframe tbody tr th {\n",
       "        vertical-align: top;\n",
       "    }\n",
       "\n",
       "    .dataframe thead th {\n",
       "        text-align: right;\n",
       "    }\n",
       "</style>\n",
       "<table border=\"1\" class=\"dataframe\">\n",
       "  <thead>\n",
       "    <tr style=\"text-align: right;\">\n",
       "      <th></th>\n",
       "      <th>count</th>\n",
       "      <th>mean</th>\n",
       "      <th>std</th>\n",
       "      <th>min</th>\n",
       "      <th>25%</th>\n",
       "      <th>50%</th>\n",
       "      <th>75%</th>\n",
       "      <th>max</th>\n",
       "    </tr>\n",
       "    <tr>\n",
       "      <th>thresholds</th>\n",
       "      <th></th>\n",
       "      <th></th>\n",
       "      <th></th>\n",
       "      <th></th>\n",
       "      <th></th>\n",
       "      <th></th>\n",
       "      <th></th>\n",
       "      <th></th>\n",
       "    </tr>\n",
       "  </thead>\n",
       "  <tbody>\n",
       "    <tr>\n",
       "      <th>0.00</th>\n",
       "      <td>2048.0</td>\n",
       "      <td>0.000000</td>\n",
       "      <td>0.000000</td>\n",
       "      <td>0.0</td>\n",
       "      <td>0.0</td>\n",
       "      <td>0.0</td>\n",
       "      <td>0.0</td>\n",
       "      <td>0.0</td>\n",
       "    </tr>\n",
       "    <tr>\n",
       "      <th>0.01</th>\n",
       "      <td>2048.0</td>\n",
       "      <td>0.006836</td>\n",
       "      <td>0.136077</td>\n",
       "      <td>0.0</td>\n",
       "      <td>0.0</td>\n",
       "      <td>0.0</td>\n",
       "      <td>0.0</td>\n",
       "      <td>4.0</td>\n",
       "    </tr>\n",
       "    <tr>\n",
       "      <th>0.02</th>\n",
       "      <td>2048.0</td>\n",
       "      <td>0.011719</td>\n",
       "      <td>0.152681</td>\n",
       "      <td>0.0</td>\n",
       "      <td>0.0</td>\n",
       "      <td>0.0</td>\n",
       "      <td>0.0</td>\n",
       "      <td>4.0</td>\n",
       "    </tr>\n",
       "    <tr>\n",
       "      <th>0.03</th>\n",
       "      <td>2048.0</td>\n",
       "      <td>0.109863</td>\n",
       "      <td>0.686346</td>\n",
       "      <td>0.0</td>\n",
       "      <td>0.0</td>\n",
       "      <td>0.0</td>\n",
       "      <td>0.0</td>\n",
       "      <td>17.0</td>\n",
       "    </tr>\n",
       "    <tr>\n",
       "      <th>0.04</th>\n",
       "      <td>2048.0</td>\n",
       "      <td>0.504883</td>\n",
       "      <td>2.299715</td>\n",
       "      <td>0.0</td>\n",
       "      <td>0.0</td>\n",
       "      <td>0.0</td>\n",
       "      <td>0.0</td>\n",
       "      <td>20.0</td>\n",
       "    </tr>\n",
       "    <tr>\n",
       "      <th>0.05</th>\n",
       "      <td>2048.0</td>\n",
       "      <td>1.206543</td>\n",
       "      <td>3.709112</td>\n",
       "      <td>0.0</td>\n",
       "      <td>0.0</td>\n",
       "      <td>0.0</td>\n",
       "      <td>0.0</td>\n",
       "      <td>20.0</td>\n",
       "    </tr>\n",
       "    <tr>\n",
       "      <th>0.06</th>\n",
       "      <td>2048.0</td>\n",
       "      <td>2.222656</td>\n",
       "      <td>5.155258</td>\n",
       "      <td>0.0</td>\n",
       "      <td>0.0</td>\n",
       "      <td>0.0</td>\n",
       "      <td>1.0</td>\n",
       "      <td>20.0</td>\n",
       "    </tr>\n",
       "    <tr>\n",
       "      <th>0.07</th>\n",
       "      <td>2048.0</td>\n",
       "      <td>3.641113</td>\n",
       "      <td>6.567422</td>\n",
       "      <td>0.0</td>\n",
       "      <td>0.0</td>\n",
       "      <td>0.0</td>\n",
       "      <td>3.0</td>\n",
       "      <td>20.0</td>\n",
       "    </tr>\n",
       "    <tr>\n",
       "      <th>0.08</th>\n",
       "      <td>2048.0</td>\n",
       "      <td>5.286621</td>\n",
       "      <td>7.721608</td>\n",
       "      <td>0.0</td>\n",
       "      <td>0.0</td>\n",
       "      <td>1.0</td>\n",
       "      <td>8.0</td>\n",
       "      <td>20.0</td>\n",
       "    </tr>\n",
       "    <tr>\n",
       "      <th>0.09</th>\n",
       "      <td>2048.0</td>\n",
       "      <td>6.844727</td>\n",
       "      <td>8.296314</td>\n",
       "      <td>0.0</td>\n",
       "      <td>0.0</td>\n",
       "      <td>2.0</td>\n",
       "      <td>18.0</td>\n",
       "      <td>20.0</td>\n",
       "    </tr>\n",
       "    <tr>\n",
       "      <th>0.10</th>\n",
       "      <td>2048.0</td>\n",
       "      <td>8.524414</td>\n",
       "      <td>8.709466</td>\n",
       "      <td>0.0</td>\n",
       "      <td>0.0</td>\n",
       "      <td>4.0</td>\n",
       "      <td>20.0</td>\n",
       "      <td>20.0</td>\n",
       "    </tr>\n",
       "    <tr>\n",
       "      <th>0.11</th>\n",
       "      <td>2048.0</td>\n",
       "      <td>10.019043</td>\n",
       "      <td>8.924266</td>\n",
       "      <td>0.0</td>\n",
       "      <td>1.0</td>\n",
       "      <td>8.0</td>\n",
       "      <td>20.0</td>\n",
       "      <td>20.0</td>\n",
       "    </tr>\n",
       "    <tr>\n",
       "      <th>0.12</th>\n",
       "      <td>2048.0</td>\n",
       "      <td>11.239258</td>\n",
       "      <td>8.850348</td>\n",
       "      <td>0.0</td>\n",
       "      <td>1.0</td>\n",
       "      <td>13.0</td>\n",
       "      <td>20.0</td>\n",
       "      <td>20.0</td>\n",
       "    </tr>\n",
       "    <tr>\n",
       "      <th>0.13</th>\n",
       "      <td>2048.0</td>\n",
       "      <td>12.359863</td>\n",
       "      <td>8.658471</td>\n",
       "      <td>0.0</td>\n",
       "      <td>2.0</td>\n",
       "      <td>20.0</td>\n",
       "      <td>20.0</td>\n",
       "      <td>20.0</td>\n",
       "    </tr>\n",
       "    <tr>\n",
       "      <th>0.14</th>\n",
       "      <td>2048.0</td>\n",
       "      <td>13.398926</td>\n",
       "      <td>8.391119</td>\n",
       "      <td>0.0</td>\n",
       "      <td>3.0</td>\n",
       "      <td>20.0</td>\n",
       "      <td>20.0</td>\n",
       "      <td>20.0</td>\n",
       "    </tr>\n",
       "    <tr>\n",
       "      <th>0.15</th>\n",
       "      <td>2048.0</td>\n",
       "      <td>14.262207</td>\n",
       "      <td>8.109841</td>\n",
       "      <td>0.0</td>\n",
       "      <td>5.0</td>\n",
       "      <td>20.0</td>\n",
       "      <td>20.0</td>\n",
       "      <td>20.0</td>\n",
       "    </tr>\n",
       "    <tr>\n",
       "      <th>0.16</th>\n",
       "      <td>2048.0</td>\n",
       "      <td>14.940918</td>\n",
       "      <td>7.742492</td>\n",
       "      <td>0.0</td>\n",
       "      <td>7.0</td>\n",
       "      <td>20.0</td>\n",
       "      <td>20.0</td>\n",
       "      <td>20.0</td>\n",
       "    </tr>\n",
       "    <tr>\n",
       "      <th>0.17</th>\n",
       "      <td>2048.0</td>\n",
       "      <td>15.586914</td>\n",
       "      <td>7.314638</td>\n",
       "      <td>0.0</td>\n",
       "      <td>11.0</td>\n",
       "      <td>20.0</td>\n",
       "      <td>20.0</td>\n",
       "      <td>20.0</td>\n",
       "    </tr>\n",
       "    <tr>\n",
       "      <th>0.18</th>\n",
       "      <td>2048.0</td>\n",
       "      <td>16.163086</td>\n",
       "      <td>6.887026</td>\n",
       "      <td>0.0</td>\n",
       "      <td>16.0</td>\n",
       "      <td>20.0</td>\n",
       "      <td>20.0</td>\n",
       "      <td>20.0</td>\n",
       "    </tr>\n",
       "    <tr>\n",
       "      <th>0.19</th>\n",
       "      <td>2048.0</td>\n",
       "      <td>16.745117</td>\n",
       "      <td>6.424677</td>\n",
       "      <td>0.0</td>\n",
       "      <td>20.0</td>\n",
       "      <td>20.0</td>\n",
       "      <td>20.0</td>\n",
       "      <td>20.0</td>\n",
       "    </tr>\n",
       "    <tr>\n",
       "      <th>0.20</th>\n",
       "      <td>2048.0</td>\n",
       "      <td>17.240234</td>\n",
       "      <td>5.979847</td>\n",
       "      <td>0.0</td>\n",
       "      <td>20.0</td>\n",
       "      <td>20.0</td>\n",
       "      <td>20.0</td>\n",
       "      <td>20.0</td>\n",
       "    </tr>\n",
       "    <tr>\n",
       "      <th>0.21</th>\n",
       "      <td>2048.0</td>\n",
       "      <td>17.699707</td>\n",
       "      <td>5.494516</td>\n",
       "      <td>0.0</td>\n",
       "      <td>20.0</td>\n",
       "      <td>20.0</td>\n",
       "      <td>20.0</td>\n",
       "      <td>20.0</td>\n",
       "    </tr>\n",
       "    <tr>\n",
       "      <th>0.22</th>\n",
       "      <td>2048.0</td>\n",
       "      <td>18.059570</td>\n",
       "      <td>5.052955</td>\n",
       "      <td>0.0</td>\n",
       "      <td>20.0</td>\n",
       "      <td>20.0</td>\n",
       "      <td>20.0</td>\n",
       "      <td>20.0</td>\n",
       "    </tr>\n",
       "    <tr>\n",
       "      <th>0.23</th>\n",
       "      <td>2048.0</td>\n",
       "      <td>18.391602</td>\n",
       "      <td>4.597526</td>\n",
       "      <td>0.0</td>\n",
       "      <td>20.0</td>\n",
       "      <td>20.0</td>\n",
       "      <td>20.0</td>\n",
       "      <td>20.0</td>\n",
       "    </tr>\n",
       "    <tr>\n",
       "      <th>0.24</th>\n",
       "      <td>2048.0</td>\n",
       "      <td>18.666504</td>\n",
       "      <td>4.133769</td>\n",
       "      <td>0.0</td>\n",
       "      <td>20.0</td>\n",
       "      <td>20.0</td>\n",
       "      <td>20.0</td>\n",
       "      <td>20.0</td>\n",
       "    </tr>\n",
       "    <tr>\n",
       "      <th>0.25</th>\n",
       "      <td>2048.0</td>\n",
       "      <td>18.943848</td>\n",
       "      <td>3.698225</td>\n",
       "      <td>0.0</td>\n",
       "      <td>20.0</td>\n",
       "      <td>20.0</td>\n",
       "      <td>20.0</td>\n",
       "      <td>20.0</td>\n",
       "    </tr>\n",
       "    <tr>\n",
       "      <th>0.26</th>\n",
       "      <td>2048.0</td>\n",
       "      <td>19.162598</td>\n",
       "      <td>3.299780</td>\n",
       "      <td>0.0</td>\n",
       "      <td>20.0</td>\n",
       "      <td>20.0</td>\n",
       "      <td>20.0</td>\n",
       "      <td>20.0</td>\n",
       "    </tr>\n",
       "    <tr>\n",
       "      <th>0.27</th>\n",
       "      <td>2048.0</td>\n",
       "      <td>19.355469</td>\n",
       "      <td>2.910253</td>\n",
       "      <td>0.0</td>\n",
       "      <td>20.0</td>\n",
       "      <td>20.0</td>\n",
       "      <td>20.0</td>\n",
       "      <td>20.0</td>\n",
       "    </tr>\n",
       "    <tr>\n",
       "      <th>0.28</th>\n",
       "      <td>2048.0</td>\n",
       "      <td>19.506348</td>\n",
       "      <td>2.538220</td>\n",
       "      <td>0.0</td>\n",
       "      <td>20.0</td>\n",
       "      <td>20.0</td>\n",
       "      <td>20.0</td>\n",
       "      <td>20.0</td>\n",
       "    </tr>\n",
       "    <tr>\n",
       "      <th>0.29</th>\n",
       "      <td>2048.0</td>\n",
       "      <td>19.623535</td>\n",
       "      <td>2.212540</td>\n",
       "      <td>0.0</td>\n",
       "      <td>20.0</td>\n",
       "      <td>20.0</td>\n",
       "      <td>20.0</td>\n",
       "      <td>20.0</td>\n",
       "    </tr>\n",
       "    <tr>\n",
       "      <th>0.30</th>\n",
       "      <td>2048.0</td>\n",
       "      <td>19.733398</td>\n",
       "      <td>1.870298</td>\n",
       "      <td>0.0</td>\n",
       "      <td>20.0</td>\n",
       "      <td>20.0</td>\n",
       "      <td>20.0</td>\n",
       "      <td>20.0</td>\n",
       "    </tr>\n",
       "    <tr>\n",
       "      <th>0.31</th>\n",
       "      <td>2048.0</td>\n",
       "      <td>19.794434</td>\n",
       "      <td>1.689425</td>\n",
       "      <td>0.0</td>\n",
       "      <td>20.0</td>\n",
       "      <td>20.0</td>\n",
       "      <td>20.0</td>\n",
       "      <td>20.0</td>\n",
       "    </tr>\n",
       "    <tr>\n",
       "      <th>0.32</th>\n",
       "      <td>2048.0</td>\n",
       "      <td>19.829102</td>\n",
       "      <td>1.557274</td>\n",
       "      <td>0.0</td>\n",
       "      <td>20.0</td>\n",
       "      <td>20.0</td>\n",
       "      <td>20.0</td>\n",
       "      <td>20.0</td>\n",
       "    </tr>\n",
       "    <tr>\n",
       "      <th>0.33</th>\n",
       "      <td>2048.0</td>\n",
       "      <td>19.864258</td>\n",
       "      <td>1.350652</td>\n",
       "      <td>0.0</td>\n",
       "      <td>20.0</td>\n",
       "      <td>20.0</td>\n",
       "      <td>20.0</td>\n",
       "      <td>20.0</td>\n",
       "    </tr>\n",
       "    <tr>\n",
       "      <th>0.34</th>\n",
       "      <td>2048.0</td>\n",
       "      <td>19.891113</td>\n",
       "      <td>1.218791</td>\n",
       "      <td>0.0</td>\n",
       "      <td>20.0</td>\n",
       "      <td>20.0</td>\n",
       "      <td>20.0</td>\n",
       "      <td>20.0</td>\n",
       "    </tr>\n",
       "    <tr>\n",
       "      <th>0.35</th>\n",
       "      <td>2048.0</td>\n",
       "      <td>19.921387</td>\n",
       "      <td>1.018717</td>\n",
       "      <td>1.0</td>\n",
       "      <td>20.0</td>\n",
       "      <td>20.0</td>\n",
       "      <td>20.0</td>\n",
       "      <td>20.0</td>\n",
       "    </tr>\n",
       "    <tr>\n",
       "      <th>0.36</th>\n",
       "      <td>2048.0</td>\n",
       "      <td>19.945312</td>\n",
       "      <td>0.838694</td>\n",
       "      <td>1.0</td>\n",
       "      <td>20.0</td>\n",
       "      <td>20.0</td>\n",
       "      <td>20.0</td>\n",
       "      <td>20.0</td>\n",
       "    </tr>\n",
       "    <tr>\n",
       "      <th>0.37</th>\n",
       "      <td>2048.0</td>\n",
       "      <td>19.965820</td>\n",
       "      <td>0.651783</td>\n",
       "      <td>2.0</td>\n",
       "      <td>20.0</td>\n",
       "      <td>20.0</td>\n",
       "      <td>20.0</td>\n",
       "      <td>20.0</td>\n",
       "    </tr>\n",
       "    <tr>\n",
       "      <th>0.38</th>\n",
       "      <td>2048.0</td>\n",
       "      <td>19.979004</td>\n",
       "      <td>0.508884</td>\n",
       "      <td>3.0</td>\n",
       "      <td>20.0</td>\n",
       "      <td>20.0</td>\n",
       "      <td>20.0</td>\n",
       "      <td>20.0</td>\n",
       "    </tr>\n",
       "    <tr>\n",
       "      <th>0.39</th>\n",
       "      <td>2048.0</td>\n",
       "      <td>19.988281</td>\n",
       "      <td>0.378797</td>\n",
       "      <td>4.0</td>\n",
       "      <td>20.0</td>\n",
       "      <td>20.0</td>\n",
       "      <td>20.0</td>\n",
       "      <td>20.0</td>\n",
       "    </tr>\n",
       "    <tr>\n",
       "      <th>0.40</th>\n",
       "      <td>2048.0</td>\n",
       "      <td>19.993652</td>\n",
       "      <td>0.287262</td>\n",
       "      <td>7.0</td>\n",
       "      <td>20.0</td>\n",
       "      <td>20.0</td>\n",
       "      <td>20.0</td>\n",
       "      <td>20.0</td>\n",
       "    </tr>\n",
       "    <tr>\n",
       "      <th>0.41</th>\n",
       "      <td>2048.0</td>\n",
       "      <td>19.994141</td>\n",
       "      <td>0.265165</td>\n",
       "      <td>8.0</td>\n",
       "      <td>20.0</td>\n",
       "      <td>20.0</td>\n",
       "      <td>20.0</td>\n",
       "      <td>20.0</td>\n",
       "    </tr>\n",
       "  </tbody>\n",
       "</table>\n",
       "</div>"
      ],
      "text/plain": [
       "             count       mean       std  min   25%   50%   75%   max\n",
       "thresholds                                                          \n",
       "0.00        2048.0   0.000000  0.000000  0.0   0.0   0.0   0.0   0.0\n",
       "0.01        2048.0   0.006836  0.136077  0.0   0.0   0.0   0.0   4.0\n",
       "0.02        2048.0   0.011719  0.152681  0.0   0.0   0.0   0.0   4.0\n",
       "0.03        2048.0   0.109863  0.686346  0.0   0.0   0.0   0.0  17.0\n",
       "0.04        2048.0   0.504883  2.299715  0.0   0.0   0.0   0.0  20.0\n",
       "0.05        2048.0   1.206543  3.709112  0.0   0.0   0.0   0.0  20.0\n",
       "0.06        2048.0   2.222656  5.155258  0.0   0.0   0.0   1.0  20.0\n",
       "0.07        2048.0   3.641113  6.567422  0.0   0.0   0.0   3.0  20.0\n",
       "0.08        2048.0   5.286621  7.721608  0.0   0.0   1.0   8.0  20.0\n",
       "0.09        2048.0   6.844727  8.296314  0.0   0.0   2.0  18.0  20.0\n",
       "0.10        2048.0   8.524414  8.709466  0.0   0.0   4.0  20.0  20.0\n",
       "0.11        2048.0  10.019043  8.924266  0.0   1.0   8.0  20.0  20.0\n",
       "0.12        2048.0  11.239258  8.850348  0.0   1.0  13.0  20.0  20.0\n",
       "0.13        2048.0  12.359863  8.658471  0.0   2.0  20.0  20.0  20.0\n",
       "0.14        2048.0  13.398926  8.391119  0.0   3.0  20.0  20.0  20.0\n",
       "0.15        2048.0  14.262207  8.109841  0.0   5.0  20.0  20.0  20.0\n",
       "0.16        2048.0  14.940918  7.742492  0.0   7.0  20.0  20.0  20.0\n",
       "0.17        2048.0  15.586914  7.314638  0.0  11.0  20.0  20.0  20.0\n",
       "0.18        2048.0  16.163086  6.887026  0.0  16.0  20.0  20.0  20.0\n",
       "0.19        2048.0  16.745117  6.424677  0.0  20.0  20.0  20.0  20.0\n",
       "0.20        2048.0  17.240234  5.979847  0.0  20.0  20.0  20.0  20.0\n",
       "0.21        2048.0  17.699707  5.494516  0.0  20.0  20.0  20.0  20.0\n",
       "0.22        2048.0  18.059570  5.052955  0.0  20.0  20.0  20.0  20.0\n",
       "0.23        2048.0  18.391602  4.597526  0.0  20.0  20.0  20.0  20.0\n",
       "0.24        2048.0  18.666504  4.133769  0.0  20.0  20.0  20.0  20.0\n",
       "0.25        2048.0  18.943848  3.698225  0.0  20.0  20.0  20.0  20.0\n",
       "0.26        2048.0  19.162598  3.299780  0.0  20.0  20.0  20.0  20.0\n",
       "0.27        2048.0  19.355469  2.910253  0.0  20.0  20.0  20.0  20.0\n",
       "0.28        2048.0  19.506348  2.538220  0.0  20.0  20.0  20.0  20.0\n",
       "0.29        2048.0  19.623535  2.212540  0.0  20.0  20.0  20.0  20.0\n",
       "0.30        2048.0  19.733398  1.870298  0.0  20.0  20.0  20.0  20.0\n",
       "0.31        2048.0  19.794434  1.689425  0.0  20.0  20.0  20.0  20.0\n",
       "0.32        2048.0  19.829102  1.557274  0.0  20.0  20.0  20.0  20.0\n",
       "0.33        2048.0  19.864258  1.350652  0.0  20.0  20.0  20.0  20.0\n",
       "0.34        2048.0  19.891113  1.218791  0.0  20.0  20.0  20.0  20.0\n",
       "0.35        2048.0  19.921387  1.018717  1.0  20.0  20.0  20.0  20.0\n",
       "0.36        2048.0  19.945312  0.838694  1.0  20.0  20.0  20.0  20.0\n",
       "0.37        2048.0  19.965820  0.651783  2.0  20.0  20.0  20.0  20.0\n",
       "0.38        2048.0  19.979004  0.508884  3.0  20.0  20.0  20.0  20.0\n",
       "0.39        2048.0  19.988281  0.378797  4.0  20.0  20.0  20.0  20.0\n",
       "0.40        2048.0  19.993652  0.287262  7.0  20.0  20.0  20.0  20.0\n",
       "0.41        2048.0  19.994141  0.265165  8.0  20.0  20.0  20.0  20.0"
      ]
     },
     "execution_count": 30,
     "metadata": {},
     "output_type": "execute_result"
    }
   ],
   "source": [
    "links_thresholds['numlinks'].groupby(links_thresholds['thresholds']).describe()\n"
   ]
  },
  {
   "cell_type": "markdown",
   "metadata": {},
   "source": [
    "# Save out lists to spot check manually"
   ]
  },
  {
   "cell_type": "code",
   "execution_count": null,
   "metadata": {},
   "outputs": [],
   "source": [
    "labelled_unique['url'] = 'www.gov.uk' + labelled_unique.base_path\n"
   ]
  },
  {
   "cell_type": "markdown",
   "metadata": {},
   "source": [
    "### Mainstream"
   ]
  },
  {
   "cell_type": "code",
   "execution_count": null,
   "metadata": {},
   "outputs": [
    {
     "data": {
      "text/plain": [
       "whitehall                164479\n",
       "specialist-publisher      38676\n",
       "publisher                  2239\n",
       "hmrc-manuals-api             75\n",
       "manuals-publisher            33\n",
       "smartanswers                 31\n",
       "collections-publisher        30\n",
       "content-publisher             5\n",
       "calendars                     2\n",
       "Name: publishing_app, dtype: int64"
      ]
     },
     "execution_count": 30,
     "metadata": {},
     "output_type": "execute_result"
    }
   ],
   "source": [
    "labelled_unique.publishing_app.value_counts()\n"
   ]
  },
  {
   "cell_type": "markdown",
   "metadata": {},
   "source": [
    "#### filter mainstream content"
   ]
  },
  {
   "cell_type": "code",
   "execution_count": null,
   "metadata": {},
   "outputs": [],
   "source": [
    "embedded_docs_publisher = embedded_docs_unique[labelled_unique['publishing_app']\n",
    "                                               == 'publisher']\n"
   ]
  },
  {
   "cell_type": "code",
   "execution_count": 41,
   "metadata": {
    "ExecuteTime": {
     "end_time": "2019-02-07T11:56:18.168786Z",
     "start_time": "2019-02-07T11:56:18.150018Z"
    }
   },
   "outputs": [],
   "source": [
    "mainstream_content_ids = labelled_unique.content_id[\n",
    "    labelled_unique['publishing_app'] == 'publisher']\n"
   ]
  },
  {
   "cell_type": "code",
   "execution_count": 45,
   "metadata": {
    "ExecuteTime": {
     "end_time": "2019-02-07T11:58:20.153077Z",
     "start_time": "2019-02-07T11:58:20.146608Z"
    }
   },
   "outputs": [],
   "source": [
    "with open('mainsteam_content_ids.json', 'w') as f:\n",
    "    json.dump(list(mainstream_content_ids.values), f, ensure_ascii=False)\n"
   ]
  },
  {
   "cell_type": "code",
   "execution_count": null,
   "metadata": {},
   "outputs": [],
   "source": [
    "labelled_publisher = labelled_unique[labelled_unique['publishing_app'] ==\n",
    "                                     'publisher']\n"
   ]
  },
  {
   "cell_type": "code",
   "execution_count": null,
   "metadata": {},
   "outputs": [
    {
     "data": {
      "text/plain": [
       "(2239, 512)"
      ]
     },
     "execution_count": 33,
     "metadata": {},
     "output_type": "execute_result"
    }
   ],
   "source": [
    "embedded_docs_publisher.shape\n"
   ]
  },
  {
   "cell_type": "code",
   "execution_count": null,
   "metadata": {},
   "outputs": [
    {
     "data": {
      "text/plain": [
       "(2239, 21)"
      ]
     },
     "execution_count": 34,
     "metadata": {},
     "output_type": "execute_result"
    }
   ],
   "source": [
    "labelled_publisher.shape\n"
   ]
  },
  {
   "cell_type": "markdown",
   "metadata": {},
   "source": [
    "#### Instantiate mainstream generator\n",
    "\n",
    "X = just the mainstream content but need to look for links in all content so Y = all content"
   ]
  },
  {
   "cell_type": "code",
   "execution_count": 38,
   "metadata": {
    "ExecuteTime": {
     "end_time": "2019-02-07T11:41:15.886004Z",
     "start_time": "2019-02-07T11:41:15.882745Z"
    }
   },
   "outputs": [],
   "source": [
    "gen_pub = pairwise_distances_chunked(\n",
    "    X=embedded_docs_publisher,\n",
    "    Y=embedded_docs_unique,\n",
    "    reduce_func=get_top_20_links,\n",
    "    working_memory=0,\n",
    "    metric='cosine',\n",
    "    n_jobs=-1)\n"
   ]
  },
  {
   "cell_type": "markdown",
   "metadata": {},
   "source": [
    "#### Get links in a format useful for content people"
   ]
  },
  {
   "cell_type": "code",
   "execution_count": null,
   "metadata": {
    "ExecuteTime": {
     "end_time": "2019-02-07T11:55:34.618682Z",
     "start_time": "2019-02-07T11:41:16.852429Z"
    }
   },
   "outputs": [],
   "source": [
    "source_links = []\n",
    "target_links = []\n",
    "urls = pd.DataFrame(columns=['source_url', 'suggested_links', 'cosine_sims'])\n",
    "for i, (indices, values) in enumerate(tqdm_notebook(gen_pub)):\n",
    "\n",
    "    source_url = labelled_unique.iat[indices[0][0],\n",
    "                                     -2]  #url is penultimate column\n",
    "    target_urls = [labelled_unique.iat[i, -2] for i in indices[0]]\n",
    "    #     cosine_sims = pd.Series(values)\n",
    "    i_urls = pd.DataFrame({\n",
    "        'source_url': source_url,\n",
    "        'suggested_links': target_urls,\n",
    "        'cosine_sims': values.reshape(20)\n",
    "    })\n",
    "    urls = urls.append(i_urls, ignore_index=True)\n"
   ]
  },
  {
   "cell_type": "code",
   "execution_count": null,
   "metadata": {},
   "outputs": [],
   "source": [
    "urls.to_csv(\"spot_check_google_links_publisher_all.csv\", index=False)\n"
   ]
  },
  {
   "cell_type": "markdown",
   "metadata": {},
   "source": [
    "### sensitive\n",
    "\n",
    "Need the list of sensitive urls to check these"
   ]
  },
  {
   "cell_type": "code",
   "execution_count": null,
   "metadata": {},
   "outputs": [],
   "source": [
    "# sensitive = pd.read_csv('/Users/ellieking/Downloads/Sensitive_content.csv')\n",
    "\n",
    "# sensitive.shape\n",
    "\n",
    "# labelled_unique['labelled_unique_idx'] = labelled_unique.index.astype('int')\n",
    "\n",
    "# print(labelled_unique['labelled_unique_idx'].describe())\n",
    "\n",
    "# labelled_sens = sensitive.merge(\n",
    "#     labelled_unique, left_on='URL basepath', right_on='base_path', how='inner')\n",
    "\n",
    "# print(labelled_sens.shape)\n",
    "\n",
    "# embedded_docs_sens = embedded_docs_unique[labelled_sens['labelled_unique_idx']]\n",
    "\n",
    "# print(embedded_docs_sens.shape)\n",
    "\n",
    "# gen_sens = pairwise_distances_chunked(\n",
    "#     X=embedded_docs_sens,\n",
    "#     Y=embedded_docs_unique,\n",
    "#     reduce_func=get_top_20_links,\n",
    "#     working_memory=0,\n",
    "#     metric='cosine',\n",
    "#     n_jobs=-1)\n",
    "\n",
    "# source_links = []\n",
    "# target_links = []\n",
    "# urls = pd.DataFrame(columns=['source_url', 'suggested_links', 'cosine_sims'])\n",
    "# for i, (indices, values) in enumerate(tqdm_notebook(gen_sens)):\n",
    "\n",
    "#     source_url = labelled_unique.iat[indices[0][0],\n",
    "#                                      -2]  #url is penultimate column\n",
    "#     target_urls = [labelled_unique.iat[i, -2] for i in indices[0]]\n",
    "#     i_urls = pd.DataFrame({\n",
    "#         'source_url': source_url,\n",
    "#         'suggested_links': target_urls,\n",
    "#         'cosine_sims': values.reshape(20)\n",
    "#     })\n",
    "#     urls = urls.append(i_urls, ignore_index=True)\n",
    "# urls.to_csv(\"spot_check_google_links_sensitive.csv\", index=False)\n"
   ]
  },
  {
   "cell_type": "markdown",
   "metadata": {},
   "source": [
    "# Generate links for experiment - ingesting into content_store\n",
    "### create reduce function and generator\n",
    "We actually decided to do the first experiment in with links from content closer than 0.15 (thres_gen) \n",
    "but the other types of generator are here in case needed in future experiments"
   ]
  },
  {
   "cell_type": "code",
   "execution_count": null,
   "metadata": {},
   "outputs": [],
   "source": [
    "# gen3 = pairwise_distances_chunked(\n",
    "#     X=embedded_docs_unique,\n",
    "#     Y=embedded_docs_unique,\n",
    "#     reduce_func=get_top_3_links_without_itself,\n",
    "#     working_memory=0,\n",
    "#     metric=\"cosine\",\n",
    "#     n_jobs=-1,\n",
    "# )\n"
   ]
  },
  {
   "cell_type": "code",
   "execution_count": null,
   "metadata": {},
   "outputs": [],
   "source": [
    "# gen = pairwise_distances_chunked(\n",
    "#     embedded_docs_unique,\n",
    "#     reduce_func=get_top_20_links_without_itself,\n",
    "#     working_memory=0,\n",
    "#     metric='cosine',\n",
    "#     n_jobs=-1)\n"
   ]
  },
  {
   "cell_type": "code",
   "execution_count": null,
   "metadata": {},
   "outputs": [],
   "source": [
    "def get_links_less_than_threshold(D_chunk, start, threshold=0.15):\n",
    "    \"\"\"return the top links (not including self) beneath the threshold related link indices and distance metric values\n",
    "    according to distance metric\"\"\"\n",
    "    top_k_indices = np.argpartition(D_chunk, range(6))[:, 1:6]\n",
    "    low_threshold_indices = (D_chunk[:, top_k_indices] < threshold).reshape(\n",
    "        1, 5)\n",
    "\n",
    "    indices = top_k_indices[low_threshold_indices]\n",
    "    size = indices.shape[0]\n",
    "\n",
    "    return indices.reshape(1, size), D_chunk[:, indices.reshape(1, size)]\n"
   ]
  },
  {
   "cell_type": "code",
   "execution_count": 138,
   "metadata": {},
   "outputs": [],
   "source": [
    "thres_gen = pairwise_distances_chunked(\n",
    "    embedded_docs_unique,\n",
    "    reduce_func=get_links_less_than_threshold,\n",
    "    working_memory=0,\n",
    "    metric='cosine',\n",
    "    n_jobs=-1)\n"
   ]
  },
  {
   "cell_type": "markdown",
   "metadata": {},
   "source": [
    "#### Loop through all content and save out the content_ids of closest content"
   ]
  },
  {
   "cell_type": "code",
   "execution_count": 139,
   "metadata": {},
   "outputs": [
    {
     "data": {
      "application/vnd.jupyter.widget-view+json": {
       "model_id": "34a21650a5844da983f874c7fd667c01",
       "version_major": 2,
       "version_minor": 0
      },
      "text/plain": [
       "HBox(children=(IntProgress(value=1, bar_style='info', max=1), HTML(value='')))"
      ]
     },
     "metadata": {},
     "output_type": "display_data"
    },
    {
     "name": "stderr",
     "output_type": "stream",
     "text": [
      "/Users/ellieking/.pyenv/versions/3.6.4/envs/content-similarity-3.6.4/lib/python3.6/site-packages/sklearn/utils/__init__.py:603: UserWarning: Could not adhere to working_memory config. Currently 0MiB, 2MiB required.\n",
      "  (working_memory, np.ceil(row_bytes * 2 ** -20)))\n"
     ]
    }
   ],
   "source": [
    "source_links = []\n",
    "target_links_threshold = []\n",
    "\n",
    "for i, (indices, values) in enumerate(tqdm_notebook(thres_gen)):\n",
    "    source_content_id = labelled_unique.iat[i, 2]\n",
    "    target_content_ids = [labelled_unique.iat[i, 2] for i in indices[0]]\n",
    "    source_links.append(source_content_id)\n",
    "    target_links_threshold.append(target_content_ids)\n"
   ]
  },
  {
   "cell_type": "markdown",
   "metadata": {},
   "source": [
    "### What's the distribution of number of links in the experiment"
   ]
  },
  {
   "cell_type": "code",
   "execution_count": 157,
   "metadata": {},
   "outputs": [
    {
     "data": {
      "text/plain": [
       "count    205570.000000\n",
       "mean          3.608420\n",
       "std           2.002353\n",
       "min           0.000000\n",
       "25%           2.000000\n",
       "50%           5.000000\n",
       "75%           5.000000\n",
       "max           5.000000\n",
       "dtype: float64"
      ]
     },
     "execution_count": 157,
     "metadata": {},
     "output_type": "execute_result"
    }
   ],
   "source": [
    "pd.Series(list(map(len, target_links_threshold))).describe()\n"
   ]
  },
  {
   "cell_type": "code",
   "execution_count": 162,
   "metadata": {},
   "outputs": [
    {
     "data": {
      "text/plain": [
       "<matplotlib.axes._subplots.AxesSubplot at 0x16c5fe2b0>"
      ]
     },
     "execution_count": 162,
     "metadata": {},
     "output_type": "execute_result"
    },
    {
     "data": {
      "image/png": "[encoded data removed]",
      "text/plain": [
       "<Figure size 432x288 with 1 Axes>"
      ]
     },
     "metadata": {
      "needs_background": "light"
     },
     "output_type": "display_data"
    }
   ],
   "source": [
    "pd.Series(list(map(len, target_links_threshold))).hist()\n"
   ]
  },
  {
   "cell_type": "code",
   "execution_count": 165,
   "metadata": {},
   "outputs": [
    {
     "data": {
      "text/plain": [
       "5    0.633847\n",
       "0    0.160135\n",
       "1    0.079253\n",
       "2    0.053160\n",
       "3    0.040808\n",
       "4    0.032797\n",
       "dtype: float64"
      ]
     },
     "execution_count": 165,
     "metadata": {},
     "output_type": "execute_result"
    }
   ],
   "source": [
    "pd.Series(list(map(len, target_links_threshold))).value_counts(normalize=True)\n"
   ]
  },
  {
   "cell_type": "markdown",
   "metadata": {},
   "source": [
    "16% of content will have no suggested links"
   ]
  },
  {
   "cell_type": "code",
   "execution_count": 146,
   "metadata": {},
   "outputs": [
    {
     "data": {
      "text/plain": [
       "3.6084204893710172"
      ]
     },
     "execution_count": 146,
     "metadata": {},
     "output_type": "execute_result"
    }
   ],
   "source": [
    "sum(map(len, target_links_threshold)) / len(target_links_threshold) #mean number of links\n"
   ]
  },
  {
   "cell_type": "code",
   "execution_count": 141,
   "metadata": {},
   "outputs": [],
   "source": [
    "import json\n",
    "with open('data_31JAN19_threshold_15_links.json', 'w') as f:\n",
    "    json.dump(\n",
    "        dict(zip(source_links, target_links_threshold)), f, ensure_ascii=False)\n"
   ]
  },
  {
   "cell_type": "code",
   "execution_count": null,
   "metadata": {},
   "outputs": [],
   "source": [
    "# source_links = []\n",
    "# target_links = []\n",
    "\n",
    "# for i, (indices, values) in enumerate(tqdm_notebook(gen)):\n",
    "#     print(i, indices)\n",
    "#     source_content_id = labelled_unique.iat[\n",
    "#         i, 2]  #assuming that content_it in 3rd column\n",
    "#     target_content_ids = [labelled_unique.iat[i, 2] for i in indices[0]]\n",
    "#     source_links.append(source_content_id)\n",
    "#     target_links.append(target_content_ids)\n"
   ]
  },
  {
   "cell_type": "code",
   "execution_count": null,
   "metadata": {},
   "outputs": [],
   "source": [
    "# import json\n",
    "# with open('sample_of_data_29NOV19_all.json', 'w') as f:\n",
    "#     json.dump(dict(zip(source_links, target_links)), f, ensure_ascii=False)\n"
   ]
  }
 ],
 "metadata": {
  "accelerator": "TPU",
  "colab": {
   "collapsed_sections": [],
   "name": "similarity_universal_sentence_embedding.ipynb",
   "provenance": [],
   "version": "0.3.2"
  },
  "hide_input": false,
  "kernelspec": {
   "display_name": "Python 3",
   "language": "python",
   "name": "python3"
  },
  "language_info": {
   "codemirror_mode": {
    "name": "ipython",
    "version": 3
   },
   "file_extension": ".py",
   "mimetype": "text/x-python",
   "name": "python",
   "nbconvert_exporter": "python",
   "pygments_lexer": "ipython3",
   "version": "3.6.4"
  },
  "toc": {
   "base_numbering": 1,
   "nav_menu": {},
   "number_sections": true,
   "sideBar": true,
   "skip_h1_title": false,
   "title_cell": "Table of Contents",
   "title_sidebar": "Contents",
   "toc_cell": false,
   "toc_position": {},
   "toc_section_display": true,
   "toc_window_display": false
  },
  "varInspector": {
   "cols": {
    "lenName": 16,
    "lenType": 16,
    "lenVar": 40
   },
   "kernels_config": {
    "python": {
     "delete_cmd_postfix": "",
     "delete_cmd_prefix": "del ",
     "library": "var_list.py",
     "varRefreshCmd": "print(var_dic_list())"
    },
    "r": {
     "delete_cmd_postfix": ") ",
     "delete_cmd_prefix": "rm(",
     "library": "var_list.r",
     "varRefreshCmd": "cat(var_dic_list()) "
    }
   },
   "types_to_exclude": [
    "module",
    "function",
    "builtin_function_or_method",
    "instance",
    "_Feature"
   ],
   "window_display": false
  }
 },
 "nbformat": 4,
 "nbformat_minor": 2
}
