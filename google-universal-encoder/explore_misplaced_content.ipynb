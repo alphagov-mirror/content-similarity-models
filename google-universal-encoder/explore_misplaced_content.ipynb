{
 "cells": [
  {
   "cell_type": "markdown",
   "metadata": {},
   "source": [
    "# Explore potentially-misplaced content\n",
    "\n",
    "## Context\n",
    "\n",
    "This notebook is for exploring how to identify content in the 'wrong' taxon. For example, the content could be entirely unrelaed to the taxon it's been tagged to, or ther might be a more granular taxon that it's better suited to."
   ]
  },
  {
   "cell_type": "markdown",
   "metadata": {},
   "source": [
    "## Prepare workspace"
   ]
  },
  {
   "cell_type": "markdown",
   "metadata": {},
   "source": [
    "Assuming for now that your working directory is at `/content-similarity-models/google-universal-encoder`"
   ]
  },
  {
   "cell_type": "code",
   "execution_count": 2,
   "metadata": {},
   "outputs": [
    {
     "data": {
      "text/plain": [
       "RendererRegistry.enable('notebook')"
      ]
     },
     "execution_count": 2,
     "metadata": {},
     "output_type": "execute_result"
    }
   ],
   "source": [
    "import numpy as np\n",
    "import pandas as pd\n",
    "\n",
    "from sklearn.metrics import pairwise_distances, pairwise_distances_chunked\n",
    "\n",
    "import altair as alt\n",
    "from altair import datum\n",
    "alt.renderers.enable('notebook')"
   ]
  },
  {
   "cell_type": "markdown",
   "metadata": {},
   "source": [
    "## Read and prepare data\n",
    "\n",
    "There are a few data sets used here:\n",
    "\n",
    "1. Content items and embeddings\n",
    "    1. Labelled data (data frame with a row per content item)\n",
    "    1. Embedded sentences (an array of the pairwise cosine similarity scores)\n",
    "1. Taxon homogeneity scores"
   ]
  },
  {
   "cell_type": "markdown",
   "metadata": {},
   "source": [
    "### 1A. Labelled data (DataFrame)\n",
    "\n",
    "The 'labelled' dataset is a pre-prepared DataFrame where each row is a content item. Variables are metadata about that content item, like its content ID number, or features of that item, like the title and body text. It's 'labelled' in the sense that it has taxon information included."
   ]
  },
  {
   "cell_type": "code",
   "execution_count": 3,
   "metadata": {},
   "outputs": [],
   "source": [
    "labelled = pd.read_csv(\n",
    "    '../data/2019-02-11/labelled.csv.gz',\n",
    "    compression = 'gzip',\n",
    "    low_memory = False\n",
    ")"
   ]
  },
  {
   "cell_type": "code",
   "execution_count": 4,
   "metadata": {
    "scrolled": true
   },
   "outputs": [
    {
     "data": {
      "text/plain": [
       "base_path                          /government/news/charity-commission-names-furt...\n",
       "content_id                                      5fa49c52-7631-11e4-a3cb-005056011aef\n",
       "description                            regulator increases transparency of its work.\n",
       "document_type                                                          press_release\n",
       "first_published_at                                     2014-06-04T23:00:00.000+00:00\n",
       "locale                                                                            en\n",
       "primary_publishing_organisation                               The Charity Commission\n",
       "publishing_app                                                             whitehall\n",
       "title                              charity commission names further charities und...\n",
       "body                               the charity commission has today named further...\n",
       "combined_text                      charity commission names further charities und...\n",
       "taxon_id                                        668cd623-c7a8-4159-9575-90caac36d4b4\n",
       "taxon_base_path                           /society-and-culture/community-and-society\n",
       "taxon_name                                                     Community and society\n",
       "level1taxon                                                      Society and culture\n",
       "level2taxon                                                    Community and society\n",
       "level3taxon                                                                      NaN\n",
       "level4taxon                                                                      NaN\n",
       "level5taxon                                                                      NaN\n",
       "Name: 1, dtype: object"
      ]
     },
     "execution_count": 4,
     "metadata": {},
     "output_type": "execute_result"
    }
   ],
   "source": [
    "labelled.iloc[1]"
   ]
  },
  {
   "cell_type": "markdown",
   "metadata": {},
   "source": [
    "Each content item can exist in more than one row; it might be tagged to more than one part of the taxonomy."
   ]
  },
  {
   "cell_type": "code",
   "execution_count": 5,
   "metadata": {},
   "outputs": [
    {
     "data": {
      "text/plain": [
       "(305703, 19)"
      ]
     },
     "execution_count": 5,
     "metadata": {},
     "output_type": "execute_result"
    }
   ],
   "source": [
    "labelled.shape  # 306k rows"
   ]
  },
  {
   "cell_type": "code",
   "execution_count": 6,
   "metadata": {},
   "outputs": [
    {
     "data": {
      "text/plain": [
       "(208261, 19)"
      ]
     },
     "execution_count": 6,
     "metadata": {},
     "output_type": "execute_result"
    }
   ],
   "source": [
    "labelled.drop_duplicates('content_id').shape  # 208k rows when duplicates removed"
   ]
  },
  {
   "cell_type": "markdown",
   "metadata": {},
   "source": [
    "Prep object containing relationship between `taxon_id` and `taxon_name`."
   ]
  },
  {
   "cell_type": "code",
   "execution_count": 7,
   "metadata": {},
   "outputs": [],
   "source": [
    "taxon_id_name = labelled[['taxon_id', 'taxon_name', 'level1taxon', 'level2taxon', 'level3taxon', 'level4taxon', 'level5taxon']].drop_duplicates()"
   ]
  },
  {
   "cell_type": "markdown",
   "metadata": {},
   "source": [
    "### 1B. Embedded sentences (numpy array)\n",
    "\n",
    "A numpy array of embeddings for content items. The index matches that of 'labelled'."
   ]
  },
  {
   "cell_type": "code",
   "execution_count": 8,
   "metadata": {},
   "outputs": [],
   "source": [
    "embedded_sentences = np.load('../data/embedded_sentences2019-02-11.npy')"
   ]
  },
  {
   "cell_type": "code",
   "execution_count": 9,
   "metadata": {},
   "outputs": [
    {
     "data": {
      "text/plain": [
       "array([[ 0.05357241,  0.00247775, -0.020976  , ..., -0.05675139,\n",
       "         0.01268296,  0.01008949],\n",
       "       [-0.04339019, -0.03241241,  0.00900179, ..., -0.04839829,\n",
       "         0.03903588, -0.0553612 ]], dtype=float32)"
      ]
     },
     "execution_count": 9,
     "metadata": {},
     "output_type": "execute_result"
    }
   ],
   "source": [
    "embedded_sentences[:2]"
   ]
  },
  {
   "cell_type": "markdown",
   "metadata": {},
   "source": [
    "### 2. Taxon homogeneity scores\n",
    "\n",
    "This is a Pandas DataFrame generated by the `get_homogeneity_scores_taxon.py` script. Each row is a taxon with some descriptive variables like the mean cosine score of all contained content items."
   ]
  },
  {
   "cell_type": "code",
   "execution_count": 10,
   "metadata": {},
   "outputs": [],
   "source": [
    "taxon_homogeneity_df = pd.read_csv(\"../data/taxon_homogeneity_df.csv\")"
   ]
  },
  {
   "cell_type": "code",
   "execution_count": 11,
   "metadata": {},
   "outputs": [
    {
     "data": {
      "text/plain": [
       "(1265, 9)"
      ]
     },
     "execution_count": 11,
     "metadata": {},
     "output_type": "execute_result"
    }
   ],
   "source": [
    "taxon_homogeneity_df.shape"
   ]
  },
  {
   "cell_type": "code",
   "execution_count": 12,
   "metadata": {},
   "outputs": [
    {
     "data": {
      "text/plain": [
       "Unnamed: 0                                                        246\n",
       "taxon_id                         f9e476ef-654d-41ec-97d9-2b6842d4361d\n",
       "taxon_size                                                        786\n",
       "mean_cosine_score                                            0.589025\n",
       "taxon_base_path               /society-and-culture/sports-and-leisure\n",
       "taxon_level                                                         2\n",
       "level1taxon                                       Society and culture\n",
       "fewer_than_or_equal_5items                                          0\n",
       "more_than_0_5_diversity                                             1\n",
       "Name: 1, dtype: object"
      ]
     },
     "execution_count": 12,
     "metadata": {},
     "output_type": "execute_result"
    }
   ],
   "source": [
    "taxon_homogeneity_df.iloc[1]"
   ]
  },
  {
   "cell_type": "markdown",
   "metadata": {},
   "source": [
    "# Explore misplaced content\n",
    "\n",
    "At two levels:\n",
    "\n",
    "1. High-level structure (can we spot taxons that might contain problem content using taxon-level metrics?)\n",
    "1. Identify problem content within taxons (can we identify and extract problem content from a given taxon?)"
   ]
  },
  {
   "cell_type": "markdown",
   "metadata": {},
   "source": [
    "## 1. High-level structure"
   ]
  },
  {
   "cell_type": "markdown",
   "metadata": {},
   "source": [
    "### Cosine similarity vs taxon size\n",
    "\n",
    "Plot mean cosine similarity against taxon size; coloured by depth."
   ]
  },
  {
   "cell_type": "code",
   "execution_count": 13,
   "metadata": {},
   "outputs": [],
   "source": [
    "numcols = 6  # specify the number of columns you want\n",
    "level1taxons = taxon_homogeneity_df['level1taxon'].unique() \n",
    "\n",
    "money = taxon_homogeneity_df[taxon_homogeneity_df.level1taxon == 'Money'].copy()\n",
    "\n",
    "total_size = money['taxon_size'].sum().astype(str)\n",
    "\n",
    "money_plot = alt.Chart(money).mark_circle(size=60).encode(\n",
    "    alt.X(\n",
    "        'taxon_size:Q',\n",
    "        scale=alt.Scale(type='log', domain=(1, 10000)),\n",
    "        axis=alt.Axis(grid=False, title='log(topic_size)')\n",
    "    ),\n",
    "    alt.Y(\n",
    "        'mean_cosine_score:Q',\n",
    "        scale=alt.Scale(domain=(0, 0.6)),\n",
    "        axis=alt.Axis(grid=False, title='content diversity score')\n",
    "    ), \n",
    "    color=alt.Color('taxon_level:N', scale=alt.Scale(scheme='magma')),\n",
    "    opacity=alt.value(0.8), \n",
    "    tooltip=['taxon_base_path']\n",
    ").properties(\n",
    "        title='Money' + \", \" + total_size).interactive()"
   ]
  },
  {
   "cell_type": "code",
   "execution_count": 14,
   "metadata": {},
   "outputs": [
    {
     "data": {
      "application/javascript": [
       "var spec = {\"config\": {\"view\": {\"width\": 400, \"height\": 300}, \"mark\": {\"tooltip\": null}}, \"data\": {\"name\": \"data-fd291abc6534b1d9d12bb907e111e108\"}, \"mark\": {\"type\": \"circle\", \"size\": 60}, \"encoding\": {\"color\": {\"type\": \"nominal\", \"field\": \"taxon_level\", \"scale\": {\"scheme\": \"magma\"}}, \"opacity\": {\"value\": 0.8}, \"tooltip\": [{\"type\": \"nominal\", \"field\": \"taxon_base_path\"}], \"x\": {\"type\": \"quantitative\", \"axis\": {\"grid\": false, \"title\": \"log(topic_size)\"}, \"field\": \"taxon_size\", \"scale\": {\"domain\": [1, 10000], \"type\": \"log\"}}, \"y\": {\"type\": \"quantitative\", \"axis\": {\"grid\": false, \"title\": \"content diversity score\"}, \"field\": \"mean_cosine_score\", \"scale\": {\"domain\": [0, 0.6]}}}, \"selection\": {\"selector001\": {\"type\": \"interval\", \"bind\": \"scales\", \"encodings\": [\"x\", \"y\"]}}, \"title\": \"Money, 9812\", \"$schema\": \"https://vega.github.io/schema/vega-lite/v3.4.0.json\", \"datasets\": {\"data-fd291abc6534b1d9d12bb907e111e108\": [{\"Unnamed: 0\": 90, \"taxon_id\": \"6acc9db4-780e-4a46-92b4-1812e3c2c48a\", \"taxon_size\": 2138, \"mean_cosine_score\": 0.5238144993782043, \"taxon_base_path\": \"/money\", \"taxon_level\": 1, \"level1taxon\": \"Money\", \"fewer_than_or_equal_5items\": 0, \"more_than_0_5_diversity\": 1}, {\"Unnamed: 0\": 189, \"taxon_id\": \"5d0b158c-7c31-41f8-84ae-8e4e950c1f0c\", \"taxon_size\": 1039, \"mean_cosine_score\": 0.4847344160079956, \"taxon_base_path\": \"/money/tax-agent-guidance\", \"taxon_level\": 3, \"level1taxon\": \"Money\", \"fewer_than_or_equal_5items\": 0, \"more_than_0_5_diversity\": 0}, {\"Unnamed: 0\": 41, \"taxon_id\": \"28262ae3-599c-4259-ae30-3c83a5ec02a1\", \"taxon_size\": 522, \"mean_cosine_score\": 0.4788800179958344, \"taxon_base_path\": \"/money/business-tax\", \"taxon_level\": 2, \"level1taxon\": \"Money\", \"fewer_than_or_equal_5items\": 0, \"more_than_0_5_diversity\": 0}, {\"Unnamed: 0\": 377, \"taxon_id\": \"b20215a9-25fb-4fa6-80a3-42e23f5352c2\", \"taxon_size\": 266, \"mean_cosine_score\": 0.4618533849716186, \"taxon_base_path\": \"/money/dealing-with-hmrc\", \"taxon_level\": 2, \"level1taxon\": \"Money\", \"fewer_than_or_equal_5items\": 0, \"more_than_0_5_diversity\": 0}, {\"Unnamed: 0\": 941, \"taxon_id\": \"12be2e2c-505b-412d-bff1-ba301465c116\", \"taxon_size\": 60, \"mean_cosine_score\": 0.4604267776012421, \"taxon_base_path\": \"/money/business-tax-reform\", \"taxon_level\": 3, \"level1taxon\": \"Money\", \"fewer_than_or_equal_5items\": 0, \"more_than_0_5_diversity\": 0}, {\"Unnamed: 0\": 687, \"taxon_id\": \"c858776d-6763-4071-9d30-1804f31c5dca\", \"taxon_size\": 162, \"mean_cosine_score\": 0.4564700126647949, \"taxon_base_path\": \"/money/personal-tax-reform\", \"taxon_level\": 3, \"level1taxon\": \"Money\", \"fewer_than_or_equal_5items\": 0, \"more_than_0_5_diversity\": 0}, {\"Unnamed: 0\": 550, \"taxon_id\": \"35a34e76-77fc-42b4-b8de-c587d30ff39a\", \"taxon_size\": 56, \"mean_cosine_score\": 0.4538304209709168, \"taxon_base_path\": \"/money/gambling-duties\", \"taxon_level\": 3, \"level1taxon\": \"Money\", \"fewer_than_or_equal_5items\": 0, \"more_than_0_5_diversity\": 0}, {\"Unnamed: 0\": 423, \"taxon_id\": \"1bc7e8d6-e609-489c-b215-1c318b0b40bd\", \"taxon_size\": 106, \"mean_cosine_score\": 0.4526816606521606, \"taxon_base_path\": \"/money/alcohol-duties\", \"taxon_level\": 3, \"level1taxon\": \"Money\", \"fewer_than_or_equal_5items\": 0, \"more_than_0_5_diversity\": 0}, {\"Unnamed: 0\": 115, \"taxon_id\": \"7d9a81dd-c0f9-479f-b048-a4111f1e74ec\", \"taxon_size\": 16, \"mean_cosine_score\": 0.4508844316005707, \"taxon_base_path\": \"/money/personal-tax-capital-gains-tax-business\", \"taxon_level\": 4, \"level1taxon\": \"Money\", \"fewer_than_or_equal_5items\": 0, \"more_than_0_5_diversity\": 0}, {\"Unnamed: 0\": 221, \"taxon_id\": \"86f769e5-f0a9-4d6c-8fbc-602dd5f13ad8\", \"taxon_size\": 276, \"mean_cosine_score\": 0.4421631693840027, \"taxon_base_path\": \"/money/paye\", \"taxon_level\": 3, \"level1taxon\": \"Money\", \"fewer_than_or_equal_5items\": 0, \"more_than_0_5_diversity\": 0}, {\"Unnamed: 0\": 194, \"taxon_id\": \"35136812-221c-4ba2-8ed1-46e409ca5e10\", \"taxon_size\": 373, \"mean_cosine_score\": 0.438401997089386, \"taxon_base_path\": \"/money/tax-evasion-and-avoidance\", \"taxon_level\": 2, \"level1taxon\": \"Money\", \"fewer_than_or_equal_5items\": 0, \"more_than_0_5_diversity\": 0}, {\"Unnamed: 0\": 490, \"taxon_id\": \"edb9b4a6-b804-4348-beee-81827c86bf0b\", \"taxon_size\": 224, \"mean_cosine_score\": 0.43280258774757385, \"taxon_base_path\": \"/money/self-assessment\", \"taxon_level\": 3, \"level1taxon\": \"Money\", \"fewer_than_or_equal_5items\": 0, \"more_than_0_5_diversity\": 0}, {\"Unnamed: 0\": 249, \"taxon_id\": \"42c49174-29b9-4bd8-b62b-b1c6b434ec7f\", \"taxon_size\": 42, \"mean_cosine_score\": 0.42669349908828735, \"taxon_base_path\": \"/money/construction-industry-scheme\", \"taxon_level\": 3, \"level1taxon\": \"Money\", \"fewer_than_or_equal_5items\": 0, \"more_than_0_5_diversity\": 0}, {\"Unnamed: 0\": 250, \"taxon_id\": \"e04c9a5c-88e8-46e5-91d9-add405e098fb\", \"taxon_size\": 311, \"mean_cosine_score\": 0.42001840472221375, \"taxon_base_path\": \"/money/vat\", \"taxon_level\": 3, \"level1taxon\": \"Money\", \"fewer_than_or_equal_5items\": 0, \"more_than_0_5_diversity\": 0}, {\"Unnamed: 0\": 42, \"taxon_id\": \"a5c88a77-03ba-4100-bd33-7ee2ce602dc8\", \"taxon_size\": 400, \"mean_cosine_score\": 0.4197826087474823, \"taxon_base_path\": \"/money/personal-tax\", \"taxon_level\": 2, \"level1taxon\": \"Money\", \"fewer_than_or_equal_5items\": 0, \"more_than_0_5_diversity\": 0}, {\"Unnamed: 0\": 521, \"taxon_id\": \"dcc6762c-ccba-4d65-9816-7c867bcedf69\", \"taxon_size\": 28, \"mean_cosine_score\": 0.4180742502212525, \"taxon_base_path\": \"/money/capital-allowances\", \"taxon_level\": 3, \"level1taxon\": \"Money\", \"fewer_than_or_equal_5items\": 0, \"more_than_0_5_diversity\": 0}, {\"Unnamed: 0\": 226, \"taxon_id\": \"02b042bb-b875-4362-ba13-41cbfb70f242\", \"taxon_size\": 131, \"mean_cosine_score\": 0.4173326790332794, \"taxon_base_path\": \"/money/tax-compliance\", \"taxon_level\": 3, \"level1taxon\": \"Money\", \"fewer_than_or_equal_5items\": 0, \"more_than_0_5_diversity\": 0}, {\"Unnamed: 0\": 289, \"taxon_id\": \"5dc8d0fa-0c04-4066-9ecb-2e262d6d878f\", \"taxon_size\": 202, \"mean_cosine_score\": 0.4157886505126953, \"taxon_base_path\": \"/money/dealing-with-hmrc-software-development\", \"taxon_level\": 3, \"level1taxon\": \"Money\", \"fewer_than_or_equal_5items\": 0, \"more_than_0_5_diversity\": 0}, {\"Unnamed: 0\": 1079, \"taxon_id\": \"8c32ec4f-bb34-45c4-9483-8bfd1248fada\", \"taxon_size\": 8, \"mean_cosine_score\": 0.4154227375984192, \"taxon_base_path\": \"/money/dealing-with-hmrc-paying-hmrc-gambling-duties\", \"taxon_level\": 4, \"level1taxon\": \"Money\", \"fewer_than_or_equal_5items\": 0, \"more_than_0_5_diversity\": 0}, {\"Unnamed: 0\": 1094, \"taxon_id\": \"a83ce24e-0ef4-476e-bac6-d18061e0a22e\", \"taxon_size\": 8, \"mean_cosine_score\": 0.4144464731216431, \"taxon_base_path\": \"/money/personal-tax-living-working-abroad-offshore-living-and-working-abroad\", \"taxon_level\": 4, \"level1taxon\": \"Money\", \"fewer_than_or_equal_5items\": 0, \"more_than_0_5_diversity\": 0}, {\"Unnamed: 0\": 190, \"taxon_id\": \"104ee859-8278-406b-80cb-5727373e0198\", \"taxon_size\": 217, \"mean_cosine_score\": 0.4123336374759674, \"taxon_base_path\": \"/money/income-tax\", \"taxon_level\": 3, \"level1taxon\": \"Money\", \"fewer_than_or_equal_5items\": 0, \"more_than_0_5_diversity\": 0}, {\"Unnamed: 0\": 997, \"taxon_id\": \"838708d9-324f-4342-a084-ecf8eaac4bad\", \"taxon_size\": 11, \"mean_cosine_score\": 0.4036370515823364, \"taxon_base_path\": \"/money/dealing-with-hmrc-paying-hmrc-capital-gains-tax\", \"taxon_level\": 4, \"level1taxon\": \"Money\", \"fewer_than_or_equal_5items\": 0, \"more_than_0_5_diversity\": 0}, {\"Unnamed: 0\": 623, \"taxon_id\": \"e7f94005-797c-4d12-b5f5-9646dc04b04b\", \"taxon_size\": 16, \"mean_cosine_score\": 0.4008389115333557, \"taxon_base_path\": \"/money/air-passenger-duty\", \"taxon_level\": 3, \"level1taxon\": \"Money\", \"fewer_than_or_equal_5items\": 0, \"more_than_0_5_diversity\": 0}, {\"Unnamed: 0\": 419, \"taxon_id\": \"9cf64a4b-68cc-4723-8659-cd88523ce910\", \"taxon_size\": 77, \"mean_cosine_score\": 0.3994167745113373, \"taxon_base_path\": \"/money/stamp-taxes\", \"taxon_level\": 3, \"level1taxon\": \"Money\", \"fewer_than_or_equal_5items\": 0, \"more_than_0_5_diversity\": 0}, {\"Unnamed: 0\": 740, \"taxon_id\": \"efe1b041-42dd-4eb5-afdc-18e6ed877249\", \"taxon_size\": 45, \"mean_cosine_score\": 0.39915931224823, \"taxon_base_path\": \"/money/business-tax-vat-rules-for-particular-trades\", \"taxon_level\": 4, \"level1taxon\": \"Money\", \"fewer_than_or_equal_5items\": 0, \"more_than_0_5_diversity\": 0}, {\"Unnamed: 0\": 749, \"taxon_id\": \"ba1f2f97-5e54-4aaf-8e14-075885ec8093\", \"taxon_size\": 7, \"mean_cosine_score\": 0.3988083899021149, \"taxon_base_path\": \"/money/dealing-with-hmrc-paying-hmrc-alcohol-duties\", \"taxon_level\": 4, \"level1taxon\": \"Money\", \"fewer_than_or_equal_5items\": 0, \"more_than_0_5_diversity\": 0}, {\"Unnamed: 0\": 171, \"taxon_id\": \"386180ca-4219-478e-8b80-a271dd5ce5f2\", \"taxon_size\": 260, \"mean_cosine_score\": 0.3985567986965179, \"taxon_base_path\": \"/money/corporation-tax\", \"taxon_level\": 3, \"level1taxon\": \"Money\", \"fewer_than_or_equal_5items\": 0, \"more_than_0_5_diversity\": 0}, {\"Unnamed: 0\": 602, \"taxon_id\": \"5e2be290-4b95-45e4-a362-876340296fe1\", \"taxon_size\": 46, \"mean_cosine_score\": 0.3980189263820648, \"taxon_base_path\": \"/money/landfill-tax\", \"taxon_level\": 3, \"level1taxon\": \"Money\", \"fewer_than_or_equal_5items\": 0, \"more_than_0_5_diversity\": 0}, {\"Unnamed: 0\": 269, \"taxon_id\": \"35092839-9f4a-4ee0-a1c3-6969d8440d79\", \"taxon_size\": 106, \"mean_cosine_score\": 0.3977226316928864, \"taxon_base_path\": \"/money/fuel-duty\", \"taxon_level\": 3, \"level1taxon\": \"Money\", \"fewer_than_or_equal_5items\": 0, \"more_than_0_5_diversity\": 0}, {\"Unnamed: 0\": 438, \"taxon_id\": \"3bc4ec93-fd86-4c66-98d0-7623cbbaa6be\", \"taxon_size\": 53, \"mean_cosine_score\": 0.3968636691570282, \"taxon_base_path\": \"/money/capital-gains-tax\", \"taxon_level\": 3, \"level1taxon\": \"Money\", \"fewer_than_or_equal_5items\": 0, \"more_than_0_5_diversity\": 0}, {\"Unnamed: 0\": 714, \"taxon_id\": \"521cd7b5-9aab-4888-8709-f661e3b313a8\", \"taxon_size\": 60, \"mean_cosine_score\": 0.3963350653648377, \"taxon_base_path\": \"/money/tobacco-products-duty\", \"taxon_level\": 3, \"level1taxon\": \"Money\", \"fewer_than_or_equal_5items\": 0, \"more_than_0_5_diversity\": 0}, {\"Unnamed: 0\": 215, \"taxon_id\": \"61b4cb95-d7c9-4c84-a4be-81d941ca11ba\", \"taxon_size\": 122, \"mean_cosine_score\": 0.3932391107082367, \"taxon_base_path\": \"/money/savings-investment-tax\", \"taxon_level\": 3, \"level1taxon\": \"Money\", \"fewer_than_or_equal_5items\": 0, \"more_than_0_5_diversity\": 0}, {\"Unnamed: 0\": 902, \"taxon_id\": \"aee2e8b8-bc23-455d-adad-ed4df14f07fc\", \"taxon_size\": 5, \"mean_cosine_score\": 0.3927827477455139, \"taxon_base_path\": \"/money/dealing-with-hmrc-paying-hmrc-corporation-tax\", \"taxon_level\": 4, \"level1taxon\": \"Money\", \"fewer_than_or_equal_5items\": 1, \"more_than_0_5_diversity\": 0}, {\"Unnamed: 0\": 694, \"taxon_id\": \"286b5fa1-a89b-42a3-bf29-36ef7c326324\", \"taxon_size\": 64, \"mean_cosine_score\": 0.3922156989574432, \"taxon_base_path\": \"/money/business-tax-vat-charging-vat\", \"taxon_level\": 4, \"level1taxon\": \"Money\", \"fewer_than_or_equal_5items\": 0, \"more_than_0_5_diversity\": 0}, {\"Unnamed: 0\": 967, \"taxon_id\": \"1cfb2ddc-91d1-4a57-8ede-4719c7535bd0\", \"taxon_size\": 13, \"mean_cosine_score\": 0.3913944363594055, \"taxon_base_path\": \"/money/business-tax-corporation-tax-reliefs\", \"taxon_level\": 4, \"level1taxon\": \"Money\", \"fewer_than_or_equal_5items\": 0, \"more_than_0_5_diversity\": 0}, {\"Unnamed: 0\": 761, \"taxon_id\": \"db47ae0e-3443-4c3d-a6cc-fb125848b242\", \"taxon_size\": 29, \"mean_cosine_score\": 0.3907658755779265, \"taxon_base_path\": \"/money/aggregates-levy\", \"taxon_level\": 3, \"level1taxon\": \"Money\", \"fewer_than_or_equal_5items\": 0, \"more_than_0_5_diversity\": 0}, {\"Unnamed: 0\": 619, \"taxon_id\": \"a923f233-d230-45a7-991a-24e175c9e684\", \"taxon_size\": 113, \"mean_cosine_score\": 0.3886348605155945, \"taxon_base_path\": \"/money/business-tax-vat-accounting-for-vat\", \"taxon_level\": 4, \"level1taxon\": \"Money\", \"fewer_than_or_equal_5items\": 0, \"more_than_0_5_diversity\": 0}, {\"Unnamed: 0\": 628, \"taxon_id\": \"41d3523d-34c4-445f-80c8-d429663cb184\", \"taxon_size\": 33, \"mean_cosine_score\": 0.3870178461074829, \"taxon_base_path\": \"/money/trusts\", \"taxon_level\": 3, \"level1taxon\": \"Money\", \"fewer_than_or_equal_5items\": 0, \"more_than_0_5_diversity\": 0}, {\"Unnamed: 0\": 726, \"taxon_id\": \"7c4cf197-2dba-4a82-83e2-6c8bb332525c\", \"taxon_size\": 40, \"mean_cosine_score\": 0.38252869248390203, \"taxon_base_path\": \"/money/court-claims-debt-bankruptcy\", \"taxon_level\": 2, \"level1taxon\": \"Money\", \"fewer_than_or_equal_5items\": 0, \"more_than_0_5_diversity\": 0}, {\"Unnamed: 0\": 672, \"taxon_id\": \"2ced42be-f650-47d6-809f-cba94a8eb50a\", \"taxon_size\": 5, \"mean_cosine_score\": 0.3811158239841461, \"taxon_base_path\": \"/money/business-tax-gambling-duties-gaming-duty\", \"taxon_level\": 4, \"level1taxon\": \"Money\", \"fewer_than_or_equal_5items\": 1, \"more_than_0_5_diversity\": 0}, {\"Unnamed: 0\": 560, \"taxon_id\": \"a34518fb-c418-45da-8551-888ca8bdedd6\", \"taxon_size\": 58, \"mean_cosine_score\": 0.3806155323982239, \"taxon_base_path\": \"/money/paying-hmrc\", \"taxon_level\": 3, \"level1taxon\": \"Money\", \"fewer_than_or_equal_5items\": 0, \"more_than_0_5_diversity\": 0}, {\"Unnamed: 0\": 587, \"taxon_id\": \"a7b67f4f-1234-4a0c-90ba-eeed4c5183cd\", \"taxon_size\": 33, \"mean_cosine_score\": 0.3778879940509796, \"taxon_base_path\": \"/money/money-laundering-regulations\", \"taxon_level\": 2, \"level1taxon\": \"Money\", \"fewer_than_or_equal_5items\": 0, \"more_than_0_5_diversity\": 0}, {\"Unnamed: 0\": 791, \"taxon_id\": \"cc195f93-4244-489a-97e9-22480113c770\", \"taxon_size\": 78, \"mean_cosine_score\": 0.3763116300106049, \"taxon_base_path\": \"/money/national-insurance\", \"taxon_level\": 3, \"level1taxon\": \"Money\", \"fewer_than_or_equal_5items\": 0, \"more_than_0_5_diversity\": 0}, {\"Unnamed: 0\": 829, \"taxon_id\": \"34615cb7-8da8-4ad4-b9f7-759fa4a7afea\", \"taxon_size\": 46, \"mean_cosine_score\": 0.3746580183506012, \"taxon_base_path\": \"/money/climate-change-levy\", \"taxon_level\": 3, \"level1taxon\": \"Money\", \"fewer_than_or_equal_5items\": 0, \"more_than_0_5_diversity\": 0}, {\"Unnamed: 0\": 237, \"taxon_id\": \"9ac356b8-b6cf-4eff-a6a8-208374f262e0\", \"taxon_size\": 147, \"mean_cosine_score\": 0.37339118123054493, \"taxon_base_path\": \"/money/tax-avoidance\", \"taxon_level\": 3, \"level1taxon\": \"Money\", \"fewer_than_or_equal_5items\": 0, \"more_than_0_5_diversity\": 0}, {\"Unnamed: 0\": 803, \"taxon_id\": \"fd51d4f6-a8fa-4eaf-a46e-99c2e10053cb\", \"taxon_size\": 7, \"mean_cosine_score\": 0.3710703253746033, \"taxon_base_path\": \"/money/dealing-with-hmrc-tax-compliance-disputes\", \"taxon_level\": 4, \"level1taxon\": \"Money\", \"fewer_than_or_equal_5items\": 0, \"more_than_0_5_diversity\": 0}, {\"Unnamed: 0\": 994, \"taxon_id\": \"d2110172-5fff-4b7f-ba21-a317908e7bcf\", \"taxon_size\": 11, \"mean_cosine_score\": 0.3663342595100403, \"taxon_base_path\": \"/money/dealing-with-hmrc-paying-hmrc-income-tax-and-national-insurance\", \"taxon_level\": 4, \"level1taxon\": \"Money\", \"fewer_than_or_equal_5items\": 0, \"more_than_0_5_diversity\": 0}, {\"Unnamed: 0\": 772, \"taxon_id\": \"4788b4b8-2642-47ca-bfc2-bd7e8705a1da\", \"taxon_size\": 31, \"mean_cosine_score\": 0.3649967908859253, \"taxon_base_path\": \"/money/business-tax-vat-importing-goods-and-services\", \"taxon_level\": 4, \"level1taxon\": \"Money\", \"fewer_than_or_equal_5items\": 0, \"more_than_0_5_diversity\": 0}, {\"Unnamed: 0\": 773, \"taxon_id\": \"f6114d3f-c950-424b-8f91-7b437c2992bc\", \"taxon_size\": 4, \"mean_cosine_score\": 0.3613896369934082, \"taxon_base_path\": \"/money/dealing-with-hmrc-tax-compliance-clearances-and-approvals\", \"taxon_level\": 4, \"level1taxon\": \"Money\", \"fewer_than_or_equal_5items\": 1, \"more_than_0_5_diversity\": 0}, {\"Unnamed: 0\": 580, \"taxon_id\": \"03fa6720-7d9e-4ecb-8afc-3b1f44c9e9f0\", \"taxon_size\": 26, \"mean_cosine_score\": 0.3578921854496002, \"taxon_base_path\": \"/money/dealing-with-hmrc-software-development-software-development-support\", \"taxon_level\": 4, \"level1taxon\": \"Money\", \"fewer_than_or_equal_5items\": 0, \"more_than_0_5_diversity\": 0}, {\"Unnamed: 0\": 1147, \"taxon_id\": \"1fd4f85d-83f0-46ec-878c-019967490c58\", \"taxon_size\": 17, \"mean_cosine_score\": 0.3571532368659973, \"taxon_base_path\": \"/money/stamp-duty-on-shares\", \"taxon_level\": 3, \"level1taxon\": \"Money\", \"fewer_than_or_equal_5items\": 0, \"more_than_0_5_diversity\": 0}, {\"Unnamed: 0\": 636, \"taxon_id\": \"e957194d-ba66-4bca-a8e6-2959e00fe89c\", \"taxon_size\": 32, \"mean_cosine_score\": 0.35280880331993103, \"taxon_base_path\": \"/money/employment-related-securities\", \"taxon_level\": 3, \"level1taxon\": \"Money\", \"fewer_than_or_equal_5items\": 0, \"more_than_0_5_diversity\": 0}, {\"Unnamed: 0\": 1212, \"taxon_id\": \"7e51374b-a3c4-45a4-bf8e-e6b5bc31ae8b\", \"taxon_size\": 8, \"mean_cosine_score\": 0.3467495441436768, \"taxon_base_path\": \"/money/personal-tax-savings-investment-tax-guidance-for-financial-institutions\", \"taxon_level\": 4, \"level1taxon\": \"Money\", \"fewer_than_or_equal_5items\": 0, \"more_than_0_5_diversity\": 0}, {\"Unnamed: 0\": 469, \"taxon_id\": \"70487388-9db0-465b-a53c-fd96c6aedb0b\", \"taxon_size\": 47, \"mean_cosine_score\": 0.3454292714595795, \"taxon_base_path\": \"/money/investment-schemes\", \"taxon_level\": 3, \"level1taxon\": \"Money\", \"fewer_than_or_equal_5items\": 0, \"more_than_0_5_diversity\": 0}, {\"Unnamed: 0\": 729, \"taxon_id\": \"8af13fba-d969-4d87-a02e-2e71783d47be\", \"taxon_size\": 22, \"mean_cosine_score\": 0.3439491093158722, \"taxon_base_path\": \"/money/business-tax-vat-exporting-goods-and-services\", \"taxon_level\": 4, \"level1taxon\": \"Money\", \"fewer_than_or_equal_5items\": 0, \"more_than_0_5_diversity\": 0}, {\"Unnamed: 0\": 1126, \"taxon_id\": \"02fdbc1c-89ff-493c-a150-2a2b5e40cc5d\", \"taxon_size\": 8, \"mean_cosine_score\": 0.34244170784950256, \"taxon_base_path\": \"/money/leaving-uk\", \"taxon_level\": 3, \"level1taxon\": \"Money\", \"fewer_than_or_equal_5items\": 0, \"more_than_0_5_diversity\": 0}, {\"Unnamed: 0\": 982, \"taxon_id\": \"261d0114-fe5c-4dcc-b38a-7983bfc19499\", \"taxon_size\": 13, \"mean_cosine_score\": 0.3413386642932892, \"taxon_base_path\": \"/money/shared-workspace\", \"taxon_level\": 3, \"level1taxon\": \"Money\", \"fewer_than_or_equal_5items\": 0, \"more_than_0_5_diversity\": 0}, {\"Unnamed: 0\": 952, \"taxon_id\": \"8f5feade-aa1e-476b-8acc-84103b24d51e\", \"taxon_size\": 7, \"mean_cosine_score\": 0.3391737639904022, \"taxon_base_path\": \"/money/dealing-with-hmrc-tax-compliance-compliance-checks\", \"taxon_level\": 4, \"level1taxon\": \"Money\", \"fewer_than_or_equal_5items\": 0, \"more_than_0_5_diversity\": 0}, {\"Unnamed: 0\": 630, \"taxon_id\": \"04902d6e-5ac7-491b-9c4b-27b8277485e8\", \"taxon_size\": 5, \"mean_cosine_score\": 0.33875373005867004, \"taxon_base_path\": \"/money/dealing-with-hmrc-tax-compliance-international-agreements-and-fatca\", \"taxon_level\": 4, \"level1taxon\": \"Money\", \"fewer_than_or_equal_5items\": 1, \"more_than_0_5_diversity\": 0}, {\"Unnamed: 0\": 1125, \"taxon_id\": \"5118a02f-4c09-41ca-a9fe-78e07c196c12\", \"taxon_size\": 5, \"mean_cosine_score\": 0.33720120787620544, \"taxon_base_path\": \"/money/dealing-with-hmrc-paying-hmrc-pension-schemes\", \"taxon_level\": 4, \"level1taxon\": \"Money\", \"fewer_than_or_equal_5items\": 1, \"more_than_0_5_diversity\": 0}, {\"Unnamed: 0\": 1162, \"taxon_id\": \"45365268-7f50-4fb8-a651-6fb64ca42ca1\", \"taxon_size\": 11, \"mean_cosine_score\": 0.3336314260959625, \"taxon_base_path\": \"/money/foreign-entertainer-rules\", \"taxon_level\": 3, \"level1taxon\": \"Money\", \"fewer_than_or_equal_5items\": 0, \"more_than_0_5_diversity\": 0}, {\"Unnamed: 0\": 89, \"taxon_id\": \"bf3906da-359c-4366-9e1b-2e5b5334167e\", \"taxon_size\": 257, \"mean_cosine_score\": 0.3311436176300049, \"taxon_base_path\": \"/money/pension-scheme-administration\", \"taxon_level\": 3, \"level1taxon\": \"Money\", \"fewer_than_or_equal_5items\": 0, \"more_than_0_5_diversity\": 0}, {\"Unnamed: 0\": 748, \"taxon_id\": \"d42da535-63de-4c5f-85fe-db2b3aff9f48\", \"taxon_size\": 17, \"mean_cosine_score\": 0.33063805103302, \"taxon_base_path\": \"/money/business-tax-alcohol-duties-payments-and-reliefs\", \"taxon_level\": 4, \"level1taxon\": \"Money\", \"fewer_than_or_equal_5items\": 0, \"more_than_0_5_diversity\": 0}, {\"Unnamed: 0\": 1027, \"taxon_id\": \"91e476e9-e1df-4c81-acd1-c86c5bf9898d\", \"taxon_size\": 5, \"mean_cosine_score\": 0.3304992616176605, \"taxon_base_path\": \"/money/ir35\", \"taxon_level\": 3, \"level1taxon\": \"Money\", \"fewer_than_or_equal_5items\": 1, \"more_than_0_5_diversity\": 0}, {\"Unnamed: 0\": 1041, \"taxon_id\": \"6720acc7-14c8-42ba-890c-dfe97db4249d\", \"taxon_size\": 16, \"mean_cosine_score\": 0.3277575969696045, \"taxon_base_path\": \"/money/business-tax-paye-expenses-and-benefits\", \"taxon_level\": 4, \"level1taxon\": \"Money\", \"fewer_than_or_equal_5items\": 0, \"more_than_0_5_diversity\": 0}, {\"Unnamed: 0\": 826, \"taxon_id\": \"98a946dc-adf6-4b24-a25b-9210b632680b\", \"taxon_size\": 4, \"mean_cosine_score\": 0.3243180513381958, \"taxon_base_path\": \"/money/business-tax-aggregates-levy-payments-and-reliefs\", \"taxon_level\": 4, \"level1taxon\": \"Money\", \"fewer_than_or_equal_5items\": 1, \"more_than_0_5_diversity\": 0}, {\"Unnamed: 0\": 1061, \"taxon_id\": \"943981a6-2737-4fa7-abab-465d8ee04ed1\", \"taxon_size\": 4, \"mean_cosine_score\": 0.32069283723831177, \"taxon_base_path\": \"/money/large-midsize-business\", \"taxon_level\": 3, \"level1taxon\": \"Money\", \"fewer_than_or_equal_5items\": 1, \"more_than_0_5_diversity\": 0}, {\"Unnamed: 0\": 855, \"taxon_id\": \"3a6a6a84-cef8-4013-9fc2-0ed2f80f3e20\", \"taxon_size\": 15, \"mean_cosine_score\": 0.3205101788043976, \"taxon_base_path\": \"/money/complaints-appeals\", \"taxon_level\": 3, \"level1taxon\": \"Money\", \"fewer_than_or_equal_5items\": 0, \"more_than_0_5_diversity\": 0}, {\"Unnamed: 0\": 993, \"taxon_id\": \"426bf4a1-865b-4e4a-81ef-b2abeab6a39d\", \"taxon_size\": 18, \"mean_cosine_score\": 0.3171749413013458, \"taxon_base_path\": \"/money/business-tax-vat-vat-returns\", \"taxon_level\": 4, \"level1taxon\": \"Money\", \"fewer_than_or_equal_5items\": 0, \"more_than_0_5_diversity\": 0}, {\"Unnamed: 0\": 224, \"taxon_id\": \"1f3d1ae8-aba7-4e02-abbc-6b54e6ff66aa\", \"taxon_size\": 118, \"mean_cosine_score\": 0.31686002016067505, \"taxon_base_path\": \"/money/personal-tax-inheritance-tax\", \"taxon_level\": 3, \"level1taxon\": \"Money\", \"fewer_than_or_equal_5items\": 0, \"more_than_0_5_diversity\": 0}, {\"Unnamed: 0\": 1073, \"taxon_id\": \"12c20fab-30e0-40a7-aa33-290eeba4bcca\", \"taxon_size\": 4, \"mean_cosine_score\": 0.3152015209197998, \"taxon_base_path\": \"/money/personal-tax-income-tax-special-types-of-pay\", \"taxon_level\": 4, \"level1taxon\": \"Money\", \"fewer_than_or_equal_5items\": 1, \"more_than_0_5_diversity\": 0}, {\"Unnamed: 0\": 827, \"taxon_id\": \"f42cdcd7-2bbe-4fa2-9edc-081a9acda57c\", \"taxon_size\": 3, \"mean_cosine_score\": 0.3138059079647064, \"taxon_base_path\": \"/money/business-tax-tobacco-products-duty-payments-and-reliefs\", \"taxon_level\": 4, \"level1taxon\": \"Money\", \"fewer_than_or_equal_5items\": 1, \"more_than_0_5_diversity\": 0}, {\"Unnamed: 0\": 661, \"taxon_id\": \"ff8f4cd7-05dd-4478-b37b-a9dcd984a810\", \"taxon_size\": 10, \"mean_cosine_score\": 0.3124911189079285, \"taxon_base_path\": \"/money/coming-to-uk\", \"taxon_level\": 3, \"level1taxon\": \"Money\", \"fewer_than_or_equal_5items\": 0, \"more_than_0_5_diversity\": 0}, {\"Unnamed: 0\": 905, \"taxon_id\": \"e9ef07fa-4c34-4126-89c1-6eabfeb92dd3\", \"taxon_size\": 8, \"mean_cosine_score\": 0.3124279975891113, \"taxon_base_path\": \"/money/business-tax-investment-schemes-collective-investment-schemes\", \"taxon_level\": 4, \"level1taxon\": \"Money\", \"fewer_than_or_equal_5items\": 0, \"more_than_0_5_diversity\": 0}, {\"Unnamed: 0\": 1260, \"taxon_id\": \"efa6099d-c5a8-4adc-83b7-f149b0d8d6ee\", \"taxon_size\": 2, \"mean_cosine_score\": 0.3108026385307312, \"taxon_base_path\": \"/money/business-tax-fuel-duty-payments-and-reliefs\", \"taxon_level\": 4, \"level1taxon\": \"Money\", \"fewer_than_or_equal_5items\": 1, \"more_than_0_5_diversity\": 0}, {\"Unnamed: 0\": 668, \"taxon_id\": \"5605545e-03ca-4520-9519-163ea341bc86\", \"taxon_size\": 50, \"mean_cosine_score\": 0.3028947412967682, \"taxon_base_path\": \"/money/expenses-employee-benefits\", \"taxon_level\": 2, \"level1taxon\": \"Money\", \"fewer_than_or_equal_5items\": 0, \"more_than_0_5_diversity\": 0}, {\"Unnamed: 0\": 920, \"taxon_id\": \"a4f7ecb6-457a-4b93-bd41-8328652de474\", \"taxon_size\": 7, \"mean_cosine_score\": 0.3000720739364624, \"taxon_base_path\": \"/money/personal-tax-savings-investment-tax-tax-efficient-savings-and-investments\", \"taxon_level\": 4, \"level1taxon\": \"Money\", \"fewer_than_or_equal_5items\": 0, \"more_than_0_5_diversity\": 0}, {\"Unnamed: 0\": 867, \"taxon_id\": \"74ad91b0-08f6-438e-af6c-3dabb798fd9e\", \"taxon_size\": 7, \"mean_cosine_score\": 0.2993592321872711, \"taxon_base_path\": \"/money/business-tax-money-laundering-regulations-your-role-under-the-regulations\", \"taxon_level\": 3, \"level1taxon\": \"Money\", \"fewer_than_or_equal_5items\": 0, \"more_than_0_5_diversity\": 0}, {\"Unnamed: 0\": 1021, \"taxon_id\": \"0327386a-a69e-4533-86d0-9f16f7ffa6f7\", \"taxon_size\": 8, \"mean_cosine_score\": 0.2974132299423218, \"taxon_base_path\": \"/money/personal-tax-inheritance-tax-working-out-the-tax\", \"taxon_level\": 4, \"level1taxon\": \"Money\", \"fewer_than_or_equal_5items\": 0, \"more_than_0_5_diversity\": 0}, {\"Unnamed: 0\": 1043, \"taxon_id\": \"31be8a8c-38b5-4f73-9567-2eaf468ca286\", \"taxon_size\": 11, \"mean_cosine_score\": 0.2970871031284332, \"taxon_base_path\": \"/money/business-tax-paye-registering-and-getting-started\", \"taxon_level\": 4, \"level1taxon\": \"Money\", \"fewer_than_or_equal_5items\": 0, \"more_than_0_5_diversity\": 0}, {\"Unnamed: 0\": 1096, \"taxon_id\": \"6ccfa37d-11b5-4aaf-bd2c-e05e0220c0a9\", \"taxon_size\": 9, \"mean_cosine_score\": 0.2940090894699097, \"taxon_base_path\": \"/money/personal-tax-income-tax-rates-allowances-and-reliefs\", \"taxon_level\": 4, \"level1taxon\": \"Money\", \"fewer_than_or_equal_5items\": 0, \"more_than_0_5_diversity\": 0}, {\"Unnamed: 0\": 1193, \"taxon_id\": \"f6d035f3-313f-4c10-aa17-ce1853fd9685\", \"taxon_size\": 7, \"mean_cosine_score\": 0.28919026255607605, \"taxon_base_path\": \"/money/personal-tax-savings-investment-tax-tax-on-savings\", \"taxon_level\": 4, \"level1taxon\": \"Money\", \"fewer_than_or_equal_5items\": 0, \"more_than_0_5_diversity\": 0}, {\"Unnamed: 0\": 1083, \"taxon_id\": \"72ae8c45-7817-45a8-94c2-f1257ea6519a\", \"taxon_size\": 9, \"mean_cosine_score\": 0.287788450717926, \"taxon_base_path\": \"/money/personal-tax-capital-gains-tax-shares-and-investments\", \"taxon_level\": 4, \"level1taxon\": \"Money\", \"fewer_than_or_equal_5items\": 0, \"more_than_0_5_diversity\": 0}, {\"Unnamed: 0\": 1050, \"taxon_id\": \"7c96a678-25a6-40f3-a170-ce63f9174d00\", \"taxon_size\": 17, \"mean_cosine_score\": 0.2857378125190735, \"taxon_base_path\": \"/money/business-tax-vat-paying\", \"taxon_level\": 4, \"level1taxon\": \"Money\", \"fewer_than_or_equal_5items\": 0, \"more_than_0_5_diversity\": 0}, {\"Unnamed: 0\": 1087, \"taxon_id\": \"96d35811-538f-43cf-9e8a-34202f550785\", \"taxon_size\": 3, \"mean_cosine_score\": 0.2815305292606354, \"taxon_base_path\": \"/money/business-tax-stamp-taxes-pay-your-sdlt-bill\", \"taxon_level\": 4, \"level1taxon\": \"Money\", \"fewer_than_or_equal_5items\": 1, \"more_than_0_5_diversity\": 0}, {\"Unnamed: 0\": 893, \"taxon_id\": \"26e5c6b4-1d88-4e5d-a365-ee81577eee64\", \"taxon_size\": 11, \"mean_cosine_score\": 0.2794352769851685, \"taxon_base_path\": \"/money/business-tax-vat-overseas-businesses-and-uk-vat\", \"taxon_level\": 4, \"level1taxon\": \"Money\", \"fewer_than_or_equal_5items\": 0, \"more_than_0_5_diversity\": 0}, {\"Unnamed: 0\": 955, \"taxon_id\": \"bf391f7e-19a6-4442-9398-2b68ff9b1f8f\", \"taxon_size\": 5, \"mean_cosine_score\": 0.2775165140628815, \"taxon_base_path\": \"/money/dealing-with-hmrc-tax-compliance-non-payment-and-fraud\", \"taxon_level\": 4, \"level1taxon\": \"Money\", \"fewer_than_or_equal_5items\": 1, \"more_than_0_5_diversity\": 0}, {\"Unnamed: 0\": 255, \"taxon_id\": \"185f0356-a7c8-4c5c-a3fa-9c4d17084d25\", \"taxon_size\": 12, \"mean_cosine_score\": 0.2773133516311645, \"taxon_base_path\": \"/money/business-tax-insurance-premium-tax\", \"taxon_level\": 3, \"level1taxon\": \"Money\", \"fewer_than_or_equal_5items\": 0, \"more_than_0_5_diversity\": 0}, {\"Unnamed: 0\": 783, \"taxon_id\": \"d93d4641-dd03-4eef-a791-c11146419a30\", \"taxon_size\": 5, \"mean_cosine_score\": 0.2748071849346161, \"taxon_base_path\": \"/money/life-insurance-policies\", \"taxon_level\": 3, \"level1taxon\": \"Money\", \"fewer_than_or_equal_5items\": 1, \"more_than_0_5_diversity\": 0}, {\"Unnamed: 0\": 980, \"taxon_id\": \"b90e86de-2b62-493f-b7dd-31b89ccc97f7\", \"taxon_size\": 10, \"mean_cosine_score\": 0.2730157375335693, \"taxon_base_path\": \"/money/personal-tax-income-tax-pensions\", \"taxon_level\": 4, \"level1taxon\": \"Money\", \"fewer_than_or_equal_5items\": 0, \"more_than_0_5_diversity\": 0}, {\"Unnamed: 0\": 930, \"taxon_id\": \"806df5bb-d913-4ae9-b68e-e7d8a6e740f5\", \"taxon_size\": 8, \"mean_cosine_score\": 0.27286189794540405, \"taxon_base_path\": \"/money/dealing-with-hmrc-tax-compliance-disclosing-offshore-income\", \"taxon_level\": 4, \"level1taxon\": \"Money\", \"fewer_than_or_equal_5items\": 0, \"more_than_0_5_diversity\": 0}, {\"Unnamed: 0\": 586, \"taxon_id\": \"3addc68e-a3b3-402a-9149-d5a7477e94f8\", \"taxon_size\": 13, \"mean_cosine_score\": 0.271797239780426, \"taxon_base_path\": \"/money/dealing-with-hmrc-tax-agent-guidance-money-laundering-regulations\", \"taxon_level\": 4, \"level1taxon\": \"Money\", \"fewer_than_or_equal_5items\": 0, \"more_than_0_5_diversity\": 0}, {\"Unnamed: 0\": 896, \"taxon_id\": \"1ce5b33c-b94a-465a-a5ba-267de7da6f70\", \"taxon_size\": 4, \"mean_cosine_score\": 0.27085232734680176, \"taxon_base_path\": \"/money/dealing-with-hmrc-tax-agent-guidance-working-with-hmrc-joint-initiatives\", \"taxon_level\": 4, \"level1taxon\": \"Money\", \"fewer_than_or_equal_5items\": 1, \"more_than_0_5_diversity\": 0}, {\"Unnamed: 0\": 909, \"taxon_id\": \"a6a0ba0b-d4a8-46bc-8c68-4c62ca04183b\", \"taxon_size\": 11, \"mean_cosine_score\": 0.2678646445274353, \"taxon_base_path\": \"/money/dealing-with-hmrc-paying-hmrc-vat\", \"taxon_level\": 4, \"level1taxon\": \"Money\", \"fewer_than_or_equal_5items\": 0, \"more_than_0_5_diversity\": 0}, {\"Unnamed: 0\": 817, \"taxon_id\": \"b5d80b89-fa33-454b-81bc-fd613b29deff\", \"taxon_size\": 7, \"mean_cosine_score\": 0.266596257686615, \"taxon_base_path\": \"/money/personal-tax-self-assessment-paying-your-tax-bill\", \"taxon_level\": 4, \"level1taxon\": \"Money\", \"fewer_than_or_equal_5items\": 0, \"more_than_0_5_diversity\": 0}, {\"Unnamed: 0\": 642, \"taxon_id\": \"ba6c4d92-b050-4b9a-8a52-e72247951d29\", \"taxon_size\": 15, \"mean_cosine_score\": 0.26526013016700745, \"taxon_base_path\": \"/money/business-tax-alcohol-duties-moving-and-storing-goods\", \"taxon_level\": 4, \"level1taxon\": \"Money\", \"fewer_than_or_equal_5items\": 0, \"more_than_0_5_diversity\": 0}, {\"Unnamed: 0\": 900, \"taxon_id\": \"288d5fe9-bf7c-48f2-b644-a7e911daee95\", \"taxon_size\": 9, \"mean_cosine_score\": 0.2620871365070343, \"taxon_base_path\": \"/money/business-tax-stamp-taxes-annual-tax-on-enveloped-dwellings\", \"taxon_level\": 4, \"level1taxon\": \"Money\", \"fewer_than_or_equal_5items\": 0, \"more_than_0_5_diversity\": 0}, {\"Unnamed: 0\": 1139, \"taxon_id\": \"29d4837a-c6e8-44e7-8ff6-4027b400fe42\", \"taxon_size\": 9, \"mean_cosine_score\": 0.25931990146636963, \"taxon_base_path\": \"/money/business-tax-international-tax-double-taxation\", \"taxon_level\": 4, \"level1taxon\": \"Money\", \"fewer_than_or_equal_5items\": 0, \"more_than_0_5_diversity\": 0}, {\"Unnamed: 0\": 879, \"taxon_id\": \"f40880fe-982a-469f-b0cb-248d06d7c7e7\", \"taxon_size\": 17, \"mean_cosine_score\": 0.2586544752120972, \"taxon_base_path\": \"/money/business-tax-paye-employees-joining-leaving-or-changing-their-circumstances\", \"taxon_level\": 4, \"level1taxon\": \"Money\", \"fewer_than_or_equal_5items\": 0, \"more_than_0_5_diversity\": 0}, {\"Unnamed: 0\": 578, \"taxon_id\": \"895732d7-177b-4def-8997-f1afc4364415\", \"taxon_size\": 7, \"mean_cosine_score\": 0.2536710202693939, \"taxon_base_path\": \"/money/personal-tax-self-assessment-filing-a-tax-return\", \"taxon_level\": 4, \"level1taxon\": \"Money\", \"fewer_than_or_equal_5items\": 0, \"more_than_0_5_diversity\": 0}, {\"Unnamed: 0\": 1014, \"taxon_id\": \"f6eef892-c962-4500-8ff6-adbeaf6e32e4\", \"taxon_size\": 6, \"mean_cosine_score\": 0.24894839525222776, \"taxon_base_path\": \"/money/business-tax-gambling-duties-general-betting-duty-pool-betting-duty-and-remote-gaming-duty\", \"taxon_level\": 4, \"level1taxon\": \"Money\", \"fewer_than_or_equal_5items\": 0, \"more_than_0_5_diversity\": 0}, {\"Unnamed: 0\": 1214, \"taxon_id\": \"04627536-a2e3-4ffd-9279-180feee5295a\", \"taxon_size\": 4, \"mean_cosine_score\": 0.24643534421920776, \"taxon_base_path\": \"/money/business-tax-gambling-duties-paying-hmrc\", \"taxon_level\": 4, \"level1taxon\": \"Money\", \"fewer_than_or_equal_5items\": 1, \"more_than_0_5_diversity\": 0}, {\"Unnamed: 0\": 1069, \"taxon_id\": \"a9ee1e37-96af-4e52-91ca-b4d1930f52df\", \"taxon_size\": 7, \"mean_cosine_score\": 0.2463069409132004, \"taxon_base_path\": \"/money/business-tax-employment-related-securities-returns-and-notifications\", \"taxon_level\": 4, \"level1taxon\": \"Money\", \"fewer_than_or_equal_5items\": 0, \"more_than_0_5_diversity\": 0}, {\"Unnamed: 0\": 937, \"taxon_id\": \"06e146ec-c1a3-4a93-b889-9c4d790954d8\", \"taxon_size\": 20, \"mean_cosine_score\": 0.2450965642929077, \"taxon_base_path\": \"/money/non-resident-landlord-scheme\", \"taxon_level\": 3, \"level1taxon\": \"Money\", \"fewer_than_or_equal_5items\": 0, \"more_than_0_5_diversity\": 0}, {\"Unnamed: 0\": 1137, \"taxon_id\": \"2285b71b-31c2-4413-af4f-a2cf32913ccc\", \"taxon_size\": 3, \"mean_cosine_score\": 0.2440304756164551, \"taxon_base_path\": \"/money/business-tax-gambling-duties-machine-games-duty\", \"taxon_level\": 4, \"level1taxon\": \"Money\", \"fewer_than_or_equal_5items\": 1, \"more_than_0_5_diversity\": 0}, {\"Unnamed: 0\": 759, \"taxon_id\": \"fa1f3afb-4de4-40d3-b5de-184f5cac0665\", \"taxon_size\": 4, \"mean_cosine_score\": 0.243876188993454, \"taxon_base_path\": \"/money/personal-tax-inheritance-tax-reliefs\", \"taxon_level\": 4, \"level1taxon\": \"Money\", \"fewer_than_or_equal_5items\": 1, \"more_than_0_5_diversity\": 0}, {\"Unnamed: 0\": 1223, \"taxon_id\": \"652532c7-dfb1-440a-a37e-215420ed3110\", \"taxon_size\": 7, \"mean_cosine_score\": 0.2418802231550217, \"taxon_base_path\": \"/money/business-tax-corporation-tax-working-out-your-corporation-tax\", \"taxon_level\": 4, \"level1taxon\": \"Money\", \"fewer_than_or_equal_5items\": 0, \"more_than_0_5_diversity\": 0}, {\"Unnamed: 0\": 1225, \"taxon_id\": \"9af66eaa-52b6-4239-a3b1-ba1e57afa16c\", \"taxon_size\": 3, \"mean_cosine_score\": 0.2415463924407959, \"taxon_base_path\": \"/money/business-tax-gambling-duties-bingo-duty\", \"taxon_level\": 4, \"level1taxon\": \"Money\", \"fewer_than_or_equal_5items\": 1, \"more_than_0_5_diversity\": 0}, {\"Unnamed: 0\": 869, \"taxon_id\": \"88b4980f-af23-41a0-9fc6-027dda49643c\", \"taxon_size\": 9, \"mean_cosine_score\": 0.2414587736129761, \"taxon_base_path\": \"/money/dealing-with-hmrc-paying-hmrc-insurance-premium-tax\", \"taxon_level\": 4, \"level1taxon\": \"Money\", \"fewer_than_or_equal_5items\": 0, \"more_than_0_5_diversity\": 0}, {\"Unnamed: 0\": 1236, \"taxon_id\": \"9da8f2ea-2729-4928-ac03-7ebe090f7c05\", \"taxon_size\": 3, \"mean_cosine_score\": 0.2396783232688904, \"taxon_base_path\": \"/money/business-tax-ir35-employment-intermediaries\", \"taxon_level\": 4, \"level1taxon\": \"Money\", \"fewer_than_or_equal_5items\": 1, \"more_than_0_5_diversity\": 0}, {\"Unnamed: 0\": 1201, \"taxon_id\": \"6883a521-919b-4796-8a98-d319cf354169\", \"taxon_size\": 9, \"mean_cosine_score\": 0.2396134734153748, \"taxon_base_path\": \"/money/business-tax-investment-schemes-venture-capital-schemes\", \"taxon_level\": 4, \"level1taxon\": \"Money\", \"fewer_than_or_equal_5items\": 0, \"more_than_0_5_diversity\": 0}, {\"Unnamed: 0\": 68, \"taxon_id\": \"24f22965-542e-4ed0-82fa-2e54ca95b35d\", \"taxon_size\": 186, \"mean_cosine_score\": 0.23899665474891665, \"taxon_base_path\": \"/money/living-working-abroad-offshore\", \"taxon_level\": 3, \"level1taxon\": \"Money\", \"fewer_than_or_equal_5items\": 0, \"more_than_0_5_diversity\": 0}, {\"Unnamed: 0\": 1169, \"taxon_id\": \"9a478c16-193c-400b-9a7b-9f5f9bc3f6c6\", \"taxon_size\": 4, \"mean_cosine_score\": 0.23866042494773865, \"taxon_base_path\": \"/money/dealing-with-hmrc-tax-agent-guidance-appeals-and-penalties\", \"taxon_level\": 4, \"level1taxon\": \"Money\", \"fewer_than_or_equal_5items\": 1, \"more_than_0_5_diversity\": 0}, {\"Unnamed: 0\": 870, \"taxon_id\": \"e8fc8b3b-6ee3-42f9-844d-4ee7977d69c9\", \"taxon_size\": 7, \"mean_cosine_score\": 0.23673845827579496, \"taxon_base_path\": \"/money/business-tax-insurance-premium-tax-paying-insurance-premium-tax\", \"taxon_level\": 4, \"level1taxon\": \"Money\", \"fewer_than_or_equal_5items\": 0, \"more_than_0_5_diversity\": 0}, {\"Unnamed: 0\": 1058, \"taxon_id\": \"981bbe5a-3b03-4d06-b15a-c8fe297381c9\", \"taxon_size\": 4, \"mean_cosine_score\": 0.23486152291297915, \"taxon_base_path\": \"/money/dealing-with-hmrc-paying-hmrc-inheritance-tax\", \"taxon_level\": 4, \"level1taxon\": \"Money\", \"fewer_than_or_equal_5items\": 1, \"more_than_0_5_diversity\": 0}, {\"Unnamed: 0\": 987, \"taxon_id\": \"ee010898-2f43-4a4c-8618-51916922d112\", \"taxon_size\": 7, \"mean_cosine_score\": 0.2341821640729904, \"taxon_base_path\": \"/money/business-tax-large-midsize-business-guidance-large-businesses\", \"taxon_level\": 4, \"level1taxon\": \"Money\", \"fewer_than_or_equal_5items\": 0, \"more_than_0_5_diversity\": 0}, {\"Unnamed: 0\": 67, \"taxon_id\": \"f98bece0-dfc0-4db3-9374-dd629bcffdd7\", \"taxon_size\": 198, \"mean_cosine_score\": 0.2336023449897766, \"taxon_base_path\": \"/money/international-tax\", \"taxon_level\": 3, \"level1taxon\": \"Money\", \"fewer_than_or_equal_5items\": 0, \"more_than_0_5_diversity\": 0}, {\"Unnamed: 0\": 311, \"taxon_id\": \"92c89e09-9814-410d-b8e1-fdb86e4b3be1\", \"taxon_size\": 3, \"mean_cosine_score\": 0.2302336096763611, \"taxon_base_path\": \"/money/dealing-with-hmrc-software-development-working-in-partnership\", \"taxon_level\": 4, \"level1taxon\": \"Money\", \"fewer_than_or_equal_5items\": 1, \"more_than_0_5_diversity\": 0}, {\"Unnamed: 0\": 811, \"taxon_id\": \"e8e4b901-c862-4e04-b581-2d3357a81a74\", \"taxon_size\": 15, \"mean_cosine_score\": 0.2294623553752899, \"taxon_base_path\": \"/money/business-tax-pension-scheme-administration-administering-a-pension-scheme\", \"taxon_level\": 4, \"level1taxon\": \"Money\", \"fewer_than_or_equal_5items\": 0, \"more_than_0_5_diversity\": 0}, {\"Unnamed: 0\": 1112, \"taxon_id\": \"dd102a74-7f97-4525-9c19-ffb9037677e7\", \"taxon_size\": 6, \"mean_cosine_score\": 0.22343799471855166, \"taxon_base_path\": \"/money/dealing-with-hmrc-tax-avoidance-disguised-remuneration-schemes\", \"taxon_level\": 4, \"level1taxon\": \"Money\", \"fewer_than_or_equal_5items\": 0, \"more_than_0_5_diversity\": 0}, {\"Unnamed: 0\": 927, \"taxon_id\": \"e2f53bc3-2bd0-4356-89fe-73e44f09fafa\", \"taxon_size\": 3, \"mean_cosine_score\": 0.2120102494955063, \"taxon_base_path\": \"/money/dealing-with-hmrc-paying-hmrc-construction-industry-scheme-through-paye\", \"taxon_level\": 4, \"level1taxon\": \"Money\", \"fewer_than_or_equal_5items\": 1, \"more_than_0_5_diversity\": 0}, {\"Unnamed: 0\": 889, \"taxon_id\": \"1210b08c-a45c-4b76-ad25-c48b9d4ffac2\", \"taxon_size\": 4, \"mean_cosine_score\": 0.2104257047176361, \"taxon_base_path\": \"/money/business-tax-tobacco-products-duty-moving-and-storing-goods\", \"taxon_level\": 4, \"level1taxon\": \"Money\", \"fewer_than_or_equal_5items\": 1, \"more_than_0_5_diversity\": 0}, {\"Unnamed: 0\": 1005, \"taxon_id\": \"acb26bb8-9a3b-481d-9516-f2426333da66\", \"taxon_size\": 10, \"mean_cosine_score\": 0.20888610184192655, \"taxon_base_path\": \"/money/business-tax-paye-paying-hmrc\", \"taxon_level\": 4, \"level1taxon\": \"Money\", \"fewer_than_or_equal_5items\": 0, \"more_than_0_5_diversity\": 0}, {\"Unnamed: 0\": 1151, \"taxon_id\": \"ab258996-8ad7-4311-b6ad-ff5d26a3aaa3\", \"taxon_size\": 5, \"mean_cosine_score\": 0.20876114070415494, \"taxon_base_path\": \"/money/business-tax-money-laundering-regulations-registration-for-specific-business-types\", \"taxon_level\": 3, \"level1taxon\": \"Money\", \"fewer_than_or_equal_5items\": 1, \"more_than_0_5_diversity\": 0}, {\"Unnamed: 0\": 1186, \"taxon_id\": \"b550d284-fafe-4ee6-9682-734e7cfabde5\", \"taxon_size\": 5, \"mean_cosine_score\": 0.2086500972509384, \"taxon_base_path\": \"/money/dealing-with-hmrc-tax-compliance-reporting-tax-evasion\", \"taxon_level\": 4, \"level1taxon\": \"Money\", \"fewer_than_or_equal_5items\": 1, \"more_than_0_5_diversity\": 0}, {\"Unnamed: 0\": 1174, \"taxon_id\": \"d518f282-3389-4252-b7aa-8aadb468c25c\", \"taxon_size\": 4, \"mean_cosine_score\": 0.2070607841014862, \"taxon_base_path\": \"/money/business-tax-paye-changes-to-the-business-that-affect-paye\", \"taxon_level\": 4, \"level1taxon\": \"Money\", \"fewer_than_or_equal_5items\": 1, \"more_than_0_5_diversity\": 0}, {\"Unnamed: 0\": 1059, \"taxon_id\": \"cea828a3-7695-40d6-9e4f-76bb16880d4b\", \"taxon_size\": 4, \"mean_cosine_score\": 0.2058939039707184, \"taxon_base_path\": \"/money/personal-tax-inheritance-tax-paying-hmrc\", \"taxon_level\": 4, \"level1taxon\": \"Money\", \"fewer_than_or_equal_5items\": 1, \"more_than_0_5_diversity\": 0}, {\"Unnamed: 0\": 901, \"taxon_id\": \"c0064369-d4a1-4440-9949-e75c02b77221\", \"taxon_size\": 3, \"mean_cosine_score\": 0.2043671160936356, \"taxon_base_path\": \"/money/dealing-with-hmrc-paying-hmrc-property-taxes\", \"taxon_level\": 4, \"level1taxon\": \"Money\", \"fewer_than_or_equal_5items\": 1, \"more_than_0_5_diversity\": 0}, {\"Unnamed: 0\": 1171, \"taxon_id\": \"77de6443-ae86-41cd-a78f-ac656704021a\", \"taxon_size\": 7, \"mean_cosine_score\": 0.20254552364349365, \"taxon_base_path\": \"/money/business-tax-paye-special-types-of-employee-pay\", \"taxon_level\": 4, \"level1taxon\": \"Money\", \"fewer_than_or_equal_5items\": 0, \"more_than_0_5_diversity\": 0}, {\"Unnamed: 0\": 947, \"taxon_id\": \"d3b9b84a-ec8e-4b80-9058-ef20891fe837\", \"taxon_size\": 3, \"mean_cosine_score\": 0.2018646150827408, \"taxon_base_path\": \"/money/personal-tax-income-tax-company-benefits-and-share-schemes\", \"taxon_level\": 4, \"level1taxon\": \"Money\", \"fewer_than_or_equal_5items\": 1, \"more_than_0_5_diversity\": 0}, {\"Unnamed: 0\": 1128, \"taxon_id\": \"c0be924a-3cee-4200-b4e2-2de4b8ea9dc1\", \"taxon_size\": 4, \"mean_cosine_score\": 0.20069706439971924, \"taxon_base_path\": \"/money/business-tax-vat-vat-moss\", \"taxon_level\": 4, \"level1taxon\": \"Money\", \"fewer_than_or_equal_5items\": 1, \"more_than_0_5_diversity\": 0}, {\"Unnamed: 0\": 446, \"taxon_id\": \"e4afab5d-f00c-42ec-bf5a-8157f882e2c0\", \"taxon_size\": 3, \"mean_cosine_score\": 0.19720558822155, \"taxon_base_path\": \"/money/business-tax-employment-related-securities-saye-bonus-rates\", \"taxon_level\": 4, \"level1taxon\": \"Money\", \"fewer_than_or_equal_5items\": 1, \"more_than_0_5_diversity\": 0}, {\"Unnamed: 0\": 204, \"taxon_id\": \"64020283-cc0a-4e52-8124-81d81e9ba974\", \"taxon_size\": 8, \"mean_cosine_score\": 0.19589759409427646, \"taxon_base_path\": \"/money/dealing-with-hmrc-tax-avoidance-identifying-avoidance-schemes\", \"taxon_level\": 4, \"level1taxon\": \"Money\", \"fewer_than_or_equal_5items\": 0, \"more_than_0_5_diversity\": 0}, {\"Unnamed: 0\": 686, \"taxon_id\": \"580b5b3e-a2d2-4b98-8ebf-d4fab298d601\", \"taxon_size\": 5, \"mean_cosine_score\": 0.1954570710659027, \"taxon_base_path\": \"/money/phishing-scams\", \"taxon_level\": 3, \"level1taxon\": \"Money\", \"fewer_than_or_equal_5items\": 1, \"more_than_0_5_diversity\": 0}, {\"Unnamed: 0\": 1167, \"taxon_id\": \"cc60b435-6e25-4200-8b78-ed53eef6aa41\", \"taxon_size\": 5, \"mean_cosine_score\": 0.1937522441148758, \"taxon_base_path\": \"/money/business-tax-construction-industry-scheme-contractors\", \"taxon_level\": 4, \"level1taxon\": \"Money\", \"fewer_than_or_equal_5items\": 1, \"more_than_0_5_diversity\": 0}, {\"Unnamed: 0\": 1084, \"taxon_id\": \"f28485d1-2492-46b0-a258-2cd9f8c20638\", \"taxon_size\": 7, \"mean_cosine_score\": 0.19350330531597135, \"taxon_base_path\": \"/money/business-tax-pension-scheme-administration-pension-scheme-trustees\", \"taxon_level\": 4, \"level1taxon\": \"Money\", \"fewer_than_or_equal_5items\": 0, \"more_than_0_5_diversity\": 0}, {\"Unnamed: 0\": 921, \"taxon_id\": \"8254de8e-bd68-4b6b-b4ed-7a635bdac407\", \"taxon_size\": 6, \"mean_cosine_score\": 0.1890568435192108, \"taxon_base_path\": \"/money/dealing-with-hmrc-tax-avoidance-disclosing-avoidance-schemes\", \"taxon_level\": 4, \"level1taxon\": \"Money\", \"fewer_than_or_equal_5items\": 0, \"more_than_0_5_diversity\": 0}, {\"Unnamed: 0\": 239, \"taxon_id\": \"89aff4c6-c79a-40b2-91ad-270fdb16b8cb\", \"taxon_size\": 6, \"mean_cosine_score\": 0.1867821514606476, \"taxon_base_path\": \"/money/business-tax-paye-statutory-pay-and-leave\", \"taxon_level\": 4, \"level1taxon\": \"Money\", \"fewer_than_or_equal_5items\": 0, \"more_than_0_5_diversity\": 0}, {\"Unnamed: 0\": 1182, \"taxon_id\": \"1f2bc59a-b5d0-431b-bcd7-4644ffae2043\", \"taxon_size\": 2, \"mean_cosine_score\": 0.18434709310531616, \"taxon_base_path\": \"/money/business-tax-pension-scheme-administration-overseas-schemes\", \"taxon_level\": 4, \"level1taxon\": \"Money\", \"fewer_than_or_equal_5items\": 1, \"more_than_0_5_diversity\": 0}, {\"Unnamed: 0\": 926, \"taxon_id\": \"88423dd7-0bcd-4058-96fd-5f69f186e8b2\", \"taxon_size\": 2, \"mean_cosine_score\": 0.18354889750480646, \"taxon_base_path\": \"/money/business-tax-construction-industry-scheme-payments\", \"taxon_level\": 4, \"level1taxon\": \"Money\", \"fewer_than_or_equal_5items\": 1, \"more_than_0_5_diversity\": 0}, {\"Unnamed: 0\": 984, \"taxon_id\": \"6b34b0b7-abe9-4877-88da-2ff59074f511\", \"taxon_size\": 5, \"mean_cosine_score\": 0.1832731664180756, \"taxon_base_path\": \"/money/personal-tax-living-working-abroad-offshore-rules-for-specific-occupations\", \"taxon_level\": 4, \"level1taxon\": \"Money\", \"fewer_than_or_equal_5items\": 1, \"more_than_0_5_diversity\": 0}, {\"Unnamed: 0\": 989, \"taxon_id\": \"4e4e1b9e-c32e-466b-9d6f-384f00249b68\", \"taxon_size\": 4, \"mean_cosine_score\": 0.18261000514030454, \"taxon_base_path\": \"/money/dealing-with-hmrc-tax-agent-guidance-agent-authorisation\", \"taxon_level\": 4, \"level1taxon\": \"Money\", \"fewer_than_or_equal_5items\": 1, \"more_than_0_5_diversity\": 0}, {\"Unnamed: 0\": 1241, \"taxon_id\": \"e9106b40-4b74-4c3f-8054-4d36fe5f154c\", \"taxon_size\": 2, \"mean_cosine_score\": 0.17656177282333374, \"taxon_base_path\": \"/money/business-tax-landfill-tax-payments-and-reliefs\", \"taxon_level\": 4, \"level1taxon\": \"Money\", \"fewer_than_or_equal_5items\": 1, \"more_than_0_5_diversity\": 0}, {\"Unnamed: 0\": 1205, \"taxon_id\": \"6ea41ea1-6523-43fd-8f82-5121f0e070f1\", \"taxon_size\": 2, \"mean_cosine_score\": 0.17594218254089355, \"taxon_base_path\": \"/money/personal-tax-national-insurance-voluntary-contributions\", \"taxon_level\": 4, \"level1taxon\": \"Money\", \"fewer_than_or_equal_5items\": 1, \"more_than_0_5_diversity\": 0}, {\"Unnamed: 0\": 711, \"taxon_id\": \"13e88e11-5ed4-45b6-ae4a-8e07fdcb65e8\", \"taxon_size\": 5, \"mean_cosine_score\": 0.17559577524662018, \"taxon_base_path\": \"/money/business-tax-corporation-tax-preparing-accounts-for-corporation-tax\", \"taxon_level\": 4, \"level1taxon\": \"Money\", \"fewer_than_or_equal_5items\": 1, \"more_than_0_5_diversity\": 0}, {\"Unnamed: 0\": 918, \"taxon_id\": \"de3203c9-8f36-49a1-a8d5-d08ee9bc8c22\", \"taxon_size\": 7, \"mean_cosine_score\": 0.17549151182174685, \"taxon_base_path\": \"/money/business-tax-pension-scheme-administration-tax-on-pensions\", \"taxon_level\": 4, \"level1taxon\": \"Money\", \"fewer_than_or_equal_5items\": 0, \"more_than_0_5_diversity\": 0}, {\"Unnamed: 0\": 1218, \"taxon_id\": \"9996acc5-1fd5-4bd0-a869-6d1ff1bf969a\", \"taxon_size\": 2, \"mean_cosine_score\": 0.16942894458770752, \"taxon_base_path\": \"/money/dealing-with-hmrc-software-development-new-to-hmrc-development\", \"taxon_level\": 4, \"level1taxon\": \"Money\", \"fewer_than_or_equal_5items\": 1, \"more_than_0_5_diversity\": 0}, {\"Unnamed: 0\": 951, \"taxon_id\": \"df13e4ae-305e-4a85-9567-b0d19d5763ce\", \"taxon_size\": 4, \"mean_cosine_score\": 0.1667623072862625, \"taxon_base_path\": \"/money/dealing-with-hmrc-tax-agent-guidance-compliance-checks\", \"taxon_level\": 4, \"level1taxon\": \"Money\", \"fewer_than_or_equal_5items\": 1, \"more_than_0_5_diversity\": 0}, {\"Unnamed: 0\": 923, \"taxon_id\": \"50b51f5d-0387-4c11-aa09-5d1290259b79\", \"taxon_size\": 6, \"mean_cosine_score\": 0.16277876496315002, \"taxon_base_path\": \"/money/business-tax-stamp-duty-on-shares-stamp-tax-on-electronic-shares\", \"taxon_level\": 4, \"level1taxon\": \"Money\", \"fewer_than_or_equal_5items\": 0, \"more_than_0_5_diversity\": 0}, {\"Unnamed: 0\": 1250, \"taxon_id\": \"a05ec3d4-e403-483c-8781-8cf1351fc352\", \"taxon_size\": 2, \"mean_cosine_score\": 0.1619650423526764, \"taxon_base_path\": \"/money/personal-tax-income-tax-student-jobs-and-loans\", \"taxon_level\": 4, \"level1taxon\": \"Money\", \"fewer_than_or_equal_5items\": 1, \"more_than_0_5_diversity\": 0}, {\"Unnamed: 0\": 832, \"taxon_id\": \"3ac8bc3b-4b7e-44f3-99a0-527eadc52ce6\", \"taxon_size\": 2, \"mean_cosine_score\": 0.15962499380111694, \"taxon_base_path\": \"/money/business-tax-gambling-duties-lottery-duty\", \"taxon_level\": 4, \"level1taxon\": \"Money\", \"fewer_than_or_equal_5items\": 1, \"more_than_0_5_diversity\": 0}, {\"Unnamed: 0\": 1226, \"taxon_id\": \"3cd17485-f0d6-4de8-ba15-57b29c9d6f7d\", \"taxon_size\": 4, \"mean_cosine_score\": 0.15439359843730927, \"taxon_base_path\": \"/money/business-tax-stamp-taxes-file-your-sdlt-return\", \"taxon_level\": 4, \"level1taxon\": \"Money\", \"fewer_than_or_equal_5items\": 1, \"more_than_0_5_diversity\": 0}, {\"Unnamed: 0\": 1081, \"taxon_id\": \"e66907e0-7da9-49fa-8bcc-26d32c608135\", \"taxon_size\": 3, \"mean_cosine_score\": 0.1541999876499176, \"taxon_base_path\": \"/money/business-tax-corporation-tax-changes-to-your-company\", \"taxon_level\": 4, \"level1taxon\": \"Money\", \"fewer_than_or_equal_5items\": 1, \"more_than_0_5_diversity\": 0}, {\"Unnamed: 0\": 1105, \"taxon_id\": \"b25ec9c2-90e3-4826-90d3-283e4e2ac7eb\", \"taxon_size\": 7, \"mean_cosine_score\": 0.153916597366333, \"taxon_base_path\": \"/money/personal-tax-capital-gains-tax-property\", \"taxon_level\": 4, \"level1taxon\": \"Money\", \"fewer_than_or_equal_5items\": 0, \"more_than_0_5_diversity\": 0}, {\"Unnamed: 0\": 1082, \"taxon_id\": \"b554cd34-bad2-4fbb-b6df-6dae0a276bb4\", \"taxon_size\": 3, \"mean_cosine_score\": 0.15289531648159027, \"taxon_base_path\": \"/money/business-tax-paye-annual-paye-and-payroll-tasks\", \"taxon_level\": 4, \"level1taxon\": \"Money\", \"fewer_than_or_equal_5items\": 1, \"more_than_0_5_diversity\": 0}, {\"Unnamed: 0\": 1067, \"taxon_id\": \"4a5c08c6-8eed-48d3-99f8-cee23ed300d0\", \"taxon_size\": 4, \"mean_cosine_score\": 0.1517632007598877, \"taxon_base_path\": \"/money/business-tax-construction-industry-scheme-subcontractors\", \"taxon_level\": 4, \"level1taxon\": \"Money\", \"fewer_than_or_equal_5items\": 1, \"more_than_0_5_diversity\": 0}, {\"Unnamed: 0\": 1204, \"taxon_id\": \"2f9e3f9e-e2f0-4654-88a6-7ba0f251d76e\", \"taxon_size\": 5, \"mean_cosine_score\": 0.1512884497642517, \"taxon_base_path\": \"/money/personal-tax-national-insurance-national-insurance-numbers\", \"taxon_level\": 4, \"level1taxon\": \"Money\", \"fewer_than_or_equal_5items\": 1, \"more_than_0_5_diversity\": 0}, {\"Unnamed: 0\": 1158, \"taxon_id\": \"9f41fccc-5723-4039-b7a0-02528a5491c5\", \"taxon_size\": 6, \"mean_cosine_score\": 0.15116910636425018, \"taxon_base_path\": \"/money/dealing-with-hmrc-paying-hmrc-paye\", \"taxon_level\": 4, \"level1taxon\": \"Money\", \"fewer_than_or_equal_5items\": 0, \"more_than_0_5_diversity\": 0}, {\"Unnamed: 0\": 1117, \"taxon_id\": \"e942477a-bb00-44e9-97c3-f52d6f8f1dcc\", \"taxon_size\": 3, \"mean_cosine_score\": 0.14844202995300293, \"taxon_base_path\": \"/money/personal-tax-national-insurance-rates-and-classes\", \"taxon_level\": 4, \"level1taxon\": \"Money\", \"fewer_than_or_equal_5items\": 1, \"more_than_0_5_diversity\": 0}, {\"Unnamed: 0\": 966, \"taxon_id\": \"f2e1a04f-c019-4727-a7f5-e123c6acc286\", \"taxon_size\": 6, \"mean_cosine_score\": 0.1483735889196396, \"taxon_base_path\": \"/money/business-tax-stamp-taxes-sdlt-on-specific-transactions\", \"taxon_level\": 4, \"level1taxon\": \"Money\", \"fewer_than_or_equal_5items\": 0, \"more_than_0_5_diversity\": 0}, {\"Unnamed: 0\": 691, \"taxon_id\": \"d9622b3b-d8a7-4274-9d44-17afebd86ca6\", \"taxon_size\": 5, \"mean_cosine_score\": 0.14271175861358645, \"taxon_base_path\": \"/money/business-tax-stamp-duty-on-shares-stamp-tax-on-paper-shares\", \"taxon_level\": 4, \"level1taxon\": \"Money\", \"fewer_than_or_equal_5items\": 1, \"more_than_0_5_diversity\": 0}, {\"Unnamed: 0\": 1129, \"taxon_id\": \"b6eac040-8084-483c-a248-edea08955799\", \"taxon_size\": 3, \"mean_cosine_score\": 0.14100725948810575, \"taxon_base_path\": \"/money/business-tax-employment-related-securities-asset-valuation\", \"taxon_level\": 4, \"level1taxon\": \"Money\", \"fewer_than_or_equal_5items\": 1, \"more_than_0_5_diversity\": 0}, {\"Unnamed: 0\": 1228, \"taxon_id\": \"e19a4a42-727d-4d97-aca7-fbf449a3bd72\", \"taxon_size\": 5, \"mean_cosine_score\": 0.139017254114151, \"taxon_base_path\": \"/money/business-tax-corporation-tax-payments-and-refunds\", \"taxon_level\": 4, \"level1taxon\": \"Money\", \"fewer_than_or_equal_5items\": 1, \"more_than_0_5_diversity\": 0}, {\"Unnamed: 0\": 1240, \"taxon_id\": \"760c5c1f-223e-4640-9caa-a8a81d8610a9\", \"taxon_size\": 4, \"mean_cosine_score\": 0.13743576407432556, \"taxon_base_path\": \"/money/personal-tax-capital-gains-tax-paying-hmrc\", \"taxon_level\": 4, \"level1taxon\": \"Money\", \"fewer_than_or_equal_5items\": 1, \"more_than_0_5_diversity\": 0}, {\"Unnamed: 0\": 1183, \"taxon_id\": \"f8415414-4d98-466e-a991-5d97aa4733de\", \"taxon_size\": 3, \"mean_cosine_score\": 0.13573254644870758, \"taxon_base_path\": \"/money/personal-tax-self-assessment-refunds-appeals-and-penalties\", \"taxon_level\": 4, \"level1taxon\": \"Money\", \"fewer_than_or_equal_5items\": 1, \"more_than_0_5_diversity\": 0}, {\"Unnamed: 0\": 790, \"taxon_id\": \"b81abd86-9d71-4645-b010-349400ae243e\", \"taxon_size\": 5, \"mean_cosine_score\": 0.13116985559463498, \"taxon_base_path\": \"/money/business-tax-ir35-off-payroll-working-rules\", \"taxon_level\": 4, \"level1taxon\": \"Money\", \"fewer_than_or_equal_5items\": 1, \"more_than_0_5_diversity\": 0}, {\"Unnamed: 0\": 979, \"taxon_id\": \"a47819ad-9f57-4976-ac7e-f1586553d3e7\", \"taxon_size\": 5, \"mean_cosine_score\": 0.12948474287986755, \"taxon_base_path\": \"/money/business-tax-pension-scheme-administration-paying-into-a-pension-scheme\", \"taxon_level\": 4, \"level1taxon\": \"Money\", \"fewer_than_or_equal_5items\": 1, \"more_than_0_5_diversity\": 0}, {\"Unnamed: 0\": 1144, \"taxon_id\": \"f7bfbd46-3403-4b71-9cdd-2e4826794218\", \"taxon_size\": 2, \"mean_cosine_score\": 0.12149864435195926, \"taxon_base_path\": \"/money/business-tax-stamp-taxes-stamp-duty-before-december-2003\", \"taxon_level\": 4, \"level1taxon\": \"Money\", \"fewer_than_or_equal_5items\": 1, \"more_than_0_5_diversity\": 0}, {\"Unnamed: 0\": 1229, \"taxon_id\": \"df7477b4-7ee3-4fcc-8a48-450cc35a535a\", \"taxon_size\": 2, \"mean_cosine_score\": 0.11900070309638976, \"taxon_base_path\": \"/money/business-tax-money-laundering-regulations-problems-and-compliance-checks\", \"taxon_level\": 3, \"level1taxon\": \"Money\", \"fewer_than_or_equal_5items\": 1, \"more_than_0_5_diversity\": 0}, {\"Unnamed: 0\": 856, \"taxon_id\": \"ce4b939e-614d-4754-bf20-86347cc56c4b\", \"taxon_size\": 3, \"mean_cosine_score\": 0.11270002275705338, \"taxon_base_path\": \"/money/dealing-with-hmrc-paying-hmrc-payment-problems\", \"taxon_level\": 4, \"level1taxon\": \"Money\", \"fewer_than_or_equal_5items\": 1, \"more_than_0_5_diversity\": 0}, {\"Unnamed: 0\": 1110, \"taxon_id\": \"5a39596c-801f-477f-b574-43f8f16daecd\", \"taxon_size\": 4, \"mean_cosine_score\": 0.10838571190834044, \"taxon_base_path\": \"/money/business-tax-corporation-tax-filing-your-return\", \"taxon_level\": 4, \"level1taxon\": \"Money\", \"fewer_than_or_equal_5items\": 1, \"more_than_0_5_diversity\": 0}, {\"Unnamed: 0\": 1202, \"taxon_id\": \"83014cce-0d8f-4ade-8697-9e108e0c1a71\", \"taxon_size\": 2, \"mean_cosine_score\": 0.10447394847869873, \"taxon_base_path\": \"/money/dealing-with-hmrc-paying-hmrc-transport-and-environmental-duties\", \"taxon_level\": 4, \"level1taxon\": \"Money\", \"fewer_than_or_equal_5items\": 1, \"more_than_0_5_diversity\": 0}, {\"Unnamed: 0\": 1189, \"taxon_id\": \"15c02dff-cb8b-4aa6-8fc5-4d3e73de001d\", \"taxon_size\": 3, \"mean_cosine_score\": 0.09229056537151337, \"taxon_base_path\": \"/money/personal-tax-savings-investment-tax-tax-on-shares\", \"taxon_level\": 4, \"level1taxon\": \"Money\", \"fewer_than_or_equal_5items\": 1, \"more_than_0_5_diversity\": 0}, {\"Unnamed: 0\": 436, \"taxon_id\": \"229ff51f-60db-4bea-84f7-c156c36e2a6b\", \"taxon_size\": 2, \"mean_cosine_score\": 0.08732485771179199, \"taxon_base_path\": \"/money/personal-tax-income-tax-scottish-rate-of-income-tax\", \"taxon_level\": 4, \"level1taxon\": \"Money\", \"fewer_than_or_equal_5items\": 1, \"more_than_0_5_diversity\": 0}, {\"Unnamed: 0\": 1165, \"taxon_id\": \"4b118ae1-d783-47a8-bdec-905a1bf2ca9e\", \"taxon_size\": 2, \"mean_cosine_score\": 0.07458710670471191, \"taxon_base_path\": \"/money/personal-tax-inheritance-tax-wills-and-probate\", \"taxon_level\": 4, \"level1taxon\": \"Money\", \"fewer_than_or_equal_5items\": 1, \"more_than_0_5_diversity\": 0}, {\"Unnamed: 0\": 1188, \"taxon_id\": \"ad06699f-5543-4d96-9016-ba252e1a00a7\", \"taxon_size\": 3, \"mean_cosine_score\": 0.07127179205417633, \"taxon_base_path\": \"/money/personal-tax-income-tax-overpayments-and-underpayments\", \"taxon_level\": 4, \"level1taxon\": \"Money\", \"fewer_than_or_equal_5items\": 1, \"more_than_0_5_diversity\": 0}, {\"Unnamed: 0\": 692, \"taxon_id\": \"d4dece0b-f8cd-4c2d-91aa-1a3e180cbcc7\", \"taxon_size\": 2, \"mean_cosine_score\": 0.034005045890808105, \"taxon_base_path\": \"/money/dealing-with-hmrc-paying-hmrc-shares\", \"taxon_level\": 4, \"level1taxon\": \"Money\", \"fewer_than_or_equal_5items\": 1, \"more_than_0_5_diversity\": 0}, {\"Unnamed: 0\": 1243, \"taxon_id\": \"930f5c6c-1788-4e64-961e-ed8bf22e5627\", \"taxon_size\": 1, \"mean_cosine_score\": 1.7881393432617188e-07, \"taxon_base_path\": \"/money/business-tax-employment-related-securities-national-insurance-transfers\", \"taxon_level\": 4, \"level1taxon\": \"Money\", \"fewer_than_or_equal_5items\": 1, \"more_than_0_5_diversity\": 0}, {\"Unnamed: 0\": 1213, \"taxon_id\": \"ab7aae60-474a-4ada-b1fb-e825983c1c13\", \"taxon_size\": 1, \"mean_cosine_score\": 1.1920928955078125e-07, \"taxon_base_path\": \"/money/dealing-with-hmrc-paying-hmrc-child-benefit-overpayments\", \"taxon_level\": 4, \"level1taxon\": \"Money\", \"fewer_than_or_equal_5items\": 1, \"more_than_0_5_diversity\": 0}, {\"Unnamed: 0\": 805, \"taxon_id\": \"cb501a60-9413-4bf9-beae-92f71ce66534\", \"taxon_size\": 1, \"mean_cosine_score\": 1.1920928955078125e-07, \"taxon_base_path\": \"/money/personal-tax-capital-gains-tax-divorce-and-separation\", \"taxon_level\": 4, \"level1taxon\": \"Money\", \"fewer_than_or_equal_5items\": 1, \"more_than_0_5_diversity\": 0}, {\"Unnamed: 0\": 1121, \"taxon_id\": \"bdb1c221-d4e5-45c3-8c22-079b8b3c831e\", \"taxon_size\": 1, \"mean_cosine_score\": 1.1920928955078125e-07, \"taxon_base_path\": \"/money/oil-and-gas\", \"taxon_level\": 4, \"level1taxon\": \"Money\", \"fewer_than_or_equal_5items\": 1, \"more_than_0_5_diversity\": 0}, {\"Unnamed: 0\": 1168, \"taxon_id\": \"6f11b0b8-ab44-4545-8e76-a94adc3935f0\", \"taxon_size\": 1, \"mean_cosine_score\": 5.960464477539063e-08, \"taxon_base_path\": \"/money/personal-tax-self-assessment-records-you-must-keep\", \"taxon_level\": 4, \"level1taxon\": \"Money\", \"fewer_than_or_equal_5items\": 1, \"more_than_0_5_diversity\": 0}, {\"Unnamed: 0\": 1262, \"taxon_id\": \"373e6e1c-d73f-41a7-ac8c-0da991abbedb\", \"taxon_size\": 1, \"mean_cosine_score\": 0.0, \"taxon_base_path\": \"/money/business-tax-vat-reclaiming-vat-on-a-new-home\", \"taxon_level\": 4, \"level1taxon\": \"Money\", \"fewer_than_or_equal_5items\": 1, \"more_than_0_5_diversity\": 0}, {\"Unnamed: 0\": 1254, \"taxon_id\": \"0f0ba370-1824-4326-85a3-c4038a0a3783\", \"taxon_size\": 1, \"mean_cosine_score\": 0.0, \"taxon_base_path\": \"/money/business-tax-international-tax-shipping\", \"taxon_level\": 4, \"level1taxon\": \"Money\", \"fewer_than_or_equal_5items\": 1, \"more_than_0_5_diversity\": 0}, {\"Unnamed: 0\": 1248, \"taxon_id\": \"8da9b722-fa09-42be-aa0c-0d20fdf35a63\", \"taxon_size\": 1, \"mean_cosine_score\": 0.0, \"taxon_base_path\": \"/money/dealing-with-hmrc-paying-hmrc-tax-credit-overpayments\", \"taxon_level\": 4, \"level1taxon\": \"Money\", \"fewer_than_or_equal_5items\": 1, \"more_than_0_5_diversity\": 0}, {\"Unnamed: 0\": 1034, \"taxon_id\": \"4eb7fc94-9bf9-4578-aca1-737cbaaed516\", \"taxon_size\": 1, \"mean_cosine_score\": 0.0, \"taxon_base_path\": \"/money/personal-tax-self-assessment-registering-for-self-assessment\", \"taxon_level\": 4, \"level1taxon\": \"Money\", \"fewer_than_or_equal_5items\": 1, \"more_than_0_5_diversity\": 0}, {\"Unnamed: 0\": 1231, \"taxon_id\": \"73153251-39a7-45a7-b5d0-ee7e79566ca7\", \"taxon_size\": 1, \"mean_cosine_score\": 0.0, \"taxon_base_path\": \"/money/personal-tax-national-insurance-refunds\", \"taxon_level\": 4, \"level1taxon\": \"Money\", \"fewer_than_or_equal_5items\": 1, \"more_than_0_5_diversity\": 0}, {\"Unnamed: 0\": 1047, \"taxon_id\": \"631f2a09-9bee-4911-898c-3a3c3568c737\", \"taxon_size\": 1, \"mean_cosine_score\": 0.0, \"taxon_base_path\": \"/money/business-tax-large-midsize-business-guidance-mid-sized-businesses\", \"taxon_level\": 4, \"level1taxon\": \"Money\", \"fewer_than_or_equal_5items\": 1, \"more_than_0_5_diversity\": 0}, {\"Unnamed: 0\": 1219, \"taxon_id\": \"4d4ca1ea-a38c-4add-89c7-24e2bfa66ad0\", \"taxon_size\": 1, \"mean_cosine_score\": 0.0, \"taxon_base_path\": \"/money/dealing-with-hmrc-software-development-hmrc-recognition-scheme\", \"taxon_level\": 4, \"level1taxon\": \"Money\", \"fewer_than_or_equal_5items\": 1, \"more_than_0_5_diversity\": 0}, {\"Unnamed: 0\": 779, \"taxon_id\": \"ee750852-0173-4cf6-9cbf-3650ef535296\", \"taxon_size\": 1, \"mean_cosine_score\": 0.0, \"taxon_base_path\": \"/money/business-tax-vat-exchange-rates\", \"taxon_level\": 4, \"level1taxon\": \"Money\", \"fewer_than_or_equal_5items\": 1, \"more_than_0_5_diversity\": 0}, {\"Unnamed: 0\": 1184, \"taxon_id\": \"9031a0b6-67df-4bf0-a5b3-53cf9d78b8a4\", \"taxon_size\": 1, \"mean_cosine_score\": 0.0, \"taxon_base_path\": \"/money/business-tax-ir35-employment-status\", \"taxon_level\": 4, \"level1taxon\": \"Money\", \"fewer_than_or_equal_5items\": 1, \"more_than_0_5_diversity\": 0}, {\"Unnamed: 0\": 1124, \"taxon_id\": \"42014518-98a0-4d42-94c4-fa019d0b5baf\", \"taxon_size\": 1, \"mean_cosine_score\": 0.0, \"taxon_base_path\": \"/money/dealing-with-hmrc-paying-hmrc-money-laundering-regulation-fees\", \"taxon_level\": 4, \"level1taxon\": \"Money\", \"fewer_than_or_equal_5items\": 1, \"more_than_0_5_diversity\": 0}, {\"Unnamed: 0\": 1264, \"taxon_id\": \"51522bef-3147-4d85-a4e9-ad3d94743183\", \"taxon_size\": 1, \"mean_cosine_score\": 0.0, \"taxon_base_path\": \"/money/personal-tax-capital-gains-tax-personal-possessions\", \"taxon_level\": 4, \"level1taxon\": \"Money\", \"fewer_than_or_equal_5items\": 1, \"more_than_0_5_diversity\": 0}]}};\n",
       "var opt = {};\n",
       "var type = \"vega-lite\";\n",
       "var id = \"f282fa6a-2681-4f22-9593-922b7aab66fe\";\n",
       "\n",
       "var output_area = this;\n",
       "\n",
       "require([\"nbextensions/jupyter-vega/index\"], function(vega) {\n",
       "  var target = document.createElement(\"div\");\n",
       "  target.id = id;\n",
       "  target.className = \"vega-embed\";\n",
       "\n",
       "  var style = document.createElement(\"style\");\n",
       "  style.textContent = [\n",
       "    \".vega-embed .error p {\",\n",
       "    \"  color: firebrick;\",\n",
       "    \"  font-size: 14px;\",\n",
       "    \"}\",\n",
       "  ].join(\"\\\\n\");\n",
       "\n",
       "  // element is a jQuery wrapped DOM element inside the output area\n",
       "  // see http://ipython.readthedocs.io/en/stable/api/generated/\\\n",
       "  // IPython.display.html#IPython.display.Javascript.__init__\n",
       "  element[0].appendChild(target);\n",
       "  element[0].appendChild(style);\n",
       "\n",
       "  vega.render(\"#\" + id, spec, type, opt, output_area);\n",
       "}, function (err) {\n",
       "  if (err.requireType !== \"scripterror\") {\n",
       "    throw(err);\n",
       "  }\n",
       "});\n"
      ],
      "text/plain": [
       "<vega.vegalite.VegaLite at 0x11c16a7d0>"
      ]
     },
     "metadata": {
      "jupyter-vega": "#f282fa6a-2681-4f22-9593-922b7aab66fe"
     },
     "output_type": "display_data"
    },
    {
     "data": {
      "text/plain": []
     },
     "metadata": {},
     "output_type": "display_data"
    },
    {
     "data": {
      "image/png": "[encoded data removed]"
     },
     "metadata": {
      "jupyter-vega": "#f282fa6a-2681-4f22-9593-922b7aab66fe"
     },
     "output_type": "display_data"
    }
   ],
   "source": [
    "money_plot.display()"
   ]
  },
  {
   "cell_type": "code",
   "execution_count": 15,
   "metadata": {},
   "outputs": [],
   "source": [
    "# Save the chart\n",
    "# money_plot.save('money.html', scale_factor=2.0)"
   ]
  },
  {
   "cell_type": "markdown",
   "metadata": {},
   "source": [
    "Are there any level 2 taxons within the money branch that have poor mean cosine similarity?"
   ]
  },
  {
   "cell_type": "code",
   "execution_count": 16,
   "metadata": {},
   "outputs": [
    {
     "data": {
      "text/html": [
       "<div>\n",
       "<style scoped>\n",
       "    .dataframe tbody tr th:only-of-type {\n",
       "        vertical-align: middle;\n",
       "    }\n",
       "\n",
       "    .dataframe tbody tr th {\n",
       "        vertical-align: top;\n",
       "    }\n",
       "\n",
       "    .dataframe thead th {\n",
       "        text-align: right;\n",
       "    }\n",
       "</style>\n",
       "<table border=\"1\" class=\"dataframe\">\n",
       "  <thead>\n",
       "    <tr style=\"text-align: right;\">\n",
       "      <th></th>\n",
       "      <th>Unnamed: 0</th>\n",
       "      <th>taxon_id</th>\n",
       "      <th>taxon_size</th>\n",
       "      <th>mean_cosine_score</th>\n",
       "      <th>taxon_base_path</th>\n",
       "      <th>taxon_level</th>\n",
       "      <th>level1taxon</th>\n",
       "      <th>fewer_than_or_equal_5items</th>\n",
       "      <th>more_than_0_5_diversity</th>\n",
       "    </tr>\n",
       "  </thead>\n",
       "  <tbody>\n",
       "  </tbody>\n",
       "</table>\n",
       "</div>"
      ],
      "text/plain": [
       "Empty DataFrame\n",
       "Columns: [Unnamed: 0, taxon_id, taxon_size, mean_cosine_score, taxon_base_path, taxon_level, level1taxon, fewer_than_or_equal_5items, more_than_0_5_diversity]\n",
       "Index: []"
      ]
     },
     "execution_count": 16,
     "metadata": {},
     "output_type": "execute_result"
    }
   ],
   "source": [
    "th = taxon_homogeneity_df  # simplify name of DataFrame for easier handling\n",
    "\n",
    "th[(th.taxon_level == 2) & (th.level1taxon == 'Money')& (th.taxon_size < 300) & (th.mean_cosine_score > 0.5)]"
   ]
  },
  {
   "cell_type": "markdown",
   "metadata": {},
   "source": [
    "None of the level 2 taxons exceed a homogeneity score of 0.5. What are the top 5 by highest mean cosine score?"
   ]
  },
  {
   "cell_type": "code",
   "execution_count": 17,
   "metadata": {},
   "outputs": [
    {
     "data": {
      "text/html": [
       "<div>\n",
       "<style scoped>\n",
       "    .dataframe tbody tr th:only-of-type {\n",
       "        vertical-align: middle;\n",
       "    }\n",
       "\n",
       "    .dataframe tbody tr th {\n",
       "        vertical-align: top;\n",
       "    }\n",
       "\n",
       "    .dataframe thead th {\n",
       "        text-align: right;\n",
       "    }\n",
       "</style>\n",
       "<table border=\"1\" class=\"dataframe\">\n",
       "  <thead>\n",
       "    <tr style=\"text-align: right;\">\n",
       "      <th></th>\n",
       "      <th>Unnamed: 0</th>\n",
       "      <th>taxon_id</th>\n",
       "      <th>taxon_size</th>\n",
       "      <th>mean_cosine_score</th>\n",
       "      <th>taxon_base_path</th>\n",
       "      <th>taxon_level</th>\n",
       "      <th>level1taxon</th>\n",
       "      <th>fewer_than_or_equal_5items</th>\n",
       "      <th>more_than_0_5_diversity</th>\n",
       "    </tr>\n",
       "  </thead>\n",
       "  <tbody>\n",
       "    <tr>\n",
       "      <th>85</th>\n",
       "      <td>41</td>\n",
       "      <td>28262ae3-599c-4259-ae30-3c83a5ec02a1</td>\n",
       "      <td>522</td>\n",
       "      <td>0.478880</td>\n",
       "      <td>/money/business-tax</td>\n",
       "      <td>2</td>\n",
       "      <td>Money</td>\n",
       "      <td>0</td>\n",
       "      <td>0</td>\n",
       "    </tr>\n",
       "    <tr>\n",
       "      <th>125</th>\n",
       "      <td>377</td>\n",
       "      <td>b20215a9-25fb-4fa6-80a3-42e23f5352c2</td>\n",
       "      <td>266</td>\n",
       "      <td>0.461853</td>\n",
       "      <td>/money/dealing-with-hmrc</td>\n",
       "      <td>2</td>\n",
       "      <td>Money</td>\n",
       "      <td>0</td>\n",
       "      <td>0</td>\n",
       "    </tr>\n",
       "    <tr>\n",
       "      <th>215</th>\n",
       "      <td>194</td>\n",
       "      <td>35136812-221c-4ba2-8ed1-46e409ca5e10</td>\n",
       "      <td>373</td>\n",
       "      <td>0.438402</td>\n",
       "      <td>/money/tax-evasion-and-avoidance</td>\n",
       "      <td>2</td>\n",
       "      <td>Money</td>\n",
       "      <td>0</td>\n",
       "      <td>0</td>\n",
       "    </tr>\n",
       "    <tr>\n",
       "      <th>297</th>\n",
       "      <td>42</td>\n",
       "      <td>a5c88a77-03ba-4100-bd33-7ee2ce602dc8</td>\n",
       "      <td>400</td>\n",
       "      <td>0.419783</td>\n",
       "      <td>/money/personal-tax</td>\n",
       "      <td>2</td>\n",
       "      <td>Money</td>\n",
       "      <td>0</td>\n",
       "      <td>0</td>\n",
       "    </tr>\n",
       "  </tbody>\n",
       "</table>\n",
       "</div>"
      ],
      "text/plain": [
       "     Unnamed: 0                              taxon_id  taxon_size  \\\n",
       "85           41  28262ae3-599c-4259-ae30-3c83a5ec02a1         522   \n",
       "125         377  b20215a9-25fb-4fa6-80a3-42e23f5352c2         266   \n",
       "215         194  35136812-221c-4ba2-8ed1-46e409ca5e10         373   \n",
       "297          42  a5c88a77-03ba-4100-bd33-7ee2ce602dc8         400   \n",
       "\n",
       "     mean_cosine_score                   taxon_base_path  taxon_level  \\\n",
       "85            0.478880               /money/business-tax            2   \n",
       "125           0.461853          /money/dealing-with-hmrc            2   \n",
       "215           0.438402  /money/tax-evasion-and-avoidance            2   \n",
       "297           0.419783               /money/personal-tax            2   \n",
       "\n",
       "    level1taxon  fewer_than_or_equal_5items  more_than_0_5_diversity  \n",
       "85        Money                           0                        0  \n",
       "125       Money                           0                        0  \n",
       "215       Money                           0                        0  \n",
       "297       Money                           0                        0  "
      ]
     },
     "execution_count": 17,
     "metadata": {},
     "output_type": "execute_result"
    }
   ],
   "source": [
    "money_level2 = th[(th.level1taxon == 'Money') & (th.taxon_level == 2)].sort_values('mean_cosine_score', ascending=False)\n",
    "money_level2.iloc[:4]"
   ]
  },
  {
   "cell_type": "markdown",
   "metadata": {},
   "source": [
    "## 2. Identify problem content within taxons\n",
    "Content may have been tagged in the wrong place. How can we identify this? One idea is to look at the cosine similarity between each content item and all the others within a taxon and then inspect the ones with scores that are above a certain threshold (i.e. they're semantically different to everything else).\n",
    "\n",
    "Sections below:\n",
    "\n",
    "A. Example: business tax taxon  \n",
    "B. Function to get misplaced content  \n",
    "C. Get all potentially-misplaced contents from level 2 money taxons"
   ]
  },
  {
   "cell_type": "markdown",
   "metadata": {},
   "source": [
    "### A. Example: 'business tax' taxon\n",
    "This section contains a manual test of extracting misplaced content based on mean cosine similarity with other content in the taxon. This is generalised in a function in the section below."
   ]
  },
  {
   "cell_type": "markdown",
   "metadata": {},
   "source": [
    "Store the taxon ID as a variable."
   ]
  },
  {
   "cell_type": "code",
   "execution_count": 18,
   "metadata": {},
   "outputs": [],
   "source": [
    "btax_id = '28262ae3-599c-4259-ae30-3c83a5ec02a1'"
   ]
  },
  {
   "cell_type": "markdown",
   "metadata": {},
   "source": [
    "Filter the embedded sentences (a numpy array) where it matches the business tax taxon ID. Indices for `embedded sentences` and `labelled` are the same, so `labelled` can be used to help filter."
   ]
  },
  {
   "cell_type": "code",
   "execution_count": 19,
   "metadata": {},
   "outputs": [],
   "source": [
    "btax_embedded = embedded_sentences[labelled['taxon_id'] == btax_id]"
   ]
  },
  {
   "cell_type": "markdown",
   "metadata": {},
   "source": [
    "Get the cosine similarity for all content item pairs in the taxon, convert to a Pandas DataFrame and then get the mean distances for each content item."
   ]
  },
  {
   "cell_type": "code",
   "execution_count": 20,
   "metadata": {},
   "outputs": [],
   "source": [
    "# Array\n",
    "btax_dist = pairwise_distances(\n",
    "    btax_embedded, \n",
    "    metric = 'cosine', \n",
    "    n_jobs = -1\n",
    ")\n",
    "\n",
    "# To DataFrame\n",
    "btax_dist_df = pd.DataFrame(btax_dist)  \n",
    "\n",
    "# Add column for mean distance\n",
    "btax_dist_df['mean'] = btax_dist.mean(axis = 1)"
   ]
  },
  {
   "cell_type": "code",
   "execution_count": 21,
   "metadata": {},
   "outputs": [
    {
     "data": {
      "text/plain": [
       "(522, 523)"
      ]
     },
     "execution_count": 21,
     "metadata": {},
     "output_type": "execute_result"
    }
   ],
   "source": [
    "btax_dist_df.shape  # a matrix of all taxons versus all taxons"
   ]
  },
  {
   "cell_type": "markdown",
   "metadata": {},
   "source": [
    "How many content items (rows) have a larger mean distance than the overall mean?"
   ]
  },
  {
   "cell_type": "code",
   "execution_count": 22,
   "metadata": {},
   "outputs": [
    {
     "data": {
      "text/plain": [
       "(212, 523)"
      ]
     },
     "execution_count": 22,
     "metadata": {},
     "output_type": "execute_result"
    }
   ],
   "source": [
    "btax_dist_df[btax_dist_df['mean'] > btax_dist.mean()].shape"
   ]
  },
  {
   "cell_type": "markdown",
   "metadata": {},
   "source": [
    "Now we can use this information to filter the data frame of labelled content items (`labelled`), leaving us with a data frame of the problem content.\n",
    "\n",
    "We can start by filtering the `labelled` data so we have only the content items that are in the business tax taxon."
   ]
  },
  {
   "cell_type": "code",
   "execution_count": 23,
   "metadata": {},
   "outputs": [],
   "source": [
    "btax_content = labelled[labelled['taxon_id'] == btax_id].reset_index()"
   ]
  },
  {
   "cell_type": "code",
   "execution_count": 24,
   "metadata": {},
   "outputs": [
    {
     "data": {
      "text/plain": [
       "(522, 20)"
      ]
     },
     "execution_count": 24,
     "metadata": {},
     "output_type": "execute_result"
    }
   ],
   "source": [
    "btax_content.shape"
   ]
  },
  {
   "cell_type": "markdown",
   "metadata": {},
   "source": [
    "Now return content items from the data frame where the mean cosine similarity score is above a threshold value. These are the problem content items. Simplify the output to three columns of interest."
   ]
  },
  {
   "cell_type": "code",
   "execution_count": 25,
   "metadata": {},
   "outputs": [
    {
     "data": {
      "text/plain": [
       "(11, 4)"
      ]
     },
     "execution_count": 25,
     "metadata": {},
     "output_type": "execute_result"
    }
   ],
   "source": [
    "btax_misplaced = btax_content[['content_id', 'base_path', 'title', 'description']][btax_dist_df['mean'] > 0.65]\n",
    "btax_misplaced.shape"
   ]
  },
  {
   "cell_type": "markdown",
   "metadata": {},
   "source": [
    "#### Which of these are algo-tagged vs human-tagged?"
   ]
  },
  {
   "cell_type": "code",
   "execution_count": 26,
   "metadata": {},
   "outputs": [],
   "source": [
    "tag_origin = pd.read_csv('../data/bulk_and_algorithm_tags.tsv', sep = '\\t')"
   ]
  },
  {
   "cell_type": "code",
   "execution_count": 27,
   "metadata": {},
   "outputs": [
    {
     "data": {
      "text/html": [
       "<div>\n",
       "<style scoped>\n",
       "    .dataframe tbody tr th:only-of-type {\n",
       "        vertical-align: middle;\n",
       "    }\n",
       "\n",
       "    .dataframe tbody tr th {\n",
       "        vertical-align: top;\n",
       "    }\n",
       "\n",
       "    .dataframe thead th {\n",
       "        text-align: right;\n",
       "    }\n",
       "</style>\n",
       "<table border=\"1\" class=\"dataframe\">\n",
       "  <thead>\n",
       "    <tr style=\"text-align: right;\">\n",
       "      <th></th>\n",
       "      <th>content_id</th>\n",
       "      <th>taxon_tag</th>\n",
       "      <th>taxon_id</th>\n",
       "      <th>how_tagged</th>\n",
       "    </tr>\n",
       "  </thead>\n",
       "  <tbody>\n",
       "    <tr>\n",
       "      <th>0</th>\n",
       "      <td>a113dedd-4320-4186-b1af-888437c6aedb</td>\n",
       "      <td>Environment</td>\n",
       "      <td>71d37f3a-7c8c-4128-8763-2fd5b831b9b9</td>\n",
       "      <td>bulk_tag</td>\n",
       "    </tr>\n",
       "    <tr>\n",
       "      <th>1</th>\n",
       "      <td>5d8d7f5f-7631-11e4-a3cb-005056011aef</td>\n",
       "      <td>International aid and development</td>\n",
       "      <td>9fb30a53-70fb-4f1c-878b-0064b202d1ba</td>\n",
       "      <td>bulk_tag</td>\n",
       "    </tr>\n",
       "    <tr>\n",
       "      <th>2</th>\n",
       "      <td>5e2e074d-7631-11e4-a3cb-005056011aef</td>\n",
       "      <td>Health and social care</td>\n",
       "      <td>8124ead8-8ebc-4faf-88ad-dd5cbcc92ba8</td>\n",
       "      <td>bulk_tag</td>\n",
       "    </tr>\n",
       "    <tr>\n",
       "      <th>3</th>\n",
       "      <td>5f50cd4e-7631-11e4-a3cb-005056011aef</td>\n",
       "      <td>Maritime</td>\n",
       "      <td>4a9ab4d7-0d03-4c61-9e16-47787cbf53cd</td>\n",
       "      <td>bulk_tag</td>\n",
       "    </tr>\n",
       "    <tr>\n",
       "      <th>4</th>\n",
       "      <td>b60d9e65-dc51-4a5b-8fbc-b6b15652b6ba</td>\n",
       "      <td>World</td>\n",
       "      <td>91b8ef20-74e7-4552-880c-50e6d73c2ff9</td>\n",
       "      <td>bulk_tag</td>\n",
       "    </tr>\n",
       "  </tbody>\n",
       "</table>\n",
       "</div>"
      ],
      "text/plain": [
       "                             content_id                          taxon_tag  \\\n",
       "0  a113dedd-4320-4186-b1af-888437c6aedb                        Environment   \n",
       "1  5d8d7f5f-7631-11e4-a3cb-005056011aef  International aid and development   \n",
       "2  5e2e074d-7631-11e4-a3cb-005056011aef             Health and social care   \n",
       "3  5f50cd4e-7631-11e4-a3cb-005056011aef                           Maritime   \n",
       "4  b60d9e65-dc51-4a5b-8fbc-b6b15652b6ba                              World   \n",
       "\n",
       "                               taxon_id how_tagged  \n",
       "0  71d37f3a-7c8c-4128-8763-2fd5b831b9b9   bulk_tag  \n",
       "1  9fb30a53-70fb-4f1c-878b-0064b202d1ba   bulk_tag  \n",
       "2  8124ead8-8ebc-4faf-88ad-dd5cbcc92ba8   bulk_tag  \n",
       "3  4a9ab4d7-0d03-4c61-9e16-47787cbf53cd   bulk_tag  \n",
       "4  91b8ef20-74e7-4552-880c-50e6d73c2ff9   bulk_tag  "
      ]
     },
     "execution_count": 27,
     "metadata": {},
     "output_type": "execute_result"
    }
   ],
   "source": [
    "tag_origin.head()"
   ]
  },
  {
   "cell_type": "code",
   "execution_count": 28,
   "metadata": {},
   "outputs": [
    {
     "data": {
      "text/html": [
       "<div>\n",
       "<style scoped>\n",
       "    .dataframe tbody tr th:only-of-type {\n",
       "        vertical-align: middle;\n",
       "    }\n",
       "\n",
       "    .dataframe tbody tr th {\n",
       "        vertical-align: top;\n",
       "    }\n",
       "\n",
       "    .dataframe thead th {\n",
       "        text-align: right;\n",
       "    }\n",
       "</style>\n",
       "<table border=\"1\" class=\"dataframe\">\n",
       "  <thead>\n",
       "    <tr style=\"text-align: right;\">\n",
       "      <th></th>\n",
       "      <th>content_id</th>\n",
       "      <th>base_path</th>\n",
       "      <th>title</th>\n",
       "      <th>description</th>\n",
       "      <th>taxon_tag</th>\n",
       "      <th>taxon_id</th>\n",
       "      <th>how_tagged</th>\n",
       "    </tr>\n",
       "  </thead>\n",
       "  <tbody>\n",
       "    <tr>\n",
       "      <th>0</th>\n",
       "      <td>f9e12f0e-bd0d-5361-8d26-bc83bfb34729</td>\n",
       "      <td>/hmrc-internal-manuals/vat-womens-sanitary-pro...</td>\n",
       "      <td>vat women’s sanitary products</td>\n",
       "      <td>guidance on the reduced rate for women's sanit...</td>\n",
       "      <td>Business tax</td>\n",
       "      <td>28262ae3-599c-4259-ae30-3c83a5ec02a1</td>\n",
       "      <td>algorithm_v2.0.0</td>\n",
       "    </tr>\n",
       "    <tr>\n",
       "      <th>3</th>\n",
       "      <td>e110d285-20e0-431e-a394-39edabb2b331</td>\n",
       "      <td>/guidance/air-passenger-duty-and-connected-fli...</td>\n",
       "      <td>air passenger duty and connected flights</td>\n",
       "      <td>check which flights to treat as connected for ...</td>\n",
       "      <td>Business tax</td>\n",
       "      <td>28262ae3-599c-4259-ae30-3c83a5ec02a1</td>\n",
       "      <td>algorithm_v2.0.0</td>\n",
       "    </tr>\n",
       "    <tr>\n",
       "      <th>4</th>\n",
       "      <td>eb031ebb-7078-4879-a124-33753c4ca0bd</td>\n",
       "      <td>/guidance/rates-and-allowances-for-air-passeng...</td>\n",
       "      <td>rates for air passenger duty</td>\n",
       "      <td>check which rates of air passenger duty you ne...</td>\n",
       "      <td>Business tax</td>\n",
       "      <td>28262ae3-599c-4259-ae30-3c83a5ec02a1</td>\n",
       "      <td>algorithm_v2.0.0</td>\n",
       "    </tr>\n",
       "    <tr>\n",
       "      <th>9</th>\n",
       "      <td>e36ebdbf-b8df-4dc8-beb5-beece2f7b7de</td>\n",
       "      <td>/government/collections/gwe-rwydo-a-sgamiau</td>\n",
       "      <td>gwe-rwydo a sgamiau</td>\n",
       "      <td>cyngor ar ddiogelwch gan gyllid a thollau em i...</td>\n",
       "      <td>Business tax</td>\n",
       "      <td>28262ae3-599c-4259-ae30-3c83a5ec02a1</td>\n",
       "      <td>algorithm_v2.0.0</td>\n",
       "    </tr>\n",
       "    <tr>\n",
       "      <th>1</th>\n",
       "      <td>6f019571-54be-4344-aede-cebd901c1fe5</td>\n",
       "      <td>/guidance/rates-and-allowances-for-air-passeng...</td>\n",
       "      <td>historic rates for air passenger duty</td>\n",
       "      <td>check which air passenger duty rates apply for...</td>\n",
       "      <td>Business tax</td>\n",
       "      <td>28262ae3-599c-4259-ae30-3c83a5ec02a1</td>\n",
       "      <td>algorithm_v2.0.0</td>\n",
       "    </tr>\n",
       "  </tbody>\n",
       "</table>\n",
       "</div>"
      ],
      "text/plain": [
       "                             content_id  \\\n",
       "0  f9e12f0e-bd0d-5361-8d26-bc83bfb34729   \n",
       "3  e110d285-20e0-431e-a394-39edabb2b331   \n",
       "4  eb031ebb-7078-4879-a124-33753c4ca0bd   \n",
       "9  e36ebdbf-b8df-4dc8-beb5-beece2f7b7de   \n",
       "1  6f019571-54be-4344-aede-cebd901c1fe5   \n",
       "\n",
       "                                           base_path  \\\n",
       "0  /hmrc-internal-manuals/vat-womens-sanitary-pro...   \n",
       "3  /guidance/air-passenger-duty-and-connected-fli...   \n",
       "4  /guidance/rates-and-allowances-for-air-passeng...   \n",
       "9        /government/collections/gwe-rwydo-a-sgamiau   \n",
       "1  /guidance/rates-and-allowances-for-air-passeng...   \n",
       "\n",
       "                                      title  \\\n",
       "0             vat women’s sanitary products   \n",
       "3  air passenger duty and connected flights   \n",
       "4              rates for air passenger duty   \n",
       "9                       gwe-rwydo a sgamiau   \n",
       "1     historic rates for air passenger duty   \n",
       "\n",
       "                                         description     taxon_tag  \\\n",
       "0  guidance on the reduced rate for women's sanit...  Business tax   \n",
       "3  check which flights to treat as connected for ...  Business tax   \n",
       "4  check which rates of air passenger duty you ne...  Business tax   \n",
       "9  cyngor ar ddiogelwch gan gyllid a thollau em i...  Business tax   \n",
       "1  check which air passenger duty rates apply for...  Business tax   \n",
       "\n",
       "                               taxon_id        how_tagged  \n",
       "0  28262ae3-599c-4259-ae30-3c83a5ec02a1  algorithm_v2.0.0  \n",
       "3  28262ae3-599c-4259-ae30-3c83a5ec02a1  algorithm_v2.0.0  \n",
       "4  28262ae3-599c-4259-ae30-3c83a5ec02a1  algorithm_v2.0.0  \n",
       "9  28262ae3-599c-4259-ae30-3c83a5ec02a1  algorithm_v2.0.0  \n",
       "1  28262ae3-599c-4259-ae30-3c83a5ec02a1  algorithm_v2.0.0  "
      ]
     },
     "execution_count": 28,
     "metadata": {},
     "output_type": "execute_result"
    }
   ],
   "source": [
    "algo_human_tag = pd.merge(btax_misplaced, tag_origin, on = 'content_id', how = 'inner')\n",
    "algo_human_tag.sample(n = 5)"
   ]
  },
  {
   "cell_type": "markdown",
   "metadata": {},
   "source": [
    "### B. Function to get misplaced content"
   ]
  },
  {
   "cell_type": "code",
   "execution_count": 29,
   "metadata": {},
   "outputs": [],
   "source": [
    "def get_misplaced_content (\n",
    "    taxon_id = '28262ae3-599c-4259-ae30-3c83a5ec02a1',\n",
    "    similarity_threshold = 0.65,  # seems a reasonable threshold\n",
    "    embedded_sentences_data = embedded_sentences,\n",
    "    labelled_data = labelled\n",
    "):\n",
    "    \n",
    "    \"\"\"Identify content items that seem out of place in a given taxon.\n",
    "    The cosine-similarity score (CSS) for each content item is calculated.\n",
    "    Content items are extracted if their mean score is above a particular threshold (default 0.65).\n",
    "    \"\"\"\n",
    "    \n",
    "    print('Processing taxon ID ', taxon_id)\n",
    "    \n",
    "    # Get embeddedings for the specified taxon ID\n",
    "    taxon_embedded = embedded_sentences[labelled['taxon_id'] == taxon_id]\n",
    "    \n",
    "    # Get distances between all content item pairs\n",
    "    taxon_dist = pairwise_distances(\n",
    "        taxon_embedded,\n",
    "        metric = 'cosine', \n",
    "        n_jobs = -1\n",
    "    )\n",
    "    \n",
    "    # As dataframe\n",
    "    taxon_dist_df = pd.DataFrame(taxon_dist)\n",
    "    \n",
    "    # Calculate a mean\n",
    "    taxon_dist_df['mean'] = taxon_dist.mean(axis = 1)\n",
    "    \n",
    "    # Get the rows of the labelled data (content items) that match the taxon ID\n",
    "    taxon_content = labelled[labelled['taxon_id'] == taxon_id].reset_index()\n",
    "    \n",
    "    # Content items that are above the similarity threshold\n",
    "    misplaced = taxon_content[['content_id', 'base_path', 'title', 'description', 'taxon_name']][taxon_dist_df['mean'] > similarity_threshold]\n",
    "    \n",
    "    # Add column with content_id\n",
    "    misplaced['taxon_id'] = taxon_id\n",
    "    \n",
    "    return misplaced;"
   ]
  },
  {
   "cell_type": "code",
   "execution_count": 30,
   "metadata": {
    "scrolled": true
   },
   "outputs": [
    {
     "name": "stdout",
     "output_type": "stream",
     "text": [
      "Processing taxon ID  28262ae3-599c-4259-ae30-3c83a5ec02a1\n"
     ]
    },
    {
     "data": {
      "text/html": [
       "<div>\n",
       "<style scoped>\n",
       "    .dataframe tbody tr th:only-of-type {\n",
       "        vertical-align: middle;\n",
       "    }\n",
       "\n",
       "    .dataframe tbody tr th {\n",
       "        vertical-align: top;\n",
       "    }\n",
       "\n",
       "    .dataframe thead th {\n",
       "        text-align: right;\n",
       "    }\n",
       "</style>\n",
       "<table border=\"1\" class=\"dataframe\">\n",
       "  <thead>\n",
       "    <tr style=\"text-align: right;\">\n",
       "      <th></th>\n",
       "      <th>content_id</th>\n",
       "      <th>base_path</th>\n",
       "      <th>title</th>\n",
       "      <th>description</th>\n",
       "      <th>taxon_name</th>\n",
       "      <th>taxon_id</th>\n",
       "    </tr>\n",
       "  </thead>\n",
       "  <tbody>\n",
       "    <tr>\n",
       "      <th>57</th>\n",
       "      <td>f9e12f0e-bd0d-5361-8d26-bc83bfb34729</td>\n",
       "      <td>/hmrc-internal-manuals/vat-womens-sanitary-pro...</td>\n",
       "      <td>vat women’s sanitary products</td>\n",
       "      <td>guidance on the reduced rate for women's sanit...</td>\n",
       "      <td>Business tax</td>\n",
       "      <td>28262ae3-599c-4259-ae30-3c83a5ec02a1</td>\n",
       "    </tr>\n",
       "    <tr>\n",
       "      <th>66</th>\n",
       "      <td>a211f181-1cc0-45c0-8bb6-0491eb67fc92</td>\n",
       "      <td>/guidance/changes-to-chief-commodity-codes-tar...</td>\n",
       "      <td>changes to chief commodity codes (tariff stop ...</td>\n",
       "      <td>find out the changes to commodity codes in the...</td>\n",
       "      <td>Business tax</td>\n",
       "      <td>28262ae3-599c-4259-ae30-3c83a5ec02a1</td>\n",
       "    </tr>\n",
       "    <tr>\n",
       "      <th>196</th>\n",
       "      <td>6f019571-54be-4344-aede-cebd901c1fe5</td>\n",
       "      <td>/guidance/rates-and-allowances-for-air-passeng...</td>\n",
       "      <td>historic rates for air passenger duty</td>\n",
       "      <td>check which air passenger duty rates apply for...</td>\n",
       "      <td>Business tax</td>\n",
       "      <td>28262ae3-599c-4259-ae30-3c83a5ec02a1</td>\n",
       "    </tr>\n",
       "    <tr>\n",
       "      <th>219</th>\n",
       "      <td>e110d285-20e0-431e-a394-39edabb2b331</td>\n",
       "      <td>/guidance/air-passenger-duty-and-connected-fli...</td>\n",
       "      <td>air passenger duty and connected flights</td>\n",
       "      <td>check which flights to treat as connected for ...</td>\n",
       "      <td>Business tax</td>\n",
       "      <td>28262ae3-599c-4259-ae30-3c83a5ec02a1</td>\n",
       "    </tr>\n",
       "    <tr>\n",
       "      <th>256</th>\n",
       "      <td>eb031ebb-7078-4879-a124-33753c4ca0bd</td>\n",
       "      <td>/guidance/rates-and-allowances-for-air-passeng...</td>\n",
       "      <td>rates for air passenger duty</td>\n",
       "      <td>check which rates of air passenger duty you ne...</td>\n",
       "      <td>Business tax</td>\n",
       "      <td>28262ae3-599c-4259-ae30-3c83a5ec02a1</td>\n",
       "    </tr>\n",
       "    <tr>\n",
       "      <th>278</th>\n",
       "      <td>5f60a446-f47c-403a-aab3-bd83db20cf4f</td>\n",
       "      <td>/guidance/poultry-from-iceland-tariff-quota-no...</td>\n",
       "      <td>poultry from iceland (tariff quota notice 73)</td>\n",
       "      <td>check the new tariff quota for poultry from ic...</td>\n",
       "      <td>Business tax</td>\n",
       "      <td>28262ae3-599c-4259-ae30-3c83a5ec02a1</td>\n",
       "    </tr>\n",
       "    <tr>\n",
       "      <th>343</th>\n",
       "      <td>6eb3a99b-9a0b-464a-bb42-c08882c7d857</td>\n",
       "      <td>/government/publications/iso-country-codes</td>\n",
       "      <td>iso country codes</td>\n",
       "      <td>find out the iso country codes.</td>\n",
       "      <td>Business tax</td>\n",
       "      <td>28262ae3-599c-4259-ae30-3c83a5ec02a1</td>\n",
       "    </tr>\n",
       "    <tr>\n",
       "      <th>397</th>\n",
       "      <td>5d5afda3-7631-11e4-a3cb-005056011aef</td>\n",
       "      <td>/government/news/government-to-waive-vat-on-mi...</td>\n",
       "      <td>government to waive vat on military wives’ cha...</td>\n",
       "      <td>chancellor of the exchequer has today announce...</td>\n",
       "      <td>Business tax</td>\n",
       "      <td>28262ae3-599c-4259-ae30-3c83a5ec02a1</td>\n",
       "    </tr>\n",
       "    <tr>\n",
       "      <th>430</th>\n",
       "      <td>0fea02ed-c1c8-4502-a7a2-f0ebebe1ee1c</td>\n",
       "      <td>/guidance/laser-skin-treatment-and-hair-remova...</td>\n",
       "      <td>laser skin treatment and hair removal (tariff ...</td>\n",
       "      <td>check the tariff classification of electrical ...</td>\n",
       "      <td>Business tax</td>\n",
       "      <td>28262ae3-599c-4259-ae30-3c83a5ec02a1</td>\n",
       "    </tr>\n",
       "    <tr>\n",
       "      <th>478</th>\n",
       "      <td>e36ebdbf-b8df-4dc8-beb5-beece2f7b7de</td>\n",
       "      <td>/government/collections/gwe-rwydo-a-sgamiau</td>\n",
       "      <td>gwe-rwydo a sgamiau</td>\n",
       "      <td>cyngor ar ddiogelwch gan gyllid a thollau em i...</td>\n",
       "      <td>Business tax</td>\n",
       "      <td>28262ae3-599c-4259-ae30-3c83a5ec02a1</td>\n",
       "    </tr>\n",
       "    <tr>\n",
       "      <th>513</th>\n",
       "      <td>5fea6d81-7631-11e4-a3cb-005056011aef</td>\n",
       "      <td>/government/publications/notice-373-importing-...</td>\n",
       "      <td>notice 373: importing visual and auditory mate...</td>\n",
       "      <td>how to import visual and auditory materials of...</td>\n",
       "      <td>Business tax</td>\n",
       "      <td>28262ae3-599c-4259-ae30-3c83a5ec02a1</td>\n",
       "    </tr>\n",
       "  </tbody>\n",
       "</table>\n",
       "</div>"
      ],
      "text/plain": [
       "                               content_id  \\\n",
       "57   f9e12f0e-bd0d-5361-8d26-bc83bfb34729   \n",
       "66   a211f181-1cc0-45c0-8bb6-0491eb67fc92   \n",
       "196  6f019571-54be-4344-aede-cebd901c1fe5   \n",
       "219  e110d285-20e0-431e-a394-39edabb2b331   \n",
       "256  eb031ebb-7078-4879-a124-33753c4ca0bd   \n",
       "278  5f60a446-f47c-403a-aab3-bd83db20cf4f   \n",
       "343  6eb3a99b-9a0b-464a-bb42-c08882c7d857   \n",
       "397  5d5afda3-7631-11e4-a3cb-005056011aef   \n",
       "430  0fea02ed-c1c8-4502-a7a2-f0ebebe1ee1c   \n",
       "478  e36ebdbf-b8df-4dc8-beb5-beece2f7b7de   \n",
       "513  5fea6d81-7631-11e4-a3cb-005056011aef   \n",
       "\n",
       "                                             base_path  \\\n",
       "57   /hmrc-internal-manuals/vat-womens-sanitary-pro...   \n",
       "66   /guidance/changes-to-chief-commodity-codes-tar...   \n",
       "196  /guidance/rates-and-allowances-for-air-passeng...   \n",
       "219  /guidance/air-passenger-duty-and-connected-fli...   \n",
       "256  /guidance/rates-and-allowances-for-air-passeng...   \n",
       "278  /guidance/poultry-from-iceland-tariff-quota-no...   \n",
       "343         /government/publications/iso-country-codes   \n",
       "397  /government/news/government-to-waive-vat-on-mi...   \n",
       "430  /guidance/laser-skin-treatment-and-hair-remova...   \n",
       "478        /government/collections/gwe-rwydo-a-sgamiau   \n",
       "513  /government/publications/notice-373-importing-...   \n",
       "\n",
       "                                                 title  \\\n",
       "57                       vat women’s sanitary products   \n",
       "66   changes to chief commodity codes (tariff stop ...   \n",
       "196              historic rates for air passenger duty   \n",
       "219           air passenger duty and connected flights   \n",
       "256                       rates for air passenger duty   \n",
       "278      poultry from iceland (tariff quota notice 73)   \n",
       "343                                  iso country codes   \n",
       "397  government to waive vat on military wives’ cha...   \n",
       "430  laser skin treatment and hair removal (tariff ...   \n",
       "478                                gwe-rwydo a sgamiau   \n",
       "513  notice 373: importing visual and auditory mate...   \n",
       "\n",
       "                                           description    taxon_name  \\\n",
       "57   guidance on the reduced rate for women's sanit...  Business tax   \n",
       "66   find out the changes to commodity codes in the...  Business tax   \n",
       "196  check which air passenger duty rates apply for...  Business tax   \n",
       "219  check which flights to treat as connected for ...  Business tax   \n",
       "256  check which rates of air passenger duty you ne...  Business tax   \n",
       "278  check the new tariff quota for poultry from ic...  Business tax   \n",
       "343                    find out the iso country codes.  Business tax   \n",
       "397  chancellor of the exchequer has today announce...  Business tax   \n",
       "430  check the tariff classification of electrical ...  Business tax   \n",
       "478  cyngor ar ddiogelwch gan gyllid a thollau em i...  Business tax   \n",
       "513  how to import visual and auditory materials of...  Business tax   \n",
       "\n",
       "                                 taxon_id  \n",
       "57   28262ae3-599c-4259-ae30-3c83a5ec02a1  \n",
       "66   28262ae3-599c-4259-ae30-3c83a5ec02a1  \n",
       "196  28262ae3-599c-4259-ae30-3c83a5ec02a1  \n",
       "219  28262ae3-599c-4259-ae30-3c83a5ec02a1  \n",
       "256  28262ae3-599c-4259-ae30-3c83a5ec02a1  \n",
       "278  28262ae3-599c-4259-ae30-3c83a5ec02a1  \n",
       "343  28262ae3-599c-4259-ae30-3c83a5ec02a1  \n",
       "397  28262ae3-599c-4259-ae30-3c83a5ec02a1  \n",
       "430  28262ae3-599c-4259-ae30-3c83a5ec02a1  \n",
       "478  28262ae3-599c-4259-ae30-3c83a5ec02a1  \n",
       "513  28262ae3-599c-4259-ae30-3c83a5ec02a1  "
      ]
     },
     "execution_count": 30,
     "metadata": {},
     "output_type": "execute_result"
    }
   ],
   "source": [
    "get_misplaced_content(similarity_threshold = 0.65)"
   ]
  },
  {
   "cell_type": "markdown",
   "metadata": {},
   "source": [
    "### C. Get all potentially-misplaced contents from level 2 money taxons"
   ]
  },
  {
   "cell_type": "markdown",
   "metadata": {},
   "source": [
    "Get the `taxon_id`s for all level 2 taxons from the money branch to iterate over."
   ]
  },
  {
   "cell_type": "code",
   "execution_count": 31,
   "metadata": {},
   "outputs": [
    {
     "data": {
      "text/plain": [
       "['28262ae3-599c-4259-ae30-3c83a5ec02a1',\n",
       " 'b20215a9-25fb-4fa6-80a3-42e23f5352c2',\n",
       " '35136812-221c-4ba2-8ed1-46e409ca5e10',\n",
       " 'a5c88a77-03ba-4100-bd33-7ee2ce602dc8',\n",
       " '7c4cf197-2dba-4a82-83e2-6c8bb332525c',\n",
       " 'a7b67f4f-1234-4a0c-90ba-eeed4c5183cd',\n",
       " '5605545e-03ca-4520-9519-163ea341bc86']"
      ]
     },
     "execution_count": 31,
     "metadata": {},
     "output_type": "execute_result"
    }
   ],
   "source": [
    "level2_money_taxonid = list(money_level2['taxon_id'])\n",
    "level2_money_taxonid"
   ]
  },
  {
   "cell_type": "markdown",
   "metadata": {},
   "source": [
    "Loop over the `taxon_id`s using the `get_misplaced_content()` function to find misplaced items."
   ]
  },
  {
   "cell_type": "code",
   "execution_count": 32,
   "metadata": {},
   "outputs": [
    {
     "name": "stdout",
     "output_type": "stream",
     "text": [
      "Processing taxon ID  28262ae3-599c-4259-ae30-3c83a5ec02a1\n",
      "Processing taxon ID  b20215a9-25fb-4fa6-80a3-42e23f5352c2\n",
      "Processing taxon ID  35136812-221c-4ba2-8ed1-46e409ca5e10\n",
      "Processing taxon ID  a5c88a77-03ba-4100-bd33-7ee2ce602dc8\n",
      "Processing taxon ID  7c4cf197-2dba-4a82-83e2-6c8bb332525c\n",
      "Processing taxon ID  a7b67f4f-1234-4a0c-90ba-eeed4c5183cd\n",
      "Processing taxon ID  5605545e-03ca-4520-9519-163ea341bc86\n"
     ]
    }
   ],
   "source": [
    "misplaced_items = []\n",
    "for x in level2_money_taxonid:\n",
    "  data = get_misplaced_content(taxon_id = x)\n",
    "  misplaced_items.append(data)"
   ]
  },
  {
   "cell_type": "markdown",
   "metadata": {},
   "source": [
    "Concatenate list output to DataFrame format."
   ]
  },
  {
   "cell_type": "code",
   "execution_count": 33,
   "metadata": {},
   "outputs": [],
   "source": [
    "misplaced_items = pd.concat(misplaced_items)"
   ]
  },
  {
   "cell_type": "code",
   "execution_count": 34,
   "metadata": {},
   "outputs": [],
   "source": [
    "# Save the output\n",
    "# misplaced_items.to_csv(\"~/Desktop/money_level2_misplaced.csv\")"
   ]
  },
  {
   "cell_type": "code",
   "execution_count": 35,
   "metadata": {},
   "outputs": [
    {
     "data": {
      "text/html": [
       "<div>\n",
       "<style scoped>\n",
       "    .dataframe tbody tr th:only-of-type {\n",
       "        vertical-align: middle;\n",
       "    }\n",
       "\n",
       "    .dataframe tbody tr th {\n",
       "        vertical-align: top;\n",
       "    }\n",
       "\n",
       "    .dataframe thead th {\n",
       "        text-align: right;\n",
       "    }\n",
       "</style>\n",
       "<table border=\"1\" class=\"dataframe\">\n",
       "  <thead>\n",
       "    <tr style=\"text-align: right;\">\n",
       "      <th></th>\n",
       "      <th>content_id</th>\n",
       "      <th>base_path</th>\n",
       "      <th>title</th>\n",
       "      <th>description</th>\n",
       "      <th>taxon_name</th>\n",
       "      <th>taxon_id</th>\n",
       "    </tr>\n",
       "  </thead>\n",
       "  <tbody>\n",
       "    <tr>\n",
       "      <th>57</th>\n",
       "      <td>f9e12f0e-bd0d-5361-8d26-bc83bfb34729</td>\n",
       "      <td>/hmrc-internal-manuals/vat-womens-sanitary-pro...</td>\n",
       "      <td>vat women’s sanitary products</td>\n",
       "      <td>guidance on the reduced rate for women's sanit...</td>\n",
       "      <td>Business tax</td>\n",
       "      <td>28262ae3-599c-4259-ae30-3c83a5ec02a1</td>\n",
       "    </tr>\n",
       "    <tr>\n",
       "      <th>66</th>\n",
       "      <td>a211f181-1cc0-45c0-8bb6-0491eb67fc92</td>\n",
       "      <td>/guidance/changes-to-chief-commodity-codes-tar...</td>\n",
       "      <td>changes to chief commodity codes (tariff stop ...</td>\n",
       "      <td>find out the changes to commodity codes in the...</td>\n",
       "      <td>Business tax</td>\n",
       "      <td>28262ae3-599c-4259-ae30-3c83a5ec02a1</td>\n",
       "    </tr>\n",
       "    <tr>\n",
       "      <th>196</th>\n",
       "      <td>6f019571-54be-4344-aede-cebd901c1fe5</td>\n",
       "      <td>/guidance/rates-and-allowances-for-air-passeng...</td>\n",
       "      <td>historic rates for air passenger duty</td>\n",
       "      <td>check which air passenger duty rates apply for...</td>\n",
       "      <td>Business tax</td>\n",
       "      <td>28262ae3-599c-4259-ae30-3c83a5ec02a1</td>\n",
       "    </tr>\n",
       "  </tbody>\n",
       "</table>\n",
       "</div>"
      ],
      "text/plain": [
       "                               content_id  \\\n",
       "57   f9e12f0e-bd0d-5361-8d26-bc83bfb34729   \n",
       "66   a211f181-1cc0-45c0-8bb6-0491eb67fc92   \n",
       "196  6f019571-54be-4344-aede-cebd901c1fe5   \n",
       "\n",
       "                                             base_path  \\\n",
       "57   /hmrc-internal-manuals/vat-womens-sanitary-pro...   \n",
       "66   /guidance/changes-to-chief-commodity-codes-tar...   \n",
       "196  /guidance/rates-and-allowances-for-air-passeng...   \n",
       "\n",
       "                                                 title  \\\n",
       "57                       vat women’s sanitary products   \n",
       "66   changes to chief commodity codes (tariff stop ...   \n",
       "196              historic rates for air passenger duty   \n",
       "\n",
       "                                           description    taxon_name  \\\n",
       "57   guidance on the reduced rate for women's sanit...  Business tax   \n",
       "66   find out the changes to commodity codes in the...  Business tax   \n",
       "196  check which air passenger duty rates apply for...  Business tax   \n",
       "\n",
       "                                 taxon_id  \n",
       "57   28262ae3-599c-4259-ae30-3c83a5ec02a1  \n",
       "66   28262ae3-599c-4259-ae30-3c83a5ec02a1  \n",
       "196  28262ae3-599c-4259-ae30-3c83a5ec02a1  "
      ]
     },
     "execution_count": 35,
     "metadata": {},
     "output_type": "execute_result"
    }
   ],
   "source": [
    "misplaced_items.iloc[:3]"
   ]
  },
  {
   "cell_type": "markdown",
   "metadata": {},
   "source": [
    "#### Try other mean cosine thresholds\n",
    "\n",
    "Try it with thresholds of 0.6 and 0.7 for mean cosine similarity score (default was 0.65)."
   ]
  },
  {
   "cell_type": "code",
   "execution_count": 36,
   "metadata": {},
   "outputs": [
    {
     "name": "stdout",
     "output_type": "stream",
     "text": [
      "Processing taxon ID  28262ae3-599c-4259-ae30-3c83a5ec02a1\n",
      "Processing taxon ID  b20215a9-25fb-4fa6-80a3-42e23f5352c2\n",
      "Processing taxon ID  35136812-221c-4ba2-8ed1-46e409ca5e10\n",
      "Processing taxon ID  a5c88a77-03ba-4100-bd33-7ee2ce602dc8\n",
      "Processing taxon ID  7c4cf197-2dba-4a82-83e2-6c8bb332525c\n",
      "Processing taxon ID  a7b67f4f-1234-4a0c-90ba-eeed4c5183cd\n",
      "Processing taxon ID  5605545e-03ca-4520-9519-163ea341bc86\n"
     ]
    }
   ],
   "source": [
    "misplaced_items_06 = []\n",
    "for x in level2_money_taxonid:\n",
    "  data = get_misplaced_content(taxon_id = x, similarity_threshold = 0.6)\n",
    "  misplaced_items_06.append(data)\n",
    "    \n",
    "misplaced_items_06 = pd.concat(misplaced_items_06)"
   ]
  },
  {
   "cell_type": "code",
   "execution_count": 37,
   "metadata": {},
   "outputs": [
    {
     "name": "stdout",
     "output_type": "stream",
     "text": [
      "Processing taxon ID  28262ae3-599c-4259-ae30-3c83a5ec02a1\n",
      "Processing taxon ID  b20215a9-25fb-4fa6-80a3-42e23f5352c2\n",
      "Processing taxon ID  35136812-221c-4ba2-8ed1-46e409ca5e10\n",
      "Processing taxon ID  a5c88a77-03ba-4100-bd33-7ee2ce602dc8\n",
      "Processing taxon ID  7c4cf197-2dba-4a82-83e2-6c8bb332525c\n",
      "Processing taxon ID  a7b67f4f-1234-4a0c-90ba-eeed4c5183cd\n",
      "Processing taxon ID  5605545e-03ca-4520-9519-163ea341bc86\n"
     ]
    }
   ],
   "source": [
    "misplaced_items_07 = []\n",
    "for x in level2_money_taxonid:\n",
    "  data = get_misplaced_content(taxon_id = x, similarity_threshold = 0.7)\n",
    "  misplaced_items_07.append(data)\n",
    "\n",
    "misplaced_items_07 = pd.concat(misplaced_items_07)"
   ]
  },
  {
   "cell_type": "code",
   "execution_count": 38,
   "metadata": {},
   "outputs": [],
   "source": [
    "# Save outputs\n",
    "# misplaced_items_06.to_csv('misplaced_items_06.csv')\n",
    "# misplaced_items_07.to_csv('misplaced_items_07.csv')"
   ]
  },
  {
   "cell_type": "markdown",
   "metadata": {},
   "source": [
    "#### What other tags do the misplaced items have?"
   ]
  },
  {
   "cell_type": "markdown",
   "metadata": {},
   "source": [
    "Rename and reorder columns in misplaced items dataframe. Rename to identify the taxons as the problematic ones within which the given content item has been flagged as misplaced; this is helpful when merging with the other tags."
   ]
  },
  {
   "cell_type": "code",
   "execution_count": 39,
   "metadata": {},
   "outputs": [
    {
     "data": {
      "text/html": [
       "<div>\n",
       "<style scoped>\n",
       "    .dataframe tbody tr th:only-of-type {\n",
       "        vertical-align: middle;\n",
       "    }\n",
       "\n",
       "    .dataframe tbody tr th {\n",
       "        vertical-align: top;\n",
       "    }\n",
       "\n",
       "    .dataframe thead th {\n",
       "        text-align: right;\n",
       "    }\n",
       "</style>\n",
       "<table border=\"1\" class=\"dataframe\">\n",
       "  <thead>\n",
       "    <tr style=\"text-align: right;\">\n",
       "      <th></th>\n",
       "      <th>content_id</th>\n",
       "      <th>title</th>\n",
       "      <th>description</th>\n",
       "      <th>misplaced_taxon_id</th>\n",
       "      <th>misplaced_taxon_name</th>\n",
       "      <th>misplaced_base_path</th>\n",
       "    </tr>\n",
       "  </thead>\n",
       "  <tbody>\n",
       "    <tr>\n",
       "      <th>57</th>\n",
       "      <td>f9e12f0e-bd0d-5361-8d26-bc83bfb34729</td>\n",
       "      <td>vat women’s sanitary products</td>\n",
       "      <td>guidance on the reduced rate for women's sanit...</td>\n",
       "      <td>28262ae3-599c-4259-ae30-3c83a5ec02a1</td>\n",
       "      <td>Business tax</td>\n",
       "      <td>/hmrc-internal-manuals/vat-womens-sanitary-pro...</td>\n",
       "    </tr>\n",
       "    <tr>\n",
       "      <th>66</th>\n",
       "      <td>a211f181-1cc0-45c0-8bb6-0491eb67fc92</td>\n",
       "      <td>changes to chief commodity codes (tariff stop ...</td>\n",
       "      <td>find out the changes to commodity codes in the...</td>\n",
       "      <td>28262ae3-599c-4259-ae30-3c83a5ec02a1</td>\n",
       "      <td>Business tax</td>\n",
       "      <td>/guidance/changes-to-chief-commodity-codes-tar...</td>\n",
       "    </tr>\n",
       "    <tr>\n",
       "      <th>196</th>\n",
       "      <td>6f019571-54be-4344-aede-cebd901c1fe5</td>\n",
       "      <td>historic rates for air passenger duty</td>\n",
       "      <td>check which air passenger duty rates apply for...</td>\n",
       "      <td>28262ae3-599c-4259-ae30-3c83a5ec02a1</td>\n",
       "      <td>Business tax</td>\n",
       "      <td>/guidance/rates-and-allowances-for-air-passeng...</td>\n",
       "    </tr>\n",
       "    <tr>\n",
       "      <th>219</th>\n",
       "      <td>e110d285-20e0-431e-a394-39edabb2b331</td>\n",
       "      <td>air passenger duty and connected flights</td>\n",
       "      <td>check which flights to treat as connected for ...</td>\n",
       "      <td>28262ae3-599c-4259-ae30-3c83a5ec02a1</td>\n",
       "      <td>Business tax</td>\n",
       "      <td>/guidance/air-passenger-duty-and-connected-fli...</td>\n",
       "    </tr>\n",
       "    <tr>\n",
       "      <th>256</th>\n",
       "      <td>eb031ebb-7078-4879-a124-33753c4ca0bd</td>\n",
       "      <td>rates for air passenger duty</td>\n",
       "      <td>check which rates of air passenger duty you ne...</td>\n",
       "      <td>28262ae3-599c-4259-ae30-3c83a5ec02a1</td>\n",
       "      <td>Business tax</td>\n",
       "      <td>/guidance/rates-and-allowances-for-air-passeng...</td>\n",
       "    </tr>\n",
       "  </tbody>\n",
       "</table>\n",
       "</div>"
      ],
      "text/plain": [
       "                               content_id  \\\n",
       "57   f9e12f0e-bd0d-5361-8d26-bc83bfb34729   \n",
       "66   a211f181-1cc0-45c0-8bb6-0491eb67fc92   \n",
       "196  6f019571-54be-4344-aede-cebd901c1fe5   \n",
       "219  e110d285-20e0-431e-a394-39edabb2b331   \n",
       "256  eb031ebb-7078-4879-a124-33753c4ca0bd   \n",
       "\n",
       "                                                 title  \\\n",
       "57                       vat women’s sanitary products   \n",
       "66   changes to chief commodity codes (tariff stop ...   \n",
       "196              historic rates for air passenger duty   \n",
       "219           air passenger duty and connected flights   \n",
       "256                       rates for air passenger duty   \n",
       "\n",
       "                                           description  \\\n",
       "57   guidance on the reduced rate for women's sanit...   \n",
       "66   find out the changes to commodity codes in the...   \n",
       "196  check which air passenger duty rates apply for...   \n",
       "219  check which flights to treat as connected for ...   \n",
       "256  check which rates of air passenger duty you ne...   \n",
       "\n",
       "                       misplaced_taxon_id misplaced_taxon_name  \\\n",
       "57   28262ae3-599c-4259-ae30-3c83a5ec02a1         Business tax   \n",
       "66   28262ae3-599c-4259-ae30-3c83a5ec02a1         Business tax   \n",
       "196  28262ae3-599c-4259-ae30-3c83a5ec02a1         Business tax   \n",
       "219  28262ae3-599c-4259-ae30-3c83a5ec02a1         Business tax   \n",
       "256  28262ae3-599c-4259-ae30-3c83a5ec02a1         Business tax   \n",
       "\n",
       "                                   misplaced_base_path  \n",
       "57   /hmrc-internal-manuals/vat-womens-sanitary-pro...  \n",
       "66   /guidance/changes-to-chief-commodity-codes-tar...  \n",
       "196  /guidance/rates-and-allowances-for-air-passeng...  \n",
       "219  /guidance/air-passenger-duty-and-connected-fli...  \n",
       "256  /guidance/rates-and-allowances-for-air-passeng...  "
      ]
     },
     "execution_count": 39,
     "metadata": {},
     "output_type": "execute_result"
    }
   ],
   "source": [
    "misplaced_items = misplaced_items.rename(columns={\n",
    "    'taxon_name': 'misplaced_taxon_name',\n",
    "    'taxon_id': 'misplaced_taxon_id',\n",
    "    'base_path': 'misplaced_base_path'\n",
    "}\n",
    ")\n",
    "\n",
    "misplaced_items = misplaced_items[[\n",
    "    'content_id', 'title', 'description',\n",
    "    'misplaced_taxon_id', 'misplaced_taxon_name', 'misplaced_base_path'\n",
    "]]\n",
    "\n",
    "misplaced_items.head()"
   ]
  },
  {
   "cell_type": "markdown",
   "metadata": {},
   "source": [
    "Dataframe where each row is a content item/taxon tag pair. Simplify so it can be merged into our dataframe of misplaced content."
   ]
  },
  {
   "cell_type": "code",
   "execution_count": 40,
   "metadata": {},
   "outputs": [
    {
     "data": {
      "text/html": [
       "<div>\n",
       "<style scoped>\n",
       "    .dataframe tbody tr th:only-of-type {\n",
       "        vertical-align: middle;\n",
       "    }\n",
       "\n",
       "    .dataframe tbody tr th {\n",
       "        vertical-align: top;\n",
       "    }\n",
       "\n",
       "    .dataframe thead th {\n",
       "        text-align: right;\n",
       "    }\n",
       "</style>\n",
       "<table border=\"1\" class=\"dataframe\">\n",
       "  <thead>\n",
       "    <tr style=\"text-align: right;\">\n",
       "      <th></th>\n",
       "      <th>content_id</th>\n",
       "      <th>other_taxon_id</th>\n",
       "      <th>other_taxon_name</th>\n",
       "    </tr>\n",
       "  </thead>\n",
       "  <tbody>\n",
       "    <tr>\n",
       "      <th>176658</th>\n",
       "      <td>0000d0a0-037a-4110-a271-24327f422d06</td>\n",
       "      <td>80cb30f4-0361-49ea-ad84-bc10910318bf</td>\n",
       "      <td>Charities and social enterprises</td>\n",
       "    </tr>\n",
       "    <tr>\n",
       "      <th>2871</th>\n",
       "      <td>0000d0a0-037a-4110-a271-24327f422d06</td>\n",
       "      <td>668cd623-c7a8-4159-9575-90caac36d4b4</td>\n",
       "      <td>Community and society</td>\n",
       "    </tr>\n",
       "    <tr>\n",
       "      <th>232284</th>\n",
       "      <td>00012147-49f6-4e90-be1f-e50bb719f53d</td>\n",
       "      <td>d949275c-88f8-4623-a44b-eb3706651e10</td>\n",
       "      <td>Intellectual property</td>\n",
       "    </tr>\n",
       "    <tr>\n",
       "      <th>65198</th>\n",
       "      <td>0001f1a9-3285-4897-baa9-f6663aeb1e8a</td>\n",
       "      <td>f3f4b5d3-49c4-487b-bd5b-be75f11ec8c5</td>\n",
       "      <td>Government efficiency, transparency and accoun...</td>\n",
       "    </tr>\n",
       "    <tr>\n",
       "      <th>74041</th>\n",
       "      <td>00021930-c266-4312-aeaa-96813c1d8860</td>\n",
       "      <td>3cf97f69-84de-41ae-bc7b-7e2cc238fa58</td>\n",
       "      <td>Environment</td>\n",
       "    </tr>\n",
       "  </tbody>\n",
       "</table>\n",
       "</div>"
      ],
      "text/plain": [
       "                                  content_id  \\\n",
       "176658  0000d0a0-037a-4110-a271-24327f422d06   \n",
       "2871    0000d0a0-037a-4110-a271-24327f422d06   \n",
       "232284  00012147-49f6-4e90-be1f-e50bb719f53d   \n",
       "65198   0001f1a9-3285-4897-baa9-f6663aeb1e8a   \n",
       "74041   00021930-c266-4312-aeaa-96813c1d8860   \n",
       "\n",
       "                              other_taxon_id  \\\n",
       "176658  80cb30f4-0361-49ea-ad84-bc10910318bf   \n",
       "2871    668cd623-c7a8-4159-9575-90caac36d4b4   \n",
       "232284  d949275c-88f8-4623-a44b-eb3706651e10   \n",
       "65198   f3f4b5d3-49c4-487b-bd5b-be75f11ec8c5   \n",
       "74041   3cf97f69-84de-41ae-bc7b-7e2cc238fa58   \n",
       "\n",
       "                                         other_taxon_name  \n",
       "176658                   Charities and social enterprises  \n",
       "2871                                Community and society  \n",
       "232284                              Intellectual property  \n",
       "65198   Government efficiency, transparency and accoun...  \n",
       "74041                                         Environment  "
      ]
     },
     "execution_count": 40,
     "metadata": {},
     "output_type": "execute_result"
    }
   ],
   "source": [
    "content_id_name = labelled[['content_id', 'taxon_id', 'taxon_name']]\n",
    "\n",
    "content_id_name = content_id_name.rename(columns = {\n",
    "    'taxon_id': 'other_taxon_id',\n",
    "    'taxon_name': 'other_taxon_name'\n",
    "}\n",
    ")\n",
    "\n",
    "content_id_name.sort_values('content_id').head()"
   ]
  },
  {
   "cell_type": "markdown",
   "metadata": {},
   "source": [
    "Merge and remove redundant rows where misplaced taxon name and other taxon name are the same."
   ]
  },
  {
   "cell_type": "code",
   "execution_count": 41,
   "metadata": {},
   "outputs": [
    {
     "data": {
      "text/html": [
       "<div>\n",
       "<style scoped>\n",
       "    .dataframe tbody tr th:only-of-type {\n",
       "        vertical-align: middle;\n",
       "    }\n",
       "\n",
       "    .dataframe tbody tr th {\n",
       "        vertical-align: top;\n",
       "    }\n",
       "\n",
       "    .dataframe thead th {\n",
       "        text-align: right;\n",
       "    }\n",
       "</style>\n",
       "<table border=\"1\" class=\"dataframe\">\n",
       "  <thead>\n",
       "    <tr style=\"text-align: right;\">\n",
       "      <th></th>\n",
       "      <th>content_id</th>\n",
       "      <th>title</th>\n",
       "      <th>description</th>\n",
       "      <th>misplaced_taxon_id</th>\n",
       "      <th>misplaced_taxon_name</th>\n",
       "      <th>misplaced_base_path</th>\n",
       "      <th>other_taxon_id</th>\n",
       "      <th>other_taxon_name</th>\n",
       "    </tr>\n",
       "  </thead>\n",
       "  <tbody>\n",
       "    <tr>\n",
       "      <th>2</th>\n",
       "      <td>a211f181-1cc0-45c0-8bb6-0491eb67fc92</td>\n",
       "      <td>changes to chief commodity codes (tariff stop ...</td>\n",
       "      <td>find out the changes to commodity codes in the...</td>\n",
       "      <td>28262ae3-599c-4259-ae30-3c83a5ec02a1</td>\n",
       "      <td>Business tax</td>\n",
       "      <td>/guidance/changes-to-chief-commodity-codes-tar...</td>\n",
       "      <td>277fd1ce-61c3-46a4-9172-3101fda02111</td>\n",
       "      <td>UK Trade Tariff and classification of goods</td>\n",
       "    </tr>\n",
       "    <tr>\n",
       "      <th>3</th>\n",
       "      <td>a211f181-1cc0-45c0-8bb6-0491eb67fc92</td>\n",
       "      <td>changes to chief commodity codes (tariff stop ...</td>\n",
       "      <td>find out the changes to commodity codes in the...</td>\n",
       "      <td>28262ae3-599c-4259-ae30-3c83a5ec02a1</td>\n",
       "      <td>Business tax</td>\n",
       "      <td>/guidance/changes-to-chief-commodity-codes-tar...</td>\n",
       "      <td>1da20ae5-526d-4313-b93d-fed4491f8ed8</td>\n",
       "      <td>Commodity codes and reporting</td>\n",
       "    </tr>\n",
       "    <tr>\n",
       "      <th>5</th>\n",
       "      <td>6f019571-54be-4344-aede-cebd901c1fe5</td>\n",
       "      <td>historic rates for air passenger duty</td>\n",
       "      <td>check which air passenger duty rates apply for...</td>\n",
       "      <td>28262ae3-599c-4259-ae30-3c83a5ec02a1</td>\n",
       "      <td>Business tax</td>\n",
       "      <td>/guidance/rates-and-allowances-for-air-passeng...</td>\n",
       "      <td>60677783-056b-484d-89cf-f22a12d1980a</td>\n",
       "      <td>Air passenger duty</td>\n",
       "    </tr>\n",
       "    <tr>\n",
       "      <th>7</th>\n",
       "      <td>e110d285-20e0-431e-a394-39edabb2b331</td>\n",
       "      <td>air passenger duty and connected flights</td>\n",
       "      <td>check which flights to treat as connected for ...</td>\n",
       "      <td>28262ae3-599c-4259-ae30-3c83a5ec02a1</td>\n",
       "      <td>Business tax</td>\n",
       "      <td>/guidance/air-passenger-duty-and-connected-fli...</td>\n",
       "      <td>60677783-056b-484d-89cf-f22a12d1980a</td>\n",
       "      <td>Air passenger duty</td>\n",
       "    </tr>\n",
       "    <tr>\n",
       "      <th>9</th>\n",
       "      <td>eb031ebb-7078-4879-a124-33753c4ca0bd</td>\n",
       "      <td>rates for air passenger duty</td>\n",
       "      <td>check which rates of air passenger duty you ne...</td>\n",
       "      <td>28262ae3-599c-4259-ae30-3c83a5ec02a1</td>\n",
       "      <td>Business tax</td>\n",
       "      <td>/guidance/rates-and-allowances-for-air-passeng...</td>\n",
       "      <td>b20215a9-25fb-4fa6-80a3-42e23f5352c2</td>\n",
       "      <td>Dealing with HMRC</td>\n",
       "    </tr>\n",
       "  </tbody>\n",
       "</table>\n",
       "</div>"
      ],
      "text/plain": [
       "                             content_id  \\\n",
       "2  a211f181-1cc0-45c0-8bb6-0491eb67fc92   \n",
       "3  a211f181-1cc0-45c0-8bb6-0491eb67fc92   \n",
       "5  6f019571-54be-4344-aede-cebd901c1fe5   \n",
       "7  e110d285-20e0-431e-a394-39edabb2b331   \n",
       "9  eb031ebb-7078-4879-a124-33753c4ca0bd   \n",
       "\n",
       "                                               title  \\\n",
       "2  changes to chief commodity codes (tariff stop ...   \n",
       "3  changes to chief commodity codes (tariff stop ...   \n",
       "5              historic rates for air passenger duty   \n",
       "7           air passenger duty and connected flights   \n",
       "9                       rates for air passenger duty   \n",
       "\n",
       "                                         description  \\\n",
       "2  find out the changes to commodity codes in the...   \n",
       "3  find out the changes to commodity codes in the...   \n",
       "5  check which air passenger duty rates apply for...   \n",
       "7  check which flights to treat as connected for ...   \n",
       "9  check which rates of air passenger duty you ne...   \n",
       "\n",
       "                     misplaced_taxon_id misplaced_taxon_name  \\\n",
       "2  28262ae3-599c-4259-ae30-3c83a5ec02a1         Business tax   \n",
       "3  28262ae3-599c-4259-ae30-3c83a5ec02a1         Business tax   \n",
       "5  28262ae3-599c-4259-ae30-3c83a5ec02a1         Business tax   \n",
       "7  28262ae3-599c-4259-ae30-3c83a5ec02a1         Business tax   \n",
       "9  28262ae3-599c-4259-ae30-3c83a5ec02a1         Business tax   \n",
       "\n",
       "                                 misplaced_base_path  \\\n",
       "2  /guidance/changes-to-chief-commodity-codes-tar...   \n",
       "3  /guidance/changes-to-chief-commodity-codes-tar...   \n",
       "5  /guidance/rates-and-allowances-for-air-passeng...   \n",
       "7  /guidance/air-passenger-duty-and-connected-fli...   \n",
       "9  /guidance/rates-and-allowances-for-air-passeng...   \n",
       "\n",
       "                         other_taxon_id  \\\n",
       "2  277fd1ce-61c3-46a4-9172-3101fda02111   \n",
       "3  1da20ae5-526d-4313-b93d-fed4491f8ed8   \n",
       "5  60677783-056b-484d-89cf-f22a12d1980a   \n",
       "7  60677783-056b-484d-89cf-f22a12d1980a   \n",
       "9  b20215a9-25fb-4fa6-80a3-42e23f5352c2   \n",
       "\n",
       "                              other_taxon_name  \n",
       "2  UK Trade Tariff and classification of goods  \n",
       "3                Commodity codes and reporting  \n",
       "5                           Air passenger duty  \n",
       "7                           Air passenger duty  \n",
       "9                            Dealing with HMRC  "
      ]
     },
     "execution_count": 41,
     "metadata": {},
     "output_type": "execute_result"
    }
   ],
   "source": [
    "misplaced_content_tags = pd.merge(misplaced_items, content_id_name, on = 'content_id', how = 'left')\n",
    "\n",
    "misplaced_content_tags = misplaced_content_tags[\n",
    "    (misplaced_content_tags.misplaced_taxon_name != misplaced_content_tags.other_taxon_name)\n",
    "]\n",
    "\n",
    "misplaced_content_tags.head()"
   ]
  },
  {
   "cell_type": "code",
   "execution_count": 42,
   "metadata": {},
   "outputs": [],
   "source": [
    "# Save output\n",
    "# misplaced_content_tags.to_csv('misplaced_content_tags.csv')"
   ]
  },
  {
   "cell_type": "markdown",
   "metadata": {},
   "source": [
    "### Misplaced items in Brexit taxon\n",
    "\n",
    "Get cosine similarity to look for potentially-misplaced content within entirety of brexit taxon (ignores that there's a couple of child taxons)."
   ]
  },
  {
   "cell_type": "code",
   "execution_count": 44,
   "metadata": {},
   "outputs": [],
   "source": [
    "# Isolate Brexit taxons\n",
    "brexit_taxons = taxon_id_name[(taxon_id_name.level2taxon == 'Brexit')]"
   ]
  },
  {
   "cell_type": "code",
   "execution_count": 46,
   "metadata": {},
   "outputs": [
    {
     "data": {
      "text/plain": [
       "['d6c2de5d-ef90-45d1-82d4-5f2438369eea',\n",
       " 'd7bdaee2-8ea5-460e-b00d-6e9382eb6b61']"
      ]
     },
     "execution_count": 46,
     "metadata": {},
     "output_type": "execute_result"
    }
   ],
   "source": [
    "# There's two: Brexit itself, plus a single child\n",
    "level2_brexit_taxonid = list(brexit_taxons['taxon_id'])\n",
    "level2_brexit_taxonid"
   ]
  },
  {
   "cell_type": "markdown",
   "metadata": {},
   "source": [
    "Run the function over Brexit content"
   ]
  },
  {
   "cell_type": "code",
   "execution_count": 47,
   "metadata": {},
   "outputs": [
    {
     "name": "stdout",
     "output_type": "stream",
     "text": [
      "Processing taxon ID  d6c2de5d-ef90-45d1-82d4-5f2438369eea\n",
      "Processing taxon ID  d7bdaee2-8ea5-460e-b00d-6e9382eb6b61\n"
     ]
    }
   ],
   "source": [
    "misplaced_brexit = []\n",
    "for x in level2_brexit_taxonid:\n",
    "  data = get_misplaced_content(taxon_id = x)\n",
    "  misplaced_brexit.append(data)"
   ]
  },
  {
   "cell_type": "code",
   "execution_count": 48,
   "metadata": {},
   "outputs": [
    {
     "data": {
      "text/html": [
       "<div>\n",
       "<style scoped>\n",
       "    .dataframe tbody tr th:only-of-type {\n",
       "        vertical-align: middle;\n",
       "    }\n",
       "\n",
       "    .dataframe tbody tr th {\n",
       "        vertical-align: top;\n",
       "    }\n",
       "\n",
       "    .dataframe thead th {\n",
       "        text-align: right;\n",
       "    }\n",
       "</style>\n",
       "<table border=\"1\" class=\"dataframe\">\n",
       "  <thead>\n",
       "    <tr style=\"text-align: right;\">\n",
       "      <th></th>\n",
       "      <th>content_id</th>\n",
       "      <th>base_path</th>\n",
       "      <th>title</th>\n",
       "      <th>description</th>\n",
       "      <th>taxon_name</th>\n",
       "      <th>taxon_id</th>\n",
       "    </tr>\n",
       "  </thead>\n",
       "  <tbody>\n",
       "    <tr>\n",
       "      <th>131</th>\n",
       "      <td>01f35ddf-53b8-4d2a-806b-d103fc67a2ab</td>\n",
       "      <td>/government/speeches/mi6-c-speech-on-fourth-ge...</td>\n",
       "      <td>mi6 'c' speech on fourth generation espionage</td>\n",
       "      <td>mi6 chief alex younger spoke on how the secret...</td>\n",
       "      <td>Brexit</td>\n",
       "      <td>d6c2de5d-ef90-45d1-82d4-5f2438369eea</td>\n",
       "    </tr>\n",
       "    <tr>\n",
       "      <th>162</th>\n",
       "      <td>5e29eb5a-ff5d-45ce-bfaf-0e36c78994f7</td>\n",
       "      <td>/government/publications/attorney-generals-let...</td>\n",
       "      <td>attorney general's letter to speaker</td>\n",
       "      <td>the attorney general's letter regarding the mo...</td>\n",
       "      <td>Brexit</td>\n",
       "      <td>d6c2de5d-ef90-45d1-82d4-5f2438369eea</td>\n",
       "    </tr>\n",
       "    <tr>\n",
       "      <th>314</th>\n",
       "      <td>515dde37-4338-4158-9055-acc340b94370</td>\n",
       "      <td>/government/publications/how-the-department-fo...</td>\n",
       "      <td>how the department for exiting the european un...</td>\n",
       "      <td>hr and finance personal information</td>\n",
       "      <td>Brexit</td>\n",
       "      <td>d6c2de5d-ef90-45d1-82d4-5f2438369eea</td>\n",
       "    </tr>\n",
       "    <tr>\n",
       "      <th>317</th>\n",
       "      <td>59da38b4-0836-4451-908c-23204be76be1</td>\n",
       "      <td>/government/publications/renal-cancer-and-occu...</td>\n",
       "      <td>renal cancer and occupational exposure to tric...</td>\n",
       "      <td>this is the council’s note about renal cancer ...</td>\n",
       "      <td>Brexit</td>\n",
       "      <td>d6c2de5d-ef90-45d1-82d4-5f2438369eea</td>\n",
       "    </tr>\n",
       "    <tr>\n",
       "      <th>378</th>\n",
       "      <td>5c7215de-7631-11e4-a3cb-005056011aef</td>\n",
       "      <td>/guidance/the-marketing-of-agricultural-and-ve...</td>\n",
       "      <td>apply to have seeds certified for marketing</td>\n",
       "      <td>the seeds which must be certified before you c...</td>\n",
       "      <td>Brexit</td>\n",
       "      <td>d6c2de5d-ef90-45d1-82d4-5f2438369eea</td>\n",
       "    </tr>\n",
       "  </tbody>\n",
       "</table>\n",
       "</div>"
      ],
      "text/plain": [
       "                               content_id  \\\n",
       "131  01f35ddf-53b8-4d2a-806b-d103fc67a2ab   \n",
       "162  5e29eb5a-ff5d-45ce-bfaf-0e36c78994f7   \n",
       "314  515dde37-4338-4158-9055-acc340b94370   \n",
       "317  59da38b4-0836-4451-908c-23204be76be1   \n",
       "378  5c7215de-7631-11e4-a3cb-005056011aef   \n",
       "\n",
       "                                             base_path  \\\n",
       "131  /government/speeches/mi6-c-speech-on-fourth-ge...   \n",
       "162  /government/publications/attorney-generals-let...   \n",
       "314  /government/publications/how-the-department-fo...   \n",
       "317  /government/publications/renal-cancer-and-occu...   \n",
       "378  /guidance/the-marketing-of-agricultural-and-ve...   \n",
       "\n",
       "                                                 title  \\\n",
       "131      mi6 'c' speech on fourth generation espionage   \n",
       "162               attorney general's letter to speaker   \n",
       "314  how the department for exiting the european un...   \n",
       "317  renal cancer and occupational exposure to tric...   \n",
       "378        apply to have seeds certified for marketing   \n",
       "\n",
       "                                           description taxon_name  \\\n",
       "131  mi6 chief alex younger spoke on how the secret...     Brexit   \n",
       "162  the attorney general's letter regarding the mo...     Brexit   \n",
       "314                hr and finance personal information     Brexit   \n",
       "317  this is the council’s note about renal cancer ...     Brexit   \n",
       "378  the seeds which must be certified before you c...     Brexit   \n",
       "\n",
       "                                 taxon_id  \n",
       "131  d6c2de5d-ef90-45d1-82d4-5f2438369eea  \n",
       "162  d6c2de5d-ef90-45d1-82d4-5f2438369eea  \n",
       "314  d6c2de5d-ef90-45d1-82d4-5f2438369eea  \n",
       "317  d6c2de5d-ef90-45d1-82d4-5f2438369eea  \n",
       "378  d6c2de5d-ef90-45d1-82d4-5f2438369eea  "
      ]
     },
     "execution_count": 48,
     "metadata": {},
     "output_type": "execute_result"
    }
   ],
   "source": [
    "misplaced_brexit = pd.concat(misplaced_brexit)\n",
    "misplaced_brexit.head()"
   ]
  },
  {
   "cell_type": "code",
   "execution_count": null,
   "metadata": {},
   "outputs": [],
   "source": [
    "# Save output\n",
    "# misplaced_brexit.to_csv(\"misplaced_brexit.csv\")"
   ]
  }
 ],
 "metadata": {
  "kernelspec": {
   "display_name": "Python 3",
   "language": "python",
   "name": "python3"
  },
  "language_info": {
   "codemirror_mode": {
    "name": "ipython",
    "version": 3
   },
   "file_extension": ".py",
   "mimetype": "text/x-python",
   "name": "python",
   "nbconvert_exporter": "python",
   "pygments_lexer": "ipython3",
   "version": "3.7.4"
  }
 },
 "nbformat": 4,
 "nbformat_minor": 2
}
